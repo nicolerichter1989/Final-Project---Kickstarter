{
 "cells": [
  {
   "cell_type": "markdown",
   "metadata": {},
   "source": [
    "# final project - KICKSTARTER"
   ]
  },
  {
   "cell_type": "markdown",
   "metadata": {},
   "source": [
    "**What is Kickstarter?**\n",
    "\n",
    "Kickstarter is a funding platform for creative projects. Everything from film, games, and music to art, design, and technology. Kickstarter is full of ambitious, innovative, and imaginative projects that are brought to life through the direct support of others.\n",
    "\n",
    "Every project creator sets their project's funding goal and deadline. If people like the project, they can pledge money to make it happen. If the project succeeds in reaching its funding goal, all backers' credit cards are charged when time expires. Funding on Kickstarter is all-or-nothing. If the project falls short of its funding goal, no one is charged."
   ]
  },
  {
   "cell_type": "markdown",
   "metadata": {},
   "source": [
    "**Objective**\n",
    "\n",
    "Goal of this analysis it to be able to predict whether or not a project will receive it's goal funds."
   ]
  },
  {
   "cell_type": "markdown",
   "metadata": {},
   "source": [
    "**Data Source:**\n",
    "\n",
    "https://webrobots.io/kickstarter-datasets/"
   ]
  },
  {
   "cell_type": "markdown",
   "metadata": {},
   "source": [
    "## import libraries"
   ]
  },
  {
   "cell_type": "code",
   "execution_count": 71,
   "metadata": {},
   "outputs": [
    {
     "name": "stderr",
     "output_type": "stream",
     "text": [
      "[nltk_data] Downloading package stopwords to\n",
      "[nltk_data]     C:\\Users\\nicol\\AppData\\Roaming\\nltk_data...\n",
      "[nltk_data]   Package stopwords is already up-to-date!\n",
      "[nltk_data] Downloading package punkt to\n",
      "[nltk_data]     C:\\Users\\nicol\\AppData\\Roaming\\nltk_data...\n",
      "[nltk_data]   Package punkt is already up-to-date!\n"
     ]
    }
   ],
   "source": [
    "import pandas as pd\n",
    "import numpy as np\n",
    "import seaborn as sns\n",
    "import matplotlib.pyplot as plt\n",
    "import os\n",
    "import glob\n",
    "import datetime\n",
    "import math\n",
    "import time\n",
    "from wordcloud import WordCloud, STOPWORDS, ImageColorGenerator\n",
    "\n",
    "# scipy libraries\n",
    "from scipy import stats\n",
    "from scipy.stats.mstats import winsorize\n",
    "\n",
    "# statsmodels libraries\n",
    "import statsmodels.api as sm\n",
    "from statsmodels.formula.api import ols\n",
    "\n",
    "# sklearn libraries\n",
    "from sklearn.preprocessing import OneHotEncoder, Normalizer, LabelEncoder, StandardScaler, MinMaxScaler\n",
    "from sklearn.model_selection import train_test_split\n",
    "from sklearn.linear_model import LinearRegression, LogisticRegression\n",
    "from sklearn.metrics import mean_squared_error, r2_score, confusion_matrix\n",
    "from sklearn.neighbors import KNeighborsRegressor\n",
    "\n",
    "# balancing libraries\n",
    "from imblearn.over_sampling import SMOTE\n",
    "from imblearn.under_sampling import TomekLinks\n",
    "\n",
    "# language libraries\n",
    "from textblob import TextBlob\n",
    "import langid\n",
    "import yake\n",
    "from rake_nltk import Rake\n",
    "import nltk\n",
    "nltk.download('stopwords')\n",
    "import nltk\n",
    "nltk.download('punkt')\n",
    "\n",
    "# ignore warnings\n",
    "import warnings\n",
    "warnings.filterwarnings('ignore')"
   ]
  },
  {
   "cell_type": "markdown",
   "metadata": {},
   "source": [
    "## import data"
   ]
  },
  {
   "cell_type": "code",
   "execution_count": 72,
   "metadata": {},
   "outputs": [
    {
     "data": {
      "text/plain": [
       "['ks_2021-06-17_1.csv',\n",
       " 'ks_2021-06-17_2.csv',\n",
       " 'ks_2021-06-17_3.csv',\n",
       " 'ks_2021-06-17_4.csv',\n",
       " 'ks_2021-06-17_5.csv',\n",
       " 'ks_2021-06-17_6.csv',\n",
       " 'ks_2021-06-17_7.csv',\n",
       " 'ks_2021-06-17_8.csv',\n",
       " 'ks_2021-06-17_9.csv',\n",
       " 'ks_2021-07-15_1.csv',\n",
       " 'ks_2021-08-12_1.csv',\n",
       " 'ks_2021-08-12_2.csv',\n",
       " 'ks_2021-08-12_3.csv',\n",
       " 'ks_2021-08-12_4.csv',\n",
       " 'ks_2021-08-12_5.csv',\n",
       " 'ks_2021-08-12_6.csv',\n",
       " 'ks_2021-08-12_7.csv',\n",
       " 'ks_2021-08-12_8.csv',\n",
       " 'ks_2021-08-12_9.csv',\n",
       " 'ks_2021-09-16_1.csv',\n",
       " 'ks_2021-09-16_2.csv',\n",
       " 'ks_2021-09-16_3.csv',\n",
       " 'ks_2021-09-16_4.csv',\n",
       " 'ks_2021-09-16_5.csv',\n",
       " 'ks_2021-09-16_6.csv',\n",
       " 'ks_2021-09-16_7.csv',\n",
       " 'ks_2021-09-16_8.csv',\n",
       " 'ks_2021-09-16_9.csv']"
      ]
     },
     "execution_count": 72,
     "metadata": {},
     "output_type": "execute_result"
    }
   ],
   "source": [
    "files = os.listdir('Data')\n",
    "files"
   ]
  },
  {
   "cell_type": "code",
   "execution_count": 73,
   "metadata": {},
   "outputs": [],
   "source": [
    "files = os.listdir('Data')\n",
    "\n",
    "df = pd.DataFrame()\n",
    "\n",
    "path = os.getcwd() + \"\\\\Data\" + \"\\\\\"\n",
    "\n",
    "for i in files:\n",
    "    data = pd.read_csv(path + i)\n",
    "    df = df.append(data)"
   ]
  },
  {
   "cell_type": "markdown",
   "metadata": {},
   "source": [
    "## first review and clean data"
   ]
  },
  {
   "cell_type": "markdown",
   "metadata": {},
   "source": [
    "### review"
   ]
  },
  {
   "cell_type": "code",
   "execution_count": 74,
   "metadata": {},
   "outputs": [
    {
     "name": "stdout",
     "output_type": "stream",
     "text": [
      "This dataset contains 94953 rows and 39 columns\n"
     ]
    }
   ],
   "source": [
    "print(\"This dataset contains {} rows and {} columns\".format(*df.shape))"
   ]
  },
  {
   "cell_type": "code",
   "execution_count": 75,
   "metadata": {},
   "outputs": [
    {
     "data": {
      "text/html": [
       "<div>\n",
       "<style scoped>\n",
       "    .dataframe tbody tr th:only-of-type {\n",
       "        vertical-align: middle;\n",
       "    }\n",
       "\n",
       "    .dataframe tbody tr th {\n",
       "        vertical-align: top;\n",
       "    }\n",
       "\n",
       "    .dataframe thead th {\n",
       "        text-align: right;\n",
       "    }\n",
       "</style>\n",
       "<table border=\"1\" class=\"dataframe\">\n",
       "  <thead>\n",
       "    <tr style=\"text-align: right;\">\n",
       "      <th></th>\n",
       "      <th>backers_count</th>\n",
       "      <th>blurb</th>\n",
       "      <th>category</th>\n",
       "      <th>converted_pledged_amount</th>\n",
       "      <th>country</th>\n",
       "      <th>country_displayable_name</th>\n",
       "      <th>created_at</th>\n",
       "      <th>creator</th>\n",
       "      <th>currency</th>\n",
       "      <th>currency_symbol</th>\n",
       "      <th>...</th>\n",
       "      <th>source_url</th>\n",
       "      <th>spotlight</th>\n",
       "      <th>staff_pick</th>\n",
       "      <th>state</th>\n",
       "      <th>state_changed_at</th>\n",
       "      <th>static_usd_rate</th>\n",
       "      <th>urls</th>\n",
       "      <th>usd_exchange_rate</th>\n",
       "      <th>usd_pledged</th>\n",
       "      <th>usd_type</th>\n",
       "    </tr>\n",
       "  </thead>\n",
       "  <tbody>\n",
       "    <tr>\n",
       "      <th>1036</th>\n",
       "      <td>3</td>\n",
       "      <td>Creating the first Cuban/American classical mu...</td>\n",
       "      <td>{\"id\":36,\"name\":\"Classical Music\",\"analytics_n...</td>\n",
       "      <td>50</td>\n",
       "      <td>US</td>\n",
       "      <td>the United States</td>\n",
       "      <td>1484025958</td>\n",
       "      <td>{\"id\":532787385,\"name\":\"Yalyen Savignon\",\"is_r...</td>\n",
       "      <td>USD</td>\n",
       "      <td>$</td>\n",
       "      <td>...</td>\n",
       "      <td>https://www.kickstarter.com/discover/categorie...</td>\n",
       "      <td>False</td>\n",
       "      <td>False</td>\n",
       "      <td>failed</td>\n",
       "      <td>1487807365</td>\n",
       "      <td>1.000000</td>\n",
       "      <td>{\"web\":{\"project\":\"https://www.kickstarter.com...</td>\n",
       "      <td>1.0000</td>\n",
       "      <td>50.000000</td>\n",
       "      <td>international</td>\n",
       "    </tr>\n",
       "    <tr>\n",
       "      <th>563</th>\n",
       "      <td>12</td>\n",
       "      <td>Nostalgic 90’s era Care Bears now in gold plat...</td>\n",
       "      <td>{\"id\":1,\"name\":\"Art\",\"analytics_name\":\"Art\",\"s...</td>\n",
       "      <td>319</td>\n",
       "      <td>US</td>\n",
       "      <td>the United States</td>\n",
       "      <td>1623082980</td>\n",
       "      <td>{\"id\":1439908734,\"name\":\"SoftgirlCo\",\"slug\":\"s...</td>\n",
       "      <td>USD</td>\n",
       "      <td>$</td>\n",
       "      <td>...</td>\n",
       "      <td>https://www.kickstarter.com/discover/categorie...</td>\n",
       "      <td>False</td>\n",
       "      <td>False</td>\n",
       "      <td>live</td>\n",
       "      <td>1623355881</td>\n",
       "      <td>1.000000</td>\n",
       "      <td>{\"web\":{\"project\":\"https://www.kickstarter.com...</td>\n",
       "      <td>1.0000</td>\n",
       "      <td>319.000000</td>\n",
       "      <td>international</td>\n",
       "    </tr>\n",
       "    <tr>\n",
       "      <th>3055</th>\n",
       "      <td>109</td>\n",
       "      <td>A 78 card tarot deck with a little bit of ever...</td>\n",
       "      <td>{\"id\":22,\"name\":\"Illustration\",\"analytics_name...</td>\n",
       "      <td>13082</td>\n",
       "      <td>US</td>\n",
       "      <td>the United States</td>\n",
       "      <td>1612369415</td>\n",
       "      <td>{\"id\":1543140293,\"name\":\"Ritual Muse\",\"slug\":\"...</td>\n",
       "      <td>USD</td>\n",
       "      <td>$</td>\n",
       "      <td>...</td>\n",
       "      <td>https://www.kickstarter.com/discover/categorie...</td>\n",
       "      <td>True</td>\n",
       "      <td>False</td>\n",
       "      <td>successful</td>\n",
       "      <td>1618113600</td>\n",
       "      <td>1.000000</td>\n",
       "      <td>{\"web\":{\"project\":\"https://www.kickstarter.com...</td>\n",
       "      <td>1.0000</td>\n",
       "      <td>13082.000000</td>\n",
       "      <td>international</td>\n",
       "    </tr>\n",
       "    <tr>\n",
       "      <th>2185</th>\n",
       "      <td>69</td>\n",
       "      <td>Got an old bomb, filling it with poetry, takin...</td>\n",
       "      <td>{\"id\":20,\"name\":\"Conceptual Art\",\"analytics_na...</td>\n",
       "      <td>3213</td>\n",
       "      <td>US</td>\n",
       "      <td>the United States</td>\n",
       "      <td>1259514809</td>\n",
       "      <td>{\"id\":1768073198,\"name\":\"S.A. Griffin (deleted...</td>\n",
       "      <td>USD</td>\n",
       "      <td>$</td>\n",
       "      <td>...</td>\n",
       "      <td>https://www.kickstarter.com/discover/categorie...</td>\n",
       "      <td>True</td>\n",
       "      <td>False</td>\n",
       "      <td>successful</td>\n",
       "      <td>1267264811</td>\n",
       "      <td>1.000000</td>\n",
       "      <td>{\"web\":{\"project\":\"https://www.kickstarter.com...</td>\n",
       "      <td>1.0000</td>\n",
       "      <td>3213.490000</td>\n",
       "      <td>international</td>\n",
       "    </tr>\n",
       "    <tr>\n",
       "      <th>1530</th>\n",
       "      <td>36</td>\n",
       "      <td>Help us to create new and engaging contemporar...</td>\n",
       "      <td>{\"id\":254,\"name\":\"Performances\",\"analytics_nam...</td>\n",
       "      <td>2830</td>\n",
       "      <td>GB</td>\n",
       "      <td>the United Kingdom</td>\n",
       "      <td>1570705765</td>\n",
       "      <td>{\"id\":647057247,\"name\":\"Amy Petts\",\"slug\":\"tac...</td>\n",
       "      <td>GBP</td>\n",
       "      <td>£</td>\n",
       "      <td>...</td>\n",
       "      <td>https://www.kickstarter.com/discover/categorie...</td>\n",
       "      <td>True</td>\n",
       "      <td>False</td>\n",
       "      <td>successful</td>\n",
       "      <td>1579002105</td>\n",
       "      <td>1.283686</td>\n",
       "      <td>{\"web\":{\"project\":\"https://www.kickstarter.com...</td>\n",
       "      <td>1.2995</td>\n",
       "      <td>2795.867041</td>\n",
       "      <td>international</td>\n",
       "    </tr>\n",
       "  </tbody>\n",
       "</table>\n",
       "<p>5 rows × 39 columns</p>\n",
       "</div>"
      ],
      "text/plain": [
       "      backers_count                                              blurb  \\\n",
       "1036              3  Creating the first Cuban/American classical mu...   \n",
       "563              12  Nostalgic 90’s era Care Bears now in gold plat...   \n",
       "3055            109  A 78 card tarot deck with a little bit of ever...   \n",
       "2185             69  Got an old bomb, filling it with poetry, takin...   \n",
       "1530             36  Help us to create new and engaging contemporar...   \n",
       "\n",
       "                                               category  \\\n",
       "1036  {\"id\":36,\"name\":\"Classical Music\",\"analytics_n...   \n",
       "563   {\"id\":1,\"name\":\"Art\",\"analytics_name\":\"Art\",\"s...   \n",
       "3055  {\"id\":22,\"name\":\"Illustration\",\"analytics_name...   \n",
       "2185  {\"id\":20,\"name\":\"Conceptual Art\",\"analytics_na...   \n",
       "1530  {\"id\":254,\"name\":\"Performances\",\"analytics_nam...   \n",
       "\n",
       "      converted_pledged_amount country country_displayable_name  created_at  \\\n",
       "1036                        50      US        the United States  1484025958   \n",
       "563                        319      US        the United States  1623082980   \n",
       "3055                     13082      US        the United States  1612369415   \n",
       "2185                      3213      US        the United States  1259514809   \n",
       "1530                      2830      GB       the United Kingdom  1570705765   \n",
       "\n",
       "                                                creator currency  \\\n",
       "1036  {\"id\":532787385,\"name\":\"Yalyen Savignon\",\"is_r...      USD   \n",
       "563   {\"id\":1439908734,\"name\":\"SoftgirlCo\",\"slug\":\"s...      USD   \n",
       "3055  {\"id\":1543140293,\"name\":\"Ritual Muse\",\"slug\":\"...      USD   \n",
       "2185  {\"id\":1768073198,\"name\":\"S.A. Griffin (deleted...      USD   \n",
       "1530  {\"id\":647057247,\"name\":\"Amy Petts\",\"slug\":\"tac...      GBP   \n",
       "\n",
       "     currency_symbol  ...                                         source_url  \\\n",
       "1036               $  ...  https://www.kickstarter.com/discover/categorie...   \n",
       "563                $  ...  https://www.kickstarter.com/discover/categorie...   \n",
       "3055               $  ...  https://www.kickstarter.com/discover/categorie...   \n",
       "2185               $  ...  https://www.kickstarter.com/discover/categorie...   \n",
       "1530               £  ...  https://www.kickstarter.com/discover/categorie...   \n",
       "\n",
       "     spotlight  staff_pick       state state_changed_at  static_usd_rate  \\\n",
       "1036     False       False      failed       1487807365         1.000000   \n",
       "563      False       False        live       1623355881         1.000000   \n",
       "3055      True       False  successful       1618113600         1.000000   \n",
       "2185      True       False  successful       1267264811         1.000000   \n",
       "1530      True       False  successful       1579002105         1.283686   \n",
       "\n",
       "                                                   urls  usd_exchange_rate  \\\n",
       "1036  {\"web\":{\"project\":\"https://www.kickstarter.com...             1.0000   \n",
       "563   {\"web\":{\"project\":\"https://www.kickstarter.com...             1.0000   \n",
       "3055  {\"web\":{\"project\":\"https://www.kickstarter.com...             1.0000   \n",
       "2185  {\"web\":{\"project\":\"https://www.kickstarter.com...             1.0000   \n",
       "1530  {\"web\":{\"project\":\"https://www.kickstarter.com...             1.2995   \n",
       "\n",
       "       usd_pledged       usd_type  \n",
       "1036     50.000000  international  \n",
       "563     319.000000  international  \n",
       "3055  13082.000000  international  \n",
       "2185   3213.490000  international  \n",
       "1530   2795.867041  international  \n",
       "\n",
       "[5 rows x 39 columns]"
      ]
     },
     "execution_count": 75,
     "metadata": {},
     "output_type": "execute_result"
    }
   ],
   "source": [
    "df.sample(5)"
   ]
  },
  {
   "cell_type": "markdown",
   "metadata": {},
   "source": [
    "### review column names"
   ]
  },
  {
   "cell_type": "code",
   "execution_count": 76,
   "metadata": {},
   "outputs": [
    {
     "data": {
      "text/plain": [
       "Index(['backers_count', 'blurb', 'category', 'converted_pledged_amount',\n",
       "       'country', 'country_displayable_name', 'created_at', 'creator',\n",
       "       'currency', 'currency_symbol', 'currency_trailing_code',\n",
       "       'current_currency', 'deadline', 'disable_communication', 'friends',\n",
       "       'fx_rate', 'goal', 'id', 'is_backing', 'is_starrable', 'is_starred',\n",
       "       'launched_at', 'location', 'name', 'permissions', 'photo', 'pledged',\n",
       "       'profile', 'slug', 'source_url', 'spotlight', 'staff_pick', 'state',\n",
       "       'state_changed_at', 'static_usd_rate', 'urls', 'usd_exchange_rate',\n",
       "       'usd_pledged', 'usd_type'],\n",
       "      dtype='object')"
      ]
     },
     "execution_count": 76,
     "metadata": {},
     "output_type": "execute_result"
    }
   ],
   "source": [
    "df.columns"
   ]
  },
  {
   "cell_type": "markdown",
   "metadata": {},
   "source": [
    "no cleaning of column names required"
   ]
  },
  {
   "cell_type": "markdown",
   "metadata": {},
   "source": [
    "### Drop Duplicates"
   ]
  },
  {
   "cell_type": "code",
   "execution_count": 77,
   "metadata": {},
   "outputs": [],
   "source": [
    "before_dropping_duplicates = df.shape"
   ]
  },
  {
   "cell_type": "code",
   "execution_count": 78,
   "metadata": {},
   "outputs": [],
   "source": [
    "df = df.drop_duplicates()"
   ]
  },
  {
   "cell_type": "code",
   "execution_count": 79,
   "metadata": {},
   "outputs": [],
   "source": [
    "after_dropping_duplicates = df.shape"
   ]
  },
  {
   "cell_type": "code",
   "execution_count": 80,
   "metadata": {},
   "outputs": [
    {
     "data": {
      "text/plain": [
       "0"
      ]
     },
     "execution_count": 80,
     "metadata": {},
     "output_type": "execute_result"
    }
   ],
   "source": [
    "# duplicate rows that have been dropped ... \n",
    "\n",
    "before_dropping_duplicates[0] - after_dropping_duplicates[0]"
   ]
  },
  {
   "cell_type": "markdown",
   "metadata": {},
   "source": [
    "### drop duplicate projects with different values"
   ]
  },
  {
   "cell_type": "markdown",
   "metadata": {},
   "source": [
    "#### check for duplicate projects"
   ]
  },
  {
   "cell_type": "code",
   "execution_count": 81,
   "metadata": {},
   "outputs": [
    {
     "data": {
      "text/plain": [
       "34984"
      ]
     },
     "execution_count": 81,
     "metadata": {},
     "output_type": "execute_result"
    }
   ],
   "source": [
    "df.duplicated(subset='id', keep='first').sum()"
   ]
  },
  {
   "cell_type": "markdown",
   "metadata": {},
   "source": [
    "#### review duplicates"
   ]
  },
  {
   "cell_type": "code",
   "execution_count": 82,
   "metadata": {},
   "outputs": [
    {
     "data": {
      "text/html": [
       "<div>\n",
       "<style scoped>\n",
       "    .dataframe tbody tr th:only-of-type {\n",
       "        vertical-align: middle;\n",
       "    }\n",
       "\n",
       "    .dataframe tbody tr th {\n",
       "        vertical-align: top;\n",
       "    }\n",
       "\n",
       "    .dataframe thead th {\n",
       "        text-align: right;\n",
       "    }\n",
       "</style>\n",
       "<table border=\"1\" class=\"dataframe\">\n",
       "  <thead>\n",
       "    <tr style=\"text-align: right;\">\n",
       "      <th></th>\n",
       "      <th>backers_count</th>\n",
       "      <th>blurb</th>\n",
       "      <th>category</th>\n",
       "      <th>converted_pledged_amount</th>\n",
       "      <th>country</th>\n",
       "      <th>country_displayable_name</th>\n",
       "      <th>created_at</th>\n",
       "      <th>creator</th>\n",
       "      <th>currency</th>\n",
       "      <th>currency_symbol</th>\n",
       "      <th>...</th>\n",
       "      <th>source_url</th>\n",
       "      <th>spotlight</th>\n",
       "      <th>staff_pick</th>\n",
       "      <th>state</th>\n",
       "      <th>state_changed_at</th>\n",
       "      <th>static_usd_rate</th>\n",
       "      <th>urls</th>\n",
       "      <th>usd_exchange_rate</th>\n",
       "      <th>usd_pledged</th>\n",
       "      <th>usd_type</th>\n",
       "    </tr>\n",
       "  </thead>\n",
       "  <tbody>\n",
       "    <tr>\n",
       "      <th>1646</th>\n",
       "      <td>1</td>\n",
       "      <td>An easy to use call quality monitoring and sal...</td>\n",
       "      <td>{\"id\":51,\"name\":\"Software\",\"analytics_name\":\"S...</td>\n",
       "      <td>67</td>\n",
       "      <td>GB</td>\n",
       "      <td>the United Kingdom</td>\n",
       "      <td>1498212299</td>\n",
       "      <td>{\"id\":1108956785,\"name\":\"Robbie Rouse\",\"is_reg...</td>\n",
       "      <td>GBP</td>\n",
       "      <td>£</td>\n",
       "      <td>...</td>\n",
       "      <td>https://www.kickstarter.com/discover/categorie...</td>\n",
       "      <td>False</td>\n",
       "      <td>False</td>\n",
       "      <td>failed</td>\n",
       "      <td>1505994404</td>\n",
       "      <td>1.287800</td>\n",
       "      <td>{\"web\":{\"project\":\"https://www.kickstarter.com...</td>\n",
       "      <td>1.349187</td>\n",
       "      <td>64.390007</td>\n",
       "      <td>international</td>\n",
       "    </tr>\n",
       "    <tr>\n",
       "      <th>1186</th>\n",
       "      <td>1</td>\n",
       "      <td>An easy to use call quality monitoring and sal...</td>\n",
       "      <td>{\"id\":51,\"name\":\"Software\",\"analytics_name\":\"S...</td>\n",
       "      <td>67</td>\n",
       "      <td>GB</td>\n",
       "      <td>the United Kingdom</td>\n",
       "      <td>1498212299</td>\n",
       "      <td>{\"id\":1108956785,\"name\":\"Robbie Rouse\",\"is_reg...</td>\n",
       "      <td>GBP</td>\n",
       "      <td>£</td>\n",
       "      <td>...</td>\n",
       "      <td>https://www.kickstarter.com/discover/categorie...</td>\n",
       "      <td>False</td>\n",
       "      <td>False</td>\n",
       "      <td>failed</td>\n",
       "      <td>1505994404</td>\n",
       "      <td>1.287800</td>\n",
       "      <td>{\"web\":{\"project\":\"https://www.kickstarter.com...</td>\n",
       "      <td>1.349187</td>\n",
       "      <td>64.390007</td>\n",
       "      <td>international</td>\n",
       "    </tr>\n",
       "    <tr>\n",
       "      <th>208</th>\n",
       "      <td>19</td>\n",
       "      <td>One of the most puzzling figures in world hist...</td>\n",
       "      <td>{\"id\":285,\"name\":\"Plays\",\"analytics_name\":\"Pla...</td>\n",
       "      <td>384</td>\n",
       "      <td>GB</td>\n",
       "      <td>the United Kingdom</td>\n",
       "      <td>1580905287</td>\n",
       "      <td>{\"id\":364161953,\"name\":\"Animikii Theatre\",\"slu...</td>\n",
       "      <td>GBP</td>\n",
       "      <td>£</td>\n",
       "      <td>...</td>\n",
       "      <td>https://www.kickstarter.com/discover/categorie...</td>\n",
       "      <td>False</td>\n",
       "      <td>False</td>\n",
       "      <td>canceled</td>\n",
       "      <td>1584215512</td>\n",
       "      <td>1.298691</td>\n",
       "      <td>{\"web\":{\"project\":\"https://www.kickstarter.com...</td>\n",
       "      <td>1.227000</td>\n",
       "      <td>406.490339</td>\n",
       "      <td>international</td>\n",
       "    </tr>\n",
       "    <tr>\n",
       "      <th>1331</th>\n",
       "      <td>19</td>\n",
       "      <td>One of the most puzzling figures in world hist...</td>\n",
       "      <td>{\"id\":285,\"name\":\"Plays\",\"analytics_name\":\"Pla...</td>\n",
       "      <td>384</td>\n",
       "      <td>GB</td>\n",
       "      <td>the United Kingdom</td>\n",
       "      <td>1580905287</td>\n",
       "      <td>{\"id\":364161953,\"name\":\"Animikii Theatre\",\"slu...</td>\n",
       "      <td>GBP</td>\n",
       "      <td>£</td>\n",
       "      <td>...</td>\n",
       "      <td>https://www.kickstarter.com/discover/categorie...</td>\n",
       "      <td>False</td>\n",
       "      <td>False</td>\n",
       "      <td>canceled</td>\n",
       "      <td>1584215512</td>\n",
       "      <td>1.298691</td>\n",
       "      <td>{\"web\":{\"project\":\"https://www.kickstarter.com...</td>\n",
       "      <td>1.227000</td>\n",
       "      <td>406.490339</td>\n",
       "      <td>international</td>\n",
       "    </tr>\n",
       "    <tr>\n",
       "      <th>2685</th>\n",
       "      <td>245</td>\n",
       "      <td>An exploration of gender dysphoria, euphoria, ...</td>\n",
       "      <td>{\"id\":252,\"name\":\"Graphic Novels\",\"analytics_n...</td>\n",
       "      <td>5101</td>\n",
       "      <td>US</td>\n",
       "      <td>the United States</td>\n",
       "      <td>1610854301</td>\n",
       "      <td>{\"id\":1417894594,\"name\":\"Daniel Escargot\",\"is_...</td>\n",
       "      <td>USD</td>\n",
       "      <td>$</td>\n",
       "      <td>...</td>\n",
       "      <td>https://www.kickstarter.com/discover/categorie...</td>\n",
       "      <td>True</td>\n",
       "      <td>True</td>\n",
       "      <td>successful</td>\n",
       "      <td>1617255017</td>\n",
       "      <td>1.000000</td>\n",
       "      <td>{\"web\":{\"project\":\"https://www.kickstarter.com...</td>\n",
       "      <td>1.000000</td>\n",
       "      <td>5101.900000</td>\n",
       "      <td>international</td>\n",
       "    </tr>\n",
       "    <tr>\n",
       "      <th>...</th>\n",
       "      <td>...</td>\n",
       "      <td>...</td>\n",
       "      <td>...</td>\n",
       "      <td>...</td>\n",
       "      <td>...</td>\n",
       "      <td>...</td>\n",
       "      <td>...</td>\n",
       "      <td>...</td>\n",
       "      <td>...</td>\n",
       "      <td>...</td>\n",
       "      <td>...</td>\n",
       "      <td>...</td>\n",
       "      <td>...</td>\n",
       "      <td>...</td>\n",
       "      <td>...</td>\n",
       "      <td>...</td>\n",
       "      <td>...</td>\n",
       "      <td>...</td>\n",
       "      <td>...</td>\n",
       "      <td>...</td>\n",
       "      <td>...</td>\n",
       "    </tr>\n",
       "    <tr>\n",
       "      <th>1688</th>\n",
       "      <td>209</td>\n",
       "      <td>I have sung other people's words for too long....</td>\n",
       "      <td>{\"id\":42,\"name\":\"Pop\",\"analytics_name\":\"Pop\",\"...</td>\n",
       "      <td>30550</td>\n",
       "      <td>US</td>\n",
       "      <td>the United States</td>\n",
       "      <td>1409618313</td>\n",
       "      <td>{\"id\":1277285372,\"name\":\"Anne Steele\",\"is_regi...</td>\n",
       "      <td>USD</td>\n",
       "      <td>$</td>\n",
       "      <td>...</td>\n",
       "      <td>https://www.kickstarter.com/discover/categorie...</td>\n",
       "      <td>True</td>\n",
       "      <td>True</td>\n",
       "      <td>successful</td>\n",
       "      <td>1414854645</td>\n",
       "      <td>1.000000</td>\n",
       "      <td>{\"web\":{\"project\":\"https://www.kickstarter.com...</td>\n",
       "      <td>1.000000</td>\n",
       "      <td>30550.010000</td>\n",
       "      <td>international</td>\n",
       "    </tr>\n",
       "    <tr>\n",
       "      <th>2611</th>\n",
       "      <td>52</td>\n",
       "      <td>Growing fish and produce year round in the \"Po...</td>\n",
       "      <td>{\"id\":305,\"name\":\"Community Gardens\",\"analytic...</td>\n",
       "      <td>2460</td>\n",
       "      <td>CA</td>\n",
       "      <td>Canada</td>\n",
       "      <td>1419960769</td>\n",
       "      <td>{\"id\":1810768137,\"name\":\"Earl Decker\",\"is_regi...</td>\n",
       "      <td>CAD</td>\n",
       "      <td>$</td>\n",
       "      <td>...</td>\n",
       "      <td>https://www.kickstarter.com/discover/categorie...</td>\n",
       "      <td>False</td>\n",
       "      <td>False</td>\n",
       "      <td>failed</td>\n",
       "      <td>1423675583</td>\n",
       "      <td>0.860877</td>\n",
       "      <td>{\"web\":{\"project\":\"https://www.kickstarter.com...</td>\n",
       "      <td>0.795891</td>\n",
       "      <td>2660.971116</td>\n",
       "      <td>international</td>\n",
       "    </tr>\n",
       "    <tr>\n",
       "      <th>1231</th>\n",
       "      <td>52</td>\n",
       "      <td>Growing fish and produce year round in the \"Po...</td>\n",
       "      <td>{\"id\":305,\"name\":\"Community Gardens\",\"analytic...</td>\n",
       "      <td>2460</td>\n",
       "      <td>CA</td>\n",
       "      <td>Canada</td>\n",
       "      <td>1419960769</td>\n",
       "      <td>{\"id\":1810768137,\"name\":\"Earl Decker\",\"is_regi...</td>\n",
       "      <td>CAD</td>\n",
       "      <td>$</td>\n",
       "      <td>...</td>\n",
       "      <td>https://www.kickstarter.com/discover/categorie...</td>\n",
       "      <td>False</td>\n",
       "      <td>False</td>\n",
       "      <td>failed</td>\n",
       "      <td>1423675583</td>\n",
       "      <td>0.860877</td>\n",
       "      <td>{\"web\":{\"project\":\"https://www.kickstarter.com...</td>\n",
       "      <td>0.795891</td>\n",
       "      <td>2660.971116</td>\n",
       "      <td>international</td>\n",
       "    </tr>\n",
       "    <tr>\n",
       "      <th>1532</th>\n",
       "      <td>53</td>\n",
       "      <td>MOMENTS OF INSIGHT is a project consisting of ...</td>\n",
       "      <td>{\"id\":20,\"name\":\"Conceptual Art\",\"analytics_na...</td>\n",
       "      <td>18758</td>\n",
       "      <td>US</td>\n",
       "      <td>the United States</td>\n",
       "      <td>1303753700</td>\n",
       "      <td>{\"id\":1743305220,\"name\":\"Chaucer Silverson\",\"i...</td>\n",
       "      <td>USD</td>\n",
       "      <td>$</td>\n",
       "      <td>...</td>\n",
       "      <td>https://www.kickstarter.com/discover/categorie...</td>\n",
       "      <td>True</td>\n",
       "      <td>True</td>\n",
       "      <td>successful</td>\n",
       "      <td>1312432269</td>\n",
       "      <td>1.000000</td>\n",
       "      <td>{\"web\":{\"project\":\"https://www.kickstarter.com...</td>\n",
       "      <td>1.000000</td>\n",
       "      <td>18758.000000</td>\n",
       "      <td>international</td>\n",
       "    </tr>\n",
       "    <tr>\n",
       "      <th>2501</th>\n",
       "      <td>53</td>\n",
       "      <td>MOMENTS OF INSIGHT is a project consisting of ...</td>\n",
       "      <td>{\"id\":20,\"name\":\"Conceptual Art\",\"analytics_na...</td>\n",
       "      <td>18758</td>\n",
       "      <td>US</td>\n",
       "      <td>the United States</td>\n",
       "      <td>1303753700</td>\n",
       "      <td>{\"id\":1743305220,\"name\":\"Chaucer Silverson\",\"i...</td>\n",
       "      <td>USD</td>\n",
       "      <td>$</td>\n",
       "      <td>...</td>\n",
       "      <td>https://www.kickstarter.com/discover/categorie...</td>\n",
       "      <td>True</td>\n",
       "      <td>True</td>\n",
       "      <td>successful</td>\n",
       "      <td>1312432269</td>\n",
       "      <td>1.000000</td>\n",
       "      <td>{\"web\":{\"project\":\"https://www.kickstarter.com...</td>\n",
       "      <td>1.000000</td>\n",
       "      <td>18758.000000</td>\n",
       "      <td>international</td>\n",
       "    </tr>\n",
       "  </tbody>\n",
       "</table>\n",
       "<p>65659 rows × 39 columns</p>\n",
       "</div>"
      ],
      "text/plain": [
       "      backers_count                                              blurb  \\\n",
       "1646              1  An easy to use call quality monitoring and sal...   \n",
       "1186              1  An easy to use call quality monitoring and sal...   \n",
       "208              19  One of the most puzzling figures in world hist...   \n",
       "1331             19  One of the most puzzling figures in world hist...   \n",
       "2685            245  An exploration of gender dysphoria, euphoria, ...   \n",
       "...             ...                                                ...   \n",
       "1688            209  I have sung other people's words for too long....   \n",
       "2611             52  Growing fish and produce year round in the \"Po...   \n",
       "1231             52  Growing fish and produce year round in the \"Po...   \n",
       "1532             53  MOMENTS OF INSIGHT is a project consisting of ...   \n",
       "2501             53  MOMENTS OF INSIGHT is a project consisting of ...   \n",
       "\n",
       "                                               category  \\\n",
       "1646  {\"id\":51,\"name\":\"Software\",\"analytics_name\":\"S...   \n",
       "1186  {\"id\":51,\"name\":\"Software\",\"analytics_name\":\"S...   \n",
       "208   {\"id\":285,\"name\":\"Plays\",\"analytics_name\":\"Pla...   \n",
       "1331  {\"id\":285,\"name\":\"Plays\",\"analytics_name\":\"Pla...   \n",
       "2685  {\"id\":252,\"name\":\"Graphic Novels\",\"analytics_n...   \n",
       "...                                                 ...   \n",
       "1688  {\"id\":42,\"name\":\"Pop\",\"analytics_name\":\"Pop\",\"...   \n",
       "2611  {\"id\":305,\"name\":\"Community Gardens\",\"analytic...   \n",
       "1231  {\"id\":305,\"name\":\"Community Gardens\",\"analytic...   \n",
       "1532  {\"id\":20,\"name\":\"Conceptual Art\",\"analytics_na...   \n",
       "2501  {\"id\":20,\"name\":\"Conceptual Art\",\"analytics_na...   \n",
       "\n",
       "      converted_pledged_amount country country_displayable_name  created_at  \\\n",
       "1646                        67      GB       the United Kingdom  1498212299   \n",
       "1186                        67      GB       the United Kingdom  1498212299   \n",
       "208                        384      GB       the United Kingdom  1580905287   \n",
       "1331                       384      GB       the United Kingdom  1580905287   \n",
       "2685                      5101      US        the United States  1610854301   \n",
       "...                        ...     ...                      ...         ...   \n",
       "1688                     30550      US        the United States  1409618313   \n",
       "2611                      2460      CA                   Canada  1419960769   \n",
       "1231                      2460      CA                   Canada  1419960769   \n",
       "1532                     18758      US        the United States  1303753700   \n",
       "2501                     18758      US        the United States  1303753700   \n",
       "\n",
       "                                                creator currency  \\\n",
       "1646  {\"id\":1108956785,\"name\":\"Robbie Rouse\",\"is_reg...      GBP   \n",
       "1186  {\"id\":1108956785,\"name\":\"Robbie Rouse\",\"is_reg...      GBP   \n",
       "208   {\"id\":364161953,\"name\":\"Animikii Theatre\",\"slu...      GBP   \n",
       "1331  {\"id\":364161953,\"name\":\"Animikii Theatre\",\"slu...      GBP   \n",
       "2685  {\"id\":1417894594,\"name\":\"Daniel Escargot\",\"is_...      USD   \n",
       "...                                                 ...      ...   \n",
       "1688  {\"id\":1277285372,\"name\":\"Anne Steele\",\"is_regi...      USD   \n",
       "2611  {\"id\":1810768137,\"name\":\"Earl Decker\",\"is_regi...      CAD   \n",
       "1231  {\"id\":1810768137,\"name\":\"Earl Decker\",\"is_regi...      CAD   \n",
       "1532  {\"id\":1743305220,\"name\":\"Chaucer Silverson\",\"i...      USD   \n",
       "2501  {\"id\":1743305220,\"name\":\"Chaucer Silverson\",\"i...      USD   \n",
       "\n",
       "     currency_symbol  ...                                         source_url  \\\n",
       "1646               £  ...  https://www.kickstarter.com/discover/categorie...   \n",
       "1186               £  ...  https://www.kickstarter.com/discover/categorie...   \n",
       "208                £  ...  https://www.kickstarter.com/discover/categorie...   \n",
       "1331               £  ...  https://www.kickstarter.com/discover/categorie...   \n",
       "2685               $  ...  https://www.kickstarter.com/discover/categorie...   \n",
       "...              ...  ...                                                ...   \n",
       "1688               $  ...  https://www.kickstarter.com/discover/categorie...   \n",
       "2611               $  ...  https://www.kickstarter.com/discover/categorie...   \n",
       "1231               $  ...  https://www.kickstarter.com/discover/categorie...   \n",
       "1532               $  ...  https://www.kickstarter.com/discover/categorie...   \n",
       "2501               $  ...  https://www.kickstarter.com/discover/categorie...   \n",
       "\n",
       "     spotlight  staff_pick       state state_changed_at  static_usd_rate  \\\n",
       "1646     False       False      failed       1505994404         1.287800   \n",
       "1186     False       False      failed       1505994404         1.287800   \n",
       "208      False       False    canceled       1584215512         1.298691   \n",
       "1331     False       False    canceled       1584215512         1.298691   \n",
       "2685      True        True  successful       1617255017         1.000000   \n",
       "...        ...         ...         ...              ...              ...   \n",
       "1688      True        True  successful       1414854645         1.000000   \n",
       "2611     False       False      failed       1423675583         0.860877   \n",
       "1231     False       False      failed       1423675583         0.860877   \n",
       "1532      True        True  successful       1312432269         1.000000   \n",
       "2501      True        True  successful       1312432269         1.000000   \n",
       "\n",
       "                                                   urls  usd_exchange_rate  \\\n",
       "1646  {\"web\":{\"project\":\"https://www.kickstarter.com...           1.349187   \n",
       "1186  {\"web\":{\"project\":\"https://www.kickstarter.com...           1.349187   \n",
       "208   {\"web\":{\"project\":\"https://www.kickstarter.com...           1.227000   \n",
       "1331  {\"web\":{\"project\":\"https://www.kickstarter.com...           1.227000   \n",
       "2685  {\"web\":{\"project\":\"https://www.kickstarter.com...           1.000000   \n",
       "...                                                 ...                ...   \n",
       "1688  {\"web\":{\"project\":\"https://www.kickstarter.com...           1.000000   \n",
       "2611  {\"web\":{\"project\":\"https://www.kickstarter.com...           0.795891   \n",
       "1231  {\"web\":{\"project\":\"https://www.kickstarter.com...           0.795891   \n",
       "1532  {\"web\":{\"project\":\"https://www.kickstarter.com...           1.000000   \n",
       "2501  {\"web\":{\"project\":\"https://www.kickstarter.com...           1.000000   \n",
       "\n",
       "       usd_pledged       usd_type  \n",
       "1646     64.390007  international  \n",
       "1186     64.390007  international  \n",
       "208     406.490339  international  \n",
       "1331    406.490339  international  \n",
       "2685   5101.900000  international  \n",
       "...            ...            ...  \n",
       "1688  30550.010000  international  \n",
       "2611   2660.971116  international  \n",
       "1231   2660.971116  international  \n",
       "1532  18758.000000  international  \n",
       "2501  18758.000000  international  \n",
       "\n",
       "[65659 rows x 39 columns]"
      ]
     },
     "execution_count": 82,
     "metadata": {},
     "output_type": "execute_result"
    }
   ],
   "source": [
    "df[df.duplicated(subset=['id'],keep=False)].sort_values(by=['id'])"
   ]
  },
  {
   "cell_type": "markdown",
   "metadata": {},
   "source": [
    "#### drop double listing of projects"
   ]
  },
  {
   "cell_type": "code",
   "execution_count": 83,
   "metadata": {},
   "outputs": [],
   "source": [
    "df = (df.sort_values(by=['id', 'converted_pledged_amount'], ascending=False).drop_duplicates(subset='id', keep= 'first').reset_index(drop=True))"
   ]
  },
  {
   "cell_type": "markdown",
   "metadata": {},
   "source": [
    "#### set id as index and review shape after drop"
   ]
  },
  {
   "cell_type": "code",
   "execution_count": 84,
   "metadata": {},
   "outputs": [],
   "source": [
    "df = df.set_index('id')"
   ]
  },
  {
   "cell_type": "code",
   "execution_count": 85,
   "metadata": {},
   "outputs": [
    {
     "data": {
      "text/plain": [
       "(59969, 38)"
      ]
     },
     "execution_count": 85,
     "metadata": {},
     "output_type": "execute_result"
    }
   ],
   "source": [
    "df.shape"
   ]
  },
  {
   "cell_type": "markdown",
   "metadata": {},
   "source": [
    "### review dtypes"
   ]
  },
  {
   "cell_type": "code",
   "execution_count": 86,
   "metadata": {},
   "outputs": [
    {
     "data": {
      "text/plain": [
       "backers_count                 int64\n",
       "blurb                        object\n",
       "category                     object\n",
       "converted_pledged_amount      int64\n",
       "country                      object\n",
       "country_displayable_name     object\n",
       "created_at                    int64\n",
       "creator                      object\n",
       "currency                     object\n",
       "currency_symbol              object\n",
       "currency_trailing_code         bool\n",
       "current_currency             object\n",
       "deadline                      int64\n",
       "disable_communication          bool\n",
       "friends                      object\n",
       "fx_rate                     float64\n",
       "goal                        float64\n",
       "is_backing                   object\n",
       "is_starrable                   bool\n",
       "is_starred                   object\n",
       "launched_at                   int64\n",
       "location                     object\n",
       "name                         object\n",
       "permissions                  object\n",
       "photo                        object\n",
       "pledged                     float64\n",
       "profile                      object\n",
       "slug                         object\n",
       "source_url                   object\n",
       "spotlight                      bool\n",
       "staff_pick                     bool\n",
       "state                        object\n",
       "state_changed_at              int64\n",
       "static_usd_rate             float64\n",
       "urls                         object\n",
       "usd_exchange_rate           float64\n",
       "usd_pledged                 float64\n",
       "usd_type                     object\n",
       "dtype: object"
      ]
     },
     "execution_count": 86,
     "metadata": {},
     "output_type": "execute_result"
    }
   ],
   "source": [
    "### Review DTypes\n",
    "\n",
    "df.dtypes\n",
    "\n",
    "# boolean columns death_event, smoking, sex, high_blood_pressure, diabetes, anaemia\n",
    "# df = df.astype({'death_event':'boolean', 'sex':'boolean', 'smoking':'boolean', 'high_blood_pressure':'boolean','diabetes':'boolean','anaemia':'boolean','age':'int64'})\n",
    "\n",
    "\n",
    "#df = df.astype({'polarity':'int64', 'subjectivity':'int64'})\n",
    "\n",
    "df.dtypes"
   ]
  },
  {
   "cell_type": "markdown",
   "metadata": {},
   "source": [
    "to review"
   ]
  },
  {
   "cell_type": "markdown",
   "metadata": {},
   "source": [
    "### Null Values"
   ]
  },
  {
   "cell_type": "code",
   "execution_count": 87,
   "metadata": {},
   "outputs": [
    {
     "data": {
      "text/plain": [
       "backers_count               False\n",
       "blurb                        True\n",
       "category                    False\n",
       "converted_pledged_amount    False\n",
       "country                     False\n",
       "country_displayable_name    False\n",
       "created_at                  False\n",
       "creator                     False\n",
       "currency                    False\n",
       "currency_symbol             False\n",
       "currency_trailing_code      False\n",
       "current_currency            False\n",
       "deadline                    False\n",
       "disable_communication       False\n",
       "friends                      True\n",
       "fx_rate                     False\n",
       "goal                        False\n",
       "is_backing                   True\n",
       "is_starrable                False\n",
       "is_starred                   True\n",
       "launched_at                 False\n",
       "location                     True\n",
       "name                        False\n",
       "permissions                  True\n",
       "photo                       False\n",
       "pledged                     False\n",
       "profile                     False\n",
       "slug                        False\n",
       "source_url                  False\n",
       "spotlight                   False\n",
       "staff_pick                  False\n",
       "state                       False\n",
       "state_changed_at            False\n",
       "static_usd_rate             False\n",
       "urls                        False\n",
       "usd_exchange_rate           False\n",
       "usd_pledged                 False\n",
       "usd_type                     True\n",
       "dtype: bool"
      ]
     },
     "execution_count": 87,
     "metadata": {},
     "output_type": "execute_result"
    }
   ],
   "source": [
    "df.isna().any()"
   ]
  },
  {
   "cell_type": "markdown",
   "metadata": {},
   "source": [
    "No null values present in this dataset"
   ]
  },
  {
   "cell_type": "markdown",
   "metadata": {},
   "source": [
    "### Data Values"
   ]
  },
  {
   "cell_type": "code",
   "execution_count": 88,
   "metadata": {
    "scrolled": true
   },
   "outputs": [
    {
     "name": "stdout",
     "output_type": "stream",
     "text": [
      "0      53\n",
      "1      46\n",
      "2      29\n",
      "3      19\n",
      "5      12\n",
      "       ..\n",
      "198     1\n",
      "708     1\n",
      "185     1\n",
      "184     1\n",
      "111     1\n",
      "Name: backers_count, Length: 155, dtype: int64 \n",
      "\n",
      "The first compilation book of the comic strip Cooper.                                                                                      1\n",
      "Bluetooth music player that looks (and plays) like a cassette tape. Includes a touch display, headphone jack, memory card slot, & more.    1\n",
      "Level 11 Theatre is taking theatre to the next level with a full season of pay-what-you-can shows funded by your generous donations.       1\n",
      "Im sure everyone of us can relate to slap in the face knock-downs, but we all must get up, and hit the reset button!                       1\n",
      "With your own name.                                                                                                                        1\n",
      "                                                                                                                                          ..\n",
      "Amanda Barise's upcoming album of 11 original songs is a hot mix of Pop-R&B thats ready for the radio BUT needs your help in promotion!    1\n",
      "A short film about Jerry, an elderly discontent who finds new meaning in life as a college student.                                        1\n",
      "Collection of chef inspired and student created recipes. Our cookbook provides healthy alternative meals with real life student photos,    1\n",
      "Life is too short to wear boring shoes. Discover our truly unique brogues. Handcrafted, bold, vibrant, comfortable & VERY affordable!      1\n",
      "The third volume of Gastrophobia, the ongoing comic adventures of a single mom Amazon in Ancient Greece!                                   1\n",
      "Name: blurb, Length: 425, dtype: int64 \n",
      "\n",
      "{\"id\":339,\"name\":\"Sound\",\"analytics_name\":\"Sound\",\"slug\":\"technology/sound\",\"position\":12,\"parent_id\":16,\"parent_name\":\"Technology\",\"color\":6526716,\"urls\":{\"web\":{\"discover\":\"http://www.kickstarter.com/discover/categories/technology/sound\"}}}                                                      53\n",
      "{\"id\":322,\"name\":\"R&B\",\"analytics_name\":\"R&B\",\"slug\":\"music/r&b\",\"position\":16,\"parent_id\":14,\"parent_name\":\"Music\",\"color\":10878931,\"urls\":{\"web\":{\"discover\":\"http://www.kickstarter.com/discover/categories/music/r&b\"}}}                                                                            48\n",
      "{\"id\":357,\"name\":\"Audio\",\"analytics_name\":\"Audio\",\"slug\":\"journalism/audio\",\"position\":1,\"parent_id\":13,\"parent_name\":\"Journalism\",\"color\":1228010,\"urls\":{\"web\":{\"discover\":\"http://www.kickstarter.com/discover/categories/journalism/audio\"}}}                                                       48\n",
      "{\"id\":306,\"name\":\"Cookbooks\",\"analytics_name\":\"Cookbooks\",\"slug\":\"food/cookbooks\",\"position\":3,\"parent_id\":10,\"parent_name\":\"Food\",\"color\":16725570,\"urls\":{\"web\":{\"discover\":\"http://www.kickstarter.com/discover/categories/food/cookbooks\"}}}                                                        48\n",
      "{\"id\":326,\"name\":\"Literary Journals\",\"analytics_name\":\"Literary Journals\",\"slug\":\"publishing/literary journals\",\"position\":8,\"parent_id\":18,\"parent_name\":\"Publishing\",\"color\":14867664,\"urls\":{\"web\":{\"discover\":\"http://www.kickstarter.com/discover/categories/publishing/literary%20journals\"}}}    48\n",
      "{\"id\":292,\"name\":\"Comedy\",\"analytics_name\":\"Comedy\",\"slug\":\"film & video/comedy\",\"position\":3,\"parent_id\":11,\"parent_name\":\"Film & Video\",\"color\":16734574,\"urls\":{\"web\":{\"discover\":\"http://www.kickstarter.com/discover/categories/film%20&%20video/comedy\"}}}                                        48\n",
      "{\"id\":285,\"name\":\"Plays\",\"analytics_name\":\"Plays\",\"slug\":\"theater/plays\",\"position\":6,\"parent_id\":17,\"parent_name\":\"Theater\",\"color\":16743775,\"urls\":{\"web\":{\"discover\":\"http://www.kickstarter.com/discover/categories/theater/plays\"}}}                                                               48\n",
      "{\"id\":253,\"name\":\"Webcomics\",\"analytics_name\":\"Webcomics\",\"slug\":\"comics/webcomics\",\"position\":5,\"parent_id\":3,\"parent_name\":\"Comics\",\"color\":16776056,\"urls\":{\"web\":{\"discover\":\"http://www.kickstarter.com/discover/categories/comics/webcomics\"}}}                                                   48\n",
      "{\"id\":28,\"name\":\"Product Design\",\"analytics_name\":\"Product Design\",\"slug\":\"design/product design\",\"position\":5,\"parent_id\":7,\"parent_name\":\"Design\",\"color\":2577151,\"urls\":{\"web\":{\"discover\":\"http://www.kickstarter.com/discover/categories/design/product%20design\"}}}                               33\n",
      "{\"id\":396,\"name\":\"Toys\",\"analytics_name\":\"Toys\",\"slug\":\"design/toys\",\"position\":6,\"parent_id\":7,\"parent_name\":\"Design\",\"color\":2577151,\"urls\":{\"web\":{\"discover\":\"http://www.kickstarter.com/discover/categories/design/toys\"}}}                                                                         1\n",
      "{\"id\":27,\"name\":\"Graphic Design\",\"analytics_name\":\"Graphic Design\",\"slug\":\"design/graphic design\",\"position\":3,\"parent_id\":7,\"parent_name\":\"Design\",\"color\":2577151,\"urls\":{\"web\":{\"discover\":\"http://www.kickstarter.com/discover/categories/design/graphic%20design\"}}}                                1\n",
      "{\"id\":7,\"name\":\"Design\",\"analytics_name\":\"Design\",\"slug\":\"design\",\"position\":5,\"color\":2577151,\"urls\":{\"web\":{\"discover\":\"http://www.kickstarter.com/discover/categories/design\"}}}                                                                                                                      1\n",
      "Name: category, dtype: int64 \n",
      "\n",
      "0         56\n",
      "1         26\n",
      "10         5\n",
      "2          5\n",
      "100        5\n",
      "          ..\n",
      "1366       1\n",
      "34080      1\n",
      "145855     1\n",
      "5472       1\n",
      "136450     1\n",
      "Name: converted_pledged_amount, Length: 305, dtype: int64 \n",
      "\n",
      "US    299\n",
      "GB     55\n",
      "CA     19\n",
      "AU     10\n",
      "HK      6\n",
      "MX      6\n",
      "DE      6\n",
      "FR      4\n",
      "NL      4\n",
      "ES      3\n",
      "NZ      3\n",
      "JP      3\n",
      "DK      2\n",
      "SG      1\n",
      "AT      1\n",
      "IT      1\n",
      "SE      1\n",
      "NO      1\n",
      "Name: country, dtype: int64 \n",
      "\n",
      "the United States     299\n",
      "the United Kingdom     55\n",
      "Canada                 19\n",
      "Australia              10\n",
      "Germany                 6\n",
      "Hong Kong               6\n",
      "Mexico                  6\n",
      "France                  4\n",
      "the Netherlands         4\n",
      "Spain                   3\n",
      "New Zealand             3\n",
      "Japan                   3\n",
      "Denmark                 2\n",
      "Italy                   1\n",
      "Norway                  1\n",
      "Singapore               1\n",
      "Sweden                  1\n",
      "Austria                 1\n",
      "Name: country_displayable_name, dtype: int64 \n",
      "\n",
      "1607148940    1\n",
      "1624111437    1\n",
      "1397768421    1\n",
      "1331078480    1\n",
      "1433162066    1\n",
      "             ..\n",
      "1405848269    1\n",
      "1403225435    1\n",
      "1621385935    1\n",
      "1416054482    1\n",
      "1412734978    1\n",
      "Name: created_at, Length: 425, dtype: int64 \n",
      "\n",
      "{\"id\":1489570965,\"name\":\"PK\",\"is_registered\":null,\"is_email_verified\":null,\"chosen_currency\":null,\"is_superbacker\":null,\"avatar\":{\"thumb\":\"https://ksr-ugc.imgix.net/assets/007/464/931/3f418b917fc1bcae6f73458b5518d22d_original.png?ixlib=rb-4.0.2&w=40&h=40&fit=crop&v=1461458955&auto=format&frame=1&q=92&s=76c5283263086a334a6f212fadc18717\",\"small\":\"https://ksr-ugc.imgix.net/assets/007/464/931/3f418b917fc1bcae6f73458b5518d22d_original.png?ixlib=rb-4.0.2&w=80&h=80&fit=crop&v=1461458955&auto=format&frame=1&q=92&s=974f5effbb86806933f84fee48c87687\",\"medium\":\"https://ksr-ugc.imgix.net/assets/007/464/931/3f418b917fc1bcae6f73458b5518d22d_original.png?ixlib=rb-4.0.2&w=160&h=160&fit=crop&v=1461458955&auto=format&frame=1&q=92&s=3b1b54c5c3bbb1a0e36e40c72c8daece\"},\"urls\":{\"web\":{\"user\":\"https://www.kickstarter.com/profile/1489570965\"},\"api\":{\"user\":\"https://api.kickstarter.com/v1/users/1489570965?signature=1631848965.fe7d6a44535a13f9e84c6cafd4a3676bb48e3032\"}}}                               1\n",
      "{\"id\":1223411981,\"name\":\"Peter Gil-Sheridan\",\"is_registered\":null,\"is_email_verified\":null,\"chosen_currency\":null,\"is_superbacker\":null,\"avatar\":{\"thumb\":\"https://ksr-ugc.imgix.net/assets/017/779/693/e9d6088a2a814feb4d0eb450fe44ecf0_original.jpg?ixlib=rb-4.0.2&w=40&h=40&fit=crop&v=1501786373&auto=format&frame=1&q=92&s=c4b1775ce9ea29257c5e964c72785c59\",\"small\":\"https://ksr-ugc.imgix.net/assets/017/779/693/e9d6088a2a814feb4d0eb450fe44ecf0_original.jpg?ixlib=rb-4.0.2&w=80&h=80&fit=crop&v=1501786373&auto=format&frame=1&q=92&s=4593404a64697a28eb4f9da396535fb5\",\"medium\":\"https://ksr-ugc.imgix.net/assets/017/779/693/e9d6088a2a814feb4d0eb450fe44ecf0_original.jpg?ixlib=rb-4.0.2&w=160&h=160&fit=crop&v=1501786373&auto=format&frame=1&q=92&s=47435901aced0e37ed583b00eb55fd7c\"},\"urls\":{\"web\":{\"user\":\"https://www.kickstarter.com/profile/1223411981\"},\"api\":{\"user\":\"https://api.kickstarter.com/v1/users/1223411981?signature=1631848959.cb84c39cb9649e717cfa475554bca5b0aa607a29\"}}}               1\n",
      "{\"id\":889026760,\"name\":\"Doug Jacobson\",\"is_registered\":null,\"is_email_verified\":null,\"chosen_currency\":null,\"is_superbacker\":null,\"avatar\":{\"thumb\":\"https://ksr-ugc.imgix.net/assets/015/641/605/8095239703d1b401be8df75a2aa90dfe_original.jpg?ixlib=rb-4.0.2&w=40&h=40&fit=crop&v=1488059312&auto=format&frame=1&q=92&s=72f3a025df86ca899d6be5fbc012fc60\",\"small\":\"https://ksr-ugc.imgix.net/assets/015/641/605/8095239703d1b401be8df75a2aa90dfe_original.jpg?ixlib=rb-4.0.2&w=80&h=80&fit=crop&v=1488059312&auto=format&frame=1&q=92&s=9e575bd0886997fffcaaaf08f2748075\",\"medium\":\"https://ksr-ugc.imgix.net/assets/015/641/605/8095239703d1b401be8df75a2aa90dfe_original.jpg?ixlib=rb-4.0.2&w=160&h=160&fit=crop&v=1488059312&auto=format&frame=1&q=92&s=ed05c14bf644bab75042b65c0fbacceb\"},\"urls\":{\"web\":{\"user\":\"https://www.kickstarter.com/profile/889026760\"},\"api\":{\"user\":\"https://api.kickstarter.com/v1/users/889026760?signature=1631848958.562ca615326ff5d44428b1faf084b03c81caffdf\"}}}                       1\n",
      "{\"id\":702522727,\"name\":\"DA SKWAD\",\"is_registered\":null,\"is_email_verified\":null,\"chosen_currency\":null,\"is_superbacker\":null,\"avatar\":{\"thumb\":\"https://ksr-ugc.imgix.net/assets/015/132/531/4c897e37b823376334b72f5b249ad589_original.png?ixlib=rb-4.0.2&w=40&h=40&fit=crop&v=1484142952&auto=format&frame=1&q=92&s=578c67417b08bc8c4a2cd962274a663b\",\"small\":\"https://ksr-ugc.imgix.net/assets/015/132/531/4c897e37b823376334b72f5b249ad589_original.png?ixlib=rb-4.0.2&w=80&h=80&fit=crop&v=1484142952&auto=format&frame=1&q=92&s=35c60e697b87c51c3d6bec23dc44d2db\",\"medium\":\"https://ksr-ugc.imgix.net/assets/015/132/531/4c897e37b823376334b72f5b249ad589_original.png?ixlib=rb-4.0.2&w=160&h=160&fit=crop&v=1484142952&auto=format&frame=1&q=92&s=15e3049156ebfdee2aaf63d22a086ea5\"},\"urls\":{\"web\":{\"user\":\"https://www.kickstarter.com/profile/702522727\"},\"api\":{\"user\":\"https://api.kickstarter.com/v1/users/702522727?signature=1631848963.a148178938a9df9bddea697734906b51c9740463\"}}}                            1\n",
      "{\"id\":1281934288,\"name\":\"Yonder Window Theatre Company\",\"is_registered\":null,\"is_email_verified\":null,\"chosen_currency\":null,\"is_superbacker\":null,\"avatar\":{\"thumb\":\"https://ksr-ugc.imgix.net/assets/017/132/690/c965404d1e84e5eadc4140734b6dc23f_original.jpg?ixlib=rb-4.0.2&w=40&h=40&fit=crop&v=1497901895&auto=format&frame=1&q=92&s=64519d0ede8cb244db06eed2916976bf\",\"small\":\"https://ksr-ugc.imgix.net/assets/017/132/690/c965404d1e84e5eadc4140734b6dc23f_original.jpg?ixlib=rb-4.0.2&w=80&h=80&fit=crop&v=1497901895&auto=format&frame=1&q=92&s=2d0cccb60e539b933b0ab159e7c6f0a5\",\"medium\":\"https://ksr-ugc.imgix.net/assets/017/132/690/c965404d1e84e5eadc4140734b6dc23f_original.jpg?ixlib=rb-4.0.2&w=160&h=160&fit=crop&v=1497901895&auto=format&frame=1&q=92&s=d17bf515fca6b8ed8a5be0bceeae120b\"},\"urls\":{\"web\":{\"user\":\"https://www.kickstarter.com/profile/1281934288\"},\"api\":{\"user\":\"https://api.kickstarter.com/v1/users/1281934288?signature=1631848962.ba59ed51398372bb8ff10839042c7ec8f342fc88\"}}}    1\n",
      "                                                                                                                                                                                                                                                                                                                                                                                                                                                                                                                                                                                                                                                                                                                                                                                                                                                                                                                                                                                                                            ..\n",
      "{\"id\":1464818633,\"name\":\"Trevor Schmidt\",\"is_registered\":null,\"is_email_verified\":null,\"chosen_currency\":null,\"is_superbacker\":null,\"avatar\":{\"thumb\":\"https://ksr-ugc.imgix.net/assets/014/861/946/212332dd00201dcbd42af89e53bc701e_original.jpeg?ixlib=rb-4.0.2&w=40&h=40&fit=crop&v=1481600292&auto=format&frame=1&q=92&s=0e17c02f4dadc6a91700d76a2d0ae934\",\"small\":\"https://ksr-ugc.imgix.net/assets/014/861/946/212332dd00201dcbd42af89e53bc701e_original.jpeg?ixlib=rb-4.0.2&w=80&h=80&fit=crop&v=1481600292&auto=format&frame=1&q=92&s=e3f77df7fe8877f5a82bdf70bcd3d516\",\"medium\":\"https://ksr-ugc.imgix.net/assets/014/861/946/212332dd00201dcbd42af89e53bc701e_original.jpeg?ixlib=rb-4.0.2&w=160&h=160&fit=crop&v=1481600292&auto=format&frame=1&q=92&s=391b29aa289913943cd0936b691f3949\"},\"urls\":{\"web\":{\"user\":\"https://www.kickstarter.com/profile/1464818633\"},\"api\":{\"user\":\"https://api.kickstarter.com/v1/users/1464818633?signature=1631848966.c318e699764537c8b6dff6adf49c4dcbf5337fd8\"}}}                1\n",
      "{\"id\":490520556,\"name\":\"Juan\",\"is_registered\":null,\"is_email_verified\":null,\"chosen_currency\":null,\"is_superbacker\":null,\"avatar\":{\"thumb\":\"https://ksr-ugc.imgix.net/assets/007/880/939/8ebfd0b4654ef39f59f6835650e45f00_original.jpg?ixlib=rb-4.0.2&w=40&h=40&fit=crop&v=1461487441&auto=format&frame=1&q=92&s=a8001374a4091e0695c4068baed5d470\",\"small\":\"https://ksr-ugc.imgix.net/assets/007/880/939/8ebfd0b4654ef39f59f6835650e45f00_original.jpg?ixlib=rb-4.0.2&w=80&h=80&fit=crop&v=1461487441&auto=format&frame=1&q=92&s=3cbec610be0d9a2bfbf0b8194628075d\",\"medium\":\"https://ksr-ugc.imgix.net/assets/007/880/939/8ebfd0b4654ef39f59f6835650e45f00_original.jpg?ixlib=rb-4.0.2&w=160&h=160&fit=crop&v=1461487441&auto=format&frame=1&q=92&s=2e92268cc61aea59fe694ba68c5f900c\"},\"urls\":{\"web\":{\"user\":\"https://www.kickstarter.com/profile/490520556\"},\"api\":{\"user\":\"https://api.kickstarter.com/v1/users/490520556?signature=1631848964.29645549f17b80a38e16faac2a9b1cec91880bc4\"}}}                                1\n",
      "{\"id\":252118424,\"name\":\"Semira Davis\",\"is_registered\":null,\"is_email_verified\":null,\"chosen_currency\":null,\"is_superbacker\":null,\"avatar\":{\"thumb\":\"https://ksr-ugc.imgix.net/assets/009/266/402/3057585007b4256de7f998c527d70a06_original.jpg?ixlib=rb-4.0.2&w=40&h=40&fit=crop&v=1461570056&auto=format&frame=1&q=92&s=f9c534fa4316e79f49cefb2c6eaebcac\",\"small\":\"https://ksr-ugc.imgix.net/assets/009/266/402/3057585007b4256de7f998c527d70a06_original.jpg?ixlib=rb-4.0.2&w=80&h=80&fit=crop&v=1461570056&auto=format&frame=1&q=92&s=09ad69a1f731fb7d0e11a4110e64d62e\",\"medium\":\"https://ksr-ugc.imgix.net/assets/009/266/402/3057585007b4256de7f998c527d70a06_original.jpg?ixlib=rb-4.0.2&w=160&h=160&fit=crop&v=1461570056&auto=format&frame=1&q=92&s=740aede716c469d1353c8f86da16ecfd\"},\"urls\":{\"web\":{\"user\":\"https://www.kickstarter.com/profile/252118424\"},\"api\":{\"user\":\"https://api.kickstarter.com/v1/users/252118424?signature=1631848965.6bb103e2c382eb77ca0a62c94197a39a4dec10af\"}}}                        1\n",
      "{\"id\":962505161,\"name\":\"Jared Hodges\",\"is_registered\":null,\"is_email_verified\":null,\"chosen_currency\":null,\"is_superbacker\":null,\"avatar\":{\"thumb\":\"https://ksr-ugc.imgix.net/assets/009/177/075/c983fa6540e8381c1c746194e147cc3d_original.jpg?ixlib=rb-4.0.2&w=40&h=40&fit=crop&v=1461562687&auto=format&frame=1&q=92&s=135b316851524e69dad201f9d705059a\",\"small\":\"https://ksr-ugc.imgix.net/assets/009/177/075/c983fa6540e8381c1c746194e147cc3d_original.jpg?ixlib=rb-4.0.2&w=80&h=80&fit=crop&v=1461562687&auto=format&frame=1&q=92&s=c859abc75a73ea5c42de2cc51d216c9b\",\"medium\":\"https://ksr-ugc.imgix.net/assets/009/177/075/c983fa6540e8381c1c746194e147cc3d_original.jpg?ixlib=rb-4.0.2&w=160&h=160&fit=crop&v=1461562687&auto=format&frame=1&q=92&s=6518130d01d31ecc5ca91a74734f50a8\"},\"urls\":{\"web\":{\"user\":\"https://www.kickstarter.com/profile/962505161\"},\"api\":{\"user\":\"https://api.kickstarter.com/v1/users/962505161?signature=1631848965.d1381f9d79feaaeca30caeb3a50977b78c9667c8\"}}}                        1\n",
      "{\"id\":726818930,\"name\":\"David Conley\",\"slug\":\"picconley\",\"is_registered\":null,\"is_email_verified\":null,\"chosen_currency\":null,\"is_superbacker\":null,\"avatar\":{\"thumb\":\"https://ksr-ugc.imgix.net/assets/009/549/566/dc91e2f5b86e01fa96a24ef5a907e0f9_original.jpg?ixlib=rb-4.0.2&w=40&h=40&fit=crop&v=1461602574&auto=format&frame=1&q=92&s=c133d0e6d84fb19f229720ebc6206c7f\",\"small\":\"https://ksr-ugc.imgix.net/assets/009/549/566/dc91e2f5b86e01fa96a24ef5a907e0f9_original.jpg?ixlib=rb-4.0.2&w=80&h=80&fit=crop&v=1461602574&auto=format&frame=1&q=92&s=f7f0384312efc5baa1ef15bd1d15d9c8\",\"medium\":\"https://ksr-ugc.imgix.net/assets/009/549/566/dc91e2f5b86e01fa96a24ef5a907e0f9_original.jpg?ixlib=rb-4.0.2&w=160&h=160&fit=crop&v=1461602574&auto=format&frame=1&q=92&s=8ac4f3d2d1526047a8bc4ee7c2b96260\"},\"urls\":{\"web\":{\"user\":\"https://www.kickstarter.com/profile/picconley\"},\"api\":{\"user\":\"https://api.kickstarter.com/v1/users/726818930?signature=1631848962.c87719d040b52a21ec20d230936f5cbbeddf2474\"}}}     1\n",
      "Name: creator, Length: 425, dtype: int64 \n",
      "\n",
      "USD    299\n",
      "GBP     55\n",
      "EUR     19\n",
      "CAD     19\n",
      "AUD     10\n",
      "MXN      6\n",
      "HKD      6\n",
      "JPY      3\n",
      "NZD      3\n",
      "DKK      2\n",
      "SEK      1\n",
      "NOK      1\n",
      "SGD      1\n",
      "Name: currency, dtype: int64 \n",
      "\n",
      "$     344\n",
      "£      55\n",
      "€      19\n",
      "kr      4\n",
      "¥       3\n",
      "Name: currency_symbol, dtype: int64 \n",
      "\n",
      "True     348\n",
      "False     77\n",
      "Name: currency_trailing_code, dtype: int64 \n",
      "\n",
      "USD    425\n",
      "Name: current_currency, dtype: int64 \n",
      "\n",
      "1425160800    2\n",
      "1505042431    1\n",
      "1488764256    1\n",
      "1626952002    1\n",
      "1424734672    1\n",
      "             ..\n",
      "1424025267    1\n",
      "1490569910    1\n",
      "1420081200    1\n",
      "1418281380    1\n",
      "1631157248    1\n",
      "Name: deadline, Length: 424, dtype: int64 \n",
      "\n",
      "False    425\n",
      "Name: disable_communication, dtype: int64 \n",
      "\n",
      "Series([], Name: friends, dtype: int64) \n",
      "\n",
      "1.000000    299\n",
      "1.380491     55\n",
      "1.180539     19\n",
      "0.788182     19\n",
      "0.732100     10\n",
      "0.128555      6\n",
      "0.050296      6\n",
      "0.009123      3\n",
      "0.709381      3\n",
      "0.158767      2\n",
      "0.116116      1\n",
      "0.115591      1\n",
      "0.744452      1\n",
      "Name: fx_rate, dtype: int64 \n",
      "\n",
      "5000     41\n",
      "10000    26\n",
      "2000     21\n",
      "1500     20\n",
      "15000    17\n",
      "         ..\n",
      "87338     1\n",
      "51000     1\n",
      "10057     1\n",
      "68280     1\n",
      "1025      1\n",
      "Name: goal, Length: 131, dtype: int64 \n",
      "\n",
      "556052478     1\n",
      "813033793     1\n",
      "313235790     1\n",
      "44920560      1\n",
      "1113095505    1\n",
      "             ..\n",
      "1619356367    1\n",
      "608530034     1\n",
      "943743698     1\n",
      "741334739     1\n",
      "1314269189    1\n",
      "Name: id, Length: 425, dtype: int64 \n",
      "\n",
      "Series([], Name: is_backing, dtype: int64) \n",
      "\n",
      "False    425\n",
      "Name: is_starrable, dtype: int64 \n",
      "\n",
      "Series([], Name: is_starred, dtype: int64) \n",
      "\n",
      "1497824252    1\n",
      "1409945941    1\n",
      "1464456539    1\n",
      "1621369180    1\n",
      "1430425950    1\n",
      "             ..\n",
      "1497919183    1\n",
      "1426186960    1\n",
      "1428943571    1\n",
      "1460589268    1\n",
      "1425598467    1\n",
      "Name: launched_at, Length: 425, dtype: int64 \n",
      "\n",
      "{\"id\":44418,\"name\":\"London\",\"slug\":\"london-gb\",\"short_name\":\"London, UK\",\"displayable_name\":\"London, UK\",\"localized_name\":\"London\",\"country\":\"GB\",\"state\":\"England\",\"type\":\"Town\",\"is_root\":false,\"expanded_country\":\"United Kingdom\",\"urls\":{\"web\":{\"discover\":\"https://www.kickstarter.com/discover/places/london-gb\",\"location\":\"https://www.kickstarter.com/locations/london-gb\"},\"api\":{\"nearby_projects\":\"https://api.kickstarter.com/v1/discover?signature=1631820236.939a13217ff2459ba67c5b3567cd90179fcb25fe&woe_id=44418\"}}}                                                                          21\n",
      "{\"id\":2442047,\"name\":\"Los Angeles\",\"slug\":\"los-angeles-ca\",\"short_name\":\"Los Angeles, CA\",\"displayable_name\":\"Los Angeles, CA\",\"localized_name\":\"Los Angeles\",\"country\":\"US\",\"state\":\"CA\",\"type\":\"Town\",\"is_root\":false,\"expanded_country\":\"United States\",\"urls\":{\"web\":{\"discover\":\"https://www.kickstarter.com/discover/places/los-angeles-ca\",\"location\":\"https://www.kickstarter.com/locations/los-angeles-ca\"},\"api\":{\"nearby_projects\":\"https://api.kickstarter.com/v1/discover?signature=1631820232.72d11093c8561e13ae9deb1a812639ccade6fe51&woe_id=2442047\"}}}                                         17\n",
      "{\"id\":2379574,\"name\":\"Chicago\",\"slug\":\"chicago-il\",\"short_name\":\"Chicago, IL\",\"displayable_name\":\"Chicago, IL\",\"localized_name\":\"Chicago\",\"country\":\"US\",\"state\":\"IL\",\"type\":\"Town\",\"is_root\":false,\"expanded_country\":\"United States\",\"urls\":{\"web\":{\"discover\":\"https://www.kickstarter.com/discover/places/chicago-il\",\"location\":\"https://www.kickstarter.com/locations/chicago-il\"},\"api\":{\"nearby_projects\":\"https://api.kickstarter.com/v1/discover?signature=1631819283.66b4399a833b5184c9bc64f539c48e711208e0d5&woe_id=2379574\"}}}                                                                     11\n",
      "{\"id\":2459115,\"name\":\"New York\",\"slug\":\"new-york-ny\",\"short_name\":\"New York, NY\",\"displayable_name\":\"New York, NY\",\"localized_name\":\"New York\",\"country\":\"US\",\"state\":\"NY\",\"type\":\"Town\",\"is_root\":false,\"expanded_country\":\"United States\",\"urls\":{\"web\":{\"discover\":\"https://www.kickstarter.com/discover/places/new-york-ny\",\"location\":\"https://www.kickstarter.com/locations/new-york-ny\"},\"api\":{\"nearby_projects\":\"https://api.kickstarter.com/v1/discover?signature=1631820243.413b1930a0d5009a2a8f3d1ed5472b965d86d2ab&woe_id=2459115\"}}}                                                              11\n",
      "{\"id\":19344,\"name\":\"Edinburgh\",\"slug\":\"edinburgh-gb\",\"short_name\":\"Edinburgh, UK\",\"displayable_name\":\"Edinburgh, UK\",\"localized_name\":\"Edinburgh\",\"country\":\"GB\",\"state\":\"Scotland\",\"type\":\"Town\",\"is_root\":false,\"expanded_country\":\"United Kingdom\",\"urls\":{\"web\":{\"discover\":\"https://www.kickstarter.com/discover/places/edinburgh-gb\",\"location\":\"https://www.kickstarter.com/locations/edinburgh-gb\"},\"api\":{\"nearby_projects\":\"https://api.kickstarter.com/v1/discover?signature=1631819722.6a9359a5181e3a6780b1db13850bbec29aa27e85&woe_id=19344\"}}}                                                    11\n",
      "                                                                                                                                                                                                                                                                                                                                                                                                                                                                                                                                                                                                                ..\n",
      "{\"id\":25211,\"name\":\"Hull\",\"slug\":\"hull-gb\",\"short_name\":\"Hull, UK\",\"displayable_name\":\"Hull, UK\",\"localized_name\":\"Hull\",\"country\":\"GB\",\"state\":\"England\",\"type\":\"Town\",\"is_root\":false,\"expanded_country\":\"United Kingdom\",\"urls\":{\"web\":{\"discover\":\"https://www.kickstarter.com/discover/places/hull-gb\",\"location\":\"https://www.kickstarter.com/locations/hull-gb\"},\"api\":{\"nearby_projects\":\"https://api.kickstarter.com/v1/discover?signature=1631819459.163411f8204ea864b52766e5d4af74c7c8c1c91b&woe_id=25211\"}}}                                                                                         1\n",
      "{\"id\":2427665,\"name\":\"Irvine\",\"slug\":\"irvine-ca\",\"short_name\":\"Irvine, CA\",\"displayable_name\":\"Irvine, CA\",\"localized_name\":\"Irvine\",\"country\":\"US\",\"state\":\"CA\",\"type\":\"Town\",\"is_root\":false,\"expanded_country\":\"United States\",\"urls\":{\"web\":{\"discover\":\"https://www.kickstarter.com/discover/places/irvine-ca\",\"location\":\"https://www.kickstarter.com/locations/irvine-ca\"},\"api\":{\"nearby_projects\":\"https://api.kickstarter.com/v1/discover?signature=1631819328.7c4fc4a2720d283f3b6fa8f7108555435cb668d1&woe_id=2427665\"}}}                                                                             1\n",
      "{\"id\":897819,\"name\":\"Lund\",\"slug\":\"lund-skane-se\",\"short_name\":\"Lund, Sweden\",\"displayable_name\":\"Lund, Sweden\",\"localized_name\":\"Lund\",\"country\":\"SE\",\"state\":\"Skane\",\"type\":\"Town\",\"is_root\":false,\"expanded_country\":\"Sweden\",\"urls\":{\"web\":{\"discover\":\"https://www.kickstarter.com/discover/places/lund-skane-se\",\"location\":\"https://www.kickstarter.com/locations/lund-skane-se\"},\"api\":{\"nearby_projects\":\"https://api.kickstarter.com/v1/discover?signature=1631820529.084b2f8d87ffc2e45e3c942c6d3379ec7569d145&woe_id=897819\"}}}                                                                       1\n",
      "{\"id\":13963,\"name\":\"Bristol\",\"slug\":\"bristol-city-of-bristol-england\",\"short_name\":\"Bristol, UK\",\"displayable_name\":\"Bristol, UK\",\"localized_name\":\"Bristol\",\"country\":\"GB\",\"state\":\"England\",\"type\":\"Town\",\"is_root\":false,\"expanded_country\":\"United Kingdom\",\"urls\":{\"web\":{\"discover\":\"https://www.kickstarter.com/discover/places/bristol-city-of-bristol-england\",\"location\":\"https://www.kickstarter.com/locations/bristol-city-of-bristol-england\"},\"api\":{\"nearby_projects\":\"https://api.kickstarter.com/v1/discover?signature=1631820276.143d3d5b6c7bec93b7e3be9c9e31129b09b64788&woe_id=13963\"}}}     1\n",
      "{\"id\":2487610,\"name\":\"Salt Lake City\",\"slug\":\"salt-lake-city-ut\",\"short_name\":\"Salt Lake City, UT\",\"displayable_name\":\"Salt Lake City, UT\",\"localized_name\":\"Salt Lake City\",\"country\":\"US\",\"state\":\"UT\",\"type\":\"Town\",\"is_root\":false,\"expanded_country\":\"United States\",\"urls\":{\"web\":{\"discover\":\"https://www.kickstarter.com/discover/places/salt-lake-city-ut\",\"location\":\"https://www.kickstarter.com/locations/salt-lake-city-ut\"},\"api\":{\"nearby_projects\":\"https://api.kickstarter.com/v1/discover?signature=1631819716.a4c2c73460965858a3a954eb280b5748788c0677&woe_id=2487610\"}}}                     1\n",
      "Name: location, Length: 255, dtype: int64 \n",
      "\n",
      "\"Las leyendas de la SELVA\" Stories of the Waorani tribe (Canceled)    1\n",
      "Melting Pot Cookbook (Best known recipes from all 50 states)          1\n",
      "Sombulus - A Fantasy Adventure Comic (2015 print run)                 1\n",
      "MIXXTAPE: The Cassette Remastered in High Resolution                  1\n",
      "HELP VACCINE GO TO THE FRINGE!                                        1\n",
      "                                                                     ..\n",
      "Guitares Cavalié – ABSINTHE – hybrid NoBrace acoustic guitar          1\n",
      "Arianna Vance Comic by Tebra                                          1\n",
      "Grassroots Shakespeare's \"The Fantasticks\" Summer 2017                1\n",
      "Floraverse - Seeds: A Mini Story, bringing Book One to Print          1\n",
      "FRESH BREAD for the SOUL                                              1\n",
      "Name: name, Length: 425, dtype: int64 \n",
      "\n",
      "Series([], Name: permissions, dtype: int64) \n",
      "\n",
      "{\"key\":\"assets/017/018/015/ff1ceed202174736ecb62a717c371792_original.jpeg\",\"full\":\"https://ksr-ugc.imgix.net/assets/017/018/015/ff1ceed202174736ecb62a717c371792_original.jpeg?ixlib=rb-4.0.2&crop=faces&w=560&h=315&fit=crop&v=1497363437&auto=format&frame=1&q=92&s=e9e84ccef9943ec3b8b590ed778ff69b\",\"ed\":\"https://ksr-ugc.imgix.net/assets/017/018/015/ff1ceed202174736ecb62a717c371792_original.jpeg?ixlib=rb-4.0.2&crop=faces&w=352&h=198&fit=crop&v=1497363437&auto=format&frame=1&q=92&s=c211706616d479ff243a24059d926e39\",\"med\":\"https://ksr-ugc.imgix.net/assets/017/018/015/ff1ceed202174736ecb62a717c371792_original.jpeg?ixlib=rb-4.0.2&crop=faces&w=272&h=153&fit=crop&v=1497363437&auto=format&frame=1&q=92&s=f3152f2448a0abcfe71ab998c9c5502b\",\"little\":\"https://ksr-ugc.imgix.net/assets/017/018/015/ff1ceed202174736ecb62a717c371792_original.jpeg?ixlib=rb-4.0.2&crop=faces&w=208&h=117&fit=crop&v=1497363437&auto=format&frame=1&q=92&s=2e761fdadc9a46dc34518d544f259c6e\",\"small\":\"https://ksr-ugc.imgix.net/assets/017/018/015/ff1ceed202174736ecb62a717c371792_original.jpeg?ixlib=rb-4.0.2&crop=faces&w=160&h=90&fit=crop&v=1497363437&auto=format&frame=1&q=92&s=d48d698ab16d6ac47b9f5910ac98e430\",\"thumb\":\"https://ksr-ugc.imgix.net/assets/017/018/015/ff1ceed202174736ecb62a717c371792_original.jpeg?ixlib=rb-4.0.2&crop=faces&w=48&h=27&fit=crop&v=1497363437&auto=format&frame=1&q=92&s=253d920fb773147e78fcd60fe8bbbacf\",\"1024x576\":\"https://ksr-ugc.imgix.net/assets/017/018/015/ff1ceed202174736ecb62a717c371792_original.jpeg?ixlib=rb-4.0.2&crop=faces&w=1024&h=576&fit=crop&v=1497363437&auto=format&frame=1&q=92&s=7fd8372d97f81f41a1334b052ff826c7\",\"1536x864\":\"https://ksr-ugc.imgix.net/assets/017/018/015/ff1ceed202174736ecb62a717c371792_original.jpeg?ixlib=rb-4.0.2&crop=faces&w=1552&h=873&fit=crop&v=1497363437&auto=format&frame=1&q=92&s=857e73aa66f1c3061e234414ff531b26\"}    1\n",
      "{\"key\":\"assets/015/274/070/21635a97b5a3d76a491c45259f44db78_original.png\",\"full\":\"https://ksr-ugc.imgix.net/assets/015/274/070/21635a97b5a3d76a491c45259f44db78_original.png?ixlib=rb-4.0.2&crop=faces&w=560&h=315&fit=crop&v=1485287203&auto=format&frame=1&q=92&s=9255a12c7f47b42eb677cad4bc939903\",\"ed\":\"https://ksr-ugc.imgix.net/assets/015/274/070/21635a97b5a3d76a491c45259f44db78_original.png?ixlib=rb-4.0.2&crop=faces&w=352&h=198&fit=crop&v=1485287203&auto=format&frame=1&q=92&s=63273c89ecd5dcd4ad95559ef08cf1e2\",\"med\":\"https://ksr-ugc.imgix.net/assets/015/274/070/21635a97b5a3d76a491c45259f44db78_original.png?ixlib=rb-4.0.2&crop=faces&w=272&h=153&fit=crop&v=1485287203&auto=format&frame=1&q=92&s=2e36dc5e075cc74d97d5c273c2ac1907\",\"little\":\"https://ksr-ugc.imgix.net/assets/015/274/070/21635a97b5a3d76a491c45259f44db78_original.png?ixlib=rb-4.0.2&crop=faces&w=208&h=117&fit=crop&v=1485287203&auto=format&frame=1&q=92&s=b093c7e18b56b91cdb2957b21aa5f1fc\",\"small\":\"https://ksr-ugc.imgix.net/assets/015/274/070/21635a97b5a3d76a491c45259f44db78_original.png?ixlib=rb-4.0.2&crop=faces&w=160&h=90&fit=crop&v=1485287203&auto=format&frame=1&q=92&s=9b9134f54523e97a675f28bb96d42148\",\"thumb\":\"https://ksr-ugc.imgix.net/assets/015/274/070/21635a97b5a3d76a491c45259f44db78_original.png?ixlib=rb-4.0.2&crop=faces&w=48&h=27&fit=crop&v=1485287203&auto=format&frame=1&q=92&s=45efba13722f7ac0c0786a6bbbea8d29\",\"1024x576\":\"https://ksr-ugc.imgix.net/assets/015/274/070/21635a97b5a3d76a491c45259f44db78_original.png?ixlib=rb-4.0.2&crop=faces&w=1024&h=576&fit=crop&v=1485287203&auto=format&frame=1&q=92&s=a04f929796ea200d56dc6254a5111d99\",\"1536x864\":\"https://ksr-ugc.imgix.net/assets/015/274/070/21635a97b5a3d76a491c45259f44db78_original.png?ixlib=rb-4.0.2&crop=faces&w=1552&h=873&fit=crop&v=1485287203&auto=format&frame=1&q=92&s=c016149e8bb2f05dd34122199e221e5c\"}             1\n",
      "{\"key\":\"assets/033/537/446/b8bfabfaeab0fb16179692b7c80ee1d4_original.png\",\"full\":\"https://ksr-ugc.imgix.net/assets/033/537/446/b8bfabfaeab0fb16179692b7c80ee1d4_original.png?ixlib=rb-4.0.2&crop=faces&w=560&h=315&fit=crop&v=1621229312&auto=format&frame=1&q=92&s=cf62aeaa98034214cb2afae005e7d81a\",\"ed\":\"https://ksr-ugc.imgix.net/assets/033/537/446/b8bfabfaeab0fb16179692b7c80ee1d4_original.png?ixlib=rb-4.0.2&crop=faces&w=352&h=198&fit=crop&v=1621229312&auto=format&frame=1&q=92&s=434885019182aba5a2daad61e5de63a6\",\"med\":\"https://ksr-ugc.imgix.net/assets/033/537/446/b8bfabfaeab0fb16179692b7c80ee1d4_original.png?ixlib=rb-4.0.2&crop=faces&w=272&h=153&fit=crop&v=1621229312&auto=format&frame=1&q=92&s=125b895992b1ae2dfa6b60f1a0af94fd\",\"little\":\"https://ksr-ugc.imgix.net/assets/033/537/446/b8bfabfaeab0fb16179692b7c80ee1d4_original.png?ixlib=rb-4.0.2&crop=faces&w=208&h=117&fit=crop&v=1621229312&auto=format&frame=1&q=92&s=1501c2bbae49d80b41af0bb936705f8c\",\"small\":\"https://ksr-ugc.imgix.net/assets/033/537/446/b8bfabfaeab0fb16179692b7c80ee1d4_original.png?ixlib=rb-4.0.2&crop=faces&w=160&h=90&fit=crop&v=1621229312&auto=format&frame=1&q=92&s=9bdab8fe02606e7ef9dacbae93dc27d6\",\"thumb\":\"https://ksr-ugc.imgix.net/assets/033/537/446/b8bfabfaeab0fb16179692b7c80ee1d4_original.png?ixlib=rb-4.0.2&crop=faces&w=48&h=27&fit=crop&v=1621229312&auto=format&frame=1&q=92&s=6820f92d58d595cb1a5b99923747358f\",\"1024x576\":\"https://ksr-ugc.imgix.net/assets/033/537/446/b8bfabfaeab0fb16179692b7c80ee1d4_original.png?ixlib=rb-4.0.2&crop=faces&w=1024&h=576&fit=crop&v=1621229312&auto=format&frame=1&q=92&s=c63f191936772161d74cf5a3ba936bba\",\"1536x864\":\"https://ksr-ugc.imgix.net/assets/033/537/446/b8bfabfaeab0fb16179692b7c80ee1d4_original.png?ixlib=rb-4.0.2&crop=faces&w=1552&h=873&fit=crop&v=1621229312&auto=format&frame=1&q=92&s=74b75dd64aa1a57ebde4aa70a60a6faa\"}             1\n",
      "{\"key\":\"assets/016/711/958/94f76b156f50074bf7ad07be8eba3e28_original.jpg\",\"full\":\"https://ksr-ugc.imgix.net/assets/016/711/958/94f76b156f50074bf7ad07be8eba3e28_original.jpg?ixlib=rb-4.0.2&crop=faces&w=560&h=315&fit=crop&v=1495034704&auto=format&frame=1&q=92&s=303344074f216d488ab26dd79516cc6b\",\"ed\":\"https://ksr-ugc.imgix.net/assets/016/711/958/94f76b156f50074bf7ad07be8eba3e28_original.jpg?ixlib=rb-4.0.2&crop=faces&w=352&h=198&fit=crop&v=1495034704&auto=format&frame=1&q=92&s=9db66ea7ef2aa7d724ffff4288c65ad6\",\"med\":\"https://ksr-ugc.imgix.net/assets/016/711/958/94f76b156f50074bf7ad07be8eba3e28_original.jpg?ixlib=rb-4.0.2&crop=faces&w=272&h=153&fit=crop&v=1495034704&auto=format&frame=1&q=92&s=2c2d58025bba4979cf5715d69e831336\",\"little\":\"https://ksr-ugc.imgix.net/assets/016/711/958/94f76b156f50074bf7ad07be8eba3e28_original.jpg?ixlib=rb-4.0.2&crop=faces&w=208&h=117&fit=crop&v=1495034704&auto=format&frame=1&q=92&s=0ceecbdcc8f4162a9166b5cc8f7be2e6\",\"small\":\"https://ksr-ugc.imgix.net/assets/016/711/958/94f76b156f50074bf7ad07be8eba3e28_original.jpg?ixlib=rb-4.0.2&crop=faces&w=160&h=90&fit=crop&v=1495034704&auto=format&frame=1&q=92&s=3ea8327528cdb0c72101465bb61a3e3c\",\"thumb\":\"https://ksr-ugc.imgix.net/assets/016/711/958/94f76b156f50074bf7ad07be8eba3e28_original.jpg?ixlib=rb-4.0.2&crop=faces&w=48&h=27&fit=crop&v=1495034704&auto=format&frame=1&q=92&s=3c2331c14e817708135e72aa1a32497f\",\"1024x576\":\"https://ksr-ugc.imgix.net/assets/016/711/958/94f76b156f50074bf7ad07be8eba3e28_original.jpg?ixlib=rb-4.0.2&crop=faces&w=1024&h=576&fit=crop&v=1495034704&auto=format&frame=1&q=92&s=ab6ef017df682570b0c4186342201880\",\"1536x864\":\"https://ksr-ugc.imgix.net/assets/016/711/958/94f76b156f50074bf7ad07be8eba3e28_original.jpg?ixlib=rb-4.0.2&crop=faces&w=1552&h=873&fit=crop&v=1495034704&auto=format&frame=1&q=92&s=ab382685a1cf39bab038b985225b6741\"}             1\n",
      "{\"key\":\"assets/011/983/084/368a8d111570e48a69f4f6dd70cc5d0e_original.jpg\",\"full\":\"https://ksr-ugc.imgix.net/assets/011/983/084/368a8d111570e48a69f4f6dd70cc5d0e_original.jpg?ixlib=rb-4.0.2&crop=faces&w=560&h=315&fit=crop&v=1463721380&auto=format&frame=1&q=92&s=c2441579ca6251e2848a0239fd3df9db\",\"ed\":\"https://ksr-ugc.imgix.net/assets/011/983/084/368a8d111570e48a69f4f6dd70cc5d0e_original.jpg?ixlib=rb-4.0.2&crop=faces&w=352&h=198&fit=crop&v=1463721380&auto=format&frame=1&q=92&s=2a3cd17e4560c0a679b6095a53b2fc07\",\"med\":\"https://ksr-ugc.imgix.net/assets/011/983/084/368a8d111570e48a69f4f6dd70cc5d0e_original.jpg?ixlib=rb-4.0.2&crop=faces&w=272&h=153&fit=crop&v=1463721380&auto=format&frame=1&q=92&s=029cf57ef7c89720884201ee7e60a573\",\"little\":\"https://ksr-ugc.imgix.net/assets/011/983/084/368a8d111570e48a69f4f6dd70cc5d0e_original.jpg?ixlib=rb-4.0.2&crop=faces&w=208&h=117&fit=crop&v=1463721380&auto=format&frame=1&q=92&s=f92e1086abfa65b8389ea2edc7672f43\",\"small\":\"https://ksr-ugc.imgix.net/assets/011/983/084/368a8d111570e48a69f4f6dd70cc5d0e_original.jpg?ixlib=rb-4.0.2&crop=faces&w=160&h=90&fit=crop&v=1463721380&auto=format&frame=1&q=92&s=4c18ee083144420001489ddf690af59d\",\"thumb\":\"https://ksr-ugc.imgix.net/assets/011/983/084/368a8d111570e48a69f4f6dd70cc5d0e_original.jpg?ixlib=rb-4.0.2&crop=faces&w=48&h=27&fit=crop&v=1463721380&auto=format&frame=1&q=92&s=5b48472ccaf0d0777ae194b30e15d502\",\"1024x576\":\"https://ksr-ugc.imgix.net/assets/011/983/084/368a8d111570e48a69f4f6dd70cc5d0e_original.jpg?ixlib=rb-4.0.2&crop=faces&w=1024&h=576&fit=crop&v=1463721380&auto=format&frame=1&q=92&s=e8f57e2e8a0264033c16a283e090d83c\",\"1536x864\":\"https://ksr-ugc.imgix.net/assets/011/983/084/368a8d111570e48a69f4f6dd70cc5d0e_original.jpg?ixlib=rb-4.0.2&crop=faces&w=1552&h=873&fit=crop&v=1463721380&auto=format&frame=1&q=92&s=29b0fd8560bf704c3642536a4368a9e3\"}             1\n",
      "                                                                                                                                                                                                                                                                                                                                                                                                                                                                                                                                                                                                                                                                                                                                                                                                                                                                                                                                                                                                                                                                                                                                                                                                                                                                                                                                                                                                                                                                                                                                                                                                                                                                                                                                                                                                                                                                                                                              ..\n",
      "{\"key\":\"assets/017/908/300/57a1ac4c873afd2eb59e319ba174fb81_original.jpg\",\"full\":\"https://ksr-ugc.imgix.net/assets/017/908/300/57a1ac4c873afd2eb59e319ba174fb81_original.jpg?ixlib=rb-4.0.2&crop=faces&w=560&h=315&fit=crop&v=1506220095&auto=format&frame=1&q=92&s=eea9a3e8c8eacf56f0b1d1cb487d056b\",\"ed\":\"https://ksr-ugc.imgix.net/assets/017/908/300/57a1ac4c873afd2eb59e319ba174fb81_original.jpg?ixlib=rb-4.0.2&crop=faces&w=352&h=198&fit=crop&v=1506220095&auto=format&frame=1&q=92&s=f04e0f767da0954df5db47ca75cbf0ed\",\"med\":\"https://ksr-ugc.imgix.net/assets/017/908/300/57a1ac4c873afd2eb59e319ba174fb81_original.jpg?ixlib=rb-4.0.2&crop=faces&w=272&h=153&fit=crop&v=1506220095&auto=format&frame=1&q=92&s=3aae4dd102a8c716a8b594300e9ddf0b\",\"little\":\"https://ksr-ugc.imgix.net/assets/017/908/300/57a1ac4c873afd2eb59e319ba174fb81_original.jpg?ixlib=rb-4.0.2&crop=faces&w=208&h=117&fit=crop&v=1506220095&auto=format&frame=1&q=92&s=d9a6667a598675d3a4ad1c6eb70d29d7\",\"small\":\"https://ksr-ugc.imgix.net/assets/017/908/300/57a1ac4c873afd2eb59e319ba174fb81_original.jpg?ixlib=rb-4.0.2&crop=faces&w=160&h=90&fit=crop&v=1506220095&auto=format&frame=1&q=92&s=8bad8c502508127880c0521536edd60c\",\"thumb\":\"https://ksr-ugc.imgix.net/assets/017/908/300/57a1ac4c873afd2eb59e319ba174fb81_original.jpg?ixlib=rb-4.0.2&crop=faces&w=48&h=27&fit=crop&v=1506220095&auto=format&frame=1&q=92&s=05bb2b82ce43e8a3cfb76ae87088608c\",\"1024x576\":\"https://ksr-ugc.imgix.net/assets/017/908/300/57a1ac4c873afd2eb59e319ba174fb81_original.jpg?ixlib=rb-4.0.2&crop=faces&w=1024&h=576&fit=crop&v=1506220095&auto=format&frame=1&q=92&s=0c30e6e406a6a75dbff36c5f7a86e98e\",\"1536x864\":\"https://ksr-ugc.imgix.net/assets/017/908/300/57a1ac4c873afd2eb59e319ba174fb81_original.jpg?ixlib=rb-4.0.2&crop=faces&w=1552&h=873&fit=crop&v=1506220095&auto=format&frame=1&q=92&s=841ae8db709d868e750fac6d427e3a4c\"}             1\n",
      "{\"key\":\"assets/016/668/017/f2a510643e8b877420e1e8ff7ea84886_original.jpg\",\"full\":\"https://ksr-ugc.imgix.net/assets/016/668/017/f2a510643e8b877420e1e8ff7ea84886_original.jpg?ixlib=rb-4.0.2&crop=faces&w=560&h=315&fit=crop&v=1496189374&auto=format&frame=1&q=92&s=8abf7ef8fbd6af73262eaf04fead8eda\",\"ed\":\"https://ksr-ugc.imgix.net/assets/016/668/017/f2a510643e8b877420e1e8ff7ea84886_original.jpg?ixlib=rb-4.0.2&crop=faces&w=352&h=198&fit=crop&v=1496189374&auto=format&frame=1&q=92&s=ab311829476f7e15c75e6c6bd9f69b7c\",\"med\":\"https://ksr-ugc.imgix.net/assets/016/668/017/f2a510643e8b877420e1e8ff7ea84886_original.jpg?ixlib=rb-4.0.2&crop=faces&w=272&h=153&fit=crop&v=1496189374&auto=format&frame=1&q=92&s=fc975a36d9ca52d0e39cb3f448f4535a\",\"little\":\"https://ksr-ugc.imgix.net/assets/016/668/017/f2a510643e8b877420e1e8ff7ea84886_original.jpg?ixlib=rb-4.0.2&crop=faces&w=208&h=117&fit=crop&v=1496189374&auto=format&frame=1&q=92&s=333843ca742256d5a56a177e7055e2ab\",\"small\":\"https://ksr-ugc.imgix.net/assets/016/668/017/f2a510643e8b877420e1e8ff7ea84886_original.jpg?ixlib=rb-4.0.2&crop=faces&w=160&h=90&fit=crop&v=1496189374&auto=format&frame=1&q=92&s=46115a0bbd97d0ea592f3a43daddbb64\",\"thumb\":\"https://ksr-ugc.imgix.net/assets/016/668/017/f2a510643e8b877420e1e8ff7ea84886_original.jpg?ixlib=rb-4.0.2&crop=faces&w=48&h=27&fit=crop&v=1496189374&auto=format&frame=1&q=92&s=19ba1bdaee27222ea7a8209dc39ea14a\",\"1024x576\":\"https://ksr-ugc.imgix.net/assets/016/668/017/f2a510643e8b877420e1e8ff7ea84886_original.jpg?ixlib=rb-4.0.2&crop=faces&w=1024&h=576&fit=crop&v=1496189374&auto=format&frame=1&q=92&s=fcb351d415ce7d1be3cac7cfe11548d6\",\"1536x864\":\"https://ksr-ugc.imgix.net/assets/016/668/017/f2a510643e8b877420e1e8ff7ea84886_original.jpg?ixlib=rb-4.0.2&crop=faces&w=1552&h=873&fit=crop&v=1496189374&auto=format&frame=1&q=92&s=fcdbc9847a17aa8b59bc22f1da6d1c6a\"}             1\n",
      "{\"key\":\"assets/012/099/863/75002d0ce40b440121c46fa8ae366983_original.png\",\"full\":\"https://ksr-ugc.imgix.net/assets/012/099/863/75002d0ce40b440121c46fa8ae366983_original.png?ixlib=rb-4.0.2&crop=faces&w=560&h=315&fit=crop&v=1463737240&auto=format&frame=1&q=92&s=aed0e6ebfe8b5eeed3772a0efef444f6\",\"ed\":\"https://ksr-ugc.imgix.net/assets/012/099/863/75002d0ce40b440121c46fa8ae366983_original.png?ixlib=rb-4.0.2&crop=faces&w=352&h=198&fit=crop&v=1463737240&auto=format&frame=1&q=92&s=b05d7820685855df3f265f1ebd6aaf97\",\"med\":\"https://ksr-ugc.imgix.net/assets/012/099/863/75002d0ce40b440121c46fa8ae366983_original.png?ixlib=rb-4.0.2&crop=faces&w=272&h=153&fit=crop&v=1463737240&auto=format&frame=1&q=92&s=6953bb1a629767e3fd536995d5d26b57\",\"little\":\"https://ksr-ugc.imgix.net/assets/012/099/863/75002d0ce40b440121c46fa8ae366983_original.png?ixlib=rb-4.0.2&crop=faces&w=208&h=117&fit=crop&v=1463737240&auto=format&frame=1&q=92&s=53bc80b9e42778d691bd0b634967f276\",\"small\":\"https://ksr-ugc.imgix.net/assets/012/099/863/75002d0ce40b440121c46fa8ae366983_original.png?ixlib=rb-4.0.2&crop=faces&w=160&h=90&fit=crop&v=1463737240&auto=format&frame=1&q=92&s=b121cb3b04ee76ae4c850d51cf077d38\",\"thumb\":\"https://ksr-ugc.imgix.net/assets/012/099/863/75002d0ce40b440121c46fa8ae366983_original.png?ixlib=rb-4.0.2&crop=faces&w=48&h=27&fit=crop&v=1463737240&auto=format&frame=1&q=92&s=78f6e9677c5894d06a9ae3afc5656324\",\"1024x576\":\"https://ksr-ugc.imgix.net/assets/012/099/863/75002d0ce40b440121c46fa8ae366983_original.png?ixlib=rb-4.0.2&crop=faces&w=1024&h=576&fit=crop&v=1463737240&auto=format&frame=1&q=92&s=a4ea838d037114b11a9114767b0c77f7\",\"1536x864\":\"https://ksr-ugc.imgix.net/assets/012/099/863/75002d0ce40b440121c46fa8ae366983_original.png?ixlib=rb-4.0.2&crop=faces&w=1552&h=873&fit=crop&v=1463737240&auto=format&frame=1&q=92&s=d6ca2a769d04d8ec3002456a3bffc868\"}             1\n",
      "{\"key\":\"assets/012/074/140/37f536541b19de3eeddbc45acc9cfb68_original.png\",\"full\":\"https://ksr-ugc.imgix.net/assets/012/074/140/37f536541b19de3eeddbc45acc9cfb68_original.png?ixlib=rb-4.0.2&crop=faces&w=560&h=315&fit=crop&v=1463729734&auto=format&frame=1&q=92&s=faffe8e1128a194a20e40749211423ad\",\"ed\":\"https://ksr-ugc.imgix.net/assets/012/074/140/37f536541b19de3eeddbc45acc9cfb68_original.png?ixlib=rb-4.0.2&crop=faces&w=352&h=198&fit=crop&v=1463729734&auto=format&frame=1&q=92&s=66c5976ab2ebe6cbd23b7727d7de377e\",\"med\":\"https://ksr-ugc.imgix.net/assets/012/074/140/37f536541b19de3eeddbc45acc9cfb68_original.png?ixlib=rb-4.0.2&crop=faces&w=272&h=153&fit=crop&v=1463729734&auto=format&frame=1&q=92&s=f271f7342a3acbfa9f03b57e2491257c\",\"little\":\"https://ksr-ugc.imgix.net/assets/012/074/140/37f536541b19de3eeddbc45acc9cfb68_original.png?ixlib=rb-4.0.2&crop=faces&w=208&h=117&fit=crop&v=1463729734&auto=format&frame=1&q=92&s=7d24d09072824100886e27b79b29eb75\",\"small\":\"https://ksr-ugc.imgix.net/assets/012/074/140/37f536541b19de3eeddbc45acc9cfb68_original.png?ixlib=rb-4.0.2&crop=faces&w=160&h=90&fit=crop&v=1463729734&auto=format&frame=1&q=92&s=4d2671dfca81d8586f4c43f174143162\",\"thumb\":\"https://ksr-ugc.imgix.net/assets/012/074/140/37f536541b19de3eeddbc45acc9cfb68_original.png?ixlib=rb-4.0.2&crop=faces&w=48&h=27&fit=crop&v=1463729734&auto=format&frame=1&q=92&s=279d8baf2276c2fd0a0aa848e4283738\",\"1024x576\":\"https://ksr-ugc.imgix.net/assets/012/074/140/37f536541b19de3eeddbc45acc9cfb68_original.png?ixlib=rb-4.0.2&crop=faces&w=1024&h=576&fit=crop&v=1463729734&auto=format&frame=1&q=92&s=86cd8ff3baef4adf82f7a62e0b91b01e\",\"1536x864\":\"https://ksr-ugc.imgix.net/assets/012/074/140/37f536541b19de3eeddbc45acc9cfb68_original.png?ixlib=rb-4.0.2&crop=faces&w=1552&h=873&fit=crop&v=1463729734&auto=format&frame=1&q=92&s=16f0e7129f54e6798973feb9e73e56f4\"}             1\n",
      "{\"key\":\"assets/013/573/590/9f217a22a7eacf1fc9fbcfadfb10ff79_original.png\",\"full\":\"https://ksr-ugc.imgix.net/assets/013/573/590/9f217a22a7eacf1fc9fbcfadfb10ff79_original.png?ixlib=rb-4.0.2&crop=faces&w=560&h=315&fit=crop&v=1478277591&auto=format&frame=1&q=92&s=e7f474d0124cfafa7ae5fd1764e62b7b\",\"ed\":\"https://ksr-ugc.imgix.net/assets/013/573/590/9f217a22a7eacf1fc9fbcfadfb10ff79_original.png?ixlib=rb-4.0.2&crop=faces&w=352&h=198&fit=crop&v=1478277591&auto=format&frame=1&q=92&s=4940f31c2683ae72c5c4d4ca67f61177\",\"med\":\"https://ksr-ugc.imgix.net/assets/013/573/590/9f217a22a7eacf1fc9fbcfadfb10ff79_original.png?ixlib=rb-4.0.2&crop=faces&w=272&h=153&fit=crop&v=1478277591&auto=format&frame=1&q=92&s=87d04bc299b5de8d5de7bb380cc464aa\",\"little\":\"https://ksr-ugc.imgix.net/assets/013/573/590/9f217a22a7eacf1fc9fbcfadfb10ff79_original.png?ixlib=rb-4.0.2&crop=faces&w=208&h=117&fit=crop&v=1478277591&auto=format&frame=1&q=92&s=bf9cab9b4dacc3a43c9de708e70ed4cf\",\"small\":\"https://ksr-ugc.imgix.net/assets/013/573/590/9f217a22a7eacf1fc9fbcfadfb10ff79_original.png?ixlib=rb-4.0.2&crop=faces&w=160&h=90&fit=crop&v=1478277591&auto=format&frame=1&q=92&s=d102e8c7878ef53cc9a8eaabd0b360ca\",\"thumb\":\"https://ksr-ugc.imgix.net/assets/013/573/590/9f217a22a7eacf1fc9fbcfadfb10ff79_original.png?ixlib=rb-4.0.2&crop=faces&w=48&h=27&fit=crop&v=1478277591&auto=format&frame=1&q=92&s=d5fc0e094d02fe7eff39428fae36a15e\",\"1024x576\":\"https://ksr-ugc.imgix.net/assets/013/573/590/9f217a22a7eacf1fc9fbcfadfb10ff79_original.png?ixlib=rb-4.0.2&crop=faces&w=1024&h=576&fit=crop&v=1478277591&auto=format&frame=1&q=92&s=4e686b9a5b0412b1abe5180760faa850\",\"1536x864\":\"https://ksr-ugc.imgix.net/assets/013/573/590/9f217a22a7eacf1fc9fbcfadfb10ff79_original.png?ixlib=rb-4.0.2&crop=faces&w=1552&h=873&fit=crop&v=1478277591&auto=format&frame=1&q=92&s=99045293a9f9236bb6b4820d8c6220bc\"}             1\n",
      "Name: photo, Length: 425, dtype: int64 \n",
      "\n",
      "0.00        53\n",
      "1.00        26\n",
      "10.00        8\n",
      "2.00         5\n",
      "11.00        4\n",
      "            ..\n",
      "5701.00      1\n",
      "18520.00     1\n",
      "7389.55      1\n",
      "44546.00     1\n",
      "1653.00      1\n",
      "Name: pledged, Length: 303, dtype: int64 \n",
      "\n",
      "{\"id\":2984350,\"project_id\":2984350,\"state\":\"inactive\",\"state_changed_at\":1493728961,\"name\":null,\"blurb\":null,\"background_color\":null,\"text_color\":null,\"link_background_color\":null,\"link_text_color\":null,\"link_text\":null,\"link_url\":null,\"show_feature_image\":false,\"background_image_opacity\":0.8,\"should_show_feature_image_section\":true,\"feature_image_attributes\":{\"image_urls\":{\"default\":\"https://ksr-ugc.imgix.net/assets/016/492/535/dc78c9fc1f594b63990674e32d799510_original.jpg?ixlib=rb-4.0.2&crop=faces&w=1552&h=873&fit=crop&v=1496139783&auto=format&frame=1&q=92&s=5b7e053484439e9340042200d3a15dab\",\"baseball_card\":\"https://ksr-ugc.imgix.net/assets/016/492/535/dc78c9fc1f594b63990674e32d799510_original.jpg?ixlib=rb-4.0.2&crop=faces&w=560&h=315&fit=crop&v=1496139783&auto=format&frame=1&q=92&s=0f4135de14d2d7979923fc328013b2cd\"}}}                                                                                                                                                                                                                                                             1\n",
      "{\"id\":2981951,\"project_id\":2981951,\"state\":\"inactive\",\"state_changed_at\":1493571761,\"name\":null,\"blurb\":null,\"background_color\":null,\"text_color\":null,\"link_background_color\":null,\"link_text_color\":null,\"link_text\":null,\"link_url\":null,\"show_feature_image\":false,\"background_image_opacity\":0.8,\"should_show_feature_image_section\":true,\"feature_image_attributes\":{\"image_urls\":{\"default\":\"https://ksr-ugc.imgix.net/assets/016/637/739/5b7a5110d0201e6c9ed720dc4e15e89c_original.png?ixlib=rb-4.0.2&crop=faces&w=1552&h=873&fit=crop&v=1498612420&auto=format&frame=1&q=92&s=fd473a53a8d8b92d8d912394c1f4d223\",\"baseball_card\":\"https://ksr-ugc.imgix.net/assets/016/637/739/5b7a5110d0201e6c9ed720dc4e15e89c_original.png?ixlib=rb-4.0.2&crop=faces&w=560&h=315&fit=crop&v=1498612420&auto=format&frame=1&q=92&s=87751ecc3c0feb3455310969a55fdc3d\"}}}                                                                                                                                                                                                                                                             1\n",
      "{\"id\":206708,\"project_id\":206708,\"state\":\"inactive\",\"state_changed_at\":1425915811,\"name\":null,\"blurb\":null,\"background_color\":null,\"text_color\":null,\"link_background_color\":null,\"link_text_color\":null,\"link_text\":null,\"link_url\":null,\"show_feature_image\":false,\"background_image_opacity\":0.8,\"should_show_feature_image_section\":true,\"feature_image_attributes\":{\"image_urls\":{\"default\":\"https://ksr-ugc.imgix.net/assets/011/372/579/41f91559dfc18b3c5559d47ffc2e08eb_original.jpg?ixlib=rb-4.0.2&crop=faces&w=1552&h=873&fit=crop&v=1463681687&auto=format&frame=1&q=92&s=2fce1a8a595a6fc6810288e6c1ba7cff\",\"baseball_card\":\"https://ksr-ugc.imgix.net/assets/011/372/579/41f91559dfc18b3c5559d47ffc2e08eb_original.jpg?ixlib=rb-4.0.2&crop=faces&w=560&h=315&fit=crop&v=1463681687&auto=format&frame=1&q=92&s=f612992417e0a452dc1c1ddc2f48b05a\"}}}                                                                                                                                                                                                                                                               1\n",
      "{\"id\":2963200,\"project_id\":2963200,\"state\":\"active\",\"state_changed_at\":1504550502,\"name\":\"'I Capture the Castle' Staged Reading from Dodie Smith novel\",\"blurb\":\"Please note date and venue change!\",\"background_color\":\"\",\"text_color\":\"\",\"link_background_color\":\"\",\"link_text_color\":\"\",\"link_text\":\"Follow along!\",\"link_url\":\"https://www.facebook.com/events/349002995517516/\",\"show_feature_image\":true,\"background_image_opacity\":0.8,\"feature_image_attributes\":{\"id\":18646799,\"image_urls\":{\"default\":\"https://ksr-ugc.imgix.net/assets/018/646/799/8c80a8ff9a519acf5375964b51c57b56_original.jpg?ixlib=rb-4.0.2&w=700&fit=max&v=1507385261&auto=format&frame=1&q=92&s=7a794e81e3e1eda7886b7bfaaf576a00\",\"baseball_card\":\"https://ksr-ugc.imgix.net/assets/018/646/799/8c80a8ff9a519acf5375964b51c57b56_original.jpg?ixlib=rb-4.0.2&crop=faces%2Cedges&w=560&h=315&fit=crop&v=1507385261&auto=format&frame=1&q=92&s=c9a25c52507586b03a9ac62faaff38e5\"}},\"should_show_feature_image_section\":true}                                                                                                                  1\n",
      "{\"id\":3046798,\"project_id\":3046798,\"state\":\"inactive\",\"state_changed_at\":1498024314,\"name\":null,\"blurb\":null,\"background_color\":null,\"text_color\":null,\"link_background_color\":null,\"link_text_color\":null,\"link_text\":null,\"link_url\":null,\"show_feature_image\":false,\"background_image_opacity\":0.8,\"should_show_feature_image_section\":true,\"feature_image_attributes\":{\"image_urls\":{\"default\":\"https://ksr-ugc.imgix.net/assets/017/789/257/494966fb7d1ae933580ab47c98f76a9f_original.png?ixlib=rb-4.0.2&crop=faces&w=1552&h=873&fit=crop&v=1501842157&auto=format&frame=1&q=92&s=1d7862522285a89dd0232c137c5ffccf\",\"baseball_card\":\"https://ksr-ugc.imgix.net/assets/017/789/257/494966fb7d1ae933580ab47c98f76a9f_original.png?ixlib=rb-4.0.2&crop=faces&w=560&h=315&fit=crop&v=1501842157&auto=format&frame=1&q=92&s=38b396313501bef8d06ff6fe8d85cfe2\"}}}                                                                                                                                                                                                                                                             1\n",
      "                                                                                                                                                                                                                                                                                                                                                                                                                                                                                                                                                                                                                                                                                                                                                                                                                                                                                                                                                                                                                                                                                                                            ..\n",
      "{\"id\":2878864,\"project_id\":2878864,\"state\":\"inactive\",\"state_changed_at\":1487090719,\"name\":null,\"blurb\":null,\"background_color\":null,\"text_color\":null,\"link_background_color\":null,\"link_text_color\":null,\"link_text\":null,\"link_url\":null,\"show_feature_image\":false,\"background_image_opacity\":0.8,\"should_show_feature_image_section\":true,\"feature_image_attributes\":{\"image_urls\":{\"default\":\"https://ksr-ugc.imgix.net/assets/015/510/681/fdf9ec2847ec9356104e92ebce264346_original.jpg?ixlib=rb-4.0.2&crop=faces&w=1552&h=873&fit=crop&v=1488396901&auto=format&frame=1&q=92&s=74855f5034c9f69a68ad329e8b1e2881\",\"baseball_card\":\"https://ksr-ugc.imgix.net/assets/015/510/681/fdf9ec2847ec9356104e92ebce264346_original.jpg?ixlib=rb-4.0.2&crop=faces&w=560&h=315&fit=crop&v=1488396901&auto=format&frame=1&q=92&s=f1ce134574eb1cb51aec40a9bce4eccb\"}}}                                                                                                                                                                                                                                                             1\n",
      "{\"id\":4214626,\"project_id\":4214626,\"state\":\"inactive\",\"state_changed_at\":1620703698,\"name\":null,\"blurb\":null,\"background_color\":null,\"text_color\":null,\"link_background_color\":null,\"link_text_color\":null,\"link_text\":null,\"link_url\":null,\"show_feature_image\":false,\"background_image_opacity\":0.8,\"should_show_feature_image_section\":true,\"feature_image_attributes\":{\"image_urls\":{\"default\":\"https://ksr-ugc.imgix.net/assets/033/905/208/3b461cdb9bcabea597278792152ff276_original.jpg?ixlib=rb-4.0.2&crop=faces&w=1552&h=873&fit=crop&v=1623824648&auto=format&frame=1&q=92&s=7021640989e1e8ec55f19063e5cfe6ea\",\"baseball_card\":\"https://ksr-ugc.imgix.net/assets/033/905/208/3b461cdb9bcabea597278792152ff276_original.jpg?ixlib=rb-4.0.2&crop=faces&w=560&h=315&fit=crop&v=1623824648&auto=format&frame=1&q=92&s=0e0563fba7fa3c62398ed16c5ca0c699\"}}}                                                                                                                                                                                                                                                             1\n",
      "{\"id\":4214577,\"project_id\":4214577,\"state\":\"active\",\"state_changed_at\":1627143270,\"name\":\"RimFo: A Transform-Armor For MagSafe Charger\",\"blurb\":\"A slim case can turn into a stand with adjustable height and unlimited angles, truly boost up your MagSafe Charger's full potential.\",\"background_color\":\"\",\"text_color\":\"\",\"link_background_color\":\"\",\"link_text_color\":\"\",\"link_text\":\"Pre-order\",\"link_url\":\"https://www.indiegogo.com/projects/rimfo-a-transform-armor-for-magsafe-charger#/\",\"show_feature_image\":true,\"background_image_opacity\":0.8,\"feature_image_attributes\":{\"id\":34306934,\"image_urls\":{\"default\":\"https://ksr-ugc.imgix.net/assets/034/306/934/aefd2e281d8d8b3874b2dde71b999782_original.jpg?ixlib=rb-4.0.2&w=700&fit=max&v=1627143253&auto=format&frame=1&q=92&s=b15558ca62b0ee314bfa51e55aeb99b6\",\"baseball_card\":\"https://ksr-ugc.imgix.net/assets/034/306/934/aefd2e281d8d8b3874b2dde71b999782_original.jpg?ixlib=rb-4.0.2&crop=faces%2Cedges&w=560&h=315&fit=crop&v=1627143253&auto=format&frame=1&q=92&s=bde985fd135548b30d2a828894e35f46\"}},\"should_show_feature_image_section\":true}    1\n",
      "{\"id\":2021706,\"project_id\":2021706,\"state\":\"inactive\",\"state_changed_at\":1437260059,\"name\":null,\"blurb\":null,\"background_color\":null,\"text_color\":null,\"link_background_color\":null,\"link_text_color\":null,\"link_text\":null,\"link_url\":null,\"show_feature_image\":false,\"background_image_opacity\":0.8,\"should_show_feature_image_section\":true,\"feature_image_attributes\":{\"image_urls\":{\"default\":\"https://ksr-ugc.imgix.net/assets/012/200/840/b5ee4f1cb74994067f32a77b02e70c37_original.png?ixlib=rb-4.0.2&crop=faces&w=1552&h=873&fit=crop&v=1463741485&auto=format&frame=1&q=92&s=3e0c8d0ef741e582bbe03617a38cec56\",\"baseball_card\":\"https://ksr-ugc.imgix.net/assets/012/200/840/b5ee4f1cb74994067f32a77b02e70c37_original.png?ixlib=rb-4.0.2&crop=faces&w=560&h=315&fit=crop&v=1463741485&auto=format&frame=1&q=92&s=4259b853166d0e01f0408b001ef82531\"}}}                                                                                                                                                                                                                                                             1\n",
      "{\"id\":1776295,\"project_id\":1776295,\"state\":\"inactive\",\"state_changed_at\":1426639835,\"name\":null,\"blurb\":null,\"background_color\":null,\"text_color\":null,\"link_background_color\":null,\"link_text_color\":null,\"link_text\":null,\"link_url\":null,\"show_feature_image\":false,\"background_image_opacity\":0.8,\"should_show_feature_image_section\":true,\"feature_image_attributes\":{\"image_urls\":{\"default\":\"https://ksr-ugc.imgix.net/assets/012/072/611/657835876ecbbe2489b98b912c651d3c_original.jpg?ixlib=rb-4.0.2&crop=faces&w=1552&h=873&fit=crop&v=1463729585&auto=format&frame=1&q=92&s=5541b1f4e70024704046b3506c9846a3\",\"baseball_card\":\"https://ksr-ugc.imgix.net/assets/012/072/611/657835876ecbbe2489b98b912c651d3c_original.jpg?ixlib=rb-4.0.2&crop=faces&w=560&h=315&fit=crop&v=1463729585&auto=format&frame=1&q=92&s=3da6cab0cbb13e7324d29329062b4751\"}}}                                                                                                                                                                                                                                                             1\n",
      "Name: profile, Length: 425, dtype: int64 \n",
      "\n",
      "the-prayer-box-heal-the-world-through-voice-of-love    1\n",
      "the-imaginary-marching-band                            1\n",
      "song-spotter                                           1\n",
      "help-me-praise-god                                     1\n",
      "avecsynth-an-arduino-form-factor-midi-music-synthe     1\n",
      "                                                      ..\n",
      "peer-gynt                                              1\n",
      "try-and-review-all-the-microwave-recipes-i-ever-fi     1\n",
      "patchblocks-programmable-mini-synth-modules            1\n",
      "scripted                                               1\n",
      "a-change-in-perspective                                1\n",
      "Name: slug, Length: 425, dtype: int64 \n",
      "\n",
      "https://www.kickstarter.com/discover/categories/technology/sound                  53\n",
      "https://www.kickstarter.com/discover/categories/theater/plays                     48\n",
      "https://www.kickstarter.com/discover/categories/publishing/literary%20journals    48\n",
      "https://www.kickstarter.com/discover/categories/film%20&%20video/comedy           48\n",
      "https://www.kickstarter.com/discover/categories/music/r&b                         48\n",
      "https://www.kickstarter.com/discover/categories/comics/webcomics                  48\n",
      "https://www.kickstarter.com/discover/categories/journalism/audio                  48\n",
      "https://www.kickstarter.com/discover/categories/food/cookbooks                    48\n",
      "https://www.kickstarter.com/discover/categories/design                            36\n",
      "Name: source_url, dtype: int64 \n",
      "\n",
      "False    222\n",
      "True     203\n",
      "Name: spotlight, dtype: int64 \n",
      "\n",
      "False    362\n",
      "True      63\n",
      "Name: staff_pick, dtype: int64 \n",
      "\n",
      "failed        217\n",
      "successful    203\n",
      "canceled        5\n",
      "Name: state, dtype: int64 \n",
      "\n",
      "1425160813    2\n",
      "1505042431    1\n",
      "1497017697    1\n",
      "1486511632    1\n",
      "1499782200    1\n",
      "             ..\n",
      "1408310040    1\n",
      "1326142140    1\n",
      "1438657216    1\n",
      "1427091138    1\n",
      "1426857984    1\n",
      "Name: state_changed_at, Length: 424, dtype: int64 \n",
      "\n",
      "1.000000    299\n",
      "1.185649      4\n",
      "0.128792      3\n",
      "0.801998      3\n",
      "1.309543      2\n",
      "           ... \n",
      "0.009081      1\n",
      "0.772835      1\n",
      "1.282135      1\n",
      "0.048766      1\n",
      "0.722423      1\n",
      "Name: static_usd_rate, Length: 114, dtype: int64 \n",
      "\n",
      "{\"web\":{\"project\":\"https://www.kickstarter.com/projects/322255208/lets-talk-soccer-podcast?ref=discovery_category_newest\",\"rewards\":\"https://www.kickstarter.com/projects/322255208/lets-talk-soccer-podcast/rewards\"}}                                                          1\n",
      "{\"web\":{\"project\":\"https://www.kickstarter.com/projects/miselu/c24-the-music-keyboard-for-ipad?ref=discovery_category_newest\",\"rewards\":\"https://www.kickstarter.com/projects/miselu/c24-the-music-keyboard-for-ipad/rewards\"}}                                                  1\n",
      "{\"web\":{\"project\":\"https://www.kickstarter.com/projects/1864570608/handheld-heaven-an-amazing-collection-of-pie-recip?ref=discovery_category_newest\",\"rewards\":\"https://www.kickstarter.com/projects/1864570608/handheld-heaven-an-amazing-collection-of-pie-recip/rewards\"}}    1\n",
      "{\"web\":{\"project\":\"https://www.kickstarter.com/projects/329551207/seaniemo-radio?ref=discovery_category_newest\",\"rewards\":\"https://www.kickstarter.com/projects/329551207/seaniemo-radio/rewards\"}}                                                                              1\n",
      "{\"web\":{\"project\":\"https://www.kickstarter.com/projects/1727042522/cummunity-food-store-and-scrimpers-site?ref=discovery_category_newest\",\"rewards\":\"https://www.kickstarter.com/projects/1727042522/cummunity-food-store-and-scrimpers-site/rewards\"}}                          1\n",
      "                                                                                                                                                                                                                                                                                ..\n",
      "{\"web\":{\"project\":\"https://www.kickstarter.com/projects/838394658/build-your-own-robot-student-film?ref=discovery_category_newest\",\"rewards\":\"https://www.kickstarter.com/projects/838394658/build-your-own-robot-student-film/rewards\"}}                                        1\n",
      "{\"web\":{\"project\":\"https://www.kickstarter.com/projects/1896578466/a-veterans-answers-for-a-new-amputee?ref=discovery_category_newest\",\"rewards\":\"https://www.kickstarter.com/projects/1896578466/a-veterans-answers-for-a-new-amputee/rewards\"}}                                1\n",
      "{\"web\":{\"project\":\"https://www.kickstarter.com/projects/962505161/voices-to-be-heard?ref=discovery_category_newest\",\"rewards\":\"https://www.kickstarter.com/projects/962505161/voices-to-be-heard/rewards\"}}                                                                      1\n",
      "{\"web\":{\"project\":\"https://www.kickstarter.com/projects/1304658096/unsigned-randb-artist-wants-to-record-ep-to-sumbit?ref=discovery_category_newest\",\"rewards\":\"https://www.kickstarter.com/projects/1304658096/unsigned-randb-artist-wants-to-record-ep-to-sumbit/rewards\"}}    1\n",
      "{\"web\":{\"project\":\"https://www.kickstarter.com/projects/mossbanks/schiz-new-writing-at-edinburgh-fringe?ref=discovery_category_newest\",\"rewards\":\"https://www.kickstarter.com/projects/mossbanks/schiz-new-writing-at-edinburgh-fringe/rewards\"}}                                1\n",
      "Name: urls, Length: 425, dtype: int64 \n",
      "\n",
      "1.000000    299\n",
      "1.179597      3\n",
      "1.296913      3\n",
      "1.239750      1\n",
      "1.492820      1\n",
      "           ... \n",
      "0.805198      1\n",
      "0.055428      1\n",
      "1.217623      1\n",
      "0.149572      1\n",
      "1.188350      1\n",
      "Name: usd_exchange_rate, Length: 123, dtype: int64 \n",
      "\n",
      "0.000000        53\n",
      "1.000000        22\n",
      "10.000000        5\n",
      "2.000000         5\n",
      "11.000000        4\n",
      "                ..\n",
      "65709.900000     1\n",
      "15176.690000     1\n",
      "10610.210000     1\n",
      "270.155658       1\n",
      "2088.299722      1\n",
      "Name: usd_pledged, Length: 322, dtype: int64 \n",
      "\n",
      "international    425\n",
      "Name: usd_type, dtype: int64 \n",
      "\n"
     ]
    }
   ],
   "source": [
    "for col in data:\n",
    "    print(data[col].value_counts(), '\\n')"
   ]
  },
  {
   "cell_type": "markdown",
   "metadata": {},
   "source": [
    "### convert timestamps"
   ]
  },
  {
   "cell_type": "markdown",
   "metadata": {},
   "source": [
    "#### created_at"
   ]
  },
  {
   "cell_type": "code",
   "execution_count": 89,
   "metadata": {},
   "outputs": [],
   "source": [
    "date = []\n",
    "time = []\n",
    "weekday = []\n",
    "\n",
    "for i in df['created_at']:\n",
    "    date.append(datetime.datetime.fromtimestamp(int(i)).strftime('%Y-%m-%d'))\n",
    "    time.append(datetime.datetime.fromtimestamp(int(i)).strftime('%H:%M:%S'))\n",
    "    weekday.append(datetime.datetime.fromtimestamp(int(i)).strftime('%A'))\n",
    "\n",
    "df['created_date'] = date\n",
    "df['created_time'] = time\n",
    "df['created_weekday'] = weekday"
   ]
  },
  {
   "cell_type": "markdown",
   "metadata": {},
   "source": [
    "#### launched_at"
   ]
  },
  {
   "cell_type": "code",
   "execution_count": 90,
   "metadata": {},
   "outputs": [],
   "source": [
    "date = []\n",
    "time = []\n",
    "weekday = []\n",
    "\n",
    "for i in df['launched_at']:\n",
    "    date.append(datetime.datetime.fromtimestamp(int(i)).strftime('%Y-%m-%d'))\n",
    "    time.append(datetime.datetime.fromtimestamp(int(i)).strftime('%H:%M:%S'))\n",
    "    weekday.append(datetime.datetime.fromtimestamp(int(i)).strftime('%A'))\n",
    "\n",
    "df['launched_date'] = date\n",
    "df['launched_time'] = time\n",
    "df['launched_weekday'] = weekday"
   ]
  },
  {
   "cell_type": "markdown",
   "metadata": {},
   "source": [
    "#### deadline"
   ]
  },
  {
   "cell_type": "code",
   "execution_count": 91,
   "metadata": {},
   "outputs": [],
   "source": [
    "date = []\n",
    "time = []\n",
    "weekday = []\n",
    "\n",
    "for i in df['deadline']:\n",
    "    date.append(datetime.datetime.fromtimestamp(int(i)).strftime('%Y-%m-%d'))\n",
    "    time.append(datetime.datetime.fromtimestamp(int(i)).strftime('%H:%M:%S'))\n",
    "    weekday.append(datetime.datetime.fromtimestamp(int(i)).strftime('%A'))\n",
    "\n",
    "df['deadline_date'] = date\n",
    "df['deadline_time'] = time\n",
    "df['deadline_weekday'] = weekday"
   ]
  },
  {
   "cell_type": "markdown",
   "metadata": {},
   "source": [
    "#### add project duration column"
   ]
  },
  {
   "cell_type": "code",
   "execution_count": 92,
   "metadata": {},
   "outputs": [],
   "source": [
    "# time between deadline and launched\n",
    "\n",
    "project_duration = []\n",
    "\n",
    "for i,j in zip(df.deadline, df.launched_at):\n",
    "    a = ((i - j) / 60 / 60 / 24)\n",
    "    project_duration.append(a)\n",
    "    \n",
    "df['project_duration'] = project_duration"
   ]
  },
  {
   "cell_type": "markdown",
   "metadata": {},
   "source": [
    "### goal reached column"
   ]
  },
  {
   "cell_type": "code",
   "execution_count": 93,
   "metadata": {},
   "outputs": [],
   "source": [
    "conditions = [\n",
    "    ((df['goal'] - df['converted_pledged_amount']) > 0),\n",
    "    ((df['goal'] - df['converted_pledged_amount']) <= 0)\n",
    "]\n",
    "\n",
    "values = ['no', 'yes']\n",
    "\n",
    "df['goal_reached'] = np.select(conditions, values)"
   ]
  },
  {
   "cell_type": "code",
   "execution_count": 94,
   "metadata": {},
   "outputs": [
    {
     "data": {
      "text/plain": [
       "yes    36493\n",
       "no     23476\n",
       "Name: goal_reached, dtype: int64"
      ]
     },
     "execution_count": 94,
     "metadata": {},
     "output_type": "execute_result"
    }
   ],
   "source": [
    "df['goal_reached'].value_counts()"
   ]
  },
  {
   "cell_type": "code",
   "execution_count": 95,
   "metadata": {},
   "outputs": [
    {
     "data": {
      "text/plain": [
       "successful    38059\n",
       "failed        17181\n",
       "canceled       2569\n",
       "live           2160\n",
       "Name: state, dtype: int64"
      ]
     },
     "execution_count": 95,
     "metadata": {},
     "output_type": "execute_result"
    }
   ],
   "source": [
    "df['state'].value_counts()"
   ]
  },
  {
   "cell_type": "code",
   "execution_count": 96,
   "metadata": {
    "scrolled": false
   },
   "outputs": [
    {
     "data": {
      "text/html": [
       "<div>\n",
       "<style scoped>\n",
       "    .dataframe tbody tr th:only-of-type {\n",
       "        vertical-align: middle;\n",
       "    }\n",
       "\n",
       "    .dataframe tbody tr th {\n",
       "        vertical-align: top;\n",
       "    }\n",
       "\n",
       "    .dataframe thead th {\n",
       "        text-align: right;\n",
       "    }\n",
       "</style>\n",
       "<table border=\"1\" class=\"dataframe\">\n",
       "  <thead>\n",
       "    <tr style=\"text-align: right;\">\n",
       "      <th>goal_reached</th>\n",
       "      <th>no</th>\n",
       "      <th>yes</th>\n",
       "    </tr>\n",
       "    <tr>\n",
       "      <th>state</th>\n",
       "      <th></th>\n",
       "      <th></th>\n",
       "    </tr>\n",
       "  </thead>\n",
       "  <tbody>\n",
       "    <tr>\n",
       "      <th>canceled</th>\n",
       "      <td>2503</td>\n",
       "      <td>66</td>\n",
       "    </tr>\n",
       "    <tr>\n",
       "      <th>failed</th>\n",
       "      <td>17157</td>\n",
       "      <td>24</td>\n",
       "    </tr>\n",
       "    <tr>\n",
       "      <th>live</th>\n",
       "      <td>1472</td>\n",
       "      <td>688</td>\n",
       "    </tr>\n",
       "    <tr>\n",
       "      <th>successful</th>\n",
       "      <td>2344</td>\n",
       "      <td>35715</td>\n",
       "    </tr>\n",
       "  </tbody>\n",
       "</table>\n",
       "</div>"
      ],
      "text/plain": [
       "goal_reached     no    yes\n",
       "state                     \n",
       "canceled       2503     66\n",
       "failed        17157     24\n",
       "live           1472    688\n",
       "successful     2344  35715"
      ]
     },
     "execution_count": 96,
     "metadata": {},
     "output_type": "execute_result"
    }
   ],
   "source": [
    "data_crosstab = pd.crosstab(df['state'], df['goal_reached'], margins = False)\n",
    "data_crosstab"
   ]
  },
  {
   "cell_type": "markdown",
   "metadata": {},
   "source": [
    "### add goal reached % column"
   ]
  },
  {
   "cell_type": "code",
   "execution_count": 97,
   "metadata": {},
   "outputs": [],
   "source": [
    "funded_rate = []\n",
    "\n",
    "for i,j in zip(df.goal, df.converted_pledged_amount):\n",
    "    a = (j / i)\n",
    "    funded_rate.append(a)\n",
    "\n",
    "df['funded_rate'] = funded_rate"
   ]
  },
  {
   "cell_type": "markdown",
   "metadata": {},
   "source": [
    "### target column"
   ]
  },
  {
   "cell_type": "code",
   "execution_count": 98,
   "metadata": {},
   "outputs": [],
   "source": [
    "target = []\n",
    "\n",
    "for i in df['funded_rate']:\n",
    "    if i >= 1:\n",
    "        target.append(True)\n",
    "    else:\n",
    "        target.append(False)\n",
    "\n",
    "df['target'] = target     "
   ]
  },
  {
   "cell_type": "code",
   "execution_count": 99,
   "metadata": {},
   "outputs": [
    {
     "data": {
      "text/html": [
       "<div>\n",
       "<style scoped>\n",
       "    .dataframe tbody tr th:only-of-type {\n",
       "        vertical-align: middle;\n",
       "    }\n",
       "\n",
       "    .dataframe tbody tr th {\n",
       "        vertical-align: top;\n",
       "    }\n",
       "\n",
       "    .dataframe thead th {\n",
       "        text-align: right;\n",
       "    }\n",
       "</style>\n",
       "<table border=\"1\" class=\"dataframe\">\n",
       "  <thead>\n",
       "    <tr style=\"text-align: right;\">\n",
       "      <th></th>\n",
       "      <th>backers_count</th>\n",
       "      <th>blurb</th>\n",
       "      <th>category</th>\n",
       "      <th>converted_pledged_amount</th>\n",
       "      <th>country</th>\n",
       "      <th>country_displayable_name</th>\n",
       "      <th>created_at</th>\n",
       "      <th>creator</th>\n",
       "      <th>currency</th>\n",
       "      <th>currency_symbol</th>\n",
       "      <th>...</th>\n",
       "      <th>launched_date</th>\n",
       "      <th>launched_time</th>\n",
       "      <th>launched_weekday</th>\n",
       "      <th>deadline_date</th>\n",
       "      <th>deadline_time</th>\n",
       "      <th>deadline_weekday</th>\n",
       "      <th>project_duration</th>\n",
       "      <th>goal_reached</th>\n",
       "      <th>funded_rate</th>\n",
       "      <th>target</th>\n",
       "    </tr>\n",
       "    <tr>\n",
       "      <th>id</th>\n",
       "      <th></th>\n",
       "      <th></th>\n",
       "      <th></th>\n",
       "      <th></th>\n",
       "      <th></th>\n",
       "      <th></th>\n",
       "      <th></th>\n",
       "      <th></th>\n",
       "      <th></th>\n",
       "      <th></th>\n",
       "      <th></th>\n",
       "      <th></th>\n",
       "      <th></th>\n",
       "      <th></th>\n",
       "      <th></th>\n",
       "      <th></th>\n",
       "      <th></th>\n",
       "      <th></th>\n",
       "      <th></th>\n",
       "      <th></th>\n",
       "      <th></th>\n",
       "    </tr>\n",
       "  </thead>\n",
       "  <tbody>\n",
       "    <tr>\n",
       "      <th>1294483106</th>\n",
       "      <td>334</td>\n",
       "      <td>A 100 percent Independent alternative-media co...</td>\n",
       "      <td>{\"id\":359,\"name\":\"Print\",\"analytics_name\":\"Pri...</td>\n",
       "      <td>21161</td>\n",
       "      <td>US</td>\n",
       "      <td>the United States</td>\n",
       "      <td>1528462281</td>\n",
       "      <td>{\"id\":356060393,\"name\":\"Charlie Deitch\",\"is_re...</td>\n",
       "      <td>USD</td>\n",
       "      <td>$</td>\n",
       "      <td>...</td>\n",
       "      <td>2018-06-12</td>\n",
       "      <td>16:18:38</td>\n",
       "      <td>Tuesday</td>\n",
       "      <td>2018-07-02</td>\n",
       "      <td>16:18:38</td>\n",
       "      <td>Monday</td>\n",
       "      <td>20.0</td>\n",
       "      <td>yes</td>\n",
       "      <td>1.410733</td>\n",
       "      <td>True</td>\n",
       "    </tr>\n",
       "    <tr>\n",
       "      <th>619124904</th>\n",
       "      <td>46</td>\n",
       "      <td>Tony gets a super-powered suit (cool) only to ...</td>\n",
       "      <td>{\"id\":252,\"name\":\"Graphic Novels\",\"analytics_n...</td>\n",
       "      <td>1611</td>\n",
       "      <td>US</td>\n",
       "      <td>the United States</td>\n",
       "      <td>1459776068</td>\n",
       "      <td>{\"id\":535206268,\"name\":\"Brent\",\"is_registered\"...</td>\n",
       "      <td>USD</td>\n",
       "      <td>$</td>\n",
       "      <td>...</td>\n",
       "      <td>2016-05-17</td>\n",
       "      <td>14:13:27</td>\n",
       "      <td>Tuesday</td>\n",
       "      <td>2016-06-18</td>\n",
       "      <td>14:13:27</td>\n",
       "      <td>Saturday</td>\n",
       "      <td>32.0</td>\n",
       "      <td>yes</td>\n",
       "      <td>1.611000</td>\n",
       "      <td>True</td>\n",
       "    </tr>\n",
       "    <tr>\n",
       "      <th>765529622</th>\n",
       "      <td>26</td>\n",
       "      <td>The universal coffee color smart tool belt inn...</td>\n",
       "      <td>{\"id\":28,\"name\":\"Product Design\",\"analytics_na...</td>\n",
       "      <td>4822</td>\n",
       "      <td>AT</td>\n",
       "      <td>Austria</td>\n",
       "      <td>1594733853</td>\n",
       "      <td>{\"id\":1909922349,\"name\":\"Marvin Fox\",\"slug\":\"m...</td>\n",
       "      <td>EUR</td>\n",
       "      <td>€</td>\n",
       "      <td>...</td>\n",
       "      <td>2021-08-26</td>\n",
       "      <td>23:59:56</td>\n",
       "      <td>Thursday</td>\n",
       "      <td>2021-10-25</td>\n",
       "      <td>23:59:56</td>\n",
       "      <td>Monday</td>\n",
       "      <td>60.0</td>\n",
       "      <td>no</td>\n",
       "      <td>0.892963</td>\n",
       "      <td>False</td>\n",
       "    </tr>\n",
       "    <tr>\n",
       "      <th>65893751</th>\n",
       "      <td>25</td>\n",
       "      <td>We've gone as far as we can with what we've go...</td>\n",
       "      <td>{\"id\":239,\"name\":\"Radio &amp; Podcasts\",\"analytics...</td>\n",
       "      <td>1248</td>\n",
       "      <td>US</td>\n",
       "      <td>the United States</td>\n",
       "      <td>1399940311</td>\n",
       "      <td>{\"id\":147215381,\"name\":\"Joe DeVader\",\"is_regis...</td>\n",
       "      <td>USD</td>\n",
       "      <td>$</td>\n",
       "      <td>...</td>\n",
       "      <td>2014-06-01</td>\n",
       "      <td>07:03:12</td>\n",
       "      <td>Sunday</td>\n",
       "      <td>2014-07-01</td>\n",
       "      <td>07:03:12</td>\n",
       "      <td>Tuesday</td>\n",
       "      <td>30.0</td>\n",
       "      <td>yes</td>\n",
       "      <td>1.248000</td>\n",
       "      <td>True</td>\n",
       "    </tr>\n",
       "    <tr>\n",
       "      <th>1341889653</th>\n",
       "      <td>28</td>\n",
       "      <td>Limited edition split zine by photographers Ad...</td>\n",
       "      <td>{\"id\":280,\"name\":\"Photobooks\",\"analytics_name\"...</td>\n",
       "      <td>697</td>\n",
       "      <td>SE</td>\n",
       "      <td>Sweden</td>\n",
       "      <td>1484997357</td>\n",
       "      <td>{\"id\":1477991173,\"name\":\"AdeY / Kersti K\",\"slu...</td>\n",
       "      <td>SEK</td>\n",
       "      <td>kr</td>\n",
       "      <td>...</td>\n",
       "      <td>2017-01-21</td>\n",
       "      <td>13:01:30</td>\n",
       "      <td>Saturday</td>\n",
       "      <td>2017-02-20</td>\n",
       "      <td>13:01:30</td>\n",
       "      <td>Monday</td>\n",
       "      <td>30.0</td>\n",
       "      <td>no</td>\n",
       "      <td>0.232333</td>\n",
       "      <td>False</td>\n",
       "    </tr>\n",
       "  </tbody>\n",
       "</table>\n",
       "<p>5 rows × 51 columns</p>\n",
       "</div>"
      ],
      "text/plain": [
       "            backers_count                                              blurb  \\\n",
       "id                                                                             \n",
       "1294483106            334  A 100 percent Independent alternative-media co...   \n",
       "619124904              46  Tony gets a super-powered suit (cool) only to ...   \n",
       "765529622              26  The universal coffee color smart tool belt inn...   \n",
       "65893751               25  We've gone as far as we can with what we've go...   \n",
       "1341889653             28  Limited edition split zine by photographers Ad...   \n",
       "\n",
       "                                                     category  \\\n",
       "id                                                              \n",
       "1294483106  {\"id\":359,\"name\":\"Print\",\"analytics_name\":\"Pri...   \n",
       "619124904   {\"id\":252,\"name\":\"Graphic Novels\",\"analytics_n...   \n",
       "765529622   {\"id\":28,\"name\":\"Product Design\",\"analytics_na...   \n",
       "65893751    {\"id\":239,\"name\":\"Radio & Podcasts\",\"analytics...   \n",
       "1341889653  {\"id\":280,\"name\":\"Photobooks\",\"analytics_name\"...   \n",
       "\n",
       "            converted_pledged_amount country country_displayable_name  \\\n",
       "id                                                                      \n",
       "1294483106                     21161      US        the United States   \n",
       "619124904                       1611      US        the United States   \n",
       "765529622                       4822      AT                  Austria   \n",
       "65893751                        1248      US        the United States   \n",
       "1341889653                       697      SE                   Sweden   \n",
       "\n",
       "            created_at                                            creator  \\\n",
       "id                                                                          \n",
       "1294483106  1528462281  {\"id\":356060393,\"name\":\"Charlie Deitch\",\"is_re...   \n",
       "619124904   1459776068  {\"id\":535206268,\"name\":\"Brent\",\"is_registered\"...   \n",
       "765529622   1594733853  {\"id\":1909922349,\"name\":\"Marvin Fox\",\"slug\":\"m...   \n",
       "65893751    1399940311  {\"id\":147215381,\"name\":\"Joe DeVader\",\"is_regis...   \n",
       "1341889653  1484997357  {\"id\":1477991173,\"name\":\"AdeY / Kersti K\",\"slu...   \n",
       "\n",
       "           currency currency_symbol  ...  launched_date launched_time  \\\n",
       "id                                   ...                                \n",
       "1294483106      USD               $  ...     2018-06-12      16:18:38   \n",
       "619124904       USD               $  ...     2016-05-17      14:13:27   \n",
       "765529622       EUR               €  ...     2021-08-26      23:59:56   \n",
       "65893751        USD               $  ...     2014-06-01      07:03:12   \n",
       "1341889653      SEK              kr  ...     2017-01-21      13:01:30   \n",
       "\n",
       "            launched_weekday  deadline_date deadline_time  deadline_weekday  \\\n",
       "id                                                                            \n",
       "1294483106           Tuesday     2018-07-02      16:18:38            Monday   \n",
       "619124904            Tuesday     2016-06-18      14:13:27          Saturday   \n",
       "765529622           Thursday     2021-10-25      23:59:56            Monday   \n",
       "65893751              Sunday     2014-07-01      07:03:12           Tuesday   \n",
       "1341889653          Saturday     2017-02-20      13:01:30            Monday   \n",
       "\n",
       "            project_duration goal_reached  funded_rate target  \n",
       "id                                                             \n",
       "1294483106              20.0          yes     1.410733   True  \n",
       "619124904               32.0          yes     1.611000   True  \n",
       "765529622               60.0           no     0.892963  False  \n",
       "65893751                30.0          yes     1.248000   True  \n",
       "1341889653              30.0           no     0.232333  False  \n",
       "\n",
       "[5 rows x 51 columns]"
      ]
     },
     "execution_count": 99,
     "metadata": {},
     "output_type": "execute_result"
    }
   ],
   "source": [
    "df.sample(5)"
   ]
  },
  {
   "cell_type": "markdown",
   "metadata": {},
   "source": [
    "### get information from language"
   ]
  },
  {
   "cell_type": "markdown",
   "metadata": {},
   "source": [
    "#### add language column"
   ]
  },
  {
   "cell_type": "code",
   "execution_count": 100,
   "metadata": {},
   "outputs": [],
   "source": [
    "language = []\n",
    "\n",
    "for i in df['blurb']:\n",
    "    if isinstance(i, float):\n",
    "        language.append(0)\n",
    "    else:\n",
    "        a = langid.classify(i)\n",
    "        language.append(a[0])        \n",
    "    \n",
    "df['language'] = language"
   ]
  },
  {
   "cell_type": "code",
   "execution_count": 101,
   "metadata": {},
   "outputs": [
    {
     "data": {
      "text/plain": [
       "(59969, 52)"
      ]
     },
     "execution_count": 101,
     "metadata": {},
     "output_type": "execute_result"
    }
   ],
   "source": [
    "df.shape"
   ]
  },
  {
   "cell_type": "code",
   "execution_count": 102,
   "metadata": {
    "scrolled": true
   },
   "outputs": [
    {
     "data": {
      "text/plain": [
       "en    57135\n",
       "es      882\n",
       "fr      587\n",
       "de      428\n",
       "it      212\n",
       "      ...  \n",
       "fa        1\n",
       "el        1\n",
       "rw        1\n",
       "zu        1\n",
       "ka        1\n",
       "Name: language, Length: 62, dtype: int64"
      ]
     },
     "execution_count": 102,
     "metadata": {},
     "output_type": "execute_result"
    }
   ],
   "source": [
    "df['language'].value_counts()"
   ]
  },
  {
   "cell_type": "markdown",
   "metadata": {},
   "source": [
    "#### add polarity and subjectivity column"
   ]
  },
  {
   "cell_type": "code",
   "execution_count": 103,
   "metadata": {},
   "outputs": [],
   "source": [
    "polarity = []\n",
    "subjectivity = []\n",
    "\n",
    "for i in df['blurb']:\n",
    "    if isinstance(i, float):\n",
    "        polarity.append(0)\n",
    "        subjectivity.append(0)\n",
    "    else:\n",
    "        a = TextBlob(i)\n",
    "        polarity.append(round(a.polarity,2))\n",
    "        subjectivity.append(round(a.subjectivity,2))\n",
    "\n",
    "df['polarity'] = polarity\n",
    "df['subjectivity'] = subjectivity"
   ]
  },
  {
   "cell_type": "code",
   "execution_count": 104,
   "metadata": {},
   "outputs": [
    {
     "data": {
      "text/plain": [
       "(59969, 54)"
      ]
     },
     "execution_count": 104,
     "metadata": {},
     "output_type": "execute_result"
    }
   ],
   "source": [
    "df.shape"
   ]
  },
  {
   "cell_type": "markdown",
   "metadata": {},
   "source": [
    "#### add length for column blurb"
   ]
  },
  {
   "cell_type": "code",
   "execution_count": 105,
   "metadata": {},
   "outputs": [],
   "source": [
    "length_blurb = []\n",
    "\n",
    "for i in df['blurb']:\n",
    "    if isinstance(i, float):\n",
    "        length_blurb.append(0)\n",
    "    else:    \n",
    "        length_blurb.append(len(i))\n",
    "    \n",
    "df['length_blurb'] = length_blurb"
   ]
  },
  {
   "cell_type": "code",
   "execution_count": 106,
   "metadata": {},
   "outputs": [
    {
     "data": {
      "text/plain": [
       "(59969, 55)"
      ]
     },
     "execution_count": 106,
     "metadata": {},
     "output_type": "execute_result"
    }
   ],
   "source": [
    "df.shape"
   ]
  },
  {
   "cell_type": "markdown",
   "metadata": {},
   "source": [
    "#### keyword extractions with yake"
   ]
  },
  {
   "cell_type": "code",
   "execution_count": null,
   "metadata": {},
   "outputs": [],
   "source": [
    "for i in "
   ]
  },
  {
   "cell_type": "code",
   "execution_count": 82,
   "metadata": {},
   "outputs": [],
   "source": [
    "kw_extractor = yake.KeywordExtractor()"
   ]
  },
  {
   "cell_type": "code",
   "execution_count": 83,
   "metadata": {},
   "outputs": [],
   "source": [
    "text = 'How to check if a number is an int or float in Python'"
   ]
  },
  {
   "cell_type": "code",
   "execution_count": 84,
   "metadata": {},
   "outputs": [],
   "source": [
    "language = 'en'"
   ]
  },
  {
   "cell_type": "code",
   "execution_count": 85,
   "metadata": {},
   "outputs": [],
   "source": [
    "max_ngram_size = 1"
   ]
  },
  {
   "cell_type": "code",
   "execution_count": 86,
   "metadata": {},
   "outputs": [],
   "source": [
    "deduplication_threshold = 0.9"
   ]
  },
  {
   "cell_type": "code",
   "execution_count": 95,
   "metadata": {},
   "outputs": [],
   "source": [
    "numOfKeywords = 3"
   ]
  },
  {
   "cell_type": "code",
   "execution_count": 96,
   "metadata": {},
   "outputs": [],
   "source": [
    "custom_kw_extractor = yake.KeywordExtractor(lan=language, n=max_ngram_size, dedupLim=deduplication_threshold, top=numOfKeywords, features=None)"
   ]
  },
  {
   "cell_type": "code",
   "execution_count": 97,
   "metadata": {},
   "outputs": [],
   "source": [
    "keywords = custom_kw_extractor.extract_keywords(text)"
   ]
  },
  {
   "cell_type": "code",
   "execution_count": 98,
   "metadata": {
    "scrolled": true
   },
   "outputs": [
    {
     "name": "stdout",
     "output_type": "stream",
     "text": [
      "('Python', 0.08596317751626563)\n",
      "('check', 0.29736558256021506)\n",
      "('number', 0.29736558256021506)\n"
     ]
    }
   ],
   "source": [
    "for kw in keywords:\n",
    "    print(kw)"
   ]
  },
  {
   "cell_type": "markdown",
   "metadata": {},
   "source": [
    "### drop columns"
   ]
  },
  {
   "cell_type": "code",
   "execution_count": 128,
   "metadata": {},
   "outputs": [],
   "source": [
    "to_drop = ['country_displayable_name',\n",
    "          'created_at',\n",
    "          'creator',\n",
    "           'currency_symbol',\n",
    "           'deadline',\n",
    "          'disable_communication',\n",
    "          'friends',\n",
    "          'is_backing',\n",
    "          'is_starrable',\n",
    "          'is_starred',\n",
    "          'launched_at',\n",
    "          'permissions',\n",
    "          'slug',\n",
    "          'source_url',\n",
    "          'urls',\n",
    "          'currency_trailing_code',\n",
    "          'current_currency',\n",
    "          'fx_rate',\n",
    "          'profile',\n",
    "          'static_usd_rate',\n",
    "          'usd_exchange_rate',\n",
    "          'usd_pledged',\n",
    "          'usd_type',\n",
    "          'photo',\n",
    "          'pledged']"
   ]
  },
  {
   "cell_type": "code",
   "execution_count": 129,
   "metadata": {},
   "outputs": [
    {
     "ename": "KeyError",
     "evalue": "\"['country_displayable_name' 'created_at' 'creator' 'currency_symbol'\\n 'deadline' 'disable_communication' 'friends' 'is_backing' 'is_starrable'\\n 'is_starred' 'launched_at' 'permissions' 'slug' 'source_url' 'urls'] not found in axis\"",
     "output_type": "error",
     "traceback": [
      "\u001b[1;31m---------------------------------------------------------------------------\u001b[0m",
      "\u001b[1;31mKeyError\u001b[0m                                  Traceback (most recent call last)",
      "\u001b[1;32m<ipython-input-129-009dfe2222fb>\u001b[0m in \u001b[0;36m<module>\u001b[1;34m\u001b[0m\n\u001b[1;32m----> 1\u001b[1;33m \u001b[0mdf\u001b[0m \u001b[1;33m=\u001b[0m \u001b[0mdf\u001b[0m\u001b[1;33m.\u001b[0m\u001b[0mdrop\u001b[0m\u001b[1;33m(\u001b[0m\u001b[0mto_drop\u001b[0m\u001b[1;33m,\u001b[0m \u001b[0maxis\u001b[0m\u001b[1;33m=\u001b[0m\u001b[1;36m1\u001b[0m\u001b[1;33m)\u001b[0m\u001b[1;33m\u001b[0m\u001b[1;33m\u001b[0m\u001b[0m\n\u001b[0m",
      "\u001b[1;32m~\\anaconda3\\lib\\site-packages\\pandas\\core\\frame.py\u001b[0m in \u001b[0;36mdrop\u001b[1;34m(self, labels, axis, index, columns, level, inplace, errors)\u001b[0m\n\u001b[0;32m   4161\u001b[0m                 \u001b[0mweight\u001b[0m  \u001b[1;36m1.0\u001b[0m     \u001b[1;36m0.8\u001b[0m\u001b[1;33m\u001b[0m\u001b[1;33m\u001b[0m\u001b[0m\n\u001b[0;32m   4162\u001b[0m         \"\"\"\n\u001b[1;32m-> 4163\u001b[1;33m         return super().drop(\n\u001b[0m\u001b[0;32m   4164\u001b[0m             \u001b[0mlabels\u001b[0m\u001b[1;33m=\u001b[0m\u001b[0mlabels\u001b[0m\u001b[1;33m,\u001b[0m\u001b[1;33m\u001b[0m\u001b[1;33m\u001b[0m\u001b[0m\n\u001b[0;32m   4165\u001b[0m             \u001b[0maxis\u001b[0m\u001b[1;33m=\u001b[0m\u001b[0maxis\u001b[0m\u001b[1;33m,\u001b[0m\u001b[1;33m\u001b[0m\u001b[1;33m\u001b[0m\u001b[0m\n",
      "\u001b[1;32m~\\anaconda3\\lib\\site-packages\\pandas\\core\\generic.py\u001b[0m in \u001b[0;36mdrop\u001b[1;34m(self, labels, axis, index, columns, level, inplace, errors)\u001b[0m\n\u001b[0;32m   3885\u001b[0m         \u001b[1;32mfor\u001b[0m \u001b[0maxis\u001b[0m\u001b[1;33m,\u001b[0m \u001b[0mlabels\u001b[0m \u001b[1;32min\u001b[0m \u001b[0maxes\u001b[0m\u001b[1;33m.\u001b[0m\u001b[0mitems\u001b[0m\u001b[1;33m(\u001b[0m\u001b[1;33m)\u001b[0m\u001b[1;33m:\u001b[0m\u001b[1;33m\u001b[0m\u001b[1;33m\u001b[0m\u001b[0m\n\u001b[0;32m   3886\u001b[0m             \u001b[1;32mif\u001b[0m \u001b[0mlabels\u001b[0m \u001b[1;32mis\u001b[0m \u001b[1;32mnot\u001b[0m \u001b[1;32mNone\u001b[0m\u001b[1;33m:\u001b[0m\u001b[1;33m\u001b[0m\u001b[1;33m\u001b[0m\u001b[0m\n\u001b[1;32m-> 3887\u001b[1;33m                 \u001b[0mobj\u001b[0m \u001b[1;33m=\u001b[0m \u001b[0mobj\u001b[0m\u001b[1;33m.\u001b[0m\u001b[0m_drop_axis\u001b[0m\u001b[1;33m(\u001b[0m\u001b[0mlabels\u001b[0m\u001b[1;33m,\u001b[0m \u001b[0maxis\u001b[0m\u001b[1;33m,\u001b[0m \u001b[0mlevel\u001b[0m\u001b[1;33m=\u001b[0m\u001b[0mlevel\u001b[0m\u001b[1;33m,\u001b[0m \u001b[0merrors\u001b[0m\u001b[1;33m=\u001b[0m\u001b[0merrors\u001b[0m\u001b[1;33m)\u001b[0m\u001b[1;33m\u001b[0m\u001b[1;33m\u001b[0m\u001b[0m\n\u001b[0m\u001b[0;32m   3888\u001b[0m \u001b[1;33m\u001b[0m\u001b[0m\n\u001b[0;32m   3889\u001b[0m         \u001b[1;32mif\u001b[0m \u001b[0minplace\u001b[0m\u001b[1;33m:\u001b[0m\u001b[1;33m\u001b[0m\u001b[1;33m\u001b[0m\u001b[0m\n",
      "\u001b[1;32m~\\anaconda3\\lib\\site-packages\\pandas\\core\\generic.py\u001b[0m in \u001b[0;36m_drop_axis\u001b[1;34m(self, labels, axis, level, errors)\u001b[0m\n\u001b[0;32m   3919\u001b[0m                 \u001b[0mnew_axis\u001b[0m \u001b[1;33m=\u001b[0m \u001b[0maxis\u001b[0m\u001b[1;33m.\u001b[0m\u001b[0mdrop\u001b[0m\u001b[1;33m(\u001b[0m\u001b[0mlabels\u001b[0m\u001b[1;33m,\u001b[0m \u001b[0mlevel\u001b[0m\u001b[1;33m=\u001b[0m\u001b[0mlevel\u001b[0m\u001b[1;33m,\u001b[0m \u001b[0merrors\u001b[0m\u001b[1;33m=\u001b[0m\u001b[0merrors\u001b[0m\u001b[1;33m)\u001b[0m\u001b[1;33m\u001b[0m\u001b[1;33m\u001b[0m\u001b[0m\n\u001b[0;32m   3920\u001b[0m             \u001b[1;32melse\u001b[0m\u001b[1;33m:\u001b[0m\u001b[1;33m\u001b[0m\u001b[1;33m\u001b[0m\u001b[0m\n\u001b[1;32m-> 3921\u001b[1;33m                 \u001b[0mnew_axis\u001b[0m \u001b[1;33m=\u001b[0m \u001b[0maxis\u001b[0m\u001b[1;33m.\u001b[0m\u001b[0mdrop\u001b[0m\u001b[1;33m(\u001b[0m\u001b[0mlabels\u001b[0m\u001b[1;33m,\u001b[0m \u001b[0merrors\u001b[0m\u001b[1;33m=\u001b[0m\u001b[0merrors\u001b[0m\u001b[1;33m)\u001b[0m\u001b[1;33m\u001b[0m\u001b[1;33m\u001b[0m\u001b[0m\n\u001b[0m\u001b[0;32m   3922\u001b[0m             \u001b[0mresult\u001b[0m \u001b[1;33m=\u001b[0m \u001b[0mself\u001b[0m\u001b[1;33m.\u001b[0m\u001b[0mreindex\u001b[0m\u001b[1;33m(\u001b[0m\u001b[1;33m**\u001b[0m\u001b[1;33m{\u001b[0m\u001b[0maxis_name\u001b[0m\u001b[1;33m:\u001b[0m \u001b[0mnew_axis\u001b[0m\u001b[1;33m}\u001b[0m\u001b[1;33m)\u001b[0m\u001b[1;33m\u001b[0m\u001b[1;33m\u001b[0m\u001b[0m\n\u001b[0;32m   3923\u001b[0m \u001b[1;33m\u001b[0m\u001b[0m\n",
      "\u001b[1;32m~\\anaconda3\\lib\\site-packages\\pandas\\core\\indexes\\base.py\u001b[0m in \u001b[0;36mdrop\u001b[1;34m(self, labels, errors)\u001b[0m\n\u001b[0;32m   5280\u001b[0m         \u001b[1;32mif\u001b[0m \u001b[0mmask\u001b[0m\u001b[1;33m.\u001b[0m\u001b[0many\u001b[0m\u001b[1;33m(\u001b[0m\u001b[1;33m)\u001b[0m\u001b[1;33m:\u001b[0m\u001b[1;33m\u001b[0m\u001b[1;33m\u001b[0m\u001b[0m\n\u001b[0;32m   5281\u001b[0m             \u001b[1;32mif\u001b[0m \u001b[0merrors\u001b[0m \u001b[1;33m!=\u001b[0m \u001b[1;34m\"ignore\"\u001b[0m\u001b[1;33m:\u001b[0m\u001b[1;33m\u001b[0m\u001b[1;33m\u001b[0m\u001b[0m\n\u001b[1;32m-> 5282\u001b[1;33m                 \u001b[1;32mraise\u001b[0m \u001b[0mKeyError\u001b[0m\u001b[1;33m(\u001b[0m\u001b[1;34mf\"{labels[mask]} not found in axis\"\u001b[0m\u001b[1;33m)\u001b[0m\u001b[1;33m\u001b[0m\u001b[1;33m\u001b[0m\u001b[0m\n\u001b[0m\u001b[0;32m   5283\u001b[0m             \u001b[0mindexer\u001b[0m \u001b[1;33m=\u001b[0m \u001b[0mindexer\u001b[0m\u001b[1;33m[\u001b[0m\u001b[1;33m~\u001b[0m\u001b[0mmask\u001b[0m\u001b[1;33m]\u001b[0m\u001b[1;33m\u001b[0m\u001b[1;33m\u001b[0m\u001b[0m\n\u001b[0;32m   5284\u001b[0m         \u001b[1;32mreturn\u001b[0m \u001b[0mself\u001b[0m\u001b[1;33m.\u001b[0m\u001b[0mdelete\u001b[0m\u001b[1;33m(\u001b[0m\u001b[0mindexer\u001b[0m\u001b[1;33m)\u001b[0m\u001b[1;33m\u001b[0m\u001b[1;33m\u001b[0m\u001b[0m\n",
      "\u001b[1;31mKeyError\u001b[0m: \"['country_displayable_name' 'created_at' 'creator' 'currency_symbol'\\n 'deadline' 'disable_communication' 'friends' 'is_backing' 'is_starrable'\\n 'is_starred' 'launched_at' 'permissions' 'slug' 'source_url' 'urls'] not found in axis\""
     ]
    }
   ],
   "source": [
    "df = df.drop(to_drop, axis=1)"
   ]
  },
  {
   "cell_type": "code",
   "execution_count": 125,
   "metadata": {},
   "outputs": [
    {
     "data": {
      "text/plain": [
       "(59969, 40)"
      ]
     },
     "execution_count": 125,
     "metadata": {},
     "output_type": "execute_result"
    }
   ],
   "source": [
    "df.shape"
   ]
  },
  {
   "cell_type": "code",
   "execution_count": 126,
   "metadata": {},
   "outputs": [
    {
     "data": {
      "text/plain": [
       "Index(['backers_count', 'blurb', 'category', 'converted_pledged_amount',\n",
       "       'country', 'currency', 'currency_trailing_code', 'current_currency',\n",
       "       'fx_rate', 'goal', 'location', 'name', 'photo', 'pledged', 'profile',\n",
       "       'spotlight', 'staff_pick', 'state', 'state_changed_at',\n",
       "       'static_usd_rate', 'usd_exchange_rate', 'usd_pledged', 'usd_type',\n",
       "       'created_date', 'created_time', 'created_weekday', 'launched_date',\n",
       "       'launched_time', 'launched_weekday', 'deadline_date', 'deadline_time',\n",
       "       'deadline_weekday', 'project_duration', 'goal_reached', 'funded_rate',\n",
       "       'target', 'language', 'polarity', 'subjectivity', 'length_blurb'],\n",
       "      dtype='object')"
      ]
     },
     "execution_count": 126,
     "metadata": {},
     "output_type": "execute_result"
    }
   ],
   "source": [
    "df.columns"
   ]
  },
  {
   "cell_type": "code",
   "execution_count": 127,
   "metadata": {},
   "outputs": [
    {
     "data": {
      "text/html": [
       "<div>\n",
       "<style scoped>\n",
       "    .dataframe tbody tr th:only-of-type {\n",
       "        vertical-align: middle;\n",
       "    }\n",
       "\n",
       "    .dataframe tbody tr th {\n",
       "        vertical-align: top;\n",
       "    }\n",
       "\n",
       "    .dataframe thead th {\n",
       "        text-align: right;\n",
       "    }\n",
       "</style>\n",
       "<table border=\"1\" class=\"dataframe\">\n",
       "  <thead>\n",
       "    <tr style=\"text-align: right;\">\n",
       "      <th></th>\n",
       "      <th>backers_count</th>\n",
       "      <th>blurb</th>\n",
       "      <th>category</th>\n",
       "      <th>converted_pledged_amount</th>\n",
       "      <th>country</th>\n",
       "      <th>currency</th>\n",
       "      <th>currency_trailing_code</th>\n",
       "      <th>current_currency</th>\n",
       "      <th>fx_rate</th>\n",
       "      <th>goal</th>\n",
       "      <th>...</th>\n",
       "      <th>deadline_time</th>\n",
       "      <th>deadline_weekday</th>\n",
       "      <th>project_duration</th>\n",
       "      <th>goal_reached</th>\n",
       "      <th>funded_rate</th>\n",
       "      <th>target</th>\n",
       "      <th>language</th>\n",
       "      <th>polarity</th>\n",
       "      <th>subjectivity</th>\n",
       "      <th>length_blurb</th>\n",
       "    </tr>\n",
       "    <tr>\n",
       "      <th>id</th>\n",
       "      <th></th>\n",
       "      <th></th>\n",
       "      <th></th>\n",
       "      <th></th>\n",
       "      <th></th>\n",
       "      <th></th>\n",
       "      <th></th>\n",
       "      <th></th>\n",
       "      <th></th>\n",
       "      <th></th>\n",
       "      <th></th>\n",
       "      <th></th>\n",
       "      <th></th>\n",
       "      <th></th>\n",
       "      <th></th>\n",
       "      <th></th>\n",
       "      <th></th>\n",
       "      <th></th>\n",
       "      <th></th>\n",
       "      <th></th>\n",
       "      <th></th>\n",
       "    </tr>\n",
       "  </thead>\n",
       "  <tbody>\n",
       "    <tr>\n",
       "      <th>1013877535</th>\n",
       "      <td>13</td>\n",
       "      <td>We are introducing the accuracy of mouse and k...</td>\n",
       "      <td>{\"id\":270,\"name\":\"Gaming Hardware\",\"analytics_...</td>\n",
       "      <td>934</td>\n",
       "      <td>NL</td>\n",
       "      <td>EUR</td>\n",
       "      <td>False</td>\n",
       "      <td>USD</td>\n",
       "      <td>1.199377</td>\n",
       "      <td>250000.0</td>\n",
       "      <td>...</td>\n",
       "      <td>01:44:18</td>\n",
       "      <td>Saturday</td>\n",
       "      <td>60.000000</td>\n",
       "      <td>no</td>\n",
       "      <td>0.003736</td>\n",
       "      <td>False</td>\n",
       "      <td>en</td>\n",
       "      <td>0.15</td>\n",
       "      <td>0.60</td>\n",
       "      <td>125</td>\n",
       "    </tr>\n",
       "    <tr>\n",
       "      <th>1583213181</th>\n",
       "      <td>26</td>\n",
       "      <td>Your donation will make it possible for us to ...</td>\n",
       "      <td>{\"id\":36,\"name\":\"Classical Music\",\"analytics_n...</td>\n",
       "      <td>5024</td>\n",
       "      <td>US</td>\n",
       "      <td>USD</td>\n",
       "      <td>True</td>\n",
       "      <td>USD</td>\n",
       "      <td>1.000000</td>\n",
       "      <td>5000.0</td>\n",
       "      <td>...</td>\n",
       "      <td>23:07:15</td>\n",
       "      <td>Friday</td>\n",
       "      <td>47.000000</td>\n",
       "      <td>yes</td>\n",
       "      <td>1.004800</td>\n",
       "      <td>True</td>\n",
       "      <td>en</td>\n",
       "      <td>0.00</td>\n",
       "      <td>1.00</td>\n",
       "      <td>125</td>\n",
       "    </tr>\n",
       "    <tr>\n",
       "      <th>512427463</th>\n",
       "      <td>4</td>\n",
       "      <td>We need your help to get the new album ready, ...</td>\n",
       "      <td>{\"id\":321,\"name\":\"Punk\",\"analytics_name\":\"Punk...</td>\n",
       "      <td>87</td>\n",
       "      <td>US</td>\n",
       "      <td>USD</td>\n",
       "      <td>True</td>\n",
       "      <td>USD</td>\n",
       "      <td>1.000000</td>\n",
       "      <td>5000.0</td>\n",
       "      <td>...</td>\n",
       "      <td>19:42:37</td>\n",
       "      <td>Sunday</td>\n",
       "      <td>60.000000</td>\n",
       "      <td>no</td>\n",
       "      <td>0.017400</td>\n",
       "      <td>False</td>\n",
       "      <td>en</td>\n",
       "      <td>0.18</td>\n",
       "      <td>0.38</td>\n",
       "      <td>129</td>\n",
       "    </tr>\n",
       "    <tr>\n",
       "      <th>331472362</th>\n",
       "      <td>3</td>\n",
       "      <td>web platform for Universities students where t...</td>\n",
       "      <td>{\"id\":51,\"name\":\"Software\",\"analytics_name\":\"S...</td>\n",
       "      <td>3</td>\n",
       "      <td>IT</td>\n",
       "      <td>EUR</td>\n",
       "      <td>False</td>\n",
       "      <td>USD</td>\n",
       "      <td>1.171863</td>\n",
       "      <td>56000.0</td>\n",
       "      <td>...</td>\n",
       "      <td>08:41:54</td>\n",
       "      <td>Tuesday</td>\n",
       "      <td>60.000000</td>\n",
       "      <td>no</td>\n",
       "      <td>0.000054</td>\n",
       "      <td>False</td>\n",
       "      <td>en</td>\n",
       "      <td>0.00</td>\n",
       "      <td>0.00</td>\n",
       "      <td>124</td>\n",
       "    </tr>\n",
       "    <tr>\n",
       "      <th>913305711</th>\n",
       "      <td>18</td>\n",
       "      <td>It’s Imagination Installations’ 1st Birthday a...</td>\n",
       "      <td>{\"id\":53,\"name\":\"Public Art\",\"analytics_name\":...</td>\n",
       "      <td>525</td>\n",
       "      <td>US</td>\n",
       "      <td>USD</td>\n",
       "      <td>True</td>\n",
       "      <td>USD</td>\n",
       "      <td>1.000000</td>\n",
       "      <td>295.0</td>\n",
       "      <td>...</td>\n",
       "      <td>05:59:00</td>\n",
       "      <td>Thursday</td>\n",
       "      <td>12.422986</td>\n",
       "      <td>yes</td>\n",
       "      <td>1.779661</td>\n",
       "      <td>True</td>\n",
       "      <td>en</td>\n",
       "      <td>0.00</td>\n",
       "      <td>0.10</td>\n",
       "      <td>113</td>\n",
       "    </tr>\n",
       "  </tbody>\n",
       "</table>\n",
       "<p>5 rows × 40 columns</p>\n",
       "</div>"
      ],
      "text/plain": [
       "            backers_count                                              blurb  \\\n",
       "id                                                                             \n",
       "1013877535             13  We are introducing the accuracy of mouse and k...   \n",
       "1583213181             26  Your donation will make it possible for us to ...   \n",
       "512427463               4  We need your help to get the new album ready, ...   \n",
       "331472362               3  web platform for Universities students where t...   \n",
       "913305711              18  It’s Imagination Installations’ 1st Birthday a...   \n",
       "\n",
       "                                                     category  \\\n",
       "id                                                              \n",
       "1013877535  {\"id\":270,\"name\":\"Gaming Hardware\",\"analytics_...   \n",
       "1583213181  {\"id\":36,\"name\":\"Classical Music\",\"analytics_n...   \n",
       "512427463   {\"id\":321,\"name\":\"Punk\",\"analytics_name\":\"Punk...   \n",
       "331472362   {\"id\":51,\"name\":\"Software\",\"analytics_name\":\"S...   \n",
       "913305711   {\"id\":53,\"name\":\"Public Art\",\"analytics_name\":...   \n",
       "\n",
       "            converted_pledged_amount country currency  currency_trailing_code  \\\n",
       "id                                                                              \n",
       "1013877535                       934      NL      EUR                   False   \n",
       "1583213181                      5024      US      USD                    True   \n",
       "512427463                         87      US      USD                    True   \n",
       "331472362                          3      IT      EUR                   False   \n",
       "913305711                        525      US      USD                    True   \n",
       "\n",
       "           current_currency   fx_rate      goal  ... deadline_time  \\\n",
       "id                                               ...                 \n",
       "1013877535              USD  1.199377  250000.0  ...      01:44:18   \n",
       "1583213181              USD  1.000000    5000.0  ...      23:07:15   \n",
       "512427463               USD  1.000000    5000.0  ...      19:42:37   \n",
       "331472362               USD  1.171863   56000.0  ...      08:41:54   \n",
       "913305711               USD  1.000000     295.0  ...      05:59:00   \n",
       "\n",
       "           deadline_weekday project_duration  goal_reached funded_rate  \\\n",
       "id                                                                       \n",
       "1013877535         Saturday        60.000000            no    0.003736   \n",
       "1583213181           Friday        47.000000           yes    1.004800   \n",
       "512427463            Sunday        60.000000            no    0.017400   \n",
       "331472362           Tuesday        60.000000            no    0.000054   \n",
       "913305711          Thursday        12.422986           yes    1.779661   \n",
       "\n",
       "            target  language polarity  subjectivity  length_blurb  \n",
       "id                                                                 \n",
       "1013877535   False        en     0.15          0.60           125  \n",
       "1583213181    True        en     0.00          1.00           125  \n",
       "512427463    False        en     0.18          0.38           129  \n",
       "331472362    False        en     0.00          0.00           124  \n",
       "913305711     True        en     0.00          0.10           113  \n",
       "\n",
       "[5 rows x 40 columns]"
      ]
     },
     "execution_count": 127,
     "metadata": {},
     "output_type": "execute_result"
    }
   ],
   "source": [
    "df.sample(5)"
   ]
  },
  {
   "cell_type": "markdown",
   "metadata": {},
   "source": [
    "### split numeric and categorical data"
   ]
  },
  {
   "cell_type": "code",
   "execution_count": null,
   "metadata": {},
   "outputs": [],
   "source": []
  },
  {
   "cell_type": "code",
   "execution_count": 114,
   "metadata": {},
   "outputs": [
    {
     "data": {
      "text/plain": [
       "(59969, 40)"
      ]
     },
     "execution_count": 114,
     "metadata": {},
     "output_type": "execute_result"
    }
   ],
   "source": [
    "# final shape of cleaned data\n",
    "\n",
    "df.shape"
   ]
  },
  {
   "cell_type": "markdown",
   "metadata": {},
   "source": [
    "## Explore Cleaned Data"
   ]
  },
  {
   "cell_type": "markdown",
   "metadata": {},
   "source": [
    "### validate target variable"
   ]
  },
  {
   "cell_type": "markdown",
   "metadata": {},
   "source": [
    "\"As of July 2021, the success rate of fully funding a project on the crowdfunding website was 38.92 percent. Overall, 5.4 billion U.S. dollars have gone into successfully launched projects.\"\n",
    "\n",
    "https://www.statista.com/statistics/235405/kickstarter-project-funding-success-rate/"
   ]
  },
  {
   "cell_type": "code",
   "execution_count": 115,
   "metadata": {},
   "outputs": [
    {
     "data": {
      "text/html": [
       "<div>\n",
       "<style scoped>\n",
       "    .dataframe tbody tr th:only-of-type {\n",
       "        vertical-align: middle;\n",
       "    }\n",
       "\n",
       "    .dataframe tbody tr th {\n",
       "        vertical-align: top;\n",
       "    }\n",
       "\n",
       "    .dataframe thead th {\n",
       "        text-align: right;\n",
       "    }\n",
       "</style>\n",
       "<table border=\"1\" class=\"dataframe\">\n",
       "  <thead>\n",
       "    <tr style=\"text-align: right;\">\n",
       "      <th>target</th>\n",
       "      <th>False</th>\n",
       "      <th>True</th>\n",
       "    </tr>\n",
       "    <tr>\n",
       "      <th>state</th>\n",
       "      <th></th>\n",
       "      <th></th>\n",
       "    </tr>\n",
       "  </thead>\n",
       "  <tbody>\n",
       "    <tr>\n",
       "      <th>canceled</th>\n",
       "      <td>2503</td>\n",
       "      <td>66</td>\n",
       "    </tr>\n",
       "    <tr>\n",
       "      <th>failed</th>\n",
       "      <td>17157</td>\n",
       "      <td>24</td>\n",
       "    </tr>\n",
       "    <tr>\n",
       "      <th>live</th>\n",
       "      <td>1472</td>\n",
       "      <td>688</td>\n",
       "    </tr>\n",
       "    <tr>\n",
       "      <th>successful</th>\n",
       "      <td>2344</td>\n",
       "      <td>35715</td>\n",
       "    </tr>\n",
       "  </tbody>\n",
       "</table>\n",
       "</div>"
      ],
      "text/plain": [
       "target      False  True \n",
       "state                   \n",
       "canceled     2503     66\n",
       "failed      17157     24\n",
       "live         1472    688\n",
       "successful   2344  35715"
      ]
     },
     "execution_count": 115,
     "metadata": {},
     "output_type": "execute_result"
    }
   ],
   "source": [
    "data_crosstab = pd.crosstab(df['state'], df['target'], margins = False)\n",
    "data_crosstab"
   ]
  },
  {
   "cell_type": "code",
   "execution_count": null,
   "metadata": {},
   "outputs": [],
   "source": []
  },
  {
   "cell_type": "markdown",
   "metadata": {},
   "source": [
    "### numerical variables"
   ]
  },
  {
   "cell_type": "markdown",
   "metadata": {},
   "source": [
    "### categorical variables"
   ]
  },
  {
   "cell_type": "markdown",
   "metadata": {},
   "source": [
    "#### wordcloud"
   ]
  },
  {
   "cell_type": "markdown",
   "metadata": {},
   "source": [
    "https://www.datacamp.com/community/tutorials/wordcloud-python"
   ]
  },
  {
   "cell_type": "markdown",
   "metadata": {},
   "source": [
    "https://www.searchenginejournal.com/predict-content-success-python/387064/#close"
   ]
  },
  {
   "cell_type": "code",
   "execution_count": 116,
   "metadata": {},
   "outputs": [],
   "source": [
    "?WordCloud"
   ]
  },
  {
   "cell_type": "code",
   "execution_count": 117,
   "metadata": {},
   "outputs": [
    {
     "data": {
      "image/png": "[encoded data removed]",
      "text/plain": [
       "<Figure size 432x288 with 1 Axes>"
      ]
     },
     "metadata": {
      "needs_background": "light"
     },
     "output_type": "display_data"
    }
   ],
   "source": [
    "# Start with one review:\n",
    "text = df['blurb'].iloc[0]\n",
    "\n",
    "# Create and generate a word cloud image:\n",
    "wordcloud = WordCloud().generate(text)\n",
    "\n",
    "# Display the generated image:\n",
    "plt.imshow(wordcloud, interpolation='bilinear')\n",
    "plt.axis(\"off\")\n",
    "plt.show()"
   ]
  },
  {
   "cell_type": "code",
   "execution_count": null,
   "metadata": {},
   "outputs": [],
   "source": []
  },
  {
   "cell_type": "markdown",
   "metadata": {},
   "source": [
    "### mixed analysis"
   ]
  },
  {
   "cell_type": "markdown",
   "metadata": {},
   "source": [
    "### projects per weekday"
   ]
  },
  {
   "cell_type": "code",
   "execution_count": 118,
   "metadata": {
    "scrolled": false
   },
   "outputs": [
    {
     "data": {
      "text/plain": [
       "target\n",
       "True     9.920058\n",
       "False    0.134543\n",
       "Name: funded_rate, dtype: float64"
      ]
     },
     "execution_count": 118,
     "metadata": {},
     "output_type": "execute_result"
    }
   ],
   "source": [
    "df.groupby([\"target\"])[\"funded_rate\"].mean().sort_values(ascending=False)"
   ]
  },
  {
   "cell_type": "code",
   "execution_count": 119,
   "metadata": {},
   "outputs": [
    {
     "data": {
      "text/plain": [
       "Index(['backers_count', 'blurb', 'category', 'converted_pledged_amount',\n",
       "       'country', 'currency', 'currency_trailing_code', 'current_currency',\n",
       "       'fx_rate', 'goal', 'location', 'name', 'photo', 'pledged', 'profile',\n",
       "       'spotlight', 'staff_pick', 'state', 'state_changed_at',\n",
       "       'static_usd_rate', 'usd_exchange_rate', 'usd_pledged', 'usd_type',\n",
       "       'created_date', 'created_time', 'created_weekday', 'launched_date',\n",
       "       'launched_time', 'launched_weekday', 'deadline_date', 'deadline_time',\n",
       "       'deadline_weekday', 'project_duration', 'goal_reached', 'funded_rate',\n",
       "       'target', 'language', 'polarity', 'subjectivity', 'length_blurb'],\n",
       "      dtype='object')"
      ]
     },
     "execution_count": 119,
     "metadata": {},
     "output_type": "execute_result"
    }
   ],
   "source": [
    "df.columns"
   ]
  },
  {
   "cell_type": "markdown",
   "metadata": {},
   "source": [
    "### projects per category"
   ]
  },
  {
   "cell_type": "code",
   "execution_count": null,
   "metadata": {},
   "outputs": [],
   "source": []
  },
  {
   "cell_type": "code",
   "execution_count": null,
   "metadata": {},
   "outputs": [],
   "source": []
  },
  {
   "cell_type": "code",
   "execution_count": null,
   "metadata": {},
   "outputs": [],
   "source": []
  },
  {
   "cell_type": "code",
   "execution_count": null,
   "metadata": {},
   "outputs": [],
   "source": []
  },
  {
   "cell_type": "code",
   "execution_count": null,
   "metadata": {},
   "outputs": [],
   "source": []
  },
  {
   "cell_type": "markdown",
   "metadata": {},
   "source": [
    "### Check for Correlation"
   ]
  },
  {
   "cell_type": "code",
   "execution_count": 120,
   "metadata": {
    "scrolled": false
   },
   "outputs": [
    {
     "data": {
      "image/png": "[encoded data removed]",
      "text/plain": [
       "<Figure size 720x576 with 2 Axes>"
      ]
     },
     "metadata": {
      "needs_background": "light"
     },
     "output_type": "display_data"
    }
   ],
   "source": [
    "#round(df.corr()['death_event'].sort_values(ascending=False),2)\n",
    "\n",
    "# create correlation heatmap \n",
    "\n",
    "mask = np.zeros_like(df.corr())\n",
    "\n",
    "mask[np.triu_indices_from(mask)] = True\n",
    "\n",
    "fig, ax = plt.subplots(figsize=(10, 8))\n",
    "ax = sns.heatmap(df.corr(), mask=mask, vmin=-1, vmax=1, annot=True, cmap='coolwarm')\n",
    "\n",
    "plt.show()"
   ]
  },
  {
   "cell_type": "markdown",
   "metadata": {},
   "source": [
    "## data imbalances"
   ]
  },
  {
   "cell_type": "markdown",
   "metadata": {},
   "source": [
    "### check whether data is imbalanced"
   ]
  },
  {
   "cell_type": "code",
   "execution_count": 121,
   "metadata": {
    "scrolled": false
   },
   "outputs": [
    {
     "data": {
      "text/plain": [
       "True     36493\n",
       "False    23476\n",
       "Name: target, dtype: int64"
      ]
     },
     "execution_count": 121,
     "metadata": {},
     "output_type": "execute_result"
    },
    {
     "data": {
      "image/png": "[encoded data removed]",
      "text/plain": [
       "<Figure size 432x288 with 1 Axes>"
      ]
     },
     "metadata": {
      "needs_background": "light"
     },
     "output_type": "display_data"
    }
   ],
   "source": [
    "pd.value_counts(df['target']).plot.bar()\n",
    "plt.title('goal reached?')\n",
    "plt.xlabel('target')\n",
    "plt.ylabel('Frequency')\n",
    "df['target'].value_counts()"
   ]
  },
  {
   "cell_type": "markdown",
   "metadata": {},
   "source": [
    "**YES** our data is imbalanced, as we have 13.324 'no' values and 2.313 'yes' values"
   ]
  },
  {
   "cell_type": "markdown",
   "metadata": {},
   "source": [
    "### deal with imbalances"
   ]
  },
  {
   "cell_type": "code",
   "execution_count": 177,
   "metadata": {},
   "outputs": [],
   "source": [
    "# upscaling"
   ]
  },
  {
   "cell_type": "code",
   "execution_count": null,
   "metadata": {},
   "outputs": [],
   "source": []
  },
  {
   "cell_type": "code",
   "execution_count": 190,
   "metadata": {},
   "outputs": [
    {
     "name": "stdout",
     "output_type": "stream",
     "text": [
      "['imaginative projects', 'funding platform', 'direct support', 'creative projects', 'technology', 'others', 'music', 'life', 'kickstarter', 'kickstarter', 'innovative', 'games', 'full', 'film', 'everything', 'design', 'brought', 'art', 'ambitious']\n"
     ]
    }
   ],
   "source": [
    "rake_nltk_var = Rake()\n",
    "\n",
    "text = \"\"\"Kickstarter is a funding platform for creative projects. Everything from film, games, and music to art, design, and technology. Kickstarter is full of ambitious, innovative, and imaginative projects that are brought to life through the direct support of others.\"\"\"\n",
    "\n",
    "rake_nltk_var.extract_keywords_from_text(text)\n",
    "\n",
    "keyword_extracted = rake_nltk_var.get_ranked_phrases()\n",
    "\n",
    "print(keyword_extracted)"
   ]
  },
  {
   "cell_type": "code",
   "execution_count": null,
   "metadata": {},
   "outputs": [],
   "source": []
  }
 ],
 "metadata": {
  "kernelspec": {
   "display_name": "Python 3",
   "language": "python",
   "name": "python3"
  },
  "language_info": {
   "codemirror_mode": {
    "name": "ipython",
    "version": 3
   },
   "file_extension": ".py",
   "mimetype": "text/x-python",
   "name": "python",
   "nbconvert_exporter": "python",
   "pygments_lexer": "ipython3",
   "version": "3.8.5"
  },
  "toc": {
   "base_numbering": 1,
   "nav_menu": {},
   "number_sections": true,
   "sideBar": true,
   "skip_h1_title": false,
   "title_cell": "Table of Contents",
   "title_sidebar": "Contents",
   "toc_cell": false,
   "toc_position": {
    "height": "calc(100% - 180px)",
    "left": "10px",
    "top": "150px",
    "width": "426.667px"
   },
   "toc_section_display": true,
   "toc_window_display": true
  }
 },
 "nbformat": 4,
 "nbformat_minor": 4
}
