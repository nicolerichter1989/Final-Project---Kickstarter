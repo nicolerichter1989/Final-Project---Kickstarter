{
 "cells": [
  {
   "cell_type": "markdown",
   "metadata": {},
   "source": [
    "# final project - KICKSTARTER"
   ]
  },
  {
   "cell_type": "markdown",
   "metadata": {},
   "source": [
    "**What is Kickstarter?**\n",
    "\n",
    "Kickstarter is a funding platform for creative projects. Everything from film, games, and music to art, design, and technology. Kickstarter is full of ambitious, innovative, and imaginative projects that are brought to life through the direct support of others.\n",
    "\n",
    "Every project creator sets their project's funding goal and deadline. If people like the project, they can pledge money to make it happen. If the project succeeds in reaching its funding goal, all backers' credit cards are charged when time expires. Funding on Kickstarter is all-or-nothing. If the project falls short of its funding goal, no one is charged."
   ]
  },
  {
   "cell_type": "markdown",
   "metadata": {},
   "source": [
    "**Objective**\n",
    "\n",
    "Goal of this analysis it to be able to predict whether or not a project will receive it's goal funds."
   ]
  },
  {
   "cell_type": "markdown",
   "metadata": {},
   "source": [
    "## import libraries"
   ]
  },
  {
   "cell_type": "code",
   "execution_count": 187,
   "metadata": {},
   "outputs": [
    {
     "name": "stderr",
     "output_type": "stream",
     "text": [
      "[nltk_data] Downloading package stopwords to\n",
      "[nltk_data]     C:\\Users\\nicol\\AppData\\Roaming\\nltk_data...\n",
      "[nltk_data]   Package stopwords is already up-to-date!\n",
      "[nltk_data] Downloading package punkt to\n",
      "[nltk_data]     C:\\Users\\nicol\\AppData\\Roaming\\nltk_data...\n",
      "[nltk_data]   Unzipping tokenizers\\punkt.zip.\n"
     ]
    }
   ],
   "source": [
    "import pandas as pd\n",
    "import numpy as np\n",
    "import seaborn as sns\n",
    "import matplotlib.pyplot as plt\n",
    "import os\n",
    "import glob\n",
    "import datetime\n",
    "import math\n",
    "import time\n",
    "\n",
    "# scipy libraries\n",
    "from scipy import stats\n",
    "from scipy.stats.mstats import winsorize\n",
    "\n",
    "# statsmodels libraries\n",
    "import statsmodels.api as sm\n",
    "from statsmodels.formula.api import ols\n",
    "\n",
    "# sklearn libraries\n",
    "from sklearn.preprocessing import OneHotEncoder, Normalizer, LabelEncoder, StandardScaler, MinMaxScaler\n",
    "from sklearn.model_selection import train_test_split\n",
    "from sklearn.linear_model import LinearRegression, LogisticRegression\n",
    "from sklearn.metrics import mean_squared_error, r2_score, confusion_matrix\n",
    "from sklearn.neighbors import KNeighborsRegressor\n",
    "\n",
    "# balancing libraries\n",
    "from imblearn.over_sampling import SMOTE\n",
    "from imblearn.under_sampling import TomekLinks\n",
    "\n",
    "# language libraries\n",
    "from textblob import TextBlob\n",
    "import langid\n",
    "import yake\n",
    "from rake_nltk import Rake\n",
    "import nltk\n",
    "nltk.download('stopwords')\n",
    "import nltk\n",
    "nltk.download('punkt')\n",
    "\n",
    "# ignore warnings\n",
    "import warnings\n",
    "warnings.filterwarnings('ignore')"
   ]
  },
  {
   "cell_type": "markdown",
   "metadata": {},
   "source": [
    "## import data"
   ]
  },
  {
   "cell_type": "code",
   "execution_count": 131,
   "metadata": {},
   "outputs": [
    {
     "data": {
      "text/plain": [
       "['dataset_my-task-1_2021-10-31_18-52-00-573.xlsx',\n",
       " 'dataset_my-task-1_2021-10-31_22-32-25-255.xlsx',\n",
       " 'dataset_my-task-1_2021-11-01_17-24-18-413.xlsx',\n",
       " 'dataset_my-task-1_2021-11-02_17-57-06-970.xlsx',\n",
       " 'dataset_my-task-2_2021-10-31_18-52-00-523.xlsx',\n",
       " 'dataset_my-task-2_2021-10-31_22-37-00-186.xlsx',\n",
       " 'dataset_my-task-2_2021-11-01_17-24-30-852.xlsx',\n",
       " 'dataset_my-task-2_2021-11-02_17-57-06-586.xlsx',\n",
       " 'dataset_my-task-3_2021-10-31_18-52-00-929.xlsx',\n",
       " 'dataset_my-task-3_2021-10-31_22-32-19-791.xlsx',\n",
       " 'dataset_my-task-3_2021-11-01_17-24-21-989.xlsx',\n",
       " 'dataset_my-task-3_2021-11-02_17-57-09-804.xlsx',\n",
       " 'dataset_my-task-4_2021-10-31_18-51-58-474.xlsx',\n",
       " 'dataset_my-task-4_2021-10-31_22-32-30-946.xlsx',\n",
       " 'dataset_my-task-4_2021-11-01_17-24-24-455.xlsx',\n",
       " 'dataset_my-task-4_2021-11-02_17-57-08-310.xlsx',\n",
       " 'dataset_my-task_2021-10-31_18-51-58-693.xlsx',\n",
       " 'dataset_my-task_2021-10-31_22-32-41-350.xlsx',\n",
       " 'dataset_my-task_2021-11-01_17-24-19-839.xlsx',\n",
       " 'kickstarter_all_enddate_30102021.xlsx',\n",
       " 'kickstarter_all_mostbacked.xlsx',\n",
       " 'kickstarter_all_newest_30102021.xlsx',\n",
       " 'kickstarter_all_popularity_30102021.xlsx',\n",
       " 'kickstarter_art_enddate.xlsx',\n",
       " 'kickstarter_art_newest.xlsx',\n",
       " 'kickstarter_comics_enddate.xlsx',\n",
       " 'kickstarter_comics_newest.xlsx',\n",
       " 'kickstarter_crafts_enddate.xlsx',\n",
       " 'kickstarter_crafts_newest.xlsx',\n",
       " 'kickstarter_dance_enddate.xlsx',\n",
       " 'kickstarter_dance_enddate2.xlsx',\n",
       " 'kickstarter_dance_newest.xlsx',\n",
       " 'kickstarter_design_enddate.xlsx',\n",
       " 'kickstarter_design_newest.xlsx',\n",
       " 'kickstarter_fashion_enddate.xlsx',\n",
       " 'kickstarter_fashion_newest.xlsx',\n",
       " 'kickstarter_film_enddate.xlsx',\n",
       " 'kickstarter_food_enddate.xlsx',\n",
       " 'ks_ed_art_31102021.xlsx',\n",
       " 'ks_ed_comics_31102021.xlsx',\n",
       " 'ks_ed_crafts_31102021.xlsx',\n",
       " 'ks_photography_31102021.xlsx',\n",
       " 'ks_technology_31102021.xlsx',\n",
       " 'ks_theater_31102021.xlsx']"
      ]
     },
     "execution_count": 131,
     "metadata": {},
     "output_type": "execute_result"
    }
   ],
   "source": [
    "files = os.listdir('Data')\n",
    "files"
   ]
  },
  {
   "cell_type": "code",
   "execution_count": 132,
   "metadata": {},
   "outputs": [],
   "source": [
    "files = os.listdir('Data')\n",
    "\n",
    "df = pd.DataFrame()\n",
    "\n",
    "path = os.getcwd() + \"\\\\Data\" + \"\\\\\"\n",
    "\n",
    "for i in files:\n",
    "    data = pd.read_excel(path + i)\n",
    "    df = df.append(data)"
   ]
  },
  {
   "cell_type": "markdown",
   "metadata": {},
   "source": [
    "## first review and clean data"
   ]
  },
  {
   "cell_type": "markdown",
   "metadata": {},
   "source": [
    "### review"
   ]
  },
  {
   "cell_type": "code",
   "execution_count": 133,
   "metadata": {},
   "outputs": [
    {
     "name": "stdout",
     "output_type": "stream",
     "text": [
      "This dataset contains 29472 rows and 47 columns\n"
     ]
    }
   ],
   "source": [
    "print(\"This dataset contains {} rows and {} columns\".format(*df.shape))"
   ]
  },
  {
   "cell_type": "code",
   "execution_count": 134,
   "metadata": {},
   "outputs": [
    {
     "data": {
      "text/html": [
       "<div>\n",
       "<style scoped>\n",
       "    .dataframe tbody tr th:only-of-type {\n",
       "        vertical-align: middle;\n",
       "    }\n",
       "\n",
       "    .dataframe tbody tr th {\n",
       "        vertical-align: top;\n",
       "    }\n",
       "\n",
       "    .dataframe thead th {\n",
       "        text-align: right;\n",
       "    }\n",
       "</style>\n",
       "<table border=\"1\" class=\"dataframe\">\n",
       "  <thead>\n",
       "    <tr style=\"text-align: right;\">\n",
       "      <th></th>\n",
       "      <th>backers_count</th>\n",
       "      <th>blurb</th>\n",
       "      <th>categoryId</th>\n",
       "      <th>categoryName</th>\n",
       "      <th>categorySlug</th>\n",
       "      <th>converted_pledged_amount</th>\n",
       "      <th>country</th>\n",
       "      <th>country_displayable_name</th>\n",
       "      <th>created_at</th>\n",
       "      <th>created_at_formatted</th>\n",
       "      <th>...</th>\n",
       "      <th>state</th>\n",
       "      <th>state_changed_at</th>\n",
       "      <th>static_usd_rate</th>\n",
       "      <th>title</th>\n",
       "      <th>url</th>\n",
       "      <th>usd_exchange_rate</th>\n",
       "      <th>usd_pledged</th>\n",
       "      <th>usd_type</th>\n",
       "      <th>is_backing</th>\n",
       "      <th>is_starred</th>\n",
       "    </tr>\n",
       "  </thead>\n",
       "  <tbody>\n",
       "    <tr>\n",
       "      <th>1279</th>\n",
       "      <td>449</td>\n",
       "      <td>A mythical woman with strange powers and a dar...</td>\n",
       "      <td>250</td>\n",
       "      <td>Comic Books</td>\n",
       "      <td>comics/comic books</td>\n",
       "      <td>9139</td>\n",
       "      <td>GB</td>\n",
       "      <td>the United Kingdom</td>\n",
       "      <td>1619086264</td>\n",
       "      <td>Thu, 22 Apr 2021 10:11:04 +0000</td>\n",
       "      <td>...</td>\n",
       "      <td>successful</td>\n",
       "      <td>1623137369</td>\n",
       "      <td>1.387473</td>\n",
       "      <td>Rusalka | Part 1</td>\n",
       "      <td>https://www.kickstarter.com/projects/pigeongir...</td>\n",
       "      <td>1.416052</td>\n",
       "      <td>8954.747580</td>\n",
       "      <td>international</td>\n",
       "      <td>NaN</td>\n",
       "      <td>NaN</td>\n",
       "    </tr>\n",
       "    <tr>\n",
       "      <th>1723</th>\n",
       "      <td>29</td>\n",
       "      <td>A hard enamel pin collection of the Genshin Im...</td>\n",
       "      <td>22</td>\n",
       "      <td>Illustration</td>\n",
       "      <td>art/illustration</td>\n",
       "      <td>1484</td>\n",
       "      <td>DE</td>\n",
       "      <td>Germany</td>\n",
       "      <td>1612671141</td>\n",
       "      <td>Sun, 07 Feb 2021 04:12:21 +0000</td>\n",
       "      <td>...</td>\n",
       "      <td>successful</td>\n",
       "      <td>1618941602</td>\n",
       "      <td>1.194650</td>\n",
       "      <td>Heroes of Teyvat - Genshin Impact Hard Enamel ...</td>\n",
       "      <td>https://www.kickstarter.com/projects/kiosaurus...</td>\n",
       "      <td>1.206671</td>\n",
       "      <td>1469.419943</td>\n",
       "      <td>domestic</td>\n",
       "      <td>NaN</td>\n",
       "      <td>NaN</td>\n",
       "    </tr>\n",
       "    <tr>\n",
       "      <th>1322</th>\n",
       "      <td>89</td>\n",
       "      <td>A timeless and rugged explorer watch</td>\n",
       "      <td>28</td>\n",
       "      <td>Product Design</td>\n",
       "      <td>design/product design</td>\n",
       "      <td>52622</td>\n",
       "      <td>DK</td>\n",
       "      <td>Denmark</td>\n",
       "      <td>1613986545</td>\n",
       "      <td>Mon, 22 Feb 2021 09:35:45 +0000</td>\n",
       "      <td>...</td>\n",
       "      <td>successful</td>\n",
       "      <td>1619953200</td>\n",
       "      <td>0.161007</td>\n",
       "      <td>Pacific Explorer By Coast Watch Company</td>\n",
       "      <td>https://www.kickstarter.com/projects/coastwatc...</td>\n",
       "      <td>0.161648</td>\n",
       "      <td>52413.686763</td>\n",
       "      <td>domestic</td>\n",
       "      <td>NaN</td>\n",
       "      <td>NaN</td>\n",
       "    </tr>\n",
       "    <tr>\n",
       "      <th>1710</th>\n",
       "      <td>125</td>\n",
       "      <td>High-quality vegan leather Ita Bag Crossbody P...</td>\n",
       "      <td>262</td>\n",
       "      <td>Accessories</td>\n",
       "      <td>fashion/accessories</td>\n",
       "      <td>9092</td>\n",
       "      <td>CA</td>\n",
       "      <td>Canada</td>\n",
       "      <td>1590612072</td>\n",
       "      <td>Wed, 27 May 2020 20:41:12 +0000</td>\n",
       "      <td>...</td>\n",
       "      <td>successful</td>\n",
       "      <td>1593637246</td>\n",
       "      <td>0.726267</td>\n",
       "      <td>Kusari Ita Bag Crossbody</td>\n",
       "      <td>https://www.kickstarter.com/projects/daymare/k...</td>\n",
       "      <td>0.736595</td>\n",
       "      <td>8965.244540</td>\n",
       "      <td>domestic</td>\n",
       "      <td>NaN</td>\n",
       "      <td>NaN</td>\n",
       "    </tr>\n",
       "    <tr>\n",
       "      <th>1918</th>\n",
       "      <td>108</td>\n",
       "      <td>Appreciate the beauty of wood. Challenge yours...</td>\n",
       "      <td>28</td>\n",
       "      <td>Product Design</td>\n",
       "      <td>design/product design</td>\n",
       "      <td>5879</td>\n",
       "      <td>HK</td>\n",
       "      <td>Hong Kong</td>\n",
       "      <td>1610353049</td>\n",
       "      <td>Mon, 11 Jan 2021 08:17:29 +0000</td>\n",
       "      <td>...</td>\n",
       "      <td>successful</td>\n",
       "      <td>1613133163</td>\n",
       "      <td>0.128960</td>\n",
       "      <td>Walli - The Challenging Wooden Puzzle and Home...</td>\n",
       "      <td>https://www.kickstarter.com/projects/woodas/wa...</td>\n",
       "      <td>0.128981</td>\n",
       "      <td>5878.909093</td>\n",
       "      <td>domestic</td>\n",
       "      <td>NaN</td>\n",
       "      <td>NaN</td>\n",
       "    </tr>\n",
       "  </tbody>\n",
       "</table>\n",
       "<p>5 rows × 47 columns</p>\n",
       "</div>"
      ],
      "text/plain": [
       "      backers_count                                              blurb  \\\n",
       "1279            449  A mythical woman with strange powers and a dar...   \n",
       "1723             29  A hard enamel pin collection of the Genshin Im...   \n",
       "1322             89               A timeless and rugged explorer watch   \n",
       "1710            125  High-quality vegan leather Ita Bag Crossbody P...   \n",
       "1918            108  Appreciate the beauty of wood. Challenge yours...   \n",
       "\n",
       "      categoryId    categoryName           categorySlug  \\\n",
       "1279         250     Comic Books     comics/comic books   \n",
       "1723          22    Illustration       art/illustration   \n",
       "1322          28  Product Design  design/product design   \n",
       "1710         262     Accessories    fashion/accessories   \n",
       "1918          28  Product Design  design/product design   \n",
       "\n",
       "      converted_pledged_amount country country_displayable_name  created_at  \\\n",
       "1279                      9139      GB       the United Kingdom  1619086264   \n",
       "1723                      1484      DE                  Germany  1612671141   \n",
       "1322                     52622      DK                  Denmark  1613986545   \n",
       "1710                      9092      CA                   Canada  1590612072   \n",
       "1918                      5879      HK                Hong Kong  1610353049   \n",
       "\n",
       "                 created_at_formatted  ...       state  state_changed_at  \\\n",
       "1279  Thu, 22 Apr 2021 10:11:04 +0000  ...  successful        1623137369   \n",
       "1723  Sun, 07 Feb 2021 04:12:21 +0000  ...  successful        1618941602   \n",
       "1322  Mon, 22 Feb 2021 09:35:45 +0000  ...  successful        1619953200   \n",
       "1710  Wed, 27 May 2020 20:41:12 +0000  ...  successful        1593637246   \n",
       "1918  Mon, 11 Jan 2021 08:17:29 +0000  ...  successful        1613133163   \n",
       "\n",
       "     static_usd_rate                                              title  \\\n",
       "1279        1.387473                                   Rusalka | Part 1   \n",
       "1723        1.194650  Heroes of Teyvat - Genshin Impact Hard Enamel ...   \n",
       "1322        0.161007            Pacific Explorer By Coast Watch Company   \n",
       "1710        0.726267                           Kusari Ita Bag Crossbody   \n",
       "1918        0.128960  Walli - The Challenging Wooden Puzzle and Home...   \n",
       "\n",
       "                                                    url usd_exchange_rate  \\\n",
       "1279  https://www.kickstarter.com/projects/pigeongir...          1.416052   \n",
       "1723  https://www.kickstarter.com/projects/kiosaurus...          1.206671   \n",
       "1322  https://www.kickstarter.com/projects/coastwatc...          0.161648   \n",
       "1710  https://www.kickstarter.com/projects/daymare/k...          0.736595   \n",
       "1918  https://www.kickstarter.com/projects/woodas/wa...          0.128981   \n",
       "\n",
       "       usd_pledged       usd_type  is_backing is_starred  \n",
       "1279   8954.747580  international         NaN        NaN  \n",
       "1723   1469.419943       domestic         NaN        NaN  \n",
       "1322  52413.686763       domestic         NaN        NaN  \n",
       "1710   8965.244540       domestic         NaN        NaN  \n",
       "1918   5878.909093       domestic         NaN        NaN  \n",
       "\n",
       "[5 rows x 47 columns]"
      ]
     },
     "execution_count": 134,
     "metadata": {},
     "output_type": "execute_result"
    }
   ],
   "source": [
    "df.sample(5)"
   ]
  },
  {
   "cell_type": "markdown",
   "metadata": {},
   "source": [
    "### review column names"
   ]
  },
  {
   "cell_type": "code",
   "execution_count": 135,
   "metadata": {},
   "outputs": [
    {
     "data": {
      "text/plain": [
       "Index(['backers_count', 'blurb', 'categoryId', 'categoryName', 'categorySlug',\n",
       "       'converted_pledged_amount', 'country', 'country_displayable_name',\n",
       "       'created_at', 'created_at_formatted', 'creatorAvatar', 'creatorId',\n",
       "       'creatorName', 'creatorUrl', 'currency', 'currency_symbol',\n",
       "       'currency_trailing_code', 'current_currency', 'deadline', 'description',\n",
       "       'disable_communication', 'fx_rate', 'goal', 'id', 'is_starrable',\n",
       "       'launched_at', 'launched_at_formatted', 'link', 'locationId',\n",
       "       'locationName', 'name', 'photo', 'pledged', 'pubDate', 'slug',\n",
       "       'spotlight', 'staff_pick', 'state', 'state_changed_at',\n",
       "       'static_usd_rate', 'title', 'url', 'usd_exchange_rate', 'usd_pledged',\n",
       "       'usd_type', 'is_backing', 'is_starred'],\n",
       "      dtype='object')"
      ]
     },
     "execution_count": 135,
     "metadata": {},
     "output_type": "execute_result"
    }
   ],
   "source": [
    "df.columns"
   ]
  },
  {
   "cell_type": "markdown",
   "metadata": {},
   "source": [
    "no cleaning of column names required"
   ]
  },
  {
   "cell_type": "markdown",
   "metadata": {},
   "source": [
    "### Drop Duplicates"
   ]
  },
  {
   "cell_type": "code",
   "execution_count": 136,
   "metadata": {},
   "outputs": [],
   "source": [
    "before_dropping_duplicates = df.shape"
   ]
  },
  {
   "cell_type": "code",
   "execution_count": 137,
   "metadata": {},
   "outputs": [],
   "source": [
    "df = df.drop_duplicates()"
   ]
  },
  {
   "cell_type": "code",
   "execution_count": 138,
   "metadata": {},
   "outputs": [],
   "source": [
    "after_dropping_duplicates = df.shape"
   ]
  },
  {
   "cell_type": "code",
   "execution_count": 139,
   "metadata": {},
   "outputs": [
    {
     "data": {
      "text/plain": [
       "2539"
      ]
     },
     "execution_count": 139,
     "metadata": {},
     "output_type": "execute_result"
    }
   ],
   "source": [
    "# duplicate rows that have been dropped ... \n",
    "\n",
    "before_dropping_duplicates[0] - after_dropping_duplicates[0]"
   ]
  },
  {
   "cell_type": "markdown",
   "metadata": {},
   "source": [
    "### drop duplicate projects with different values"
   ]
  },
  {
   "cell_type": "markdown",
   "metadata": {},
   "source": [
    "#### check for duplicate projects"
   ]
  },
  {
   "cell_type": "code",
   "execution_count": 140,
   "metadata": {},
   "outputs": [
    {
     "data": {
      "text/plain": [
       "8820"
      ]
     },
     "execution_count": 140,
     "metadata": {},
     "output_type": "execute_result"
    }
   ],
   "source": [
    "df.duplicated(subset='id', keep='first').sum()"
   ]
  },
  {
   "cell_type": "markdown",
   "metadata": {},
   "source": [
    "#### review duplicates"
   ]
  },
  {
   "cell_type": "code",
   "execution_count": 141,
   "metadata": {},
   "outputs": [
    {
     "data": {
      "text/html": [
       "<div>\n",
       "<style scoped>\n",
       "    .dataframe tbody tr th:only-of-type {\n",
       "        vertical-align: middle;\n",
       "    }\n",
       "\n",
       "    .dataframe tbody tr th {\n",
       "        vertical-align: top;\n",
       "    }\n",
       "\n",
       "    .dataframe thead th {\n",
       "        text-align: right;\n",
       "    }\n",
       "</style>\n",
       "<table border=\"1\" class=\"dataframe\">\n",
       "  <thead>\n",
       "    <tr style=\"text-align: right;\">\n",
       "      <th></th>\n",
       "      <th>backers_count</th>\n",
       "      <th>blurb</th>\n",
       "      <th>categoryId</th>\n",
       "      <th>categoryName</th>\n",
       "      <th>categorySlug</th>\n",
       "      <th>converted_pledged_amount</th>\n",
       "      <th>country</th>\n",
       "      <th>country_displayable_name</th>\n",
       "      <th>created_at</th>\n",
       "      <th>created_at_formatted</th>\n",
       "      <th>...</th>\n",
       "      <th>state</th>\n",
       "      <th>state_changed_at</th>\n",
       "      <th>static_usd_rate</th>\n",
       "      <th>title</th>\n",
       "      <th>url</th>\n",
       "      <th>usd_exchange_rate</th>\n",
       "      <th>usd_pledged</th>\n",
       "      <th>usd_type</th>\n",
       "      <th>is_backing</th>\n",
       "      <th>is_starred</th>\n",
       "    </tr>\n",
       "  </thead>\n",
       "  <tbody>\n",
       "    <tr>\n",
       "      <th>1976</th>\n",
       "      <td>7798</td>\n",
       "      <td>Reuse and recycle plastic bottles of all kinds...</td>\n",
       "      <td>28</td>\n",
       "      <td>Product Design</td>\n",
       "      <td>design/product design</td>\n",
       "      <td>400276</td>\n",
       "      <td>FR</td>\n",
       "      <td>France</td>\n",
       "      <td>1454599119</td>\n",
       "      <td>Thu, 04 Feb 2016 15:18:39 +0000</td>\n",
       "      <td>...</td>\n",
       "      <td>successful</td>\n",
       "      <td>1461409167</td>\n",
       "      <td>1.111204</td>\n",
       "      <td>Plastic Bottle Cutter</td>\n",
       "      <td>https://www.kickstarter.com/projects/910418035...</td>\n",
       "      <td>1.12246</td>\n",
       "      <td>396262.032441</td>\n",
       "      <td>domestic</td>\n",
       "      <td>NaN</td>\n",
       "      <td>NaN</td>\n",
       "    </tr>\n",
       "    <tr>\n",
       "      <th>1976</th>\n",
       "      <td>7798</td>\n",
       "      <td>Reuse and recycle plastic bottles of all kinds...</td>\n",
       "      <td>28</td>\n",
       "      <td>Product Design</td>\n",
       "      <td>design/product design</td>\n",
       "      <td>400276</td>\n",
       "      <td>FR</td>\n",
       "      <td>France</td>\n",
       "      <td>1454599119</td>\n",
       "      <td>Thu, 04 Feb 2016 15:18:39 +0000</td>\n",
       "      <td>...</td>\n",
       "      <td>successful</td>\n",
       "      <td>1461409167</td>\n",
       "      <td>1.111204</td>\n",
       "      <td>Plastic Bottle Cutter</td>\n",
       "      <td>https://www.kickstarter.com/projects/910418035...</td>\n",
       "      <td>1.12246</td>\n",
       "      <td>396262.032441</td>\n",
       "      <td>international</td>\n",
       "      <td>NaN</td>\n",
       "      <td>NaN</td>\n",
       "    </tr>\n",
       "    <tr>\n",
       "      <th>213</th>\n",
       "      <td>78</td>\n",
       "      <td>A fun hackable handheld gaming console &amp; learn...</td>\n",
       "      <td>52</td>\n",
       "      <td>Hardware</td>\n",
       "      <td>technology/hardware</td>\n",
       "      <td>8054</td>\n",
       "      <td>GB</td>\n",
       "      <td>the United Kingdom</td>\n",
       "      <td>1634240494</td>\n",
       "      <td>Thu, 14 Oct 2021 19:41:34 +0000</td>\n",
       "      <td>...</td>\n",
       "      <td>live</td>\n",
       "      <td>1635346827</td>\n",
       "      <td>1.376580</td>\n",
       "      <td>8BitCADE Level UP - Fun Hackable Game Console ...</td>\n",
       "      <td>https://www.kickstarter.com/projects/jackdaly/...</td>\n",
       "      <td>1.37947</td>\n",
       "      <td>8038.070698</td>\n",
       "      <td>domestic</td>\n",
       "      <td>NaN</td>\n",
       "      <td>NaN</td>\n",
       "    </tr>\n",
       "    <tr>\n",
       "      <th>208</th>\n",
       "      <td>78</td>\n",
       "      <td>A fun hackable handheld gaming console &amp; learn...</td>\n",
       "      <td>52</td>\n",
       "      <td>Hardware</td>\n",
       "      <td>technology/hardware</td>\n",
       "      <td>8054</td>\n",
       "      <td>GB</td>\n",
       "      <td>the United Kingdom</td>\n",
       "      <td>1634240494</td>\n",
       "      <td>Thu, 14 Oct 2021 19:41:34 +0000</td>\n",
       "      <td>...</td>\n",
       "      <td>live</td>\n",
       "      <td>1635346827</td>\n",
       "      <td>1.376580</td>\n",
       "      <td>8BitCADE Level UP - Fun Hackable Game Console ...</td>\n",
       "      <td>https://www.kickstarter.com/projects/jackdaly/...</td>\n",
       "      <td>1.37947</td>\n",
       "      <td>8038.070698</td>\n",
       "      <td>domestic</td>\n",
       "      <td>NaN</td>\n",
       "      <td>NaN</td>\n",
       "    </tr>\n",
       "    <tr>\n",
       "      <th>1818</th>\n",
       "      <td>109</td>\n",
       "      <td>A 78 card tarot deck with a little bit of ever...</td>\n",
       "      <td>22</td>\n",
       "      <td>Illustration</td>\n",
       "      <td>art/illustration</td>\n",
       "      <td>13082</td>\n",
       "      <td>US</td>\n",
       "      <td>the United States</td>\n",
       "      <td>1612369415</td>\n",
       "      <td>Wed, 03 Feb 2021 16:23:35 +0000</td>\n",
       "      <td>...</td>\n",
       "      <td>successful</td>\n",
       "      <td>1618113600</td>\n",
       "      <td>1.000000</td>\n",
       "      <td>The Fools Tarot</td>\n",
       "      <td>https://www.kickstarter.com/projects/nyahouse/...</td>\n",
       "      <td>1.00000</td>\n",
       "      <td>13082.000000</td>\n",
       "      <td>international</td>\n",
       "      <td>NaN</td>\n",
       "      <td>NaN</td>\n",
       "    </tr>\n",
       "    <tr>\n",
       "      <th>...</th>\n",
       "      <td>...</td>\n",
       "      <td>...</td>\n",
       "      <td>...</td>\n",
       "      <td>...</td>\n",
       "      <td>...</td>\n",
       "      <td>...</td>\n",
       "      <td>...</td>\n",
       "      <td>...</td>\n",
       "      <td>...</td>\n",
       "      <td>...</td>\n",
       "      <td>...</td>\n",
       "      <td>...</td>\n",
       "      <td>...</td>\n",
       "      <td>...</td>\n",
       "      <td>...</td>\n",
       "      <td>...</td>\n",
       "      <td>...</td>\n",
       "      <td>...</td>\n",
       "      <td>...</td>\n",
       "      <td>...</td>\n",
       "      <td>...</td>\n",
       "    </tr>\n",
       "    <tr>\n",
       "      <th>135</th>\n",
       "      <td>114</td>\n",
       "      <td>A collection of Lewd Art and Comics about Mons...</td>\n",
       "      <td>22</td>\n",
       "      <td>Illustration</td>\n",
       "      <td>art/illustration</td>\n",
       "      <td>2334</td>\n",
       "      <td>GB</td>\n",
       "      <td>the United Kingdom</td>\n",
       "      <td>1630222933</td>\n",
       "      <td>Sun, 29 Aug 2021 07:42:13 +0000</td>\n",
       "      <td>...</td>\n",
       "      <td>live</td>\n",
       "      <td>1630571977</td>\n",
       "      <td>1.373808</td>\n",
       "      <td>Monster Layer</td>\n",
       "      <td>https://www.kickstarter.com/projects/marcodrag...</td>\n",
       "      <td>1.36850</td>\n",
       "      <td>2343.715663</td>\n",
       "      <td>domestic</td>\n",
       "      <td>NaN</td>\n",
       "      <td>NaN</td>\n",
       "    </tr>\n",
       "    <tr>\n",
       "      <th>20</th>\n",
       "      <td>114</td>\n",
       "      <td>A collection of Lewd Art and Comics about Mons...</td>\n",
       "      <td>22</td>\n",
       "      <td>Illustration</td>\n",
       "      <td>art/illustration</td>\n",
       "      <td>2340</td>\n",
       "      <td>GB</td>\n",
       "      <td>the United Kingdom</td>\n",
       "      <td>1630222933</td>\n",
       "      <td>Sun, 29 Aug 2021 07:42:13 +0000</td>\n",
       "      <td>...</td>\n",
       "      <td>live</td>\n",
       "      <td>1630571977</td>\n",
       "      <td>1.373808</td>\n",
       "      <td>Monster Layer</td>\n",
       "      <td>https://www.kickstarter.com/projects/marcodrag...</td>\n",
       "      <td>1.36850</td>\n",
       "      <td>2349.210893</td>\n",
       "      <td>domestic</td>\n",
       "      <td>NaN</td>\n",
       "      <td>NaN</td>\n",
       "    </tr>\n",
       "    <tr>\n",
       "      <th>325</th>\n",
       "      <td>98</td>\n",
       "      <td>A collection of Lewd Art and Comics about Mons...</td>\n",
       "      <td>22</td>\n",
       "      <td>Illustration</td>\n",
       "      <td>art/illustration</td>\n",
       "      <td>2027</td>\n",
       "      <td>GB</td>\n",
       "      <td>the United Kingdom</td>\n",
       "      <td>1630222933</td>\n",
       "      <td>Sun, 29 Aug 2021 07:42:13 +0000</td>\n",
       "      <td>...</td>\n",
       "      <td>live</td>\n",
       "      <td>1630571977</td>\n",
       "      <td>1.373808</td>\n",
       "      <td>Monster Layer</td>\n",
       "      <td>https://www.kickstarter.com/projects/marcodrag...</td>\n",
       "      <td>1.37947</td>\n",
       "      <td>2019.497084</td>\n",
       "      <td>domestic</td>\n",
       "      <td>NaN</td>\n",
       "      <td>NaN</td>\n",
       "    </tr>\n",
       "    <tr>\n",
       "      <th>888</th>\n",
       "      <td>38</td>\n",
       "      <td>An indie pilot about two best friends,Mugshot ...</td>\n",
       "      <td>290</td>\n",
       "      <td>Video Art</td>\n",
       "      <td>art/video art</td>\n",
       "      <td>1537</td>\n",
       "      <td>US</td>\n",
       "      <td>the United States</td>\n",
       "      <td>1622493756</td>\n",
       "      <td>Mon, 31 May 2021 20:42:36 +0000</td>\n",
       "      <td>...</td>\n",
       "      <td>successful</td>\n",
       "      <td>1628103600</td>\n",
       "      <td>1.000000</td>\n",
       "      <td>Mugshot&amp;Pollen (Animated Pilot)</td>\n",
       "      <td>https://www.kickstarter.com/projects/mnpcartoo...</td>\n",
       "      <td>1.00000</td>\n",
       "      <td>1537.000000</td>\n",
       "      <td>domestic</td>\n",
       "      <td>NaN</td>\n",
       "      <td>NaN</td>\n",
       "    </tr>\n",
       "    <tr>\n",
       "      <th>1102</th>\n",
       "      <td>38</td>\n",
       "      <td>An indie pilot about two best friends,Mugshot ...</td>\n",
       "      <td>290</td>\n",
       "      <td>Video Art</td>\n",
       "      <td>art/video art</td>\n",
       "      <td>1537</td>\n",
       "      <td>US</td>\n",
       "      <td>the United States</td>\n",
       "      <td>1622493756</td>\n",
       "      <td>Mon, 31 May 2021 20:42:36 +0000</td>\n",
       "      <td>...</td>\n",
       "      <td>successful</td>\n",
       "      <td>1628103600</td>\n",
       "      <td>1.000000</td>\n",
       "      <td>Mugshot&amp;Pollen (Animated Pilot)</td>\n",
       "      <td>https://www.kickstarter.com/projects/mnpcartoo...</td>\n",
       "      <td>1.00000</td>\n",
       "      <td>1537.000000</td>\n",
       "      <td>domestic</td>\n",
       "      <td>NaN</td>\n",
       "      <td>NaN</td>\n",
       "    </tr>\n",
       "  </tbody>\n",
       "</table>\n",
       "<p>14435 rows × 47 columns</p>\n",
       "</div>"
      ],
      "text/plain": [
       "      backers_count                                              blurb  \\\n",
       "1976           7798  Reuse and recycle plastic bottles of all kinds...   \n",
       "1976           7798  Reuse and recycle plastic bottles of all kinds...   \n",
       "213              78  A fun hackable handheld gaming console & learn...   \n",
       "208              78  A fun hackable handheld gaming console & learn...   \n",
       "1818            109  A 78 card tarot deck with a little bit of ever...   \n",
       "...             ...                                                ...   \n",
       "135             114  A collection of Lewd Art and Comics about Mons...   \n",
       "20              114  A collection of Lewd Art and Comics about Mons...   \n",
       "325              98  A collection of Lewd Art and Comics about Mons...   \n",
       "888              38  An indie pilot about two best friends,Mugshot ...   \n",
       "1102             38  An indie pilot about two best friends,Mugshot ...   \n",
       "\n",
       "      categoryId    categoryName           categorySlug  \\\n",
       "1976          28  Product Design  design/product design   \n",
       "1976          28  Product Design  design/product design   \n",
       "213           52        Hardware    technology/hardware   \n",
       "208           52        Hardware    technology/hardware   \n",
       "1818          22    Illustration       art/illustration   \n",
       "...          ...             ...                    ...   \n",
       "135           22    Illustration       art/illustration   \n",
       "20            22    Illustration       art/illustration   \n",
       "325           22    Illustration       art/illustration   \n",
       "888          290       Video Art          art/video art   \n",
       "1102         290       Video Art          art/video art   \n",
       "\n",
       "      converted_pledged_amount country country_displayable_name  created_at  \\\n",
       "1976                    400276      FR                   France  1454599119   \n",
       "1976                    400276      FR                   France  1454599119   \n",
       "213                       8054      GB       the United Kingdom  1634240494   \n",
       "208                       8054      GB       the United Kingdom  1634240494   \n",
       "1818                     13082      US        the United States  1612369415   \n",
       "...                        ...     ...                      ...         ...   \n",
       "135                       2334      GB       the United Kingdom  1630222933   \n",
       "20                        2340      GB       the United Kingdom  1630222933   \n",
       "325                       2027      GB       the United Kingdom  1630222933   \n",
       "888                       1537      US        the United States  1622493756   \n",
       "1102                      1537      US        the United States  1622493756   \n",
       "\n",
       "                 created_at_formatted  ...       state  state_changed_at  \\\n",
       "1976  Thu, 04 Feb 2016 15:18:39 +0000  ...  successful        1461409167   \n",
       "1976  Thu, 04 Feb 2016 15:18:39 +0000  ...  successful        1461409167   \n",
       "213   Thu, 14 Oct 2021 19:41:34 +0000  ...        live        1635346827   \n",
       "208   Thu, 14 Oct 2021 19:41:34 +0000  ...        live        1635346827   \n",
       "1818  Wed, 03 Feb 2021 16:23:35 +0000  ...  successful        1618113600   \n",
       "...                               ...  ...         ...               ...   \n",
       "135   Sun, 29 Aug 2021 07:42:13 +0000  ...        live        1630571977   \n",
       "20    Sun, 29 Aug 2021 07:42:13 +0000  ...        live        1630571977   \n",
       "325   Sun, 29 Aug 2021 07:42:13 +0000  ...        live        1630571977   \n",
       "888   Mon, 31 May 2021 20:42:36 +0000  ...  successful        1628103600   \n",
       "1102  Mon, 31 May 2021 20:42:36 +0000  ...  successful        1628103600   \n",
       "\n",
       "     static_usd_rate                                              title  \\\n",
       "1976        1.111204                              Plastic Bottle Cutter   \n",
       "1976        1.111204                              Plastic Bottle Cutter   \n",
       "213         1.376580  8BitCADE Level UP - Fun Hackable Game Console ...   \n",
       "208         1.376580  8BitCADE Level UP - Fun Hackable Game Console ...   \n",
       "1818        1.000000                                    The Fools Tarot   \n",
       "...              ...                                                ...   \n",
       "135         1.373808                                      Monster Layer   \n",
       "20          1.373808                                      Monster Layer   \n",
       "325         1.373808                                      Monster Layer   \n",
       "888         1.000000                    Mugshot&Pollen (Animated Pilot)   \n",
       "1102        1.000000                    Mugshot&Pollen (Animated Pilot)   \n",
       "\n",
       "                                                    url usd_exchange_rate  \\\n",
       "1976  https://www.kickstarter.com/projects/910418035...           1.12246   \n",
       "1976  https://www.kickstarter.com/projects/910418035...           1.12246   \n",
       "213   https://www.kickstarter.com/projects/jackdaly/...           1.37947   \n",
       "208   https://www.kickstarter.com/projects/jackdaly/...           1.37947   \n",
       "1818  https://www.kickstarter.com/projects/nyahouse/...           1.00000   \n",
       "...                                                 ...               ...   \n",
       "135   https://www.kickstarter.com/projects/marcodrag...           1.36850   \n",
       "20    https://www.kickstarter.com/projects/marcodrag...           1.36850   \n",
       "325   https://www.kickstarter.com/projects/marcodrag...           1.37947   \n",
       "888   https://www.kickstarter.com/projects/mnpcartoo...           1.00000   \n",
       "1102  https://www.kickstarter.com/projects/mnpcartoo...           1.00000   \n",
       "\n",
       "        usd_pledged       usd_type  is_backing is_starred  \n",
       "1976  396262.032441       domestic         NaN        NaN  \n",
       "1976  396262.032441  international         NaN        NaN  \n",
       "213     8038.070698       domestic         NaN        NaN  \n",
       "208     8038.070698       domestic         NaN        NaN  \n",
       "1818   13082.000000  international         NaN        NaN  \n",
       "...             ...            ...         ...        ...  \n",
       "135     2343.715663       domestic         NaN        NaN  \n",
       "20      2349.210893       domestic         NaN        NaN  \n",
       "325     2019.497084       domestic         NaN        NaN  \n",
       "888     1537.000000       domestic         NaN        NaN  \n",
       "1102    1537.000000       domestic         NaN        NaN  \n",
       "\n",
       "[14435 rows x 47 columns]"
      ]
     },
     "execution_count": 141,
     "metadata": {},
     "output_type": "execute_result"
    }
   ],
   "source": [
    "df[df.duplicated(subset=['id'],keep=False)].sort_values(by=['id'])"
   ]
  },
  {
   "cell_type": "markdown",
   "metadata": {},
   "source": [
    "#### drop double listing of projects"
   ]
  },
  {
   "cell_type": "code",
   "execution_count": 142,
   "metadata": {},
   "outputs": [],
   "source": [
    "df = (df.sort_values(by=['id', 'converted_pledged_amount'], ascending=False).drop_duplicates(subset='id', keep= 'first').reset_index(drop=True))"
   ]
  },
  {
   "cell_type": "markdown",
   "metadata": {},
   "source": [
    "#### set id as index and review shape after drop"
   ]
  },
  {
   "cell_type": "code",
   "execution_count": 143,
   "metadata": {},
   "outputs": [],
   "source": [
    "df = df.set_index('id')"
   ]
  },
  {
   "cell_type": "code",
   "execution_count": 144,
   "metadata": {},
   "outputs": [
    {
     "data": {
      "text/plain": [
       "(18113, 46)"
      ]
     },
     "execution_count": 144,
     "metadata": {},
     "output_type": "execute_result"
    }
   ],
   "source": [
    "df.shape"
   ]
  },
  {
   "cell_type": "markdown",
   "metadata": {},
   "source": [
    "### review dtypes"
   ]
  },
  {
   "cell_type": "code",
   "execution_count": 145,
   "metadata": {},
   "outputs": [
    {
     "data": {
      "text/plain": [
       "backers_count                 int64\n",
       "blurb                        object\n",
       "categoryId                    int64\n",
       "categoryName                 object\n",
       "categorySlug                 object\n",
       "converted_pledged_amount      int64\n",
       "country                      object\n",
       "country_displayable_name     object\n",
       "created_at                    int64\n",
       "created_at_formatted         object\n",
       "creatorAvatar                object\n",
       "creatorId                     int64\n",
       "creatorName                  object\n",
       "creatorUrl                   object\n",
       "currency                     object\n",
       "currency_symbol              object\n",
       "currency_trailing_code         bool\n",
       "current_currency             object\n",
       "deadline                      int64\n",
       "description                  object\n",
       "disable_communication          bool\n",
       "fx_rate                     float64\n",
       "goal                        float64\n",
       "is_starrable                   bool\n",
       "launched_at                   int64\n",
       "launched_at_formatted        object\n",
       "link                         object\n",
       "locationId                    int64\n",
       "locationName                 object\n",
       "name                         object\n",
       "photo                       float64\n",
       "pledged                     float64\n",
       "pubDate                      object\n",
       "slug                         object\n",
       "spotlight                      bool\n",
       "staff_pick                     bool\n",
       "state                        object\n",
       "state_changed_at              int64\n",
       "static_usd_rate             float64\n",
       "title                        object\n",
       "url                          object\n",
       "usd_exchange_rate           float64\n",
       "usd_pledged                 float64\n",
       "usd_type                     object\n",
       "is_backing                   object\n",
       "is_starred                   object\n",
       "dtype: object"
      ]
     },
     "execution_count": 145,
     "metadata": {},
     "output_type": "execute_result"
    }
   ],
   "source": [
    "### Review DTypes\n",
    "\n",
    "df.dtypes\n",
    "\n",
    "# boolean columns death_event, smoking, sex, high_blood_pressure, diabetes, anaemia\n",
    "# df = df.astype({'death_event':'boolean', 'sex':'boolean', 'smoking':'boolean', 'high_blood_pressure':'boolean','diabetes':'boolean','anaemia':'boolean','age':'int64'})\n",
    "\n",
    "\n",
    "#df = df.astype({'polarity':'int64', 'subjectivity':'int64'})\n",
    "\n",
    "df.dtypes"
   ]
  },
  {
   "cell_type": "markdown",
   "metadata": {},
   "source": [
    "to review"
   ]
  },
  {
   "cell_type": "markdown",
   "metadata": {},
   "source": [
    "### Null Values"
   ]
  },
  {
   "cell_type": "code",
   "execution_count": 146,
   "metadata": {},
   "outputs": [
    {
     "data": {
      "text/plain": [
       "backers_count               False\n",
       "blurb                        True\n",
       "categoryId                  False\n",
       "categoryName                False\n",
       "categorySlug                False\n",
       "converted_pledged_amount    False\n",
       "country                     False\n",
       "country_displayable_name    False\n",
       "created_at                  False\n",
       "created_at_formatted        False\n",
       "creatorAvatar               False\n",
       "creatorId                   False\n",
       "creatorName                 False\n",
       "creatorUrl                  False\n",
       "currency                    False\n",
       "currency_symbol             False\n",
       "currency_trailing_code      False\n",
       "current_currency            False\n",
       "deadline                    False\n",
       "description                  True\n",
       "disable_communication       False\n",
       "fx_rate                     False\n",
       "goal                        False\n",
       "is_starrable                False\n",
       "launched_at                 False\n",
       "launched_at_formatted       False\n",
       "link                        False\n",
       "locationId                  False\n",
       "locationName                False\n",
       "name                        False\n",
       "photo                        True\n",
       "pledged                     False\n",
       "pubDate                     False\n",
       "slug                        False\n",
       "spotlight                   False\n",
       "staff_pick                  False\n",
       "state                       False\n",
       "state_changed_at            False\n",
       "static_usd_rate             False\n",
       "title                       False\n",
       "url                         False\n",
       "usd_exchange_rate           False\n",
       "usd_pledged                 False\n",
       "usd_type                     True\n",
       "is_backing                   True\n",
       "is_starred                   True\n",
       "dtype: bool"
      ]
     },
     "execution_count": 146,
     "metadata": {},
     "output_type": "execute_result"
    }
   ],
   "source": [
    "df.isna().any()"
   ]
  },
  {
   "cell_type": "markdown",
   "metadata": {},
   "source": [
    "No null values present in this dataset"
   ]
  },
  {
   "cell_type": "markdown",
   "metadata": {},
   "source": [
    "### Data Values"
   ]
  },
  {
   "cell_type": "code",
   "execution_count": 147,
   "metadata": {},
   "outputs": [
    {
     "name": "stdout",
     "output_type": "stream",
     "text": [
      "3199     1\n",
      "7713     1\n",
      "44949    1\n",
      "81567    1\n",
      "83193    1\n",
      "78471    1\n",
      "88887    1\n",
      "27168    1\n",
      "68929    1\n",
      "62642    1\n",
      "66673    1\n",
      "19264    1\n",
      "Name: backers_count, dtype: int64 \n",
      "\n",
      "A full-featured tripod in a truly portable form.                                                                                           1\n",
      "The COOLEST is a portable party disguised as a cooler, bringing blended drinks, music and fun to any outdoor occasion.                     1\n",
      "Pebble is a customizable watch. Download new watchfaces, use sports and fitness apps, get notifications from your phone.                   1\n",
      "Expandable capacity (3.6-25kWh) | Power almost anything (3.6-7.2kW) | Home battery ecosystem                                               1\n",
      "A revolutionary table that evolves over a lifetime. Innovative, yet affordable, with magnetic accessories. Crafted without compromise.     1\n",
      "Two affordable, heart rate-enabled smartwatches and a hackable, 3G wearable for phone-free running with GPS, music, and Amazon Alexa.      1\n",
      "An officially licensed tabletop roleplaying game set in the world of Avatar: The Last Airbender and The Legend of Korra                    1\n",
      "Critical Role's The Legend of Vox Machina reunites your favorite heroes for a professional-quality animated special!                       1\n",
      "Color e-paper smartwatch with up to 7 days of battery and a new timeline interface that highlights what's important in your day.           1\n",
      "Euro-inspired dungeon crawling sequel to the 2017 smash-hit Gloomhaven                                                                     1\n",
      "TRAVEL JACKET with built-in Neck Pillow, Eye Mask, Gloves, Earphone Holders, Drink Pocket, Tech Pockets of all sizes! Comes in 4 Styles    1\n",
      "A cooperative nightmare horror game experience. Hunt intelligent monsters and develop your settlement through a self-running campaign.     1\n",
      "Name: blurb, dtype: int64 \n",
      "\n",
      "28    6\n",
      "34    4\n",
      "29    1\n",
      "52    1\n",
      "Name: categoryId, dtype: int64 \n",
      "\n",
      "Product Design    6\n",
      "Tabletop Games    4\n",
      "Hardware          1\n",
      "Animation         1\n",
      "Name: categoryName, dtype: int64 \n",
      "\n",
      "design/product design     6\n",
      "games/tabletop games      4\n",
      "technology/hardware       1\n",
      "film & video/animation    1\n",
      "Name: categorySlug, dtype: int64 \n",
      "\n",
      "9192055     1\n",
      "10266845    1\n",
      "12143435    1\n",
      "20338986    1\n",
      "11385449    1\n",
      "12969608    1\n",
      "13285226    1\n",
      "9535317     1\n",
      "12179651    1\n",
      "12779843    1\n",
      "12393139    1\n",
      "8808136     1\n",
      "Name: converted_pledged_amount, dtype: int64 \n",
      "\n",
      "US    12\n",
      "Name: country, dtype: int64 \n",
      "\n",
      "the United States    12\n",
      "Name: country_displayable_name, dtype: int64 \n",
      "\n",
      "1592862564    1\n",
      "1556224168    1\n",
      "1478708204    1\n",
      "1549660952    1\n",
      "1625053977    1\n",
      "1423542328    1\n",
      "1332451302    1\n",
      "1581299604    1\n",
      "1433223299    1\n",
      "1382478674    1\n",
      "1623164955    1\n",
      "1463341264    1\n",
      "Name: created_at, dtype: int64 \n",
      "\n",
      "Thu, 22 Mar 2012 21:21:42 +0000    1\n",
      "Sun, 15 May 2016 19:41:04 +0000    1\n",
      "Wed, 30 Jun 2021 11:52:57 +0000    1\n",
      "Tue, 02 Jun 2015 05:34:59 +0000    1\n",
      "Mon, 22 Jun 2020 21:49:24 +0000    1\n",
      "Fri, 08 Feb 2019 21:22:32 +0000    1\n",
      "Thu, 25 Apr 2019 20:29:28 +0000    1\n",
      "Tue, 08 Jun 2021 15:09:15 +0000    1\n",
      "Tue, 22 Oct 2013 21:51:14 +0000    1\n",
      "Wed, 09 Nov 2016 16:16:44 +0000    1\n",
      "Tue, 10 Feb 2015 04:25:28 +0000    1\n",
      "Mon, 10 Feb 2020 01:53:24 +0000    1\n",
      "Name: created_at_formatted, dtype: int64 \n",
      "\n",
      "https://ksr-ugc.imgix.net/assets/005/919/900/6e98b1494ccadb7832308a0969af02d7_original.jpg?ixlib=rb-4.0.2&w=160&h=160&fit=crop&v=1481834108&auto=format&frame=1&q=92&s=452deda57cd27f7ca217c9e4948cab74     3\n",
      "https://ksr-ugc.imgix.net/assets/005/762/612/31b9a87d048b59cb4e490484059f35c7_original.jpeg?ixlib=rb-4.0.2&w=160&h=160&fit=crop&v=1461084012&auto=format&frame=1&q=92&s=cf045b1b610bed6ce8efd82ae070a4ff    1\n",
      "https://ksr-ugc.imgix.net/assets/006/167/734/d6fc9742e29e595f324605ddacb64146_original.jpg?ixlib=rb-4.0.2&w=160&h=160&fit=crop&v=1461370957&auto=format&frame=1&q=92&s=cd6fd961137933fcd54429b3cfb62b85     1\n",
      "https://ksr-ugc.imgix.net/assets/006/023/679/e2d8ec5dea004fd1f2bf17c7bb62d525_original.png?ixlib=rb-4.0.2&w=160&h=160&fit=crop&v=1510175320&auto=format&frame=1&q=92&s=dfa6dcabfac3c71bbca8199a18f3f3de     1\n",
      "https://ksr-ugc.imgix.net/assets/007/983/994/1cb13b3a59f8d2eee3600900a6b2273b_original.png?ixlib=rb-4.0.2&w=160&h=160&fit=crop&v=1461495322&auto=format&frame=1&q=92&s=3fed06965369aa8a5f0500227f075a5e     1\n",
      "https://ksr-ugc.imgix.net/assets/007/137/808/5ba3e2b29cdb897cdd709662875042fe_original.jpg?ixlib=rb-4.0.2&w=160&h=160&fit=crop&v=1585499202&auto=format&frame=1&q=92&s=246e58be8592a7b8f10bdc88f444b2ba     1\n",
      "https://ksr-ugc.imgix.net/assets/026/195/277/0a886e3c4c6ffb9534cb815536ae5782_original.jpg?ixlib=rb-4.0.2&w=160&h=160&fit=crop&v=1566282141&auto=format&frame=1&q=92&s=508b72457e1bd2e8ac7a217a353e2843     1\n",
      "https://ksr-ugc.imgix.net/assets/008/722/457/f2d4fbb7e4f7c0db57ef26c873fd7343_original.png?ixlib=rb-4.0.2&w=160&h=160&fit=crop&v=1552988200&auto=format&frame=1&q=92&s=0517aa11823bde408b092ef4ba94ac89     1\n",
      "https://ksr-ugc.imgix.net/assets/024/180/816/469a660f9552681e9c75621113877dcf_original.png?ixlib=rb-4.0.2&w=160&h=160&fit=crop&v=1550869205&auto=format&frame=1&q=92&s=649fe5a010f1f10a4d19551b763fb52a     1\n",
      "https://ksr-ugc.imgix.net/assets/015/493/690/378a13ff108142a2bd7d03346d1bcebe_original.png?ixlib=rb-4.0.2&w=160&h=160&fit=crop&v=1565892976&auto=format&frame=1&q=92&s=b056352880ca19fd65aaa3bf5f1afa76     1\n",
      "Name: creatorAvatar, dtype: int64 \n",
      "\n",
      "597507018     3\n",
      "597538543     1\n",
      "1007835190    1\n",
      "1998547133    1\n",
      "1436444454    1\n",
      "97103764      1\n",
      "203090294     1\n",
      "2121023188    1\n",
      "1350948450    1\n",
      "754081504     1\n",
      "Name: creatorId, dtype: int64 \n",
      "\n",
      "Pebble Technology    3\n",
      "EcoFlow              1\n",
      "Critical Role        1\n",
      "BAUBAX LLC           1\n",
      "Ryan Grepper         1\n",
      "Peak Design          1\n",
      "Kingdom Death        1\n",
      "Wyrmwood Gaming      1\n",
      "Magpie Games         1\n",
      "Isaac Childres       1\n",
      "Name: creatorName, dtype: int64 \n",
      "\n",
      "https://www.kickstarter.com/profile/getpebble       3\n",
      "https://www.kickstarter.com/profile/peak-design     1\n",
      "https://www.kickstarter.com/profile/magpiegames     1\n",
      "https://www.kickstarter.com/profile/poots           1\n",
      "https://www.kickstarter.com/profile/wyrmwood        1\n",
      "https://www.kickstarter.com/profile/ryangrepper     1\n",
      "https://www.kickstarter.com/profile/frosthaven      1\n",
      "https://www.kickstarter.com/profile/ecoflow         1\n",
      "https://www.kickstarter.com/profile/criticalrole    1\n",
      "https://www.kickstarter.com/profile/baubax          1\n",
      "Name: creatorUrl, dtype: int64 \n",
      "\n",
      "USD    12\n",
      "Name: currency, dtype: int64 \n",
      "\n",
      "$    12\n",
      "Name: currency_symbol, dtype: int64 \n",
      "\n",
      "True    12\n",
      "Name: currency_trailing_code, dtype: int64 \n",
      "\n",
      "USD    12\n",
      "Name: current_currency, dtype: int64 \n",
      "\n",
      "1483830000    1\n",
      "1337396400    1\n",
      "1588366800    1\n",
      "1441299600    1\n",
      "1630625400    1\n",
      "1631540391    1\n",
      "1467262800    1\n",
      "1602302340    1\n",
      "1555657140    1\n",
      "1409360400    1\n",
      "1563494400    1\n",
      "1427508000    1\n",
      "Name: deadline, dtype: int64 \n",
      "\n",
      "A full-featured tripod in a truly portable form.                                                                                           1\n",
      "The COOLEST is a portable party disguised as a cooler, bringing blended drinks, music and fun to any outdoor occasion.                     1\n",
      "Pebble is a customizable watch. Download new watchfaces, use sports and fitness apps, get notifications from your phone.                   1\n",
      "Expandable capacity (3.6-25kWh) | Power almost anything (3.6-7.2kW) | Home battery ecosystem                                               1\n",
      "A revolutionary table that evolves over a lifetime. Innovative, yet affordable, with magnetic accessories. Crafted without compromise.     1\n",
      "Two affordable, heart rate-enabled smartwatches and a hackable, 3G wearable for phone-free running with GPS, music, and Amazon Alexa.      1\n",
      "An officially licensed tabletop roleplaying game set in the world of Avatar: The Last Airbender and The Legend of Korra                    1\n",
      "Critical Role's The Legend of Vox Machina reunites your favorite heroes for a professional-quality animated special!                       1\n",
      "Color e-paper smartwatch with up to 7 days of battery and a new timeline interface that highlights what's important in your day.           1\n",
      "Euro-inspired dungeon crawling sequel to the 2017 smash-hit Gloomhaven                                                                     1\n",
      "TRAVEL JACKET with built-in Neck Pillow, Eye Mask, Gloves, Earphone Holders, Drink Pocket, Tech Pockets of all sizes! Comes in 4 Styles    1\n",
      "A cooperative nightmare horror game experience. Hunt intelligent monsters and develop your settlement through a self-running campaign.     1\n",
      "Name: description, dtype: int64 \n",
      "\n",
      "False    12\n",
      "Name: disable_communication, dtype: int64 \n",
      "\n",
      "1    12\n",
      "Name: fx_rate, dtype: int64 \n",
      "\n",
      "100000     3\n",
      "500000     3\n",
      "50000      2\n",
      "1000000    2\n",
      "20000      1\n",
      "750000     1\n",
      "Name: goal, dtype: int64 \n",
      "\n",
      "1289129165    1\n",
      "597041739     1\n",
      "2103598555    1\n",
      "374744378     1\n",
      "506924864     1\n",
      "545070200     1\n",
      "1198848775    1\n",
      "1799979574    1\n",
      "565687737     1\n",
      "645343012     1\n",
      "1010797520    1\n",
      "342886736     1\n",
      "Name: id, dtype: int64 \n",
      "\n",
      "False    12\n",
      "Name: is_starrable, dtype: int64 \n",
      "\n",
      "1585667038    1\n",
      "1404807277    1\n",
      "1334120344    1\n",
      "1424789082    1\n",
      "1597168462    1\n",
      "1551722069    1\n",
      "1626356391    1\n",
      "1480050101    1\n",
      "1436269954    1\n",
      "1627998936    1\n",
      "1558447202    1\n",
      "1464097792    1\n",
      "Name: launched_at, dtype: int64 \n",
      "\n",
      "Fri, 25 Nov 2016 05:01:41 +0000    1\n",
      "Tue, 08 Jul 2014 08:14:37 +0000    1\n",
      "Mon, 04 Mar 2019 17:54:29 +0000    1\n",
      "Thu, 15 Jul 2021 13:39:51 +0000    1\n",
      "Tue, 03 Aug 2021 13:55:36 +0000    1\n",
      "Tue, 07 Jul 2015 11:52:34 +0000    1\n",
      "Tue, 21 May 2019 14:00:02 +0000    1\n",
      "Tue, 24 May 2016 13:49:52 +0000    1\n",
      "Tue, 31 Mar 2020 15:03:58 +0000    1\n",
      "Wed, 11 Apr 2012 04:59:04 +0000    1\n",
      "Tue, 24 Feb 2015 14:44:42 +0000    1\n",
      "Tue, 11 Aug 2020 17:54:22 +0000    1\n",
      "Name: launched_at_formatted, dtype: int64 \n",
      "\n",
      "https://www.kickstarter.com/projects/frosthaven/frosthaven?ref=discovery_most_funded                                              1\n",
      "https://www.kickstarter.com/projects/poots/kingdom-death-monster-15?ref=discovery_most_funded                                     1\n",
      "https://www.kickstarter.com/projects/criticalrole/critical-role-the-legend-of-vox-machina-animated-s?ref=discovery_most_funded    1\n",
      "https://www.kickstarter.com/projects/getpebble/pebble-time-awesome-smartwatch-no-compromises?ref=discovery_most_funded            1\n",
      "https://www.kickstarter.com/projects/getpebble/pebble-2-time-2-and-core-an-entirely-new-3g-ultra?ref=discovery_most_funded        1\n",
      "https://www.kickstarter.com/projects/ecoflow/ecoflow-delta-pro?ref=discovery_most_funded                                          1\n",
      "https://www.kickstarter.com/projects/ryangrepper/coolest-cooler-21st-century-cooler-thats-actually?ref=discovery_most_funded      1\n",
      "https://www.kickstarter.com/projects/peak-design/travel-tripod-by-peak-design?ref=discovery_most_funded                           1\n",
      "https://www.kickstarter.com/projects/magpiegames/avatar-legends-the-roleplaying-game?ref=discovery_most_funded                    1\n",
      "https://www.kickstarter.com/projects/baubax/the-worlds-best-travel-jacket-with-15-features-bau?ref=discovery_most_funded          1\n",
      "https://www.kickstarter.com/projects/wyrmwood/modular-gaming-table?ref=discovery_most_funded                                      1\n",
      "https://www.kickstarter.com/projects/getpebble/pebble-e-paper-watch-for-iphone-and-android?ref=discovery_most_funded              1\n",
      "Name: link, dtype: int64 \n",
      "\n",
      "2442047    2\n",
      "2467861    2\n",
      "2479714    1\n",
      "2504265    1\n",
      "2411081    1\n",
      "2352824    1\n",
      "2475687    1\n",
      "2379574    1\n",
      "2487956    1\n",
      "2434562    1\n",
      "Name: locationId, dtype: int64 \n",
      "\n",
      "Palo Alto, CA           2\n",
      "Los Angeles, CA         2\n",
      "Chicago, IL             1\n",
      "Portland, OR            1\n",
      "Lafayette, IN           1\n",
      "San Francisco, CA       1\n",
      "Glendale, Queens, NY    1\n",
      "Taunton, MA             1\n",
      "Redwood City, CA        1\n",
      "Albuquerque, NM         1\n",
      "Name: locationName, dtype: int64 \n",
      "\n",
      "The World's Best TRAVEL JACKET with 15 Features || BAUBAX     1\n",
      "Avatar Legends: The Roleplaying Game                          1\n",
      "Critical Role: The Legend of Vox Machina Animated Special     1\n",
      "Travel Tripod by Peak Design                                  1\n",
      "Pebble 2, Time 2 + All-New Pebble Core                        1\n",
      "COOLEST COOLER: 21st Century Cooler that's Actually Cooler    1\n",
      "EcoFlow DELTA Pro: The Portable Home Battery                  1\n",
      "Pebble Time - Awesome Smartwatch, No Compromises              1\n",
      "Kingdom Death: Monster 1.5                                    1\n",
      "Frosthaven                                                    1\n",
      "Pebble: E-Paper Watch for iPhone and Android                  1\n",
      "The Wyrmwood Modular Gaming Table: Coffee & Dining Models     1\n",
      "Name: name, dtype: int64 \n",
      "\n",
      "Series([], Name: photo, dtype: int64) \n",
      "\n",
      "12779843.49    1\n",
      "13285226.36    1\n",
      "9192055.66     1\n",
      "20338986.27    1\n",
      "12393139.69    1\n",
      "8808136.00     1\n",
      "12969608.00    1\n",
      "9535317.31     1\n",
      "12179651.05    1\n",
      "10266845.74    1\n",
      "12143435.67    1\n",
      "11385449.05    1\n",
      "Name: pledged, dtype: int64 \n",
      "\n",
      "Fri, 25 Nov 2016 05:01:41 +0000    1\n",
      "Tue, 08 Jul 2014 08:14:37 +0000    1\n",
      "Mon, 04 Mar 2019 17:54:29 +0000    1\n",
      "Thu, 15 Jul 2021 13:39:51 +0000    1\n",
      "Tue, 03 Aug 2021 13:55:36 +0000    1\n",
      "Tue, 07 Jul 2015 11:52:34 +0000    1\n",
      "Tue, 21 May 2019 14:00:02 +0000    1\n",
      "Tue, 24 May 2016 13:49:52 +0000    1\n",
      "Tue, 31 Mar 2020 15:03:58 +0000    1\n",
      "Wed, 11 Apr 2012 04:59:04 +0000    1\n",
      "Tue, 24 Feb 2015 14:44:42 +0000    1\n",
      "Tue, 11 Aug 2020 17:54:22 +0000    1\n",
      "Name: pubDate, dtype: int64 \n",
      "\n",
      "ecoflow-delta-pro                                     1\n",
      "pebble-time-awesome-smartwatch-no-compromises         1\n",
      "kingdom-death-monster-15                              1\n",
      "pebble-2-time-2-and-core-an-entirely-new-3g-ultra     1\n",
      "avatar-legends-the-roleplaying-game                   1\n",
      "travel-tripod-by-peak-design                          1\n",
      "frosthaven                                            1\n",
      "critical-role-the-legend-of-vox-machina-animated-s    1\n",
      "modular-gaming-table                                  1\n",
      "pebble-e-paper-watch-for-iphone-and-android           1\n",
      "the-worlds-best-travel-jacket-with-15-features-bau    1\n",
      "coolest-cooler-21st-century-cooler-thats-actually     1\n",
      "Name: slug, dtype: int64 \n",
      "\n",
      "True    12\n",
      "Name: spotlight, dtype: int64 \n",
      "\n",
      "True     11\n",
      "False     1\n",
      "Name: staff_pick, dtype: int64 \n",
      "\n",
      "successful    12\n",
      "Name: state, dtype: int64 \n",
      "\n",
      "1427508015    1\n",
      "1467262800    1\n",
      "1409360410    1\n",
      "1602302340    1\n",
      "1630625400    1\n",
      "1631540391    1\n",
      "1441299615    1\n",
      "1337396419    1\n",
      "1555657140    1\n",
      "1483830003    1\n",
      "1563494400    1\n",
      "1588366800    1\n",
      "Name: state_changed_at, dtype: int64 \n",
      "\n",
      "1    12\n",
      "Name: static_usd_rate, dtype: int64 \n",
      "\n",
      "The World's Best TRAVEL JACKET with 15 Features || BAUBAX     1\n",
      "Avatar Legends: The Roleplaying Game                          1\n",
      "Critical Role: The Legend of Vox Machina Animated Special     1\n",
      "Travel Tripod by Peak Design                                  1\n",
      "Pebble 2, Time 2 + All-New Pebble Core                        1\n",
      "COOLEST COOLER: 21st Century Cooler that's Actually Cooler    1\n",
      "EcoFlow DELTA Pro: The Portable Home Battery                  1\n",
      "Pebble Time - Awesome Smartwatch, No Compromises              1\n",
      "Kingdom Death: Monster 1.5                                    1\n",
      "Frosthaven                                                    1\n",
      "Pebble: E-Paper Watch for iPhone and Android                  1\n",
      "The Wyrmwood Modular Gaming Table: Coffee & Dining Models     1\n",
      "Name: title, dtype: int64 \n",
      "\n",
      "https://www.kickstarter.com/projects/frosthaven/frosthaven?ref=discovery_most_funded                                              1\n",
      "https://www.kickstarter.com/projects/poots/kingdom-death-monster-15?ref=discovery_most_funded                                     1\n",
      "https://www.kickstarter.com/projects/criticalrole/critical-role-the-legend-of-vox-machina-animated-s?ref=discovery_most_funded    1\n",
      "https://www.kickstarter.com/projects/getpebble/pebble-time-awesome-smartwatch-no-compromises?ref=discovery_most_funded            1\n",
      "https://www.kickstarter.com/projects/getpebble/pebble-2-time-2-and-core-an-entirely-new-3g-ultra?ref=discovery_most_funded        1\n",
      "https://www.kickstarter.com/projects/ecoflow/ecoflow-delta-pro?ref=discovery_most_funded                                          1\n",
      "https://www.kickstarter.com/projects/ryangrepper/coolest-cooler-21st-century-cooler-thats-actually?ref=discovery_most_funded      1\n",
      "https://www.kickstarter.com/projects/peak-design/travel-tripod-by-peak-design?ref=discovery_most_funded                           1\n",
      "https://www.kickstarter.com/projects/magpiegames/avatar-legends-the-roleplaying-game?ref=discovery_most_funded                    1\n",
      "https://www.kickstarter.com/projects/baubax/the-worlds-best-travel-jacket-with-15-features-bau?ref=discovery_most_funded          1\n",
      "https://www.kickstarter.com/projects/wyrmwood/modular-gaming-table?ref=discovery_most_funded                                      1\n",
      "https://www.kickstarter.com/projects/getpebble/pebble-e-paper-watch-for-iphone-and-android?ref=discovery_most_funded              1\n",
      "Name: url, dtype: int64 \n",
      "\n",
      "1    12\n",
      "Name: usd_exchange_rate, dtype: int64 \n",
      "\n",
      "12779843.49    1\n",
      "13285226.36    1\n",
      "9192055.66     1\n",
      "20338986.27    1\n",
      "12393139.69    1\n",
      "8808136.00     1\n",
      "12969608.00    1\n",
      "9535317.31     1\n",
      "12179651.05    1\n",
      "10266845.74    1\n",
      "12143435.67    1\n",
      "11385449.05    1\n",
      "Name: usd_pledged, dtype: int64 \n",
      "\n",
      "domestic    12\n",
      "Name: usd_type, dtype: int64 \n",
      "\n"
     ]
    }
   ],
   "source": [
    "for col in data:\n",
    "    print(data[col].value_counts(), '\\n')"
   ]
  },
  {
   "cell_type": "markdown",
   "metadata": {},
   "source": [
    "### convert timestamps"
   ]
  },
  {
   "cell_type": "markdown",
   "metadata": {},
   "source": [
    "#### created_at"
   ]
  },
  {
   "cell_type": "code",
   "execution_count": 148,
   "metadata": {},
   "outputs": [],
   "source": [
    "date = []\n",
    "time = []\n",
    "weekday = []\n",
    "\n",
    "for i in df['created_at']:\n",
    "    date.append(datetime.datetime.fromtimestamp(int(i)).strftime('%Y-%m-%d'))\n",
    "    time.append(datetime.datetime.fromtimestamp(int(i)).strftime('%H:%M:%S'))\n",
    "    weekday.append(datetime.datetime.fromtimestamp(int(i)).strftime('%A'))\n",
    "\n",
    "df['created_date'] = date\n",
    "df['created_time'] = time\n",
    "df['created_weekday'] = weekday"
   ]
  },
  {
   "cell_type": "markdown",
   "metadata": {},
   "source": [
    "#### launched_at"
   ]
  },
  {
   "cell_type": "code",
   "execution_count": 149,
   "metadata": {},
   "outputs": [],
   "source": [
    "date = []\n",
    "time = []\n",
    "weekday = []\n",
    "\n",
    "for i in df['launched_at']:\n",
    "    date.append(datetime.datetime.fromtimestamp(int(i)).strftime('%Y-%m-%d'))\n",
    "    time.append(datetime.datetime.fromtimestamp(int(i)).strftime('%H:%M:%S'))\n",
    "    weekday.append(datetime.datetime.fromtimestamp(int(i)).strftime('%A'))\n",
    "\n",
    "df['launched_date'] = date\n",
    "df['launched_time'] = time\n",
    "df['launched_weekday'] = weekday"
   ]
  },
  {
   "cell_type": "markdown",
   "metadata": {},
   "source": [
    "#### deadline"
   ]
  },
  {
   "cell_type": "code",
   "execution_count": 150,
   "metadata": {},
   "outputs": [],
   "source": [
    "date = []\n",
    "time = []\n",
    "weekday = []\n",
    "\n",
    "for i in df['deadline']:\n",
    "    date.append(datetime.datetime.fromtimestamp(int(i)).strftime('%Y-%m-%d'))\n",
    "    time.append(datetime.datetime.fromtimestamp(int(i)).strftime('%H:%M:%S'))\n",
    "    weekday.append(datetime.datetime.fromtimestamp(int(i)).strftime('%A'))\n",
    "\n",
    "df['deadline_date'] = date\n",
    "df['deadline_time'] = time\n",
    "df['deadline_weekday'] = weekday"
   ]
  },
  {
   "cell_type": "markdown",
   "metadata": {},
   "source": [
    "#### add project duration column"
   ]
  },
  {
   "cell_type": "code",
   "execution_count": 151,
   "metadata": {},
   "outputs": [],
   "source": [
    "# time between deadline and launched\n",
    "\n",
    "project_duration = []\n",
    "\n",
    "for i,j in zip(df.deadline, df.launched_at):\n",
    "    a = ((i - j) / 60 / 60 / 24)\n",
    "    project_duration.append(a)\n",
    "    \n",
    "df['project_duration'] = project_duration"
   ]
  },
  {
   "cell_type": "markdown",
   "metadata": {},
   "source": [
    "### goal reached column"
   ]
  },
  {
   "cell_type": "code",
   "execution_count": 152,
   "metadata": {},
   "outputs": [],
   "source": [
    "conditions = [\n",
    "    ((df['goal'] - df['converted_pledged_amount']) > 0),\n",
    "    ((df['goal'] - df['converted_pledged_amount']) <= 0)\n",
    "]\n",
    "\n",
    "values = ['no', 'yes']\n",
    "\n",
    "df['goal_reached'] = np.select(conditions, values)"
   ]
  },
  {
   "cell_type": "code",
   "execution_count": 153,
   "metadata": {},
   "outputs": [
    {
     "data": {
      "text/plain": [
       "yes    15551\n",
       "no      2562\n",
       "Name: goal_reached, dtype: int64"
      ]
     },
     "execution_count": 153,
     "metadata": {},
     "output_type": "execute_result"
    }
   ],
   "source": [
    "df['goal_reached'].value_counts()"
   ]
  },
  {
   "cell_type": "code",
   "execution_count": 154,
   "metadata": {},
   "outputs": [
    {
     "data": {
      "text/plain": [
       "successful    15424\n",
       "live           2689\n",
       "Name: state, dtype: int64"
      ]
     },
     "execution_count": 154,
     "metadata": {},
     "output_type": "execute_result"
    }
   ],
   "source": [
    "df['state'].value_counts()"
   ]
  },
  {
   "cell_type": "code",
   "execution_count": 156,
   "metadata": {
    "scrolled": false
   },
   "outputs": [
    {
     "data": {
      "text/html": [
       "<div>\n",
       "<style scoped>\n",
       "    .dataframe tbody tr th:only-of-type {\n",
       "        vertical-align: middle;\n",
       "    }\n",
       "\n",
       "    .dataframe tbody tr th {\n",
       "        vertical-align: top;\n",
       "    }\n",
       "\n",
       "    .dataframe thead th {\n",
       "        text-align: right;\n",
       "    }\n",
       "</style>\n",
       "<table border=\"1\" class=\"dataframe\">\n",
       "  <thead>\n",
       "    <tr style=\"text-align: right;\">\n",
       "      <th>goal_reached</th>\n",
       "      <th>no</th>\n",
       "      <th>yes</th>\n",
       "    </tr>\n",
       "    <tr>\n",
       "      <th>state</th>\n",
       "      <th></th>\n",
       "      <th></th>\n",
       "    </tr>\n",
       "  </thead>\n",
       "  <tbody>\n",
       "    <tr>\n",
       "      <th>live</th>\n",
       "      <td>1613</td>\n",
       "      <td>1076</td>\n",
       "    </tr>\n",
       "    <tr>\n",
       "      <th>successful</th>\n",
       "      <td>949</td>\n",
       "      <td>14475</td>\n",
       "    </tr>\n",
       "  </tbody>\n",
       "</table>\n",
       "</div>"
      ],
      "text/plain": [
       "goal_reached    no    yes\n",
       "state                    \n",
       "live          1613   1076\n",
       "successful     949  14475"
      ]
     },
     "execution_count": 156,
     "metadata": {},
     "output_type": "execute_result"
    }
   ],
   "source": [
    "data_crosstab = pd.crosstab(df['state'], df['goal_reached'], margins = False)\n",
    "data_crosstab"
   ]
  },
  {
   "cell_type": "markdown",
   "metadata": {},
   "source": [
    "### add goal reached % column"
   ]
  },
  {
   "cell_type": "code",
   "execution_count": 157,
   "metadata": {},
   "outputs": [],
   "source": [
    "funded_rate = []\n",
    "\n",
    "for i,j in zip(df.goal, df.converted_pledged_amount):\n",
    "    a = (j / i)\n",
    "    funded_rate.append(a)\n",
    "\n",
    "df['funded_rate'] = funded_rate"
   ]
  },
  {
   "cell_type": "markdown",
   "metadata": {},
   "source": [
    "### target column"
   ]
  },
  {
   "cell_type": "code",
   "execution_count": 158,
   "metadata": {},
   "outputs": [],
   "source": [
    "target = []\n",
    "\n",
    "for i in df['funded_rate']:\n",
    "    if i >= 1:\n",
    "        target.append(True)\n",
    "    else:\n",
    "        target.append(False)\n",
    "\n",
    "df['target'] = target     "
   ]
  },
  {
   "cell_type": "code",
   "execution_count": 159,
   "metadata": {},
   "outputs": [
    {
     "data": {
      "text/html": [
       "<div>\n",
       "<style scoped>\n",
       "    .dataframe tbody tr th:only-of-type {\n",
       "        vertical-align: middle;\n",
       "    }\n",
       "\n",
       "    .dataframe tbody tr th {\n",
       "        vertical-align: top;\n",
       "    }\n",
       "\n",
       "    .dataframe thead th {\n",
       "        text-align: right;\n",
       "    }\n",
       "</style>\n",
       "<table border=\"1\" class=\"dataframe\">\n",
       "  <thead>\n",
       "    <tr style=\"text-align: right;\">\n",
       "      <th></th>\n",
       "      <th>backers_count</th>\n",
       "      <th>blurb</th>\n",
       "      <th>categoryId</th>\n",
       "      <th>categoryName</th>\n",
       "      <th>categorySlug</th>\n",
       "      <th>converted_pledged_amount</th>\n",
       "      <th>country</th>\n",
       "      <th>country_displayable_name</th>\n",
       "      <th>created_at</th>\n",
       "      <th>created_at_formatted</th>\n",
       "      <th>...</th>\n",
       "      <th>launched_date</th>\n",
       "      <th>launched_time</th>\n",
       "      <th>launched_weekday</th>\n",
       "      <th>deadline_date</th>\n",
       "      <th>deadline_time</th>\n",
       "      <th>deadline_weekday</th>\n",
       "      <th>project_duration</th>\n",
       "      <th>goal_reached</th>\n",
       "      <th>funded_rate</th>\n",
       "      <th>target</th>\n",
       "    </tr>\n",
       "    <tr>\n",
       "      <th>id</th>\n",
       "      <th></th>\n",
       "      <th></th>\n",
       "      <th></th>\n",
       "      <th></th>\n",
       "      <th></th>\n",
       "      <th></th>\n",
       "      <th></th>\n",
       "      <th></th>\n",
       "      <th></th>\n",
       "      <th></th>\n",
       "      <th></th>\n",
       "      <th></th>\n",
       "      <th></th>\n",
       "      <th></th>\n",
       "      <th></th>\n",
       "      <th></th>\n",
       "      <th></th>\n",
       "      <th></th>\n",
       "      <th></th>\n",
       "      <th></th>\n",
       "      <th></th>\n",
       "    </tr>\n",
       "  </thead>\n",
       "  <tbody>\n",
       "    <tr>\n",
       "      <th>178689638</th>\n",
       "      <td>62</td>\n",
       "      <td>A set of FFXIV locale inspired stamp enamel pins~</td>\n",
       "      <td>21</td>\n",
       "      <td>Digital Art</td>\n",
       "      <td>art/digital art</td>\n",
       "      <td>2537</td>\n",
       "      <td>US</td>\n",
       "      <td>the United States</td>\n",
       "      <td>1611622467</td>\n",
       "      <td>Tue, 26 Jan 2021 00:54:27 +0000</td>\n",
       "      <td>...</td>\n",
       "      <td>2021-01-30</td>\n",
       "      <td>22:07:46</td>\n",
       "      <td>Saturday</td>\n",
       "      <td>2021-03-01</td>\n",
       "      <td>22:07:46</td>\n",
       "      <td>Monday</td>\n",
       "      <td>30.000000</td>\n",
       "      <td>yes</td>\n",
       "      <td>8.456667</td>\n",
       "      <td>True</td>\n",
       "    </tr>\n",
       "    <tr>\n",
       "      <th>799240508</th>\n",
       "      <td>105</td>\n",
       "      <td>A suction window planter, with drainage holes ...</td>\n",
       "      <td>28</td>\n",
       "      <td>Product Design</td>\n",
       "      <td>design/product design</td>\n",
       "      <td>4426</td>\n",
       "      <td>CA</td>\n",
       "      <td>Canada</td>\n",
       "      <td>1611619280</td>\n",
       "      <td>Tue, 26 Jan 2021 00:01:20 +0000</td>\n",
       "      <td>...</td>\n",
       "      <td>2021-03-20</td>\n",
       "      <td>00:44:20</td>\n",
       "      <td>Saturday</td>\n",
       "      <td>2021-04-19</td>\n",
       "      <td>01:44:20</td>\n",
       "      <td>Monday</td>\n",
       "      <td>30.000000</td>\n",
       "      <td>yes</td>\n",
       "      <td>1.106500</td>\n",
       "      <td>True</td>\n",
       "    </tr>\n",
       "    <tr>\n",
       "      <th>854726870</th>\n",
       "      <td>25</td>\n",
       "      <td>Help Celebrate DANCE IQUAIL's Fifth Anniversar...</td>\n",
       "      <td>6</td>\n",
       "      <td>Dance</td>\n",
       "      <td>dance</td>\n",
       "      <td>5000</td>\n",
       "      <td>US</td>\n",
       "      <td>the United States</td>\n",
       "      <td>1364252080</td>\n",
       "      <td>Mon, 25 Mar 2013 22:54:40 +0000</td>\n",
       "      <td>...</td>\n",
       "      <td>2013-04-11</td>\n",
       "      <td>14:42:48</td>\n",
       "      <td>Thursday</td>\n",
       "      <td>2013-05-11</td>\n",
       "      <td>14:42:48</td>\n",
       "      <td>Saturday</td>\n",
       "      <td>30.000000</td>\n",
       "      <td>yes</td>\n",
       "      <td>1.250000</td>\n",
       "      <td>True</td>\n",
       "    </tr>\n",
       "    <tr>\n",
       "      <th>1326491607</th>\n",
       "      <td>34</td>\n",
       "      <td>Snuggly Smart Heated Blankets, Throws &amp; Mattre...</td>\n",
       "      <td>16</td>\n",
       "      <td>Technology</td>\n",
       "      <td>technology</td>\n",
       "      <td>12697</td>\n",
       "      <td>US</td>\n",
       "      <td>the United States</td>\n",
       "      <td>1630497535</td>\n",
       "      <td>Wed, 01 Sep 2021 11:58:55 +0000</td>\n",
       "      <td>...</td>\n",
       "      <td>2021-10-26</td>\n",
       "      <td>14:32:55</td>\n",
       "      <td>Tuesday</td>\n",
       "      <td>2021-12-10</td>\n",
       "      <td>14:32:55</td>\n",
       "      <td>Friday</td>\n",
       "      <td>45.041667</td>\n",
       "      <td>yes</td>\n",
       "      <td>1.269700</td>\n",
       "      <td>True</td>\n",
       "    </tr>\n",
       "    <tr>\n",
       "      <th>997150715</th>\n",
       "      <td>481</td>\n",
       "      <td>This project is about the gaming table - Megan...</td>\n",
       "      <td>34</td>\n",
       "      <td>Tabletop Games</td>\n",
       "      <td>games/tabletop games</td>\n",
       "      <td>664168</td>\n",
       "      <td>GB</td>\n",
       "      <td>the United Kingdom</td>\n",
       "      <td>1585142998</td>\n",
       "      <td>Wed, 25 Mar 2020 13:29:58 +0000</td>\n",
       "      <td>...</td>\n",
       "      <td>2020-05-05</td>\n",
       "      <td>16:17:33</td>\n",
       "      <td>Tuesday</td>\n",
       "      <td>2020-06-04</td>\n",
       "      <td>16:17:33</td>\n",
       "      <td>Thursday</td>\n",
       "      <td>30.000000</td>\n",
       "      <td>yes</td>\n",
       "      <td>22.138933</td>\n",
       "      <td>True</td>\n",
       "    </tr>\n",
       "  </tbody>\n",
       "</table>\n",
       "<p>5 rows × 59 columns</p>\n",
       "</div>"
      ],
      "text/plain": [
       "            backers_count                                              blurb  \\\n",
       "id                                                                             \n",
       "178689638              62  A set of FFXIV locale inspired stamp enamel pins~   \n",
       "799240508             105  A suction window planter, with drainage holes ...   \n",
       "854726870              25  Help Celebrate DANCE IQUAIL's Fifth Anniversar...   \n",
       "1326491607             34  Snuggly Smart Heated Blankets, Throws & Mattre...   \n",
       "997150715             481  This project is about the gaming table - Megan...   \n",
       "\n",
       "            categoryId    categoryName           categorySlug  \\\n",
       "id                                                              \n",
       "178689638           21     Digital Art        art/digital art   \n",
       "799240508           28  Product Design  design/product design   \n",
       "854726870            6           Dance                  dance   \n",
       "1326491607          16      Technology             technology   \n",
       "997150715           34  Tabletop Games   games/tabletop games   \n",
       "\n",
       "            converted_pledged_amount country country_displayable_name  \\\n",
       "id                                                                      \n",
       "178689638                       2537      US        the United States   \n",
       "799240508                       4426      CA                   Canada   \n",
       "854726870                       5000      US        the United States   \n",
       "1326491607                     12697      US        the United States   \n",
       "997150715                     664168      GB       the United Kingdom   \n",
       "\n",
       "            created_at             created_at_formatted  ... launched_date  \\\n",
       "id                                                       ...                 \n",
       "178689638   1611622467  Tue, 26 Jan 2021 00:54:27 +0000  ...    2021-01-30   \n",
       "799240508   1611619280  Tue, 26 Jan 2021 00:01:20 +0000  ...    2021-03-20   \n",
       "854726870   1364252080  Mon, 25 Mar 2013 22:54:40 +0000  ...    2013-04-11   \n",
       "1326491607  1630497535  Wed, 01 Sep 2021 11:58:55 +0000  ...    2021-10-26   \n",
       "997150715   1585142998  Wed, 25 Mar 2020 13:29:58 +0000  ...    2020-05-05   \n",
       "\n",
       "            launched_time launched_weekday deadline_date deadline_time  \\\n",
       "id                                                                       \n",
       "178689638        22:07:46         Saturday    2021-03-01      22:07:46   \n",
       "799240508        00:44:20         Saturday    2021-04-19      01:44:20   \n",
       "854726870        14:42:48         Thursday    2013-05-11      14:42:48   \n",
       "1326491607       14:32:55          Tuesday    2021-12-10      14:32:55   \n",
       "997150715        16:17:33          Tuesday    2020-06-04      16:17:33   \n",
       "\n",
       "           deadline_weekday  project_duration goal_reached  funded_rate target  \n",
       "id                                                                              \n",
       "178689638            Monday         30.000000          yes     8.456667   True  \n",
       "799240508            Monday         30.000000          yes     1.106500   True  \n",
       "854726870          Saturday         30.000000          yes     1.250000   True  \n",
       "1326491607           Friday         45.041667          yes     1.269700   True  \n",
       "997150715          Thursday         30.000000          yes    22.138933   True  \n",
       "\n",
       "[5 rows x 59 columns]"
      ]
     },
     "execution_count": 159,
     "metadata": {},
     "output_type": "execute_result"
    }
   ],
   "source": [
    "df.sample(5)"
   ]
  },
  {
   "cell_type": "markdown",
   "metadata": {},
   "source": [
    "### get information from language"
   ]
  },
  {
   "cell_type": "markdown",
   "metadata": {},
   "source": [
    "#### add language column"
   ]
  },
  {
   "cell_type": "code",
   "execution_count": 160,
   "metadata": {},
   "outputs": [],
   "source": [
    "language = []\n",
    "\n",
    "for i in df['description']:\n",
    "    if isinstance(i, float):\n",
    "        language.append(0)\n",
    "    else:\n",
    "        a = langid.classify(i)\n",
    "        language.append(a[0])        \n",
    "    \n",
    "df['language'] = language"
   ]
  },
  {
   "cell_type": "code",
   "execution_count": 161,
   "metadata": {},
   "outputs": [
    {
     "data": {
      "text/plain": [
       "(18113, 60)"
      ]
     },
     "execution_count": 161,
     "metadata": {},
     "output_type": "execute_result"
    }
   ],
   "source": [
    "df.shape"
   ]
  },
  {
   "cell_type": "code",
   "execution_count": 162,
   "metadata": {
    "scrolled": true
   },
   "outputs": [
    {
     "data": {
      "text/plain": [
       "en    17253\n",
       "es      211\n",
       "fr      190\n",
       "de       87\n",
       "it       62\n",
       "da       39\n",
       "sv       30\n",
       "nl       27\n",
       "id       22\n",
       "ja       20\n",
       "no       15\n",
       "zh       15\n",
       "ca       13\n",
       "fi       12\n",
       "pl       12\n",
       "ro       10\n",
       "la       10\n",
       "sl        8\n",
       "mt        6\n",
       "et        6\n",
       "nn        4\n",
       "eo        4\n",
       "ms        4\n",
       "af        3\n",
       "ku        3\n",
       "pt        3\n",
       "lt        3\n",
       "hu        3\n",
       "cs        3\n",
       "mg        3\n",
       "ga        3\n",
       "lb        3\n",
       "gl        2\n",
       "tl        2\n",
       "br        2\n",
       "jv        2\n",
       "tr        2\n",
       "nb        2\n",
       "he        2\n",
       "cy        2\n",
       "rw        2\n",
       "sk        1\n",
       "sw        1\n",
       "am        1\n",
       "ht        1\n",
       "xh        1\n",
       "ru        1\n",
       "lo        1\n",
       "0         1\n",
       "Name: language, dtype: int64"
      ]
     },
     "execution_count": 162,
     "metadata": {},
     "output_type": "execute_result"
    }
   ],
   "source": [
    "df['language'].value_counts()"
   ]
  },
  {
   "cell_type": "markdown",
   "metadata": {},
   "source": [
    "#### add polarity and subjectivity column"
   ]
  },
  {
   "cell_type": "code",
   "execution_count": 163,
   "metadata": {},
   "outputs": [],
   "source": [
    "polarity = []\n",
    "subjectivity = []\n",
    "\n",
    "for i,j in zip(df.name, df.converted_pledged_amount):\n",
    "    if isinstance(i, float) or isinstance(j, float):\n",
    "        polarity.append(0)\n",
    "        subjectivity.append(0)\n",
    "    else:\n",
    "        a = TextBlob(i)\n",
    "        polarity.append(round(a.polarity,2))\n",
    "        subjectivity.append(round(a.subjectivity,2))\n",
    "\n",
    "df['polarity'] = polarity\n",
    "df['subjectivity'] = subjectivity"
   ]
  },
  {
   "cell_type": "code",
   "execution_count": 164,
   "metadata": {},
   "outputs": [
    {
     "data": {
      "text/plain": [
       "(18113, 62)"
      ]
     },
     "execution_count": 164,
     "metadata": {},
     "output_type": "execute_result"
    }
   ],
   "source": [
    "df.shape"
   ]
  },
  {
   "cell_type": "markdown",
   "metadata": {},
   "source": [
    "#### add length for columns name and description"
   ]
  },
  {
   "cell_type": "code",
   "execution_count": 165,
   "metadata": {},
   "outputs": [],
   "source": [
    "length_name = []\n",
    "length_description = []\n",
    "\n",
    "for i,j in zip(df.name, df.description):\n",
    "    if isinstance(i, float) or isinstance(j, float):\n",
    "        length_name.append(0)\n",
    "        length_description.append(0)\n",
    "    else:    \n",
    "        length_name.append(len(i))\n",
    "        length_description.append(len(j))\n",
    "    \n",
    "df['length_name'] = length_name\n",
    "df['length_description'] = length_description"
   ]
  },
  {
   "cell_type": "code",
   "execution_count": 166,
   "metadata": {},
   "outputs": [
    {
     "data": {
      "text/plain": [
       "(18113, 64)"
      ]
     },
     "execution_count": 166,
     "metadata": {},
     "output_type": "execute_result"
    }
   ],
   "source": [
    "df.shape"
   ]
  },
  {
   "cell_type": "markdown",
   "metadata": {},
   "source": [
    "#### keyword extractions with yake"
   ]
  },
  {
   "cell_type": "code",
   "execution_count": null,
   "metadata": {},
   "outputs": [],
   "source": [
    "for i in "
   ]
  },
  {
   "cell_type": "code",
   "execution_count": 82,
   "metadata": {},
   "outputs": [],
   "source": [
    "kw_extractor = yake.KeywordExtractor()"
   ]
  },
  {
   "cell_type": "code",
   "execution_count": 83,
   "metadata": {},
   "outputs": [],
   "source": [
    "text = 'How to check if a number is an int or float in Python'"
   ]
  },
  {
   "cell_type": "code",
   "execution_count": 84,
   "metadata": {},
   "outputs": [],
   "source": [
    "language = 'en'"
   ]
  },
  {
   "cell_type": "code",
   "execution_count": 85,
   "metadata": {},
   "outputs": [],
   "source": [
    "max_ngram_size = 1"
   ]
  },
  {
   "cell_type": "code",
   "execution_count": 86,
   "metadata": {},
   "outputs": [],
   "source": [
    "deduplication_threshold = 0.9"
   ]
  },
  {
   "cell_type": "code",
   "execution_count": 95,
   "metadata": {},
   "outputs": [],
   "source": [
    "numOfKeywords = 3"
   ]
  },
  {
   "cell_type": "code",
   "execution_count": 96,
   "metadata": {},
   "outputs": [],
   "source": [
    "custom_kw_extractor = yake.KeywordExtractor(lan=language, n=max_ngram_size, dedupLim=deduplication_threshold, top=numOfKeywords, features=None)"
   ]
  },
  {
   "cell_type": "code",
   "execution_count": 97,
   "metadata": {},
   "outputs": [],
   "source": [
    "keywords = custom_kw_extractor.extract_keywords(text)"
   ]
  },
  {
   "cell_type": "code",
   "execution_count": 98,
   "metadata": {
    "scrolled": true
   },
   "outputs": [
    {
     "name": "stdout",
     "output_type": "stream",
     "text": [
      "('Python', 0.08596317751626563)\n",
      "('check', 0.29736558256021506)\n",
      "('number', 0.29736558256021506)\n"
     ]
    }
   ],
   "source": [
    "for kw in keywords:\n",
    "    print(kw)"
   ]
  },
  {
   "cell_type": "markdown",
   "metadata": {},
   "source": [
    "### drop columns"
   ]
  },
  {
   "cell_type": "code",
   "execution_count": 167,
   "metadata": {},
   "outputs": [],
   "source": [
    "to_drop = ['blurb', \n",
    "           'categoryId', \n",
    "           'country_displayable_name', \n",
    "           'created_at',\n",
    "           'created_at_formatted',\n",
    "           'creatorAvatar', \n",
    "           'creatorId', \n",
    "           'creatorName', \n",
    "           'creatorUrl', \n",
    "           'currency_symbol',\n",
    "           'deadline',\n",
    "           'launched_at',\n",
    "           'launched_at_formatted',\n",
    "           'link', \n",
    "           'locationId', \n",
    "           'pubDate',\n",
    "           'photo',\n",
    "           'state_changed_at',\n",
    "           'slug', \n",
    "           'static_usd_rate',\n",
    "           'usd_exchange_rate',\n",
    "           'usd_pledged',\n",
    "           'usd_type',\n",
    "           'title',\n",
    "           'url']"
   ]
  },
  {
   "cell_type": "code",
   "execution_count": 168,
   "metadata": {},
   "outputs": [],
   "source": [
    "df = df.drop(to_drop, axis=1)"
   ]
  },
  {
   "cell_type": "code",
   "execution_count": 169,
   "metadata": {},
   "outputs": [
    {
     "data": {
      "text/plain": [
       "(18113, 39)"
      ]
     },
     "execution_count": 169,
     "metadata": {},
     "output_type": "execute_result"
    }
   ],
   "source": [
    "df.shape"
   ]
  },
  {
   "cell_type": "code",
   "execution_count": 170,
   "metadata": {},
   "outputs": [
    {
     "data": {
      "text/plain": [
       "Index(['backers_count', 'categoryName', 'categorySlug',\n",
       "       'converted_pledged_amount', 'country', 'currency',\n",
       "       'currency_trailing_code', 'current_currency', 'description',\n",
       "       'disable_communication', 'fx_rate', 'goal', 'is_starrable',\n",
       "       'locationName', 'name', 'pledged', 'spotlight', 'staff_pick', 'state',\n",
       "       'is_backing', 'is_starred', 'created_date', 'created_time',\n",
       "       'created_weekday', 'launched_date', 'launched_time', 'launched_weekday',\n",
       "       'deadline_date', 'deadline_time', 'deadline_weekday',\n",
       "       'project_duration', 'goal_reached', 'funded_rate', 'target', 'language',\n",
       "       'polarity', 'subjectivity', 'length_name', 'length_description'],\n",
       "      dtype='object')"
      ]
     },
     "execution_count": 170,
     "metadata": {},
     "output_type": "execute_result"
    }
   ],
   "source": [
    "df.columns"
   ]
  },
  {
   "cell_type": "code",
   "execution_count": 171,
   "metadata": {},
   "outputs": [
    {
     "data": {
      "text/html": [
       "<div>\n",
       "<style scoped>\n",
       "    .dataframe tbody tr th:only-of-type {\n",
       "        vertical-align: middle;\n",
       "    }\n",
       "\n",
       "    .dataframe tbody tr th {\n",
       "        vertical-align: top;\n",
       "    }\n",
       "\n",
       "    .dataframe thead th {\n",
       "        text-align: right;\n",
       "    }\n",
       "</style>\n",
       "<table border=\"1\" class=\"dataframe\">\n",
       "  <thead>\n",
       "    <tr style=\"text-align: right;\">\n",
       "      <th></th>\n",
       "      <th>backers_count</th>\n",
       "      <th>categoryName</th>\n",
       "      <th>categorySlug</th>\n",
       "      <th>converted_pledged_amount</th>\n",
       "      <th>country</th>\n",
       "      <th>currency</th>\n",
       "      <th>currency_trailing_code</th>\n",
       "      <th>current_currency</th>\n",
       "      <th>description</th>\n",
       "      <th>disable_communication</th>\n",
       "      <th>...</th>\n",
       "      <th>deadline_weekday</th>\n",
       "      <th>project_duration</th>\n",
       "      <th>goal_reached</th>\n",
       "      <th>funded_rate</th>\n",
       "      <th>target</th>\n",
       "      <th>language</th>\n",
       "      <th>polarity</th>\n",
       "      <th>subjectivity</th>\n",
       "      <th>length_name</th>\n",
       "      <th>length_description</th>\n",
       "    </tr>\n",
       "    <tr>\n",
       "      <th>id</th>\n",
       "      <th></th>\n",
       "      <th></th>\n",
       "      <th></th>\n",
       "      <th></th>\n",
       "      <th></th>\n",
       "      <th></th>\n",
       "      <th></th>\n",
       "      <th></th>\n",
       "      <th></th>\n",
       "      <th></th>\n",
       "      <th></th>\n",
       "      <th></th>\n",
       "      <th></th>\n",
       "      <th></th>\n",
       "      <th></th>\n",
       "      <th></th>\n",
       "      <th></th>\n",
       "      <th></th>\n",
       "      <th></th>\n",
       "      <th></th>\n",
       "      <th></th>\n",
       "    </tr>\n",
       "  </thead>\n",
       "  <tbody>\n",
       "    <tr>\n",
       "      <th>1447919830</th>\n",
       "      <td>119</td>\n",
       "      <td>Accessories</td>\n",
       "      <td>fashion/accessories</td>\n",
       "      <td>3718</td>\n",
       "      <td>US</td>\n",
       "      <td>USD</td>\n",
       "      <td>True</td>\n",
       "      <td>USD</td>\n",
       "      <td>by ZenMoon</td>\n",
       "      <td>False</td>\n",
       "      <td>...</td>\n",
       "      <td>Saturday</td>\n",
       "      <td>30.041667</td>\n",
       "      <td>yes</td>\n",
       "      <td>1.239333</td>\n",
       "      <td>True</td>\n",
       "      <td>en</td>\n",
       "      <td>0.00</td>\n",
       "      <td>0.0</td>\n",
       "      <td>19</td>\n",
       "      <td>10</td>\n",
       "    </tr>\n",
       "    <tr>\n",
       "      <th>1001020080</th>\n",
       "      <td>21</td>\n",
       "      <td>Dance</td>\n",
       "      <td>dance</td>\n",
       "      <td>1205</td>\n",
       "      <td>US</td>\n",
       "      <td>USD</td>\n",
       "      <td>True</td>\n",
       "      <td>USD</td>\n",
       "      <td>The studio is doing well. We have students reg...</td>\n",
       "      <td>False</td>\n",
       "      <td>...</td>\n",
       "      <td>Sunday</td>\n",
       "      <td>5.000000</td>\n",
       "      <td>yes</td>\n",
       "      <td>1.004167</td>\n",
       "      <td>True</td>\n",
       "      <td>en</td>\n",
       "      <td>0.00</td>\n",
       "      <td>0.0</td>\n",
       "      <td>21</td>\n",
       "      <td>128</td>\n",
       "    </tr>\n",
       "    <tr>\n",
       "      <th>807185912</th>\n",
       "      <td>7576</td>\n",
       "      <td>Animation</td>\n",
       "      <td>film &amp; video/animation</td>\n",
       "      <td>441900</td>\n",
       "      <td>US</td>\n",
       "      <td>USD</td>\n",
       "      <td>True</td>\n",
       "      <td>USD</td>\n",
       "      <td>Mobsters. Zombies. Killer robots. Demon priest...</td>\n",
       "      <td>False</td>\n",
       "      <td>...</td>\n",
       "      <td>Sunday</td>\n",
       "      <td>30.041667</td>\n",
       "      <td>yes</td>\n",
       "      <td>1.104750</td>\n",
       "      <td>True</td>\n",
       "      <td>en</td>\n",
       "      <td>-0.59</td>\n",
       "      <td>0.8</td>\n",
       "      <td>50</td>\n",
       "      <td>129</td>\n",
       "    </tr>\n",
       "    <tr>\n",
       "      <th>1680282534</th>\n",
       "      <td>885</td>\n",
       "      <td>Hardware</td>\n",
       "      <td>technology/hardware</td>\n",
       "      <td>536436</td>\n",
       "      <td>AU</td>\n",
       "      <td>AUD</td>\n",
       "      <td>True</td>\n",
       "      <td>USD</td>\n",
       "      <td>The affordable entry-level laser cutter / engr...</td>\n",
       "      <td>False</td>\n",
       "      <td>...</td>\n",
       "      <td>Saturday</td>\n",
       "      <td>35.000000</td>\n",
       "      <td>yes</td>\n",
       "      <td>11.920800</td>\n",
       "      <td>True</td>\n",
       "      <td>en</td>\n",
       "      <td>0.00</td>\n",
       "      <td>0.0</td>\n",
       "      <td>50</td>\n",
       "      <td>86</td>\n",
       "    </tr>\n",
       "    <tr>\n",
       "      <th>2052117989</th>\n",
       "      <td>47</td>\n",
       "      <td>Anthologies</td>\n",
       "      <td>comics/anthologies</td>\n",
       "      <td>1645</td>\n",
       "      <td>US</td>\n",
       "      <td>USD</td>\n",
       "      <td>True</td>\n",
       "      <td>USD</td>\n",
       "      <td>The Samhain Shade returns with a second collec...</td>\n",
       "      <td>False</td>\n",
       "      <td>...</td>\n",
       "      <td>Saturday</td>\n",
       "      <td>30.000000</td>\n",
       "      <td>yes</td>\n",
       "      <td>1.096667</td>\n",
       "      <td>True</td>\n",
       "      <td>en</td>\n",
       "      <td>0.00</td>\n",
       "      <td>0.0</td>\n",
       "      <td>25</td>\n",
       "      <td>134</td>\n",
       "    </tr>\n",
       "  </tbody>\n",
       "</table>\n",
       "<p>5 rows × 39 columns</p>\n",
       "</div>"
      ],
      "text/plain": [
       "            backers_count categoryName            categorySlug  \\\n",
       "id                                                               \n",
       "1447919830            119  Accessories     fashion/accessories   \n",
       "1001020080             21        Dance                   dance   \n",
       "807185912            7576    Animation  film & video/animation   \n",
       "1680282534            885     Hardware     technology/hardware   \n",
       "2052117989             47  Anthologies      comics/anthologies   \n",
       "\n",
       "            converted_pledged_amount country currency  currency_trailing_code  \\\n",
       "id                                                                              \n",
       "1447919830                      3718      US      USD                    True   \n",
       "1001020080                      1205      US      USD                    True   \n",
       "807185912                     441900      US      USD                    True   \n",
       "1680282534                    536436      AU      AUD                    True   \n",
       "2052117989                      1645      US      USD                    True   \n",
       "\n",
       "           current_currency  \\\n",
       "id                            \n",
       "1447919830              USD   \n",
       "1001020080              USD   \n",
       "807185912               USD   \n",
       "1680282534              USD   \n",
       "2052117989              USD   \n",
       "\n",
       "                                                  description  \\\n",
       "id                                                              \n",
       "1447919830                                         by ZenMoon   \n",
       "1001020080  The studio is doing well. We have students reg...   \n",
       "807185912   Mobsters. Zombies. Killer robots. Demon priest...   \n",
       "1680282534  The affordable entry-level laser cutter / engr...   \n",
       "2052117989  The Samhain Shade returns with a second collec...   \n",
       "\n",
       "            disable_communication  ...  deadline_weekday  project_duration  \\\n",
       "id                                 ...                                       \n",
       "1447919830                  False  ...          Saturday         30.041667   \n",
       "1001020080                  False  ...            Sunday          5.000000   \n",
       "807185912                   False  ...            Sunday         30.041667   \n",
       "1680282534                  False  ...          Saturday         35.000000   \n",
       "2052117989                  False  ...          Saturday         30.000000   \n",
       "\n",
       "            goal_reached funded_rate target  language  polarity  subjectivity  \\\n",
       "id                                                                              \n",
       "1447919830           yes    1.239333   True        en      0.00           0.0   \n",
       "1001020080           yes    1.004167   True        en      0.00           0.0   \n",
       "807185912            yes    1.104750   True        en     -0.59           0.8   \n",
       "1680282534           yes   11.920800   True        en      0.00           0.0   \n",
       "2052117989           yes    1.096667   True        en      0.00           0.0   \n",
       "\n",
       "           length_name length_description  \n",
       "id                                         \n",
       "1447919830          19                 10  \n",
       "1001020080          21                128  \n",
       "807185912           50                129  \n",
       "1680282534          50                 86  \n",
       "2052117989          25                134  \n",
       "\n",
       "[5 rows x 39 columns]"
      ]
     },
     "execution_count": 171,
     "metadata": {},
     "output_type": "execute_result"
    }
   ],
   "source": [
    "df.sample(5)"
   ]
  },
  {
   "cell_type": "markdown",
   "metadata": {},
   "source": [
    "### only keep successful projects (drop live)"
   ]
  },
  {
   "cell_type": "code",
   "execution_count": 172,
   "metadata": {},
   "outputs": [],
   "source": [
    "df = df.loc[df['state'] == 'successful']"
   ]
  },
  {
   "cell_type": "code",
   "execution_count": 173,
   "metadata": {},
   "outputs": [
    {
     "data": {
      "text/html": [
       "<div>\n",
       "<style scoped>\n",
       "    .dataframe tbody tr th:only-of-type {\n",
       "        vertical-align: middle;\n",
       "    }\n",
       "\n",
       "    .dataframe tbody tr th {\n",
       "        vertical-align: top;\n",
       "    }\n",
       "\n",
       "    .dataframe thead th {\n",
       "        text-align: right;\n",
       "    }\n",
       "</style>\n",
       "<table border=\"1\" class=\"dataframe\">\n",
       "  <thead>\n",
       "    <tr style=\"text-align: right;\">\n",
       "      <th></th>\n",
       "      <th>backers_count</th>\n",
       "      <th>categoryName</th>\n",
       "      <th>categorySlug</th>\n",
       "      <th>converted_pledged_amount</th>\n",
       "      <th>country</th>\n",
       "      <th>currency</th>\n",
       "      <th>currency_trailing_code</th>\n",
       "      <th>current_currency</th>\n",
       "      <th>description</th>\n",
       "      <th>disable_communication</th>\n",
       "      <th>...</th>\n",
       "      <th>deadline_weekday</th>\n",
       "      <th>project_duration</th>\n",
       "      <th>goal_reached</th>\n",
       "      <th>funded_rate</th>\n",
       "      <th>target</th>\n",
       "      <th>language</th>\n",
       "      <th>polarity</th>\n",
       "      <th>subjectivity</th>\n",
       "      <th>length_name</th>\n",
       "      <th>length_description</th>\n",
       "    </tr>\n",
       "    <tr>\n",
       "      <th>id</th>\n",
       "      <th></th>\n",
       "      <th></th>\n",
       "      <th></th>\n",
       "      <th></th>\n",
       "      <th></th>\n",
       "      <th></th>\n",
       "      <th></th>\n",
       "      <th></th>\n",
       "      <th></th>\n",
       "      <th></th>\n",
       "      <th></th>\n",
       "      <th></th>\n",
       "      <th></th>\n",
       "      <th></th>\n",
       "      <th></th>\n",
       "      <th></th>\n",
       "      <th></th>\n",
       "      <th></th>\n",
       "      <th></th>\n",
       "      <th></th>\n",
       "      <th></th>\n",
       "    </tr>\n",
       "  </thead>\n",
       "  <tbody>\n",
       "    <tr>\n",
       "      <th>157005965</th>\n",
       "      <td>133</td>\n",
       "      <td>Accessories</td>\n",
       "      <td>fashion/accessories</td>\n",
       "      <td>4354</td>\n",
       "      <td>US</td>\n",
       "      <td>USD</td>\n",
       "      <td>True</td>\n",
       "      <td>USD</td>\n",
       "      <td>A video-game adventure inspired parody in coll...</td>\n",
       "      <td>False</td>\n",
       "      <td>...</td>\n",
       "      <td>Thursday</td>\n",
       "      <td>30.000000</td>\n",
       "      <td>yes</td>\n",
       "      <td>8.708000</td>\n",
       "      <td>True</td>\n",
       "      <td>en</td>\n",
       "      <td>0.0</td>\n",
       "      <td>0.0</td>\n",
       "      <td>43</td>\n",
       "      <td>77</td>\n",
       "    </tr>\n",
       "    <tr>\n",
       "      <th>593437587</th>\n",
       "      <td>37</td>\n",
       "      <td>Product Design</td>\n",
       "      <td>design/product design</td>\n",
       "      <td>12560</td>\n",
       "      <td>AU</td>\n",
       "      <td>AUD</td>\n",
       "      <td>True</td>\n",
       "      <td>USD</td>\n",
       "      <td>Quality Australian handmade kitchen knives. Th...</td>\n",
       "      <td>False</td>\n",
       "      <td>...</td>\n",
       "      <td>Thursday</td>\n",
       "      <td>30.000000</td>\n",
       "      <td>yes</td>\n",
       "      <td>1.068936</td>\n",
       "      <td>True</td>\n",
       "      <td>en</td>\n",
       "      <td>0.0</td>\n",
       "      <td>0.0</td>\n",
       "      <td>22</td>\n",
       "      <td>118</td>\n",
       "    </tr>\n",
       "    <tr>\n",
       "      <th>1418154858</th>\n",
       "      <td>2281</td>\n",
       "      <td>Television</td>\n",
       "      <td>film &amp; video/television</td>\n",
       "      <td>486950</td>\n",
       "      <td>US</td>\n",
       "      <td>USD</td>\n",
       "      <td>True</td>\n",
       "      <td>USD</td>\n",
       "      <td>Fans saved the show and now fans are creating ...</td>\n",
       "      <td>False</td>\n",
       "      <td>...</td>\n",
       "      <td>Thursday</td>\n",
       "      <td>30.041667</td>\n",
       "      <td>yes</td>\n",
       "      <td>1.947800</td>\n",
       "      <td>True</td>\n",
       "      <td>en</td>\n",
       "      <td>0.0</td>\n",
       "      <td>0.0</td>\n",
       "      <td>56</td>\n",
       "      <td>116</td>\n",
       "    </tr>\n",
       "    <tr>\n",
       "      <th>496428193</th>\n",
       "      <td>240</td>\n",
       "      <td>Accessories</td>\n",
       "      <td>fashion/accessories</td>\n",
       "      <td>23966</td>\n",
       "      <td>US</td>\n",
       "      <td>USD</td>\n",
       "      <td>True</td>\n",
       "      <td>USD</td>\n",
       "      <td>Kawaii compact everyday wear Ita bag for all o...</td>\n",
       "      <td>False</td>\n",
       "      <td>...</td>\n",
       "      <td>Saturday</td>\n",
       "      <td>20.999988</td>\n",
       "      <td>yes</td>\n",
       "      <td>15.977333</td>\n",
       "      <td>True</td>\n",
       "      <td>en</td>\n",
       "      <td>-0.2</td>\n",
       "      <td>0.6</td>\n",
       "      <td>34</td>\n",
       "      <td>77</td>\n",
       "    </tr>\n",
       "    <tr>\n",
       "      <th>1441622864</th>\n",
       "      <td>4</td>\n",
       "      <td>Crafts</td>\n",
       "      <td>crafts</td>\n",
       "      <td>100</td>\n",
       "      <td>US</td>\n",
       "      <td>USD</td>\n",
       "      <td>True</td>\n",
       "      <td>USD</td>\n",
       "      <td>Hello! I am looking to learn how to make keych...</td>\n",
       "      <td>False</td>\n",
       "      <td>...</td>\n",
       "      <td>Saturday</td>\n",
       "      <td>3.000000</td>\n",
       "      <td>yes</td>\n",
       "      <td>1.000000</td>\n",
       "      <td>True</td>\n",
       "      <td>en</td>\n",
       "      <td>0.0</td>\n",
       "      <td>0.0</td>\n",
       "      <td>20</td>\n",
       "      <td>135</td>\n",
       "    </tr>\n",
       "  </tbody>\n",
       "</table>\n",
       "<p>5 rows × 39 columns</p>\n",
       "</div>"
      ],
      "text/plain": [
       "            backers_count    categoryName             categorySlug  \\\n",
       "id                                                                   \n",
       "157005965             133     Accessories      fashion/accessories   \n",
       "593437587              37  Product Design    design/product design   \n",
       "1418154858           2281      Television  film & video/television   \n",
       "496428193             240     Accessories      fashion/accessories   \n",
       "1441622864              4          Crafts                   crafts   \n",
       "\n",
       "            converted_pledged_amount country currency  currency_trailing_code  \\\n",
       "id                                                                              \n",
       "157005965                       4354      US      USD                    True   \n",
       "593437587                      12560      AU      AUD                    True   \n",
       "1418154858                    486950      US      USD                    True   \n",
       "496428193                      23966      US      USD                    True   \n",
       "1441622864                       100      US      USD                    True   \n",
       "\n",
       "           current_currency  \\\n",
       "id                            \n",
       "157005965               USD   \n",
       "593437587               USD   \n",
       "1418154858              USD   \n",
       "496428193               USD   \n",
       "1441622864              USD   \n",
       "\n",
       "                                                  description  \\\n",
       "id                                                              \n",
       "157005965   A video-game adventure inspired parody in coll...   \n",
       "593437587   Quality Australian handmade kitchen knives. Th...   \n",
       "1418154858  Fans saved the show and now fans are creating ...   \n",
       "496428193   Kawaii compact everyday wear Ita bag for all o...   \n",
       "1441622864  Hello! I am looking to learn how to make keych...   \n",
       "\n",
       "            disable_communication  ...  deadline_weekday  project_duration  \\\n",
       "id                                 ...                                       \n",
       "157005965                   False  ...          Thursday         30.000000   \n",
       "593437587                   False  ...          Thursday         30.000000   \n",
       "1418154858                  False  ...          Thursday         30.041667   \n",
       "496428193                   False  ...          Saturday         20.999988   \n",
       "1441622864                  False  ...          Saturday          3.000000   \n",
       "\n",
       "            goal_reached funded_rate target  language  polarity  subjectivity  \\\n",
       "id                                                                              \n",
       "157005965            yes    8.708000   True        en       0.0           0.0   \n",
       "593437587            yes    1.068936   True        en       0.0           0.0   \n",
       "1418154858           yes    1.947800   True        en       0.0           0.0   \n",
       "496428193            yes   15.977333   True        en      -0.2           0.6   \n",
       "1441622864           yes    1.000000   True        en       0.0           0.0   \n",
       "\n",
       "           length_name length_description  \n",
       "id                                         \n",
       "157005965           43                 77  \n",
       "593437587           22                118  \n",
       "1418154858          56                116  \n",
       "496428193           34                 77  \n",
       "1441622864          20                135  \n",
       "\n",
       "[5 rows x 39 columns]"
      ]
     },
     "execution_count": 173,
     "metadata": {},
     "output_type": "execute_result"
    }
   ],
   "source": [
    "df.sample(5)"
   ]
  },
  {
   "cell_type": "markdown",
   "metadata": {},
   "source": [
    "### split numeric and categorical data"
   ]
  },
  {
   "cell_type": "code",
   "execution_count": null,
   "metadata": {},
   "outputs": [],
   "source": []
  },
  {
   "cell_type": "code",
   "execution_count": 196,
   "metadata": {},
   "outputs": [
    {
     "data": {
      "text/plain": [
       "(15424, 39)"
      ]
     },
     "execution_count": 196,
     "metadata": {},
     "output_type": "execute_result"
    }
   ],
   "source": [
    "# final shape of cleaned data\n",
    "\n",
    "df.shape"
   ]
  },
  {
   "cell_type": "markdown",
   "metadata": {},
   "source": [
    "## Explore Cleaned Data"
   ]
  },
  {
   "cell_type": "markdown",
   "metadata": {},
   "source": [
    "### projects per weekday"
   ]
  },
  {
   "cell_type": "code",
   "execution_count": 194,
   "metadata": {
    "scrolled": false
   },
   "outputs": [
    {
     "data": {
      "text/plain": [
       "target\n",
       "True     12.040659\n",
       "False     0.475672\n",
       "Name: funded_rate, dtype: float64"
      ]
     },
     "execution_count": 194,
     "metadata": {},
     "output_type": "execute_result"
    }
   ],
   "source": [
    "df.groupby([\"target\"])[\"funded_rate\"].mean().sort_values(ascending=False)"
   ]
  },
  {
   "cell_type": "code",
   "execution_count": 110,
   "metadata": {},
   "outputs": [
    {
     "data": {
      "text/plain": [
       "Index(['backers_count', 'categoryName', 'categorySlug',\n",
       "       'converted_pledged_amount', 'country', 'currency',\n",
       "       'currency_trailing_code', 'current_currency', 'description',\n",
       "       'disable_communication', 'fx_rate', 'goal', 'is_starrable',\n",
       "       'locationName', 'name', 'pledged', 'spotlight', 'staff_pick', 'state',\n",
       "       'static_usd_rate', 'usd_exchange_rate', 'usd_pledged', 'usd_type',\n",
       "       'is_backing', 'is_starred', 'created_date', 'created_time',\n",
       "       'created_weekday', 'launched_date', 'launched_time', 'launched_weekday',\n",
       "       'deadline_date', 'deadline_time', 'deadline_weekday',\n",
       "       'project_duration', 'goal_reached', 'target', 'funded_rate', 'language',\n",
       "       'polarity', 'subjectivity', 'length_name', 'length_description'],\n",
       "      dtype='object')"
      ]
     },
     "execution_count": 110,
     "metadata": {},
     "output_type": "execute_result"
    }
   ],
   "source": [
    "df.columns"
   ]
  },
  {
   "cell_type": "markdown",
   "metadata": {},
   "source": [
    "### projects per category"
   ]
  },
  {
   "cell_type": "code",
   "execution_count": null,
   "metadata": {},
   "outputs": [],
   "source": []
  },
  {
   "cell_type": "code",
   "execution_count": null,
   "metadata": {},
   "outputs": [],
   "source": []
  },
  {
   "cell_type": "code",
   "execution_count": null,
   "metadata": {},
   "outputs": [],
   "source": []
  },
  {
   "cell_type": "code",
   "execution_count": null,
   "metadata": {},
   "outputs": [],
   "source": []
  },
  {
   "cell_type": "code",
   "execution_count": null,
   "metadata": {},
   "outputs": [],
   "source": []
  },
  {
   "cell_type": "markdown",
   "metadata": {},
   "source": [
    "### Check for Correlation"
   ]
  },
  {
   "cell_type": "code",
   "execution_count": 175,
   "metadata": {
    "scrolled": false
   },
   "outputs": [
    {
     "data": {
      "image/png": "[encoded data removed]",
      "text/plain": [
       "<Figure size 720x576 with 2 Axes>"
      ]
     },
     "metadata": {
      "needs_background": "light"
     },
     "output_type": "display_data"
    }
   ],
   "source": [
    "#round(df.corr()['death_event'].sort_values(ascending=False),2)\n",
    "\n",
    "# create correlation heatmap \n",
    "\n",
    "mask = np.zeros_like(df.corr())\n",
    "\n",
    "mask[np.triu_indices_from(mask)] = True\n",
    "\n",
    "fig, ax = plt.subplots(figsize=(10, 8))\n",
    "ax = sns.heatmap(df.corr(), mask=mask, vmin=-1, vmax=1, annot=True, cmap='coolwarm')\n",
    "\n",
    "plt.show()"
   ]
  },
  {
   "cell_type": "markdown",
   "metadata": {},
   "source": [
    "## data imbalances"
   ]
  },
  {
   "cell_type": "markdown",
   "metadata": {},
   "source": [
    "### check whether data is imbalanced"
   ]
  },
  {
   "cell_type": "code",
   "execution_count": 176,
   "metadata": {
    "scrolled": false
   },
   "outputs": [
    {
     "data": {
      "text/plain": [
       "True     14475\n",
       "False      949\n",
       "Name: target, dtype: int64"
      ]
     },
     "execution_count": 176,
     "metadata": {},
     "output_type": "execute_result"
    },
    {
     "data": {
      "image/png": "[encoded data removed]",
      "text/plain": [
       "<Figure size 432x288 with 1 Axes>"
      ]
     },
     "metadata": {
      "needs_background": "light"
     },
     "output_type": "display_data"
    }
   ],
   "source": [
    "pd.value_counts(df['target']).plot.bar()\n",
    "plt.title('goal reached?')\n",
    "plt.xlabel('target')\n",
    "plt.ylabel('Frequency')\n",
    "df['target'].value_counts()"
   ]
  },
  {
   "cell_type": "markdown",
   "metadata": {},
   "source": [
    "**YES** our data is imbalanced, as we have 13.324 'no' values and 2.313 'yes' values"
   ]
  },
  {
   "cell_type": "markdown",
   "metadata": {},
   "source": [
    "### deal with imbalances"
   ]
  },
  {
   "cell_type": "code",
   "execution_count": 177,
   "metadata": {},
   "outputs": [],
   "source": [
    "# upscaling"
   ]
  },
  {
   "cell_type": "code",
   "execution_count": null,
   "metadata": {},
   "outputs": [],
   "source": []
  },
  {
   "cell_type": "code",
   "execution_count": 190,
   "metadata": {},
   "outputs": [
    {
     "name": "stdout",
     "output_type": "stream",
     "text": [
      "['imaginative projects', 'funding platform', 'direct support', 'creative projects', 'technology', 'others', 'music', 'life', 'kickstarter', 'kickstarter', 'innovative', 'games', 'full', 'film', 'everything', 'design', 'brought', 'art', 'ambitious']\n"
     ]
    }
   ],
   "source": [
    "rake_nltk_var = Rake()\n",
    "\n",
    "text = \"\"\"Kickstarter is a funding platform for creative projects. Everything from film, games, and music to art, design, and technology. Kickstarter is full of ambitious, innovative, and imaginative projects that are brought to life through the direct support of others.\"\"\"\n",
    "\n",
    "rake_nltk_var.extract_keywords_from_text(text)\n",
    "\n",
    "keyword_extracted = rake_nltk_var.get_ranked_phrases()\n",
    "\n",
    "print(keyword_extracted)"
   ]
  },
  {
   "cell_type": "code",
   "execution_count": null,
   "metadata": {},
   "outputs": [],
   "source": []
  }
 ],
 "metadata": {
  "kernelspec": {
   "display_name": "Python 3",
   "language": "python",
   "name": "python3"
  },
  "language_info": {
   "codemirror_mode": {
    "name": "ipython",
    "version": 3
   },
   "file_extension": ".py",
   "mimetype": "text/x-python",
   "name": "python",
   "nbconvert_exporter": "python",
   "pygments_lexer": "ipython3",
   "version": "3.8.5"
  },
  "toc": {
   "base_numbering": 1,
   "nav_menu": {},
   "number_sections": true,
   "sideBar": true,
   "skip_h1_title": false,
   "title_cell": "Table of Contents",
   "title_sidebar": "Contents",
   "toc_cell": false,
   "toc_position": {
    "height": "calc(100% - 180px)",
    "left": "10px",
    "top": "150px",
    "width": "426.667px"
   },
   "toc_section_display": true,
   "toc_window_display": true
  }
 },
 "nbformat": 4,
 "nbformat_minor": 4
}
