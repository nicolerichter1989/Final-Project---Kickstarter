{
 "cells": [
  {
   "cell_type": "markdown",
   "metadata": {},
   "source": [
    "# final project - KICKSTARTER"
   ]
  },
  {
   "cell_type": "markdown",
   "metadata": {},
   "source": [
    "**Introduction**\n",
    "\n",
    "bla bla bla bla bla "
   ]
  },
  {
   "cell_type": "code",
   "execution_count": 121,
   "metadata": {},
   "outputs": [],
   "source": [
    "from textblob import TextBlob"
   ]
  },
  {
   "cell_type": "code",
   "execution_count": 122,
   "metadata": {},
   "outputs": [
    {
     "data": {
      "text/plain": [
       "'de'"
      ]
     },
     "execution_count": 122,
     "metadata": {},
     "output_type": "execute_result"
    }
   ],
   "source": [
    "a = TextBlob(\"was soll ich machen?\")\n",
    "a.detect_language()"
   ]
  },
  {
   "cell_type": "markdown",
   "metadata": {},
   "source": [
    "# testing NLP - natural language processing"
   ]
  },
  {
   "cell_type": "code",
   "execution_count": 81,
   "metadata": {},
   "outputs": [],
   "source": [
    "import yake"
   ]
  },
  {
   "cell_type": "code",
   "execution_count": 82,
   "metadata": {},
   "outputs": [],
   "source": [
    "kw_extractor = yake.KeywordExtractor()"
   ]
  },
  {
   "cell_type": "code",
   "execution_count": 113,
   "metadata": {},
   "outputs": [],
   "source": [
    "text = \"\"\"Nicole, es ist natürlich sehr schade für mich, dass Du nicht dabei sein kannst. Dennoch brauchst Du Dich nicht bei mir entschuldigen, denn es ist ja auch vor allem Schade für Dich, dass Du bei unserem schönen Treffen nicht dabei sein kannst. \n",
    "Warum lässt Du Joel nicht alleine mit dem Lütten nach Spanien fahren und kommst zu uns? Ich meine Du hast so viel für die Familie getan, jetzt kann die Familie auch was für Dich tun!\n",
    "Denn gerade in so turbulenten braucht man erst Recht eine Auszeit und Joel sollte Dich darin bestimmt gut supporten können. \"\"\""
   ]
  },
  {
   "cell_type": "code",
   "execution_count": 92,
   "metadata": {},
   "outputs": [],
   "source": [
    "language = \"de\""
   ]
  },
  {
   "cell_type": "code",
   "execution_count": 107,
   "metadata": {},
   "outputs": [],
   "source": [
    "max_ngram_size = 1"
   ]
  },
  {
   "cell_type": "code",
   "execution_count": 108,
   "metadata": {},
   "outputs": [],
   "source": [
    "deduplication_threshold = 0.9"
   ]
  },
  {
   "cell_type": "code",
   "execution_count": 109,
   "metadata": {},
   "outputs": [],
   "source": [
    "numOfKeywords = 5"
   ]
  },
  {
   "cell_type": "code",
   "execution_count": 114,
   "metadata": {},
   "outputs": [],
   "source": [
    "custom_kw_extractor = yake.KeywordExtractor(lan=language, n=max_ngram_size, dedupLim=deduplication_threshold, top=numOfKeywords, features=None)"
   ]
  },
  {
   "cell_type": "code",
   "execution_count": 115,
   "metadata": {},
   "outputs": [],
   "source": [
    "keywords = custom_kw_extractor.extract_keywords(text)"
   ]
  },
  {
   "cell_type": "code",
   "execution_count": 116,
   "metadata": {},
   "outputs": [
    {
     "name": "stdout",
     "output_type": "stream",
     "text": [
      "('schade', 0.08811238611117093)\n",
      "('Nicole', 0.09696306862068063)\n",
      "('Familie', 0.1512733699895294)\n",
      "('Joel', 0.1638096544732938)\n",
      "('Treffen', 0.2195416409690374)\n"
     ]
    }
   ],
   "source": [
    "for kw in keywords:\n",
    "    print(kw)"
   ]
  },
  {
   "cell_type": "markdown",
   "metadata": {},
   "source": [
    "## import libraries"
   ]
  },
  {
   "cell_type": "code",
   "execution_count": 48,
   "metadata": {},
   "outputs": [],
   "source": [
    "import pandas as pd\n",
    "import numpy as np\n",
    "import seaborn as sns\n",
    "import matplotlib.pyplot as plt\n",
    "import os\n",
    "import glob\n",
    "\n",
    "from imblearn.over_sampling import SMOTE\n",
    "from imblearn.under_sampling import TomekLinks\n",
    "\n",
    "import statsmodels.api as sm\n",
    "from statsmodels.formula.api import ols\n",
    "from scipy import stats\n",
    "from scipy.stats.mstats import winsorize\n",
    "\n",
    "import math\n",
    "from sklearn.preprocessing import OneHotEncoder, Normalizer, LabelEncoder, StandardScaler, MinMaxScaler\n",
    "from sklearn.model_selection import train_test_split\n",
    "from sklearn.linear_model import LinearRegression, LogisticRegression\n",
    "from sklearn.metrics import mean_squared_error, r2_score, confusion_matrix\n",
    "\n",
    "from sklearn.neighbors import KNeighborsRegressor\n",
    "\n",
    "import warnings\n",
    "warnings.filterwarnings('ignore')"
   ]
  },
  {
   "cell_type": "markdown",
   "metadata": {},
   "source": [
    "## import data"
   ]
  },
  {
   "cell_type": "code",
   "execution_count": 53,
   "metadata": {},
   "outputs": [
    {
     "data": {
      "text/plain": [
       "['kickstarter_all_enddate_30102021.xlsx',\n",
       " 'kickstarter_all_mostbacked.xlsx',\n",
       " 'kickstarter_all_newest_30102021.xlsx',\n",
       " 'kickstarter_all_popularity_30102021.xlsx',\n",
       " 'kickstarter_art_enddate.xlsx',\n",
       " 'kickstarter_art_newest.xlsx',\n",
       " 'kickstarter_comics_enddate.xlsx',\n",
       " 'kickstarter_comics_newest.xlsx',\n",
       " 'kickstarter_crafts_enddate.xlsx',\n",
       " 'kickstarter_crafts_newest.xlsx',\n",
       " 'kickstarter_dance_enddate.xlsx',\n",
       " 'kickstarter_dance_enddate2.xlsx',\n",
       " 'kickstarter_dance_newest.xlsx',\n",
       " 'kickstarter_design_enddate.xlsx',\n",
       " 'kickstarter_design_newest.xlsx',\n",
       " 'kickstarter_fashion_enddate.xlsx',\n",
       " 'kickstarter_fashion_newest.xlsx',\n",
       " 'kickstarter_film_enddate.xlsx',\n",
       " 'kickstarter_food_enddate.xlsx']"
      ]
     },
     "execution_count": 53,
     "metadata": {},
     "output_type": "execute_result"
    }
   ],
   "source": [
    "files = os.listdir('Data')\n",
    "files"
   ]
  },
  {
   "cell_type": "code",
   "execution_count": 54,
   "metadata": {},
   "outputs": [],
   "source": [
    "files = os.listdir('Data')\n",
    "\n",
    "df = pd.DataFrame()\n",
    "\n",
    "path = os.getcwd() + \"\\\\Data\" + \"\\\\\"\n",
    "\n",
    "for i in files:\n",
    "    data = pd.read_excel(path + i)\n",
    "    df = df.append(data)"
   ]
  },
  {
   "cell_type": "code",
   "execution_count": 19,
   "metadata": {},
   "outputs": [],
   "source": [
    "#data = pd.read_excel(r'Data\\kickstarter_art_newest.xlsx')"
   ]
  },
  {
   "cell_type": "markdown",
   "metadata": {},
   "source": [
    "## first review and clean data"
   ]
  },
  {
   "cell_type": "code",
   "execution_count": 56,
   "metadata": {},
   "outputs": [
    {
     "data": {
      "text/plain": [
       "(17304, 47)"
      ]
     },
     "execution_count": 56,
     "metadata": {},
     "output_type": "execute_result"
    }
   ],
   "source": [
    "df.shape"
   ]
  },
  {
   "cell_type": "code",
   "execution_count": 58,
   "metadata": {},
   "outputs": [
    {
     "data": {
      "text/html": [
       "<div>\n",
       "<style scoped>\n",
       "    .dataframe tbody tr th:only-of-type {\n",
       "        vertical-align: middle;\n",
       "    }\n",
       "\n",
       "    .dataframe tbody tr th {\n",
       "        vertical-align: top;\n",
       "    }\n",
       "\n",
       "    .dataframe thead th {\n",
       "        text-align: right;\n",
       "    }\n",
       "</style>\n",
       "<table border=\"1\" class=\"dataframe\">\n",
       "  <thead>\n",
       "    <tr style=\"text-align: right;\">\n",
       "      <th></th>\n",
       "      <th>backers_count</th>\n",
       "      <th>blurb</th>\n",
       "      <th>categoryId</th>\n",
       "      <th>categoryName</th>\n",
       "      <th>categorySlug</th>\n",
       "      <th>converted_pledged_amount</th>\n",
       "      <th>country</th>\n",
       "      <th>country_displayable_name</th>\n",
       "      <th>created_at</th>\n",
       "      <th>created_at_formatted</th>\n",
       "      <th>...</th>\n",
       "      <th>state</th>\n",
       "      <th>state_changed_at</th>\n",
       "      <th>static_usd_rate</th>\n",
       "      <th>title</th>\n",
       "      <th>url</th>\n",
       "      <th>usd_exchange_rate</th>\n",
       "      <th>usd_pledged</th>\n",
       "      <th>usd_type</th>\n",
       "      <th>is_backing</th>\n",
       "      <th>is_starred</th>\n",
       "    </tr>\n",
       "  </thead>\n",
       "  <tbody>\n",
       "    <tr>\n",
       "      <th>1541</th>\n",
       "      <td>23</td>\n",
       "      <td>Cosmically cute enamel pins brought to you by ...</td>\n",
       "      <td>26</td>\n",
       "      <td>Crafts</td>\n",
       "      <td>crafts</td>\n",
       "      <td>428</td>\n",
       "      <td>US</td>\n",
       "      <td>the United States</td>\n",
       "      <td>1488397993</td>\n",
       "      <td>Wed, 01 Mar 2017 19:53:13 +0000</td>\n",
       "      <td>...</td>\n",
       "      <td>successful</td>\n",
       "      <td>1490619335</td>\n",
       "      <td>1.000000</td>\n",
       "      <td>Sugar Lagoon: Space Cat Enamel Pins</td>\n",
       "      <td>https://www.kickstarter.com/projects/sugarlago...</td>\n",
       "      <td>1.00000</td>\n",
       "      <td>428.000000</td>\n",
       "      <td>domestic</td>\n",
       "      <td>NaN</td>\n",
       "      <td>NaN</td>\n",
       "    </tr>\n",
       "    <tr>\n",
       "      <th>307</th>\n",
       "      <td>278</td>\n",
       "      <td>Magnet Phone Stand can hold 5+ cards, cash, co...</td>\n",
       "      <td>28</td>\n",
       "      <td>Product Design</td>\n",
       "      <td>design/product design</td>\n",
       "      <td>9125</td>\n",
       "      <td>US</td>\n",
       "      <td>the United States</td>\n",
       "      <td>1631499876</td>\n",
       "      <td>Mon, 13 Sep 2021 02:24:36 +0000</td>\n",
       "      <td>...</td>\n",
       "      <td>live</td>\n",
       "      <td>1633060044</td>\n",
       "      <td>1.000000</td>\n",
       "      <td>Magnetic Phone Wallet/Stand for MagSafe</td>\n",
       "      <td>https://www.kickstarter.com/projects/elusefor/...</td>\n",
       "      <td>1.00000</td>\n",
       "      <td>9125.000000</td>\n",
       "      <td>international</td>\n",
       "      <td>NaN</td>\n",
       "      <td>NaN</td>\n",
       "    </tr>\n",
       "    <tr>\n",
       "      <th>906</th>\n",
       "      <td>8</td>\n",
       "      <td>We will be creating a line of Soaps inspired b...</td>\n",
       "      <td>345</td>\n",
       "      <td>DIY</td>\n",
       "      <td>crafts/diy</td>\n",
       "      <td>285</td>\n",
       "      <td>US</td>\n",
       "      <td>the United States</td>\n",
       "      <td>1543680581</td>\n",
       "      <td>Sat, 01 Dec 2018 16:09:41 +0000</td>\n",
       "      <td>...</td>\n",
       "      <td>successful</td>\n",
       "      <td>1548262482</td>\n",
       "      <td>1.000000</td>\n",
       "      <td>Fantasy Soaps by FireBunny Games</td>\n",
       "      <td>https://www.kickstarter.com/projects/cymultech...</td>\n",
       "      <td>1.00000</td>\n",
       "      <td>285.000000</td>\n",
       "      <td>international</td>\n",
       "      <td>NaN</td>\n",
       "      <td>NaN</td>\n",
       "    </tr>\n",
       "    <tr>\n",
       "      <th>192</th>\n",
       "      <td>39</td>\n",
       "      <td>Wir werden im Herbst 2019 unsere nächste Kreat...</td>\n",
       "      <td>254</td>\n",
       "      <td>Performances</td>\n",
       "      <td>dance/performances</td>\n",
       "      <td>5743</td>\n",
       "      <td>DE</td>\n",
       "      <td>Germany</td>\n",
       "      <td>1546505894</td>\n",
       "      <td>Thu, 03 Jan 2019 08:58:14 +0000</td>\n",
       "      <td>...</td>\n",
       "      <td>successful</td>\n",
       "      <td>1548586801</td>\n",
       "      <td>1.155864</td>\n",
       "      <td>Romeo ∅ Julia - eine Performance für Jugendliche</td>\n",
       "      <td>https://www.kickstarter.com/projects/amadeuspa...</td>\n",
       "      <td>1.14065</td>\n",
       "      <td>5819.773125</td>\n",
       "      <td>international</td>\n",
       "      <td>NaN</td>\n",
       "      <td>NaN</td>\n",
       "    </tr>\n",
       "    <tr>\n",
       "      <th>38</th>\n",
       "      <td>27</td>\n",
       "      <td>When a Volcano suddenly erupts, a team is sent...</td>\n",
       "      <td>3</td>\n",
       "      <td>Comics</td>\n",
       "      <td>comics</td>\n",
       "      <td>833</td>\n",
       "      <td>US</td>\n",
       "      <td>the United States</td>\n",
       "      <td>1633276132</td>\n",
       "      <td>Sun, 03 Oct 2021 15:48:52 +0000</td>\n",
       "      <td>...</td>\n",
       "      <td>live</td>\n",
       "      <td>1635221675</td>\n",
       "      <td>1.000000</td>\n",
       "      <td>ECLIPSE: THE HAWAIIAN PROTECTOR is a WANTED MAN</td>\n",
       "      <td>https://www.kickstarter.com/projects/continuum...</td>\n",
       "      <td>1.00000</td>\n",
       "      <td>833.000000</td>\n",
       "      <td>international</td>\n",
       "      <td>NaN</td>\n",
       "      <td>NaN</td>\n",
       "    </tr>\n",
       "  </tbody>\n",
       "</table>\n",
       "<p>5 rows × 47 columns</p>\n",
       "</div>"
      ],
      "text/plain": [
       "      backers_count                                              blurb  \\\n",
       "1541             23  Cosmically cute enamel pins brought to you by ...   \n",
       "307             278  Magnet Phone Stand can hold 5+ cards, cash, co...   \n",
       "906               8  We will be creating a line of Soaps inspired b...   \n",
       "192              39  Wir werden im Herbst 2019 unsere nächste Kreat...   \n",
       "38               27  When a Volcano suddenly erupts, a team is sent...   \n",
       "\n",
       "      categoryId    categoryName           categorySlug  \\\n",
       "1541          26          Crafts                 crafts   \n",
       "307           28  Product Design  design/product design   \n",
       "906          345             DIY             crafts/diy   \n",
       "192          254    Performances     dance/performances   \n",
       "38             3          Comics                 comics   \n",
       "\n",
       "      converted_pledged_amount country country_displayable_name  created_at  \\\n",
       "1541                       428      US        the United States  1488397993   \n",
       "307                       9125      US        the United States  1631499876   \n",
       "906                        285      US        the United States  1543680581   \n",
       "192                       5743      DE                  Germany  1546505894   \n",
       "38                         833      US        the United States  1633276132   \n",
       "\n",
       "                 created_at_formatted  ...       state  state_changed_at  \\\n",
       "1541  Wed, 01 Mar 2017 19:53:13 +0000  ...  successful        1490619335   \n",
       "307   Mon, 13 Sep 2021 02:24:36 +0000  ...        live        1633060044   \n",
       "906   Sat, 01 Dec 2018 16:09:41 +0000  ...  successful        1548262482   \n",
       "192   Thu, 03 Jan 2019 08:58:14 +0000  ...  successful        1548586801   \n",
       "38    Sun, 03 Oct 2021 15:48:52 +0000  ...        live        1635221675   \n",
       "\n",
       "     static_usd_rate                                             title  \\\n",
       "1541        1.000000               Sugar Lagoon: Space Cat Enamel Pins   \n",
       "307         1.000000           Magnetic Phone Wallet/Stand for MagSafe   \n",
       "906         1.000000                  Fantasy Soaps by FireBunny Games   \n",
       "192         1.155864  Romeo ∅ Julia - eine Performance für Jugendliche   \n",
       "38          1.000000   ECLIPSE: THE HAWAIIAN PROTECTOR is a WANTED MAN   \n",
       "\n",
       "                                                    url usd_exchange_rate  \\\n",
       "1541  https://www.kickstarter.com/projects/sugarlago...           1.00000   \n",
       "307   https://www.kickstarter.com/projects/elusefor/...           1.00000   \n",
       "906   https://www.kickstarter.com/projects/cymultech...           1.00000   \n",
       "192   https://www.kickstarter.com/projects/amadeuspa...           1.14065   \n",
       "38    https://www.kickstarter.com/projects/continuum...           1.00000   \n",
       "\n",
       "      usd_pledged       usd_type  is_backing is_starred  \n",
       "1541   428.000000       domestic         NaN        NaN  \n",
       "307   9125.000000  international         NaN        NaN  \n",
       "906    285.000000  international         NaN        NaN  \n",
       "192   5819.773125  international         NaN        NaN  \n",
       "38     833.000000  international         NaN        NaN  \n",
       "\n",
       "[5 rows x 47 columns]"
      ]
     },
     "execution_count": 58,
     "metadata": {},
     "output_type": "execute_result"
    }
   ],
   "source": [
    "df.sample(5)"
   ]
  },
  {
   "cell_type": "markdown",
   "metadata": {},
   "source": [
    "### Cleaning Column Names"
   ]
  },
  {
   "cell_type": "code",
   "execution_count": 68,
   "metadata": {},
   "outputs": [
    {
     "data": {
      "text/plain": [
       "Index(['backers_count', 'blurb', 'categoryId', 'categoryName', 'categorySlug',\n",
       "       'converted_pledged_amount', 'country', 'country_displayable_name',\n",
       "       'created_at', 'created_at_formatted', 'creatorAvatar', 'creatorId',\n",
       "       'creatorName', 'creatorUrl', 'currency', 'currency_symbol',\n",
       "       'currency_trailing_code', 'current_currency', 'deadline', 'description',\n",
       "       'disable_communication', 'fx_rate', 'goal', 'id', 'is_starrable',\n",
       "       'launched_at', 'launched_at_formatted', 'link', 'locationId',\n",
       "       'locationName', 'name', 'photo', 'pledged', 'pubDate', 'slug',\n",
       "       'spotlight', 'staff_pick', 'state', 'state_changed_at',\n",
       "       'static_usd_rate', 'title', 'url', 'usd_exchange_rate', 'usd_pledged',\n",
       "       'usd_type', 'is_backing', 'is_starred'],\n",
       "      dtype='object')"
      ]
     },
     "execution_count": 68,
     "metadata": {},
     "output_type": "execute_result"
    }
   ],
   "source": [
    "df.columns"
   ]
  },
  {
   "cell_type": "markdown",
   "metadata": {},
   "source": [
    "no cleaning of column names required"
   ]
  },
  {
   "cell_type": "markdown",
   "metadata": {},
   "source": [
    "### Review DTypes"
   ]
  },
  {
   "cell_type": "code",
   "execution_count": 69,
   "metadata": {},
   "outputs": [
    {
     "data": {
      "text/plain": [
       "backers_count                 int64\n",
       "blurb                        object\n",
       "categoryId                    int64\n",
       "categoryName                 object\n",
       "categorySlug                 object\n",
       "converted_pledged_amount      int64\n",
       "country                      object\n",
       "country_displayable_name     object\n",
       "created_at                    int64\n",
       "created_at_formatted         object\n",
       "creatorAvatar                object\n",
       "creatorId                     int64\n",
       "creatorName                  object\n",
       "creatorUrl                   object\n",
       "currency                     object\n",
       "currency_symbol              object\n",
       "currency_trailing_code         bool\n",
       "current_currency             object\n",
       "deadline                      int64\n",
       "description                  object\n",
       "disable_communication          bool\n",
       "fx_rate                     float64\n",
       "goal                        float64\n",
       "id                            int64\n",
       "is_starrable                   bool\n",
       "launched_at                   int64\n",
       "launched_at_formatted        object\n",
       "link                         object\n",
       "locationId                    int64\n",
       "locationName                 object\n",
       "name                         object\n",
       "photo                       float64\n",
       "pledged                     float64\n",
       "pubDate                      object\n",
       "slug                         object\n",
       "spotlight                      bool\n",
       "staff_pick                     bool\n",
       "state                        object\n",
       "state_changed_at              int64\n",
       "static_usd_rate             float64\n",
       "title                        object\n",
       "url                          object\n",
       "usd_exchange_rate           float64\n",
       "usd_pledged                 float64\n",
       "usd_type                     object\n",
       "is_backing                   object\n",
       "is_starred                   object\n",
       "dtype: object"
      ]
     },
     "execution_count": 69,
     "metadata": {},
     "output_type": "execute_result"
    }
   ],
   "source": [
    "df.dtypes"
   ]
  },
  {
   "cell_type": "markdown",
   "metadata": {},
   "source": [
    "to review"
   ]
  },
  {
   "cell_type": "code",
   "execution_count": null,
   "metadata": {},
   "outputs": [],
   "source": [
    "### Review DTypes\n",
    "\n",
    "df.dtypes\n",
    "\n",
    "# boolean columns death_event, smoking, sex, high_blood_pressure, diabetes, anaemia\n",
    "\n",
    "#data = data.astype({'death_event':'boolean', 'sex':'boolean', 'smoking':'boolean', 'high_blood_pressure':'boolean','diabetes':'boolean','anaemia':'boolean','age':'int64'})\n",
    "\n",
    "df.dtypes"
   ]
  },
  {
   "cell_type": "markdown",
   "metadata": {},
   "source": [
    "### Null Values"
   ]
  },
  {
   "cell_type": "code",
   "execution_count": 70,
   "metadata": {},
   "outputs": [
    {
     "data": {
      "text/plain": [
       "backers_count               False\n",
       "blurb                       False\n",
       "categoryId                  False\n",
       "categoryName                False\n",
       "categorySlug                False\n",
       "converted_pledged_amount    False\n",
       "country                     False\n",
       "country_displayable_name    False\n",
       "created_at                  False\n",
       "created_at_formatted        False\n",
       "creatorAvatar               False\n",
       "creatorId                   False\n",
       "creatorName                 False\n",
       "creatorUrl                  False\n",
       "currency                    False\n",
       "currency_symbol             False\n",
       "currency_trailing_code      False\n",
       "current_currency            False\n",
       "deadline                    False\n",
       "description                 False\n",
       "disable_communication       False\n",
       "fx_rate                     False\n",
       "goal                        False\n",
       "id                          False\n",
       "is_starrable                False\n",
       "launched_at                 False\n",
       "launched_at_formatted       False\n",
       "link                        False\n",
       "locationId                  False\n",
       "locationName                False\n",
       "name                        False\n",
       "photo                        True\n",
       "pledged                     False\n",
       "pubDate                     False\n",
       "slug                        False\n",
       "spotlight                   False\n",
       "staff_pick                  False\n",
       "state                       False\n",
       "state_changed_at            False\n",
       "static_usd_rate             False\n",
       "title                       False\n",
       "url                         False\n",
       "usd_exchange_rate           False\n",
       "usd_pledged                 False\n",
       "usd_type                     True\n",
       "is_backing                   True\n",
       "is_starred                   True\n",
       "dtype: bool"
      ]
     },
     "execution_count": 70,
     "metadata": {},
     "output_type": "execute_result"
    }
   ],
   "source": [
    "df.isna().any()"
   ]
  },
  {
   "cell_type": "markdown",
   "metadata": {},
   "source": [
    "No null values present in this dataset"
   ]
  },
  {
   "cell_type": "markdown",
   "metadata": {},
   "source": [
    "### Drop Duplicates"
   ]
  },
  {
   "cell_type": "code",
   "execution_count": 71,
   "metadata": {},
   "outputs": [
    {
     "data": {
      "text/plain": [
       "(17304, 47)"
      ]
     },
     "execution_count": 71,
     "metadata": {},
     "output_type": "execute_result"
    }
   ],
   "source": [
    "df.shape"
   ]
  },
  {
   "cell_type": "code",
   "execution_count": 72,
   "metadata": {},
   "outputs": [],
   "source": [
    "df = df.drop_duplicates()"
   ]
  },
  {
   "cell_type": "code",
   "execution_count": 73,
   "metadata": {},
   "outputs": [
    {
     "data": {
      "text/plain": [
       "(17195, 47)"
      ]
     },
     "execution_count": 73,
     "metadata": {},
     "output_type": "execute_result"
    }
   ],
   "source": [
    "df.shape"
   ]
  },
  {
   "cell_type": "markdown",
   "metadata": {},
   "source": [
    "xxx duplicates have been dropped"
   ]
  },
  {
   "cell_type": "markdown",
   "metadata": {},
   "source": [
    "### deal with duplicate listings at a different time"
   ]
  },
  {
   "cell_type": "markdown",
   "metadata": {},
   "source": [
    "to do"
   ]
  },
  {
   "cell_type": "markdown",
   "metadata": {},
   "source": [
    "### Data Values"
   ]
  },
  {
   "cell_type": "code",
   "execution_count": 74,
   "metadata": {},
   "outputs": [
    {
     "name": "stdout",
     "output_type": "stream",
     "text": [
      "3      3\n",
      "77     1\n",
      "61     1\n",
      "1      1\n",
      "24     1\n",
      "151    1\n",
      "5      1\n",
      "39     1\n",
      "145    1\n",
      "305    1\n",
      "Name: backers_count, dtype: int64 \n",
      "\n",
      "Fruit-First Hydrating Freezies                                                                                                          1\n",
      "Free Food Pantry, \"Pay What You Can\" Thrift Store and Community Hub for Arts, Education, and Empowerment                                1\n",
      "Our Kickstarter will help secure a lease on a commercial kitchen and launch our full scale catering & events company in Brooklyn NY.    1\n",
      "Gourmet coffee, donuts and bagels shop growing to service more of Colchester Country!                                                   1\n",
      "2 Italian butchers and farmers transplanted in Vermont bring you cured meats coming from animals raised using sustainable practices     1\n",
      "We want to bring quick, quality and convenient, drive thru coffee to the city of Boerne.                                                1\n",
      "Un huerto Urbano Biointensivo para la producción de diferentes tipos de hortalizas y hierbas aromáticas.                                1\n",
      "A signature cocktail bar and lounge in historic west Cookeville, TN                                                                     1\n",
      "The Home of Port Lovers                                                                                                                 1\n",
      "Homemade Italian sweets                                                                                                                 1\n",
      "A local microbakery, specialising in high quality sourdough products and other yummy treats.                                            1\n",
      "Haunt your holidays with this slightly disturbing, extremely collectible tiki mug!                                                      1\n",
      "Name: blurb, dtype: int64 \n",
      "\n",
      "10     3\n",
      "307    3\n",
      "309    2\n",
      "313    1\n",
      "312    1\n",
      "308    1\n",
      "314    1\n",
      "Name: categoryId, dtype: int64 \n",
      "\n",
      "Drinks         3\n",
      "Food           3\n",
      "Farms          2\n",
      "Events         1\n",
      "Spaces         1\n",
      "Small Batch    1\n",
      "Restaurants    1\n",
      "Name: categoryName, dtype: int64 \n",
      "\n",
      "food/drinks         3\n",
      "food                3\n",
      "food/farms          2\n",
      "food/spaces         1\n",
      "food/restaurants    1\n",
      "food/small batch    1\n",
      "food/events         1\n",
      "Name: categorySlug, dtype: int64 \n",
      "\n",
      "8944     1\n",
      "1015     1\n",
      "45194    1\n",
      "3354     1\n",
      "1576     1\n",
      "31527    1\n",
      "22       1\n",
      "48858    1\n",
      "2936     1\n",
      "151      1\n",
      "305      1\n",
      "0        1\n",
      "Name: converted_pledged_amount, dtype: int64 \n",
      "\n",
      "US    6\n",
      "CA    2\n",
      "IE    1\n",
      "MX    1\n",
      "DK    1\n",
      "GB    1\n",
      "Name: country, dtype: int64 \n",
      "\n",
      "the United States     6\n",
      "Canada                2\n",
      "Mexico                1\n",
      "the United Kingdom    1\n",
      "Denmark               1\n",
      "Ireland               1\n",
      "Name: country_displayable_name, dtype: int64 \n",
      "\n",
      "1630408418    1\n",
      "1631711869    1\n",
      "1631201810    1\n",
      "1630691609    1\n",
      "1631374168    1\n",
      "1629131943    1\n",
      "1629906857    1\n",
      "1627168949    1\n",
      "1629862996    1\n",
      "1632797155    1\n",
      "1631218676    1\n",
      "1633354993    1\n",
      "Name: created_at, dtype: int64 \n",
      "\n",
      "Wed, 25 Aug 2021 15:54:17 +0000    1\n",
      "Mon, 16 Aug 2021 16:39:03 +0000    1\n",
      "Thu, 09 Sep 2021 15:36:50 +0000    1\n",
      "Wed, 15 Sep 2021 13:17:49 +0000    1\n",
      "Thu, 09 Sep 2021 20:17:56 +0000    1\n",
      "Mon, 04 Oct 2021 13:43:13 +0000    1\n",
      "Tue, 28 Sep 2021 02:45:55 +0000    1\n",
      "Sat, 24 Jul 2021 23:22:29 +0000    1\n",
      "Fri, 03 Sep 2021 17:53:29 +0000    1\n",
      "Tue, 31 Aug 2021 11:13:38 +0000    1\n",
      "Wed, 25 Aug 2021 03:43:16 +0000    1\n",
      "Sat, 11 Sep 2021 15:29:28 +0000    1\n",
      "Name: created_at_formatted, dtype: int64 \n",
      "\n",
      "https://ksr-ugc.imgix.net/assets/034/634/521/801ab520a176a0610c579be00f8a1902_original.jpeg?ixlib=rb-4.0.2&w=160&h=160&fit=crop&v=1629863929&auto=format&frame=1&q=92&s=a2d0d4ee10d00b1e2432384407cad48d    1\n",
      "https://ksr-ugc.imgix.net/assets/034/840/451/b0d399ec43e8d1ad2ab1bf26849701e7_original.png?ixlib=rb-4.0.2&w=160&h=160&fit=crop&v=1631379346&auto=format&frame=1&q=92&s=5c8b279c9f480e3f70eccd56379eb287     1\n",
      "https://ksr-ugc.imgix.net/assets/007/985/921/93dd39d26ef8900edc8a627ccbff9f6b_original.jpg?ixlib=rb-4.0.2&w=160&h=160&fit=crop&v=1611972731&auto=format&frame=1&q=92&s=fc5618cf1dd714f6c1fe2ac4e00c2028     1\n",
      "https://ksr-ugc.imgix.net/assets/035/114/211/b6ad7ff936778d2bb4927195f3007f4b_original.jpg?ixlib=rb-4.0.2&w=160&h=160&fit=crop&v=1633370928&auto=format&frame=1&q=92&s=1c9263b177bc48dad73213427ae27bfe     1\n",
      "https://ksr-ugc.imgix.net/assets/035/047/605/cbd4701f23beb3dddaf2aa0b4e95c6a4_original.jpeg?ixlib=rb-4.0.2&w=160&h=160&fit=crop&v=1632870771&auto=format&frame=1&q=92&s=a61bf4d65fddb582a69317d89f9b9c3c    1\n",
      "https://ksr-ugc.imgix.net/assets/034/887/805/1d724e50c53a0afdd4a7f46b597f9fb1_original.png?ixlib=rb-4.0.2&w=160&h=160&fit=crop&v=1631713291&auto=format&frame=1&q=92&s=2d880faadaccfcc6617830923001ac2b     1\n",
      "https://ksr-ugc.imgix.net/assets/006/122/547/6fcf68c7a6ec67be3ccdfb5f49fb6505_original.jpg?ixlib=rb-4.0.2&w=160&h=160&fit=crop&v=1504718759&auto=format&frame=1&q=92&s=68b81b82ec3edb6ab837f8f82592cc7f     1\n",
      "https://ksr-ugc.imgix.net/assets/034/790/684/91298e16c4fcb9946255b1e38b9b08c3_original.jpg?ixlib=rb-4.0.2&w=160&h=160&fit=crop&v=1631031118&auto=format&frame=1&q=92&s=56cc06e16a4e980b0c9e8365a35dc6d2     1\n",
      "https://ksr-ugc.imgix.net/assets/034/638/023/83a2e3ee62a98fd8d1a35dfb66f0328c_original.PNG?ixlib=rb-4.0.2&w=160&h=160&fit=crop&v=1629895782&auto=format&frame=1&q=92&s=7b6db70ad76868cd2d45eefb380bb445     1\n",
      "https://ksr-ugc.imgix.net/assets/034/903/056/b9b9da7e3afc9db3dbfb989370f55964_original.jpeg?ixlib=rb-4.0.2&w=160&h=160&fit=crop&v=1631811021&auto=format&frame=1&q=92&s=6f3c43fd00e9e15ad19f3c3224681be3    1\n",
      "https://ksr-ugc.imgix.net/assets/034/819/141/d8cb3d1a1f2d76c63816743fc3c1a54c_original.jpeg?ixlib=rb-4.0.2&w=160&h=160&fit=crop&v=1631212948&auto=format&frame=1&q=92&s=44c3f14416235180e651a055bbe3db9d    1\n",
      "https://ksr-ugc.imgix.net/assets/034/613/154/b604f1664e7eb852ede5405fab7813a9_original.jpg?ixlib=rb-4.0.2&w=160&h=160&fit=crop&v=1629717472&auto=format&frame=1&q=92&s=3c35017a52032c4edfd71d494384709e     1\n",
      "Name: creatorAvatar, dtype: int64 \n",
      "\n",
      "1622074575    1\n",
      "1357009941    1\n",
      "617182843     1\n",
      "1742884506    1\n",
      "1696093593    1\n",
      "258432471     1\n",
      "87015317      1\n",
      "1785038421    1\n",
      "798910977     1\n",
      "894866514     1\n",
      "727281210     1\n",
      "333398991     1\n",
      "Name: creatorId, dtype: int64 \n",
      "\n",
      "Mackenzie Pagaduan     1\n",
      "BJ Cherryholmes        1\n",
      "Sergio Garrido         1\n",
      "Dacha 46               1\n",
      "The Blessing Box       1\n",
      "Blair Reynolds         1\n",
      "Selena                 1\n",
      "Angela Nöthlings       1\n",
      "Monti Verdi Salumi     1\n",
      "PortFamly              1\n",
      "Sum Good Foods Inc.    1\n",
      "Brandon Sosa           1\n",
      "Name: creatorName, dtype: int64 \n",
      "\n",
      "https://www.kickstarter.com/profile/blackandwhiteroom     1\n",
      "https://www.kickstarter.com/profile/617182843             1\n",
      "https://www.kickstarter.com/profile/dacha46kickstarter    1\n",
      "https://www.kickstarter.com/profile/italiansweetbites     1\n",
      "https://www.kickstarter.com/profile/theblessingbox        1\n",
      "https://www.kickstarter.com/profile/togodonuts            1\n",
      "https://www.kickstarter.com/profile/sumgood               1\n",
      "https://www.kickstarter.com/profile/portfamlynetwork      1\n",
      "https://www.kickstarter.com/profile/angelanoethlings      1\n",
      "https://www.kickstarter.com/profile/bgreynolds            1\n",
      "https://www.kickstarter.com/profile/montiverdi            1\n",
      "https://www.kickstarter.com/profile/bran22                1\n",
      "Name: creatorUrl, dtype: int64 \n",
      "\n",
      "USD    6\n",
      "EUR    2\n",
      "CAD    2\n",
      "GBP    1\n",
      "MXN    1\n",
      "Name: currency, dtype: int64 \n",
      "\n",
      "$    9\n",
      "€    2\n",
      "£    1\n",
      "Name: currency_symbol, dtype: int64 \n",
      "\n",
      "True     9\n",
      "False    3\n",
      "Name: currency_trailing_code, dtype: int64 \n",
      "\n",
      "USD    12\n",
      "Name: current_currency, dtype: int64 \n",
      "\n",
      "1635633534    1\n",
      "1635643006    1\n",
      "1635650100    1\n",
      "1635721140    1\n",
      "1635719304    1\n",
      "1635688727    1\n",
      "1635680486    1\n",
      "1635739140    1\n",
      "1635621476    1\n",
      "1635682043    1\n",
      "1635721800    1\n",
      "1635652800    1\n",
      "Name: deadline, dtype: int64 \n",
      "\n",
      "Fruit-First Hydrating Freezies                                                                                                          1\n",
      "Free Food Pantry, \"Pay What You Can\" Thrift Store and Community Hub for Arts, Education, and Empowerment                                1\n",
      "Our Kickstarter will help secure a lease on a commercial kitchen and launch our full scale catering & events company in Brooklyn NY.    1\n",
      "Gourmet coffee, donuts and bagels shop growing to service more of Colchester Country!                                                   1\n",
      "2 Italian butchers and farmers transplanted in Vermont bring you cured meats coming from animals raised using sustainable practices     1\n",
      "We want to bring quick, quality and convenient, drive thru coffee to the city of Boerne.                                                1\n",
      "Un huerto Urbano Biointensivo para la producción de diferentes tipos de hortalizas y hierbas aromáticas.                                1\n",
      "A signature cocktail bar and lounge in historic west Cookeville, TN                                                                     1\n",
      "The Home of Port Lovers                                                                                                                 1\n",
      "Homemade Italian sweets                                                                                                                 1\n",
      "A local microbakery, specialising in high quality sourdough products and other yummy treats.                                            1\n",
      "Haunt your holidays with this slightly disturbing, extremely collectible tiki mug!                                                      1\n",
      "Name: description, dtype: int64 \n",
      "\n",
      "False    12\n",
      "Name: disable_communication, dtype: int64 \n",
      "\n",
      "1.000000    6\n",
      "0.809654    2\n",
      "1.167632    2\n",
      "1.379470    1\n",
      "0.048983    1\n",
      "Name: fx_rate, dtype: int64 \n",
      "\n",
      "5000      2\n",
      "852       1\n",
      "300000    1\n",
      "50000     1\n",
      "2500      1\n",
      "3000      1\n",
      "60257     1\n",
      "43300     1\n",
      "80000     1\n",
      "32000     1\n",
      "98000     1\n",
      "Name: goal, dtype: int64 \n",
      "\n",
      "1077013774    1\n",
      "1823650334    1\n",
      "1048316525    1\n",
      "1585454330    1\n",
      "812394041     1\n",
      "163016817     1\n",
      "1047831341    1\n",
      "1820782998    1\n",
      "1510897189    1\n",
      "1556210666    1\n",
      "1350179747    1\n",
      "528627217     1\n",
      "Name: id, dtype: int64 \n",
      "\n",
      "True    12\n",
      "Name: is_starrable, dtype: int64 \n",
      "\n",
      "1634337534    1\n",
      "1633051006    1\n",
      "1631715356    1\n",
      "1633090043    1\n",
      "1633996473    1\n",
      "1630535304    1\n",
      "1633096727    1\n",
      "1631360486    1\n",
      "1633060645    1\n",
      "1630437476    1\n",
      "1633074742    1\n",
      "1631216280    1\n",
      "Name: launched_at, dtype: int64 \n",
      "\n",
      "Fri, 01 Oct 2021 03:57:25 +0000    1\n",
      "Fri, 01 Oct 2021 12:07:23 +0000    1\n",
      "Mon, 11 Oct 2021 23:54:33 +0000    1\n",
      "Wed, 15 Sep 2021 14:15:56 +0000    1\n",
      "Sat, 11 Sep 2021 11:41:26 +0000    1\n",
      "Fri, 01 Oct 2021 13:58:47 +0000    1\n",
      "Fri, 15 Oct 2021 22:38:54 +0000    1\n",
      "Fri, 01 Oct 2021 01:16:46 +0000    1\n",
      "Thu, 09 Sep 2021 19:38:00 +0000    1\n",
      "Tue, 31 Aug 2021 19:17:56 +0000    1\n",
      "Fri, 01 Oct 2021 07:52:22 +0000    1\n",
      "Wed, 01 Sep 2021 22:28:24 +0000    1\n",
      "Name: launched_at_formatted, dtype: int64 \n",
      "\n",
      "https://www.kickstarter.com/projects/sumgood/sum-good?ref=discovery_category_ending_soon                                                  1\n",
      "https://www.kickstarter.com/projects/617182843/lonestar-grounds-espresso?ref=discovery_category_ending_soon                               1\n",
      "https://www.kickstarter.com/projects/portfamlynetwork/portfamly?ref=discovery_category_ending_soon                                        1\n",
      "https://www.kickstarter.com/projects/blackandwhiteroom/black-and-white-room?ref=discovery_category_ending_soon                            1\n",
      "https://www.kickstarter.com/projects/togodonuts/2-aroma-maya-to-go?ref=discovery_category_ending_soon                                     1\n",
      "https://www.kickstarter.com/projects/angelanoethlings/ryes-and-shine-microbakery-cork?ref=discovery_category_ending_soon                  1\n",
      "https://www.kickstarter.com/projects/theblessingbox/the-blessing-box-a-community-swap-meet?ref=discovery_category_ending_soon             1\n",
      "https://www.kickstarter.com/projects/italiansweetbites/italian-sweet-bites-0?ref=discovery_category_ending_soon                           1\n",
      "https://www.kickstarter.com/projects/bran22/huerto-urbano-biointensivo-y-tecnicas-hidroponicas?ref=discovery_category_ending_soon         1\n",
      "https://www.kickstarter.com/projects/dacha46kickstarter/dacha-46?ref=discovery_category_ending_soon                                       1\n",
      "https://www.kickstarter.com/projects/montiverdi/cured-meat-from-an-ethical-sustainable-vermont-farm?ref=discovery_category_ending_soon    1\n",
      "https://www.kickstarter.com/projects/bgreynolds/severed-santa-tiki-mug?ref=discovery_category_ending_soon                                 1\n",
      "Name: link, dtype: int64 \n",
      "\n",
      "560472      1\n",
      "12589335    1\n",
      "2503713     1\n",
      "558791      1\n",
      "3817        1\n",
      "2384455     1\n",
      "2366263     1\n",
      "21125       1\n",
      "3796        1\n",
      "125459      1\n",
      "2450306     1\n",
      "2475687     1\n",
      "Name: locationId, dtype: int64 \n",
      "\n",
      "Virum, Denmark          1\n",
      "Glasgow, UK             1\n",
      "Middlebury, VT          1\n",
      "Truro, Canada           1\n",
      "Tallahassee, FL         1\n",
      "Cookeville, TN          1\n",
      "Moncton, Canada         1\n",
      "Cork, Ireland           1\n",
      "Boerne, TX              1\n",
      "Isla Mujeres, Mexico    1\n",
      "Brooklyn, NY            1\n",
      "Portland, OR            1\n",
      "Name: locationName, dtype: int64 \n",
      "\n",
      "Black & White Room                                      1\n",
      "Cured meat from an ethical, sustainable Vermont Farm    1\n",
      "Italian sweet bites                                     1\n",
      "SEVERED SANTA TIKI MUG                                  1\n",
      "Dacha 46                                                1\n",
      "Second Location - Aroma Maya To Go!                     1\n",
      "Huerto Urbano Biointensivo y Técnicas hidroponicas      1\n",
      "Sum Good                                                1\n",
      "Ryes & Shine Microbakery Cork                           1\n",
      "PortFamly                                               1\n",
      "The Blessing Box: A Community Swap Meet                 1\n",
      "Lonestar Grounds Espresso                               1\n",
      "Name: name, dtype: int64 \n",
      "\n",
      "Series([], Name: photo, dtype: int64) \n",
      "\n",
      "60345.29    1\n",
      "31527.00    1\n",
      "18.80       1\n",
      "305.00      1\n",
      "2515.00     1\n",
      "870.00      1\n",
      "45194.00    1\n",
      "16.00       1\n",
      "8944.00     1\n",
      "4143.29     1\n",
      "151.00      1\n",
      "1576.00     1\n",
      "Name: pledged, dtype: int64 \n",
      "\n",
      "Fri, 01 Oct 2021 03:57:25 +0000    1\n",
      "Fri, 01 Oct 2021 12:07:23 +0000    1\n",
      "Mon, 11 Oct 2021 23:54:33 +0000    1\n",
      "Wed, 15 Sep 2021 14:15:56 +0000    1\n",
      "Sat, 11 Sep 2021 11:41:26 +0000    1\n",
      "Fri, 01 Oct 2021 13:58:47 +0000    1\n",
      "Fri, 15 Oct 2021 22:38:54 +0000    1\n",
      "Fri, 01 Oct 2021 01:16:46 +0000    1\n",
      "Thu, 09 Sep 2021 19:38:00 +0000    1\n",
      "Tue, 31 Aug 2021 19:17:56 +0000    1\n",
      "Fri, 01 Oct 2021 07:52:22 +0000    1\n",
      "Wed, 01 Sep 2021 22:28:24 +0000    1\n",
      "Name: pubDate, dtype: int64 \n",
      "\n",
      "ryes-and-shine-microbakery-cork                        1\n",
      "the-blessing-box-a-community-swap-meet                 1\n",
      "2-aroma-maya-to-go                                     1\n",
      "sum-good                                               1\n",
      "italian-sweet-bites-0                                  1\n",
      "cured-meat-from-an-ethical-sustainable-vermont-farm    1\n",
      "huerto-urbano-biointensivo-y-tecnicas-hidroponicas     1\n",
      "severed-santa-tiki-mug                                 1\n",
      "portfamly                                              1\n",
      "lonestar-grounds-espresso                              1\n",
      "dacha-46                                               1\n",
      "black-and-white-room                                   1\n",
      "Name: slug, dtype: int64 \n",
      "\n",
      "False    12\n",
      "Name: spotlight, dtype: int64 \n",
      "\n",
      "False    11\n",
      "True      1\n",
      "Name: staff_pick, dtype: int64 \n",
      "\n",
      "live    12\n",
      "Name: state, dtype: int64 \n",
      "\n",
      "1631715357    1\n",
      "1633090045    1\n",
      "1631360487    1\n",
      "1633996474    1\n",
      "1630535305    1\n",
      "1633074744    1\n",
      "1633060647    1\n",
      "1630437477    1\n",
      "1631216281    1\n",
      "1633096730    1\n",
      "1633051008    1\n",
      "1634337536    1\n",
      "Name: state_changed_at, dtype: int64 \n",
      "\n",
      "1.000000    6\n",
      "1.184210    1\n",
      "0.048280    1\n",
      "0.788522    1\n",
      "1.160396    1\n",
      "1.377631    1\n",
      "0.785202    1\n",
      "Name: static_usd_rate, dtype: int64 \n",
      "\n",
      "Black & White Room                                      1\n",
      "Cured meat from an ethical, sustainable Vermont Farm    1\n",
      "Italian sweet bites                                     1\n",
      "SEVERED SANTA TIKI MUG                                  1\n",
      "Dacha 46                                                1\n",
      "Second Location - Aroma Maya To Go!                     1\n",
      "Huerto Urbano Biointensivo y Técnicas hidroponicas      1\n",
      "Sum Good                                                1\n",
      "Ryes & Shine Microbakery Cork                           1\n",
      "PortFamly                                               1\n",
      "The Blessing Box: A Community Swap Meet                 1\n",
      "Lonestar Grounds Espresso                               1\n",
      "Name: title, dtype: int64 \n",
      "\n",
      "https://www.kickstarter.com/projects/sumgood/sum-good?ref=discovery_category_ending_soon                                                  1\n",
      "https://www.kickstarter.com/projects/617182843/lonestar-grounds-espresso?ref=discovery_category_ending_soon                               1\n",
      "https://www.kickstarter.com/projects/portfamlynetwork/portfamly?ref=discovery_category_ending_soon                                        1\n",
      "https://www.kickstarter.com/projects/blackandwhiteroom/black-and-white-room?ref=discovery_category_ending_soon                            1\n",
      "https://www.kickstarter.com/projects/togodonuts/2-aroma-maya-to-go?ref=discovery_category_ending_soon                                     1\n",
      "https://www.kickstarter.com/projects/angelanoethlings/ryes-and-shine-microbakery-cork?ref=discovery_category_ending_soon                  1\n",
      "https://www.kickstarter.com/projects/theblessingbox/the-blessing-box-a-community-swap-meet?ref=discovery_category_ending_soon             1\n",
      "https://www.kickstarter.com/projects/italiansweetbites/italian-sweet-bites-0?ref=discovery_category_ending_soon                           1\n",
      "https://www.kickstarter.com/projects/bran22/huerto-urbano-biointensivo-y-tecnicas-hidroponicas?ref=discovery_category_ending_soon         1\n",
      "https://www.kickstarter.com/projects/dacha46kickstarter/dacha-46?ref=discovery_category_ending_soon                                       1\n",
      "https://www.kickstarter.com/projects/montiverdi/cured-meat-from-an-ethical-sustainable-vermont-farm?ref=discovery_category_ending_soon    1\n",
      "https://www.kickstarter.com/projects/bgreynolds/severed-santa-tiki-mug?ref=discovery_category_ending_soon                                 1\n",
      "Name: url, dtype: int64 \n",
      "\n",
      "1.000000    6\n",
      "0.809654    2\n",
      "1.167632    2\n",
      "1.379470    1\n",
      "0.048983    1\n",
      "Name: usd_exchange_rate, dtype: int64 \n",
      "\n",
      "47383.228519    1\n",
      "1009.544250     1\n",
      "31527.000000    1\n",
      "3267.076436     1\n",
      "2978.287521     1\n",
      "22.042089       1\n",
      "45194.000000    1\n",
      "305.000000      1\n",
      "8944.000000     1\n",
      "0.907656        1\n",
      "151.000000      1\n",
      "1576.000000     1\n",
      "Name: usd_pledged, dtype: int64 \n",
      "\n",
      "international    12\n",
      "Name: usd_type, dtype: int64 \n",
      "\n"
     ]
    }
   ],
   "source": [
    "for col in data:\n",
    "    print(data[col].value_counts(), '\\n')"
   ]
  },
  {
   "cell_type": "markdown",
   "metadata": {},
   "source": [
    "## Explore Cleaned Data"
   ]
  },
  {
   "cell_type": "markdown",
   "metadata": {},
   "source": [
    "### Check for Correlation"
   ]
  },
  {
   "cell_type": "code",
   "execution_count": null,
   "metadata": {},
   "outputs": [],
   "source": [
    "round(data.corr()['death_event'].sort_values(ascending=False),2)\n",
    "\n",
    "# create correlation heatmap \n",
    "\n",
    "mask = np.zeros_like(data.corr())\n",
    "\n",
    "mask[np.triu_indices_from(mask)] = True\n",
    "\n",
    "fig, ax = plt.subplots(figsize=(10, 8))\n",
    "ax = sns.heatmap(data.corr(), mask=mask, vmin=-1, vmax=1, annot=True, cmap='coolwarm')\n",
    "\n",
    "plt.show()"
   ]
  }
 ],
 "metadata": {
  "kernelspec": {
   "display_name": "Python 3",
   "language": "python",
   "name": "python3"
  },
  "language_info": {
   "codemirror_mode": {
    "name": "ipython",
    "version": 3
   },
   "file_extension": ".py",
   "mimetype": "text/x-python",
   "name": "python",
   "nbconvert_exporter": "python",
   "pygments_lexer": "ipython3",
   "version": "3.8.5"
  },
  "toc": {
   "base_numbering": 1,
   "nav_menu": {},
   "number_sections": true,
   "sideBar": true,
   "skip_h1_title": false,
   "title_cell": "Table of Contents",
   "title_sidebar": "Contents",
   "toc_cell": false,
   "toc_position": {},
   "toc_section_display": true,
   "toc_window_display": false
  }
 },
 "nbformat": 4,
 "nbformat_minor": 4
}
