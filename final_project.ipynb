{
 "cells": [
  {
   "cell_type": "markdown",
   "metadata": {},
   "source": [
    "# final project - KICKSTARTER"
   ]
  },
  {
   "cell_type": "markdown",
   "metadata": {},
   "source": [
    "**What is Kickstarter?**\n",
    "\n",
    "Kickstarter is a funding platform for creative projects. Everything from film, games, and music to art, design, and technology. Kickstarter is full of ambitious, innovative, and imaginative projects that are brought to life through the direct support of others.\n",
    "\n",
    "Every project creator sets their project's funding goal and deadline. If people like the project, they can pledge money to make it happen. If the project succeeds in reaching its funding goal, all backers' credit cards are charged when time expires. Funding on Kickstarter is all-or-nothing. If the project falls short of its funding goal, no one is charged."
   ]
  },
  {
   "cell_type": "markdown",
   "metadata": {},
   "source": [
    "**Objective**\n",
    "\n",
    "Goal of this analysis it to be able to predict whether or not a project will receive it's goal funds."
   ]
  },
  {
   "cell_type": "markdown",
   "metadata": {},
   "source": [
    "## import libraries"
   ]
  },
  {
   "cell_type": "code",
   "execution_count": 174,
   "metadata": {},
   "outputs": [],
   "source": [
    "import pandas as pd\n",
    "import numpy as np\n",
    "import seaborn as sns\n",
    "import matplotlib.pyplot as plt\n",
    "import os\n",
    "import glob\n",
    "import datetime\n",
    "import math\n",
    "import time\n",
    "\n",
    "# scipy libraries\n",
    "from scipy import stats\n",
    "from scipy.stats.mstats import winsorize\n",
    "\n",
    "# statsmodels libraries\n",
    "import statsmodels.api as sm\n",
    "from statsmodels.formula.api import ols\n",
    "\n",
    "# sklearn libraries\n",
    "from sklearn.preprocessing import OneHotEncoder, Normalizer, LabelEncoder, StandardScaler, MinMaxScaler\n",
    "from sklearn.model_selection import train_test_split\n",
    "from sklearn.linear_model import LinearRegression, LogisticRegression\n",
    "from sklearn.metrics import mean_squared_error, r2_score, confusion_matrix\n",
    "from sklearn.neighbors import KNeighborsRegressor\n",
    "\n",
    "# balancing libraries\n",
    "from imblearn.over_sampling import SMOTE\n",
    "from imblearn.under_sampling import TomekLinks\n",
    "\n",
    "# language libraries\n",
    "from textblob import TextBlob\n",
    "import langid\n",
    "import yake\n",
    "\n",
    "# ignore warnings\n",
    "import warnings\n",
    "warnings.filterwarnings('ignore')"
   ]
  },
  {
   "cell_type": "markdown",
   "metadata": {},
   "source": [
    "## import data"
   ]
  },
  {
   "cell_type": "code",
   "execution_count": 175,
   "metadata": {},
   "outputs": [
    {
     "data": {
      "text/plain": [
       "['dataset_my-task-1_2021-10-31_18-52-00-573.xlsx',\n",
       " 'dataset_my-task-1_2021-10-31_22-32-25-255.xlsx',\n",
       " 'dataset_my-task-1_2021-11-01_17-24-18-413.xlsx',\n",
       " 'dataset_my-task-2_2021-10-31_18-52-00-523.xlsx',\n",
       " 'dataset_my-task-2_2021-10-31_22-37-00-186.xlsx',\n",
       " 'dataset_my-task-2_2021-11-01_17-24-30-852.xlsx',\n",
       " 'dataset_my-task-3_2021-10-31_18-52-00-929.xlsx',\n",
       " 'dataset_my-task-3_2021-10-31_22-32-19-791.xlsx',\n",
       " 'dataset_my-task-3_2021-11-01_17-24-21-989.xlsx',\n",
       " 'dataset_my-task-4_2021-10-31_18-51-58-474.xlsx',\n",
       " 'dataset_my-task-4_2021-10-31_22-32-30-946.xlsx',\n",
       " 'dataset_my-task-4_2021-11-01_17-24-24-455.xlsx',\n",
       " 'dataset_my-task_2021-10-31_18-51-58-693.xlsx',\n",
       " 'dataset_my-task_2021-10-31_22-32-41-350.xlsx',\n",
       " 'dataset_my-task_2021-11-01_17-24-19-839.xlsx',\n",
       " 'kickstarter_all_enddate_30102021.xlsx',\n",
       " 'kickstarter_all_mostbacked.xlsx',\n",
       " 'kickstarter_all_newest_30102021.xlsx',\n",
       " 'kickstarter_all_popularity_30102021.xlsx',\n",
       " 'kickstarter_art_enddate.xlsx',\n",
       " 'kickstarter_art_newest.xlsx',\n",
       " 'kickstarter_comics_enddate.xlsx',\n",
       " 'kickstarter_comics_newest.xlsx',\n",
       " 'kickstarter_crafts_enddate.xlsx',\n",
       " 'kickstarter_crafts_newest.xlsx',\n",
       " 'kickstarter_dance_enddate.xlsx',\n",
       " 'kickstarter_dance_enddate2.xlsx',\n",
       " 'kickstarter_dance_newest.xlsx',\n",
       " 'kickstarter_design_enddate.xlsx',\n",
       " 'kickstarter_design_newest.xlsx',\n",
       " 'kickstarter_fashion_enddate.xlsx',\n",
       " 'kickstarter_fashion_newest.xlsx',\n",
       " 'kickstarter_film_enddate.xlsx',\n",
       " 'kickstarter_food_enddate.xlsx',\n",
       " 'ks_ed_art_31102021.xlsx',\n",
       " 'ks_ed_comics_31102021.xlsx',\n",
       " 'ks_ed_crafts_31102021.xlsx',\n",
       " 'ks_photography_31102021.xlsx',\n",
       " 'ks_technology_31102021.xlsx',\n",
       " 'ks_theater_31102021.xlsx']"
      ]
     },
     "execution_count": 175,
     "metadata": {},
     "output_type": "execute_result"
    }
   ],
   "source": [
    "files = os.listdir('Data')\n",
    "files"
   ]
  },
  {
   "cell_type": "code",
   "execution_count": 176,
   "metadata": {},
   "outputs": [],
   "source": [
    "files = os.listdir('Data')\n",
    "\n",
    "df = pd.DataFrame()\n",
    "\n",
    "path = os.getcwd() + \"\\\\Data\" + \"\\\\\"\n",
    "\n",
    "for i in files:\n",
    "    data = pd.read_excel(path + i)\n",
    "    df = df.append(data)"
   ]
  },
  {
   "cell_type": "markdown",
   "metadata": {},
   "source": [
    "## first review and clean data"
   ]
  },
  {
   "cell_type": "markdown",
   "metadata": {},
   "source": [
    "### review"
   ]
  },
  {
   "cell_type": "code",
   "execution_count": 177,
   "metadata": {},
   "outputs": [
    {
     "name": "stdout",
     "output_type": "stream",
     "text": [
      "This dataset contains 28428 rows and 47 columns\n"
     ]
    }
   ],
   "source": [
    "print(\"This dataset contains {} rows and {} columns\".format(*df.shape))"
   ]
  },
  {
   "cell_type": "code",
   "execution_count": 178,
   "metadata": {},
   "outputs": [
    {
     "data": {
      "text/html": [
       "<div>\n",
       "<style scoped>\n",
       "    .dataframe tbody tr th:only-of-type {\n",
       "        vertical-align: middle;\n",
       "    }\n",
       "\n",
       "    .dataframe tbody tr th {\n",
       "        vertical-align: top;\n",
       "    }\n",
       "\n",
       "    .dataframe thead th {\n",
       "        text-align: right;\n",
       "    }\n",
       "</style>\n",
       "<table border=\"1\" class=\"dataframe\">\n",
       "  <thead>\n",
       "    <tr style=\"text-align: right;\">\n",
       "      <th></th>\n",
       "      <th>backers_count</th>\n",
       "      <th>blurb</th>\n",
       "      <th>categoryId</th>\n",
       "      <th>categoryName</th>\n",
       "      <th>categorySlug</th>\n",
       "      <th>converted_pledged_amount</th>\n",
       "      <th>country</th>\n",
       "      <th>country_displayable_name</th>\n",
       "      <th>created_at</th>\n",
       "      <th>created_at_formatted</th>\n",
       "      <th>...</th>\n",
       "      <th>state</th>\n",
       "      <th>state_changed_at</th>\n",
       "      <th>static_usd_rate</th>\n",
       "      <th>title</th>\n",
       "      <th>url</th>\n",
       "      <th>usd_exchange_rate</th>\n",
       "      <th>usd_pledged</th>\n",
       "      <th>usd_type</th>\n",
       "      <th>is_backing</th>\n",
       "      <th>is_starred</th>\n",
       "    </tr>\n",
       "  </thead>\n",
       "  <tbody>\n",
       "    <tr>\n",
       "      <th>555</th>\n",
       "      <td>9</td>\n",
       "      <td>A Happy Halloween Bat Enamel Pin!</td>\n",
       "      <td>21</td>\n",
       "      <td>Digital Art</td>\n",
       "      <td>art/digital art</td>\n",
       "      <td>198</td>\n",
       "      <td>US</td>\n",
       "      <td>the United States</td>\n",
       "      <td>1630034967</td>\n",
       "      <td>Fri, 27 Aug 2021 03:29:27 +0000</td>\n",
       "      <td>...</td>\n",
       "      <td>successful</td>\n",
       "      <td>1634266914</td>\n",
       "      <td>1.0</td>\n",
       "      <td>Happy Bat - A Halloween Enamel Pin</td>\n",
       "      <td>https://www.kickstarter.com/projects/shadocadi...</td>\n",
       "      <td>1.0</td>\n",
       "      <td>198.00</td>\n",
       "      <td>domestic</td>\n",
       "      <td>NaN</td>\n",
       "      <td>NaN</td>\n",
       "    </tr>\n",
       "    <tr>\n",
       "      <th>2175</th>\n",
       "      <td>895</td>\n",
       "      <td>A collection of functional wooden clocks for s...</td>\n",
       "      <td>28</td>\n",
       "      <td>Product Design</td>\n",
       "      <td>design/product design</td>\n",
       "      <td>78014</td>\n",
       "      <td>US</td>\n",
       "      <td>the United States</td>\n",
       "      <td>1604528496</td>\n",
       "      <td>Wed, 04 Nov 2020 22:21:36 +0000</td>\n",
       "      <td>...</td>\n",
       "      <td>successful</td>\n",
       "      <td>1609365480</td>\n",
       "      <td>1.0</td>\n",
       "      <td>MadClockMaker | 3D Wooden Puzzle. 6 Clock Models.</td>\n",
       "      <td>https://www.kickstarter.com/projects/allfesco/...</td>\n",
       "      <td>1.0</td>\n",
       "      <td>78014.00</td>\n",
       "      <td>international</td>\n",
       "      <td>NaN</td>\n",
       "      <td>NaN</td>\n",
       "    </tr>\n",
       "    <tr>\n",
       "      <th>1313</th>\n",
       "      <td>127</td>\n",
       "      <td>After over a year of being on tour, and at the...</td>\n",
       "      <td>254</td>\n",
       "      <td>Performances</td>\n",
       "      <td>dance/performances</td>\n",
       "      <td>7620</td>\n",
       "      <td>US</td>\n",
       "      <td>the United States</td>\n",
       "      <td>1397850445</td>\n",
       "      <td>Fri, 18 Apr 2014 19:47:25 +0000</td>\n",
       "      <td>...</td>\n",
       "      <td>successful</td>\n",
       "      <td>1404258900</td>\n",
       "      <td>1.0</td>\n",
       "      <td>Finally, A Vodca Family DVD!</td>\n",
       "      <td>https://www.kickstarter.com/projects/148450906...</td>\n",
       "      <td>1.0</td>\n",
       "      <td>7620.00</td>\n",
       "      <td>domestic</td>\n",
       "      <td>NaN</td>\n",
       "      <td>NaN</td>\n",
       "    </tr>\n",
       "    <tr>\n",
       "      <th>8</th>\n",
       "      <td>6618</td>\n",
       "      <td>Over seventy artists come together to create a...</td>\n",
       "      <td>34</td>\n",
       "      <td>Tabletop Games</td>\n",
       "      <td>games/tabletop games</td>\n",
       "      <td>525677</td>\n",
       "      <td>US</td>\n",
       "      <td>the United States</td>\n",
       "      <td>1632232991</td>\n",
       "      <td>Tue, 21 Sep 2021 14:03:11 +0000</td>\n",
       "      <td>...</td>\n",
       "      <td>live</td>\n",
       "      <td>1634616029</td>\n",
       "      <td>1.0</td>\n",
       "      <td>Corrupted Tarot By Wyrmwood</td>\n",
       "      <td>https://www.kickstarter.com/projects/wyrmwood/...</td>\n",
       "      <td>1.0</td>\n",
       "      <td>576604.35</td>\n",
       "      <td>NaN</td>\n",
       "      <td>NaN</td>\n",
       "      <td>NaN</td>\n",
       "    </tr>\n",
       "    <tr>\n",
       "      <th>1320</th>\n",
       "      <td>11340</td>\n",
       "      <td>Become a villain in this retro-inspired board ...</td>\n",
       "      <td>34</td>\n",
       "      <td>Tabletop Games</td>\n",
       "      <td>games/tabletop games</td>\n",
       "      <td>550868</td>\n",
       "      <td>US</td>\n",
       "      <td>the United States</td>\n",
       "      <td>1589835286</td>\n",
       "      <td>Mon, 18 May 2020 20:54:46 +0000</td>\n",
       "      <td>...</td>\n",
       "      <td>successful</td>\n",
       "      <td>1594353660</td>\n",
       "      <td>1.0</td>\n",
       "      <td>Overlord: a Boss Monster Adventure</td>\n",
       "      <td>https://www.kickstarter.com/projects/brotherwi...</td>\n",
       "      <td>1.0</td>\n",
       "      <td>550868.69</td>\n",
       "      <td>international</td>\n",
       "      <td>NaN</td>\n",
       "      <td>NaN</td>\n",
       "    </tr>\n",
       "  </tbody>\n",
       "</table>\n",
       "<p>5 rows × 47 columns</p>\n",
       "</div>"
      ],
      "text/plain": [
       "      backers_count                                              blurb  \\\n",
       "555               9                  A Happy Halloween Bat Enamel Pin!   \n",
       "2175            895  A collection of functional wooden clocks for s...   \n",
       "1313            127  After over a year of being on tour, and at the...   \n",
       "8              6618  Over seventy artists come together to create a...   \n",
       "1320          11340  Become a villain in this retro-inspired board ...   \n",
       "\n",
       "      categoryId    categoryName           categorySlug  \\\n",
       "555           21     Digital Art        art/digital art   \n",
       "2175          28  Product Design  design/product design   \n",
       "1313         254    Performances     dance/performances   \n",
       "8             34  Tabletop Games   games/tabletop games   \n",
       "1320          34  Tabletop Games   games/tabletop games   \n",
       "\n",
       "      converted_pledged_amount country country_displayable_name  created_at  \\\n",
       "555                        198      US        the United States  1630034967   \n",
       "2175                     78014      US        the United States  1604528496   \n",
       "1313                      7620      US        the United States  1397850445   \n",
       "8                       525677      US        the United States  1632232991   \n",
       "1320                    550868      US        the United States  1589835286   \n",
       "\n",
       "                 created_at_formatted  ...       state  state_changed_at  \\\n",
       "555   Fri, 27 Aug 2021 03:29:27 +0000  ...  successful        1634266914   \n",
       "2175  Wed, 04 Nov 2020 22:21:36 +0000  ...  successful        1609365480   \n",
       "1313  Fri, 18 Apr 2014 19:47:25 +0000  ...  successful        1404258900   \n",
       "8     Tue, 21 Sep 2021 14:03:11 +0000  ...        live        1634616029   \n",
       "1320  Mon, 18 May 2020 20:54:46 +0000  ...  successful        1594353660   \n",
       "\n",
       "     static_usd_rate                                              title  \\\n",
       "555              1.0                 Happy Bat - A Halloween Enamel Pin   \n",
       "2175             1.0  MadClockMaker | 3D Wooden Puzzle. 6 Clock Models.   \n",
       "1313             1.0                       Finally, A Vodca Family DVD!   \n",
       "8                1.0                        Corrupted Tarot By Wyrmwood   \n",
       "1320             1.0                 Overlord: a Boss Monster Adventure   \n",
       "\n",
       "                                                    url usd_exchange_rate  \\\n",
       "555   https://www.kickstarter.com/projects/shadocadi...               1.0   \n",
       "2175  https://www.kickstarter.com/projects/allfesco/...               1.0   \n",
       "1313  https://www.kickstarter.com/projects/148450906...               1.0   \n",
       "8     https://www.kickstarter.com/projects/wyrmwood/...               1.0   \n",
       "1320  https://www.kickstarter.com/projects/brotherwi...               1.0   \n",
       "\n",
       "      usd_pledged       usd_type  is_backing is_starred  \n",
       "555        198.00       domestic         NaN        NaN  \n",
       "2175     78014.00  international         NaN        NaN  \n",
       "1313      7620.00       domestic         NaN        NaN  \n",
       "8       576604.35            NaN         NaN        NaN  \n",
       "1320    550868.69  international         NaN        NaN  \n",
       "\n",
       "[5 rows x 47 columns]"
      ]
     },
     "execution_count": 178,
     "metadata": {},
     "output_type": "execute_result"
    }
   ],
   "source": [
    "df.sample(5)"
   ]
  },
  {
   "cell_type": "markdown",
   "metadata": {},
   "source": [
    "### review column names"
   ]
  },
  {
   "cell_type": "code",
   "execution_count": 179,
   "metadata": {},
   "outputs": [
    {
     "data": {
      "text/plain": [
       "Index(['backers_count', 'blurb', 'categoryId', 'categoryName', 'categorySlug',\n",
       "       'converted_pledged_amount', 'country', 'country_displayable_name',\n",
       "       'created_at', 'created_at_formatted', 'creatorAvatar', 'creatorId',\n",
       "       'creatorName', 'creatorUrl', 'currency', 'currency_symbol',\n",
       "       'currency_trailing_code', 'current_currency', 'deadline', 'description',\n",
       "       'disable_communication', 'fx_rate', 'goal', 'id', 'is_starrable',\n",
       "       'launched_at', 'launched_at_formatted', 'link', 'locationId',\n",
       "       'locationName', 'name', 'photo', 'pledged', 'pubDate', 'slug',\n",
       "       'spotlight', 'staff_pick', 'state', 'state_changed_at',\n",
       "       'static_usd_rate', 'title', 'url', 'usd_exchange_rate', 'usd_pledged',\n",
       "       'usd_type', 'is_backing', 'is_starred'],\n",
       "      dtype='object')"
      ]
     },
     "execution_count": 179,
     "metadata": {},
     "output_type": "execute_result"
    }
   ],
   "source": [
    "df.columns"
   ]
  },
  {
   "cell_type": "markdown",
   "metadata": {},
   "source": [
    "no cleaning of column names required"
   ]
  },
  {
   "cell_type": "markdown",
   "metadata": {},
   "source": [
    "### Drop Duplicates"
   ]
  },
  {
   "cell_type": "code",
   "execution_count": 180,
   "metadata": {},
   "outputs": [],
   "source": [
    "before_dropping_duplicates = df.shape"
   ]
  },
  {
   "cell_type": "code",
   "execution_count": 181,
   "metadata": {},
   "outputs": [],
   "source": [
    "df = df.drop_duplicates()"
   ]
  },
  {
   "cell_type": "code",
   "execution_count": 182,
   "metadata": {},
   "outputs": [],
   "source": [
    "after_dropping_duplicates = df.shape"
   ]
  },
  {
   "cell_type": "code",
   "execution_count": 183,
   "metadata": {},
   "outputs": [
    {
     "data": {
      "text/plain": [
       "2341"
      ]
     },
     "execution_count": 183,
     "metadata": {},
     "output_type": "execute_result"
    }
   ],
   "source": [
    "# duplicate rows that have been dropped ... \n",
    "\n",
    "before_dropping_duplicates[0] - after_dropping_duplicates[0]"
   ]
  },
  {
   "cell_type": "markdown",
   "metadata": {},
   "source": [
    "### drop duplicate projects with different values"
   ]
  },
  {
   "cell_type": "markdown",
   "metadata": {},
   "source": [
    "#### check for duplicate projects"
   ]
  },
  {
   "cell_type": "code",
   "execution_count": 184,
   "metadata": {},
   "outputs": [
    {
     "data": {
      "text/plain": [
       "8275"
      ]
     },
     "execution_count": 184,
     "metadata": {},
     "output_type": "execute_result"
    }
   ],
   "source": [
    "df.duplicated(subset='id', keep='first').sum()"
   ]
  },
  {
   "cell_type": "markdown",
   "metadata": {},
   "source": [
    "#### review duplicates"
   ]
  },
  {
   "cell_type": "code",
   "execution_count": 185,
   "metadata": {},
   "outputs": [
    {
     "data": {
      "text/html": [
       "<div>\n",
       "<style scoped>\n",
       "    .dataframe tbody tr th:only-of-type {\n",
       "        vertical-align: middle;\n",
       "    }\n",
       "\n",
       "    .dataframe tbody tr th {\n",
       "        vertical-align: top;\n",
       "    }\n",
       "\n",
       "    .dataframe thead th {\n",
       "        text-align: right;\n",
       "    }\n",
       "</style>\n",
       "<table border=\"1\" class=\"dataframe\">\n",
       "  <thead>\n",
       "    <tr style=\"text-align: right;\">\n",
       "      <th></th>\n",
       "      <th>backers_count</th>\n",
       "      <th>blurb</th>\n",
       "      <th>categoryId</th>\n",
       "      <th>categoryName</th>\n",
       "      <th>categorySlug</th>\n",
       "      <th>converted_pledged_amount</th>\n",
       "      <th>country</th>\n",
       "      <th>country_displayable_name</th>\n",
       "      <th>created_at</th>\n",
       "      <th>created_at_formatted</th>\n",
       "      <th>...</th>\n",
       "      <th>state</th>\n",
       "      <th>state_changed_at</th>\n",
       "      <th>static_usd_rate</th>\n",
       "      <th>title</th>\n",
       "      <th>url</th>\n",
       "      <th>usd_exchange_rate</th>\n",
       "      <th>usd_pledged</th>\n",
       "      <th>usd_type</th>\n",
       "      <th>is_backing</th>\n",
       "      <th>is_starred</th>\n",
       "    </tr>\n",
       "  </thead>\n",
       "  <tbody>\n",
       "    <tr>\n",
       "      <th>1976</th>\n",
       "      <td>7798</td>\n",
       "      <td>Reuse and recycle plastic bottles of all kinds...</td>\n",
       "      <td>28</td>\n",
       "      <td>Product Design</td>\n",
       "      <td>design/product design</td>\n",
       "      <td>400276</td>\n",
       "      <td>FR</td>\n",
       "      <td>France</td>\n",
       "      <td>1454599119</td>\n",
       "      <td>Thu, 04 Feb 2016 15:18:39 +0000</td>\n",
       "      <td>...</td>\n",
       "      <td>successful</td>\n",
       "      <td>1461409167</td>\n",
       "      <td>1.111204</td>\n",
       "      <td>Plastic Bottle Cutter</td>\n",
       "      <td>https://www.kickstarter.com/projects/910418035...</td>\n",
       "      <td>1.12246</td>\n",
       "      <td>396262.032441</td>\n",
       "      <td>international</td>\n",
       "      <td>NaN</td>\n",
       "      <td>NaN</td>\n",
       "    </tr>\n",
       "    <tr>\n",
       "      <th>1976</th>\n",
       "      <td>7798</td>\n",
       "      <td>Reuse and recycle plastic bottles of all kinds...</td>\n",
       "      <td>28</td>\n",
       "      <td>Product Design</td>\n",
       "      <td>design/product design</td>\n",
       "      <td>400276</td>\n",
       "      <td>FR</td>\n",
       "      <td>France</td>\n",
       "      <td>1454599119</td>\n",
       "      <td>Thu, 04 Feb 2016 15:18:39 +0000</td>\n",
       "      <td>...</td>\n",
       "      <td>successful</td>\n",
       "      <td>1461409167</td>\n",
       "      <td>1.111204</td>\n",
       "      <td>Plastic Bottle Cutter</td>\n",
       "      <td>https://www.kickstarter.com/projects/910418035...</td>\n",
       "      <td>1.12246</td>\n",
       "      <td>396262.032441</td>\n",
       "      <td>domestic</td>\n",
       "      <td>NaN</td>\n",
       "      <td>NaN</td>\n",
       "    </tr>\n",
       "    <tr>\n",
       "      <th>213</th>\n",
       "      <td>78</td>\n",
       "      <td>A fun hackable handheld gaming console &amp; learn...</td>\n",
       "      <td>52</td>\n",
       "      <td>Hardware</td>\n",
       "      <td>technology/hardware</td>\n",
       "      <td>8054</td>\n",
       "      <td>GB</td>\n",
       "      <td>the United Kingdom</td>\n",
       "      <td>1634240494</td>\n",
       "      <td>Thu, 14 Oct 2021 19:41:34 +0000</td>\n",
       "      <td>...</td>\n",
       "      <td>live</td>\n",
       "      <td>1635346827</td>\n",
       "      <td>1.376580</td>\n",
       "      <td>8BitCADE Level UP - Fun Hackable Game Console ...</td>\n",
       "      <td>https://www.kickstarter.com/projects/jackdaly/...</td>\n",
       "      <td>1.37947</td>\n",
       "      <td>8038.070698</td>\n",
       "      <td>domestic</td>\n",
       "      <td>NaN</td>\n",
       "      <td>NaN</td>\n",
       "    </tr>\n",
       "    <tr>\n",
       "      <th>208</th>\n",
       "      <td>78</td>\n",
       "      <td>A fun hackable handheld gaming console &amp; learn...</td>\n",
       "      <td>52</td>\n",
       "      <td>Hardware</td>\n",
       "      <td>technology/hardware</td>\n",
       "      <td>8054</td>\n",
       "      <td>GB</td>\n",
       "      <td>the United Kingdom</td>\n",
       "      <td>1634240494</td>\n",
       "      <td>Thu, 14 Oct 2021 19:41:34 +0000</td>\n",
       "      <td>...</td>\n",
       "      <td>live</td>\n",
       "      <td>1635346827</td>\n",
       "      <td>1.376580</td>\n",
       "      <td>8BitCADE Level UP - Fun Hackable Game Console ...</td>\n",
       "      <td>https://www.kickstarter.com/projects/jackdaly/...</td>\n",
       "      <td>1.37947</td>\n",
       "      <td>8038.070698</td>\n",
       "      <td>domestic</td>\n",
       "      <td>NaN</td>\n",
       "      <td>NaN</td>\n",
       "    </tr>\n",
       "    <tr>\n",
       "      <th>1818</th>\n",
       "      <td>109</td>\n",
       "      <td>A 78 card tarot deck with a little bit of ever...</td>\n",
       "      <td>22</td>\n",
       "      <td>Illustration</td>\n",
       "      <td>art/illustration</td>\n",
       "      <td>13082</td>\n",
       "      <td>US</td>\n",
       "      <td>the United States</td>\n",
       "      <td>1612369415</td>\n",
       "      <td>Wed, 03 Feb 2021 16:23:35 +0000</td>\n",
       "      <td>...</td>\n",
       "      <td>successful</td>\n",
       "      <td>1618113600</td>\n",
       "      <td>1.000000</td>\n",
       "      <td>The Fools Tarot</td>\n",
       "      <td>https://www.kickstarter.com/projects/nyahouse/...</td>\n",
       "      <td>1.00000</td>\n",
       "      <td>13082.000000</td>\n",
       "      <td>international</td>\n",
       "      <td>NaN</td>\n",
       "      <td>NaN</td>\n",
       "    </tr>\n",
       "    <tr>\n",
       "      <th>...</th>\n",
       "      <td>...</td>\n",
       "      <td>...</td>\n",
       "      <td>...</td>\n",
       "      <td>...</td>\n",
       "      <td>...</td>\n",
       "      <td>...</td>\n",
       "      <td>...</td>\n",
       "      <td>...</td>\n",
       "      <td>...</td>\n",
       "      <td>...</td>\n",
       "      <td>...</td>\n",
       "      <td>...</td>\n",
       "      <td>...</td>\n",
       "      <td>...</td>\n",
       "      <td>...</td>\n",
       "      <td>...</td>\n",
       "      <td>...</td>\n",
       "      <td>...</td>\n",
       "      <td>...</td>\n",
       "      <td>...</td>\n",
       "      <td>...</td>\n",
       "    </tr>\n",
       "    <tr>\n",
       "      <th>20</th>\n",
       "      <td>114</td>\n",
       "      <td>A collection of Lewd Art and Comics about Mons...</td>\n",
       "      <td>22</td>\n",
       "      <td>Illustration</td>\n",
       "      <td>art/illustration</td>\n",
       "      <td>2340</td>\n",
       "      <td>GB</td>\n",
       "      <td>the United Kingdom</td>\n",
       "      <td>1630222933</td>\n",
       "      <td>Sun, 29 Aug 2021 07:42:13 +0000</td>\n",
       "      <td>...</td>\n",
       "      <td>live</td>\n",
       "      <td>1630571977</td>\n",
       "      <td>1.373808</td>\n",
       "      <td>Monster Layer</td>\n",
       "      <td>https://www.kickstarter.com/projects/marcodrag...</td>\n",
       "      <td>1.36850</td>\n",
       "      <td>2349.210893</td>\n",
       "      <td>domestic</td>\n",
       "      <td>NaN</td>\n",
       "      <td>NaN</td>\n",
       "    </tr>\n",
       "    <tr>\n",
       "      <th>50</th>\n",
       "      <td>98</td>\n",
       "      <td>A collection of Lewd Art and Comics about Mons...</td>\n",
       "      <td>22</td>\n",
       "      <td>Illustration</td>\n",
       "      <td>art/illustration</td>\n",
       "      <td>2027</td>\n",
       "      <td>GB</td>\n",
       "      <td>the United Kingdom</td>\n",
       "      <td>1630222933</td>\n",
       "      <td>Sun, 29 Aug 2021 07:42:13 +0000</td>\n",
       "      <td>...</td>\n",
       "      <td>live</td>\n",
       "      <td>1630571977</td>\n",
       "      <td>1.373808</td>\n",
       "      <td>Monster Layer</td>\n",
       "      <td>https://www.kickstarter.com/projects/marcodrag...</td>\n",
       "      <td>1.37947</td>\n",
       "      <td>2019.497084</td>\n",
       "      <td>international</td>\n",
       "      <td>NaN</td>\n",
       "      <td>NaN</td>\n",
       "    </tr>\n",
       "    <tr>\n",
       "      <th>166</th>\n",
       "      <td>113</td>\n",
       "      <td>A collection of Lewd Art and Comics about Mons...</td>\n",
       "      <td>22</td>\n",
       "      <td>Illustration</td>\n",
       "      <td>art/illustration</td>\n",
       "      <td>2292</td>\n",
       "      <td>GB</td>\n",
       "      <td>the United Kingdom</td>\n",
       "      <td>1630222933</td>\n",
       "      <td>Sun, 29 Aug 2021 07:42:13 +0000</td>\n",
       "      <td>...</td>\n",
       "      <td>live</td>\n",
       "      <td>1630571977</td>\n",
       "      <td>1.373808</td>\n",
       "      <td>Monster Layer</td>\n",
       "      <td>https://www.kickstarter.com/projects/marcodrag...</td>\n",
       "      <td>1.36850</td>\n",
       "      <td>2301.127630</td>\n",
       "      <td>domestic</td>\n",
       "      <td>NaN</td>\n",
       "      <td>NaN</td>\n",
       "    </tr>\n",
       "    <tr>\n",
       "      <th>1102</th>\n",
       "      <td>38</td>\n",
       "      <td>An indie pilot about two best friends,Mugshot ...</td>\n",
       "      <td>290</td>\n",
       "      <td>Video Art</td>\n",
       "      <td>art/video art</td>\n",
       "      <td>1537</td>\n",
       "      <td>US</td>\n",
       "      <td>the United States</td>\n",
       "      <td>1622493756</td>\n",
       "      <td>Mon, 31 May 2021 20:42:36 +0000</td>\n",
       "      <td>...</td>\n",
       "      <td>successful</td>\n",
       "      <td>1628103600</td>\n",
       "      <td>1.000000</td>\n",
       "      <td>Mugshot&amp;Pollen (Animated Pilot)</td>\n",
       "      <td>https://www.kickstarter.com/projects/mnpcartoo...</td>\n",
       "      <td>1.00000</td>\n",
       "      <td>1537.000000</td>\n",
       "      <td>domestic</td>\n",
       "      <td>NaN</td>\n",
       "      <td>NaN</td>\n",
       "    </tr>\n",
       "    <tr>\n",
       "      <th>888</th>\n",
       "      <td>38</td>\n",
       "      <td>An indie pilot about two best friends,Mugshot ...</td>\n",
       "      <td>290</td>\n",
       "      <td>Video Art</td>\n",
       "      <td>art/video art</td>\n",
       "      <td>1537</td>\n",
       "      <td>US</td>\n",
       "      <td>the United States</td>\n",
       "      <td>1622493756</td>\n",
       "      <td>Mon, 31 May 2021 20:42:36 +0000</td>\n",
       "      <td>...</td>\n",
       "      <td>successful</td>\n",
       "      <td>1628103600</td>\n",
       "      <td>1.000000</td>\n",
       "      <td>Mugshot&amp;Pollen (Animated Pilot)</td>\n",
       "      <td>https://www.kickstarter.com/projects/mnpcartoo...</td>\n",
       "      <td>1.00000</td>\n",
       "      <td>1537.000000</td>\n",
       "      <td>domestic</td>\n",
       "      <td>NaN</td>\n",
       "      <td>NaN</td>\n",
       "    </tr>\n",
       "  </tbody>\n",
       "</table>\n",
       "<p>13733 rows × 47 columns</p>\n",
       "</div>"
      ],
      "text/plain": [
       "      backers_count                                              blurb  \\\n",
       "1976           7798  Reuse and recycle plastic bottles of all kinds...   \n",
       "1976           7798  Reuse and recycle plastic bottles of all kinds...   \n",
       "213              78  A fun hackable handheld gaming console & learn...   \n",
       "208              78  A fun hackable handheld gaming console & learn...   \n",
       "1818            109  A 78 card tarot deck with a little bit of ever...   \n",
       "...             ...                                                ...   \n",
       "20              114  A collection of Lewd Art and Comics about Mons...   \n",
       "50               98  A collection of Lewd Art and Comics about Mons...   \n",
       "166             113  A collection of Lewd Art and Comics about Mons...   \n",
       "1102             38  An indie pilot about two best friends,Mugshot ...   \n",
       "888              38  An indie pilot about two best friends,Mugshot ...   \n",
       "\n",
       "      categoryId    categoryName           categorySlug  \\\n",
       "1976          28  Product Design  design/product design   \n",
       "1976          28  Product Design  design/product design   \n",
       "213           52        Hardware    technology/hardware   \n",
       "208           52        Hardware    technology/hardware   \n",
       "1818          22    Illustration       art/illustration   \n",
       "...          ...             ...                    ...   \n",
       "20            22    Illustration       art/illustration   \n",
       "50            22    Illustration       art/illustration   \n",
       "166           22    Illustration       art/illustration   \n",
       "1102         290       Video Art          art/video art   \n",
       "888          290       Video Art          art/video art   \n",
       "\n",
       "      converted_pledged_amount country country_displayable_name  created_at  \\\n",
       "1976                    400276      FR                   France  1454599119   \n",
       "1976                    400276      FR                   France  1454599119   \n",
       "213                       8054      GB       the United Kingdom  1634240494   \n",
       "208                       8054      GB       the United Kingdom  1634240494   \n",
       "1818                     13082      US        the United States  1612369415   \n",
       "...                        ...     ...                      ...         ...   \n",
       "20                        2340      GB       the United Kingdom  1630222933   \n",
       "50                        2027      GB       the United Kingdom  1630222933   \n",
       "166                       2292      GB       the United Kingdom  1630222933   \n",
       "1102                      1537      US        the United States  1622493756   \n",
       "888                       1537      US        the United States  1622493756   \n",
       "\n",
       "                 created_at_formatted  ...       state  state_changed_at  \\\n",
       "1976  Thu, 04 Feb 2016 15:18:39 +0000  ...  successful        1461409167   \n",
       "1976  Thu, 04 Feb 2016 15:18:39 +0000  ...  successful        1461409167   \n",
       "213   Thu, 14 Oct 2021 19:41:34 +0000  ...        live        1635346827   \n",
       "208   Thu, 14 Oct 2021 19:41:34 +0000  ...        live        1635346827   \n",
       "1818  Wed, 03 Feb 2021 16:23:35 +0000  ...  successful        1618113600   \n",
       "...                               ...  ...         ...               ...   \n",
       "20    Sun, 29 Aug 2021 07:42:13 +0000  ...        live        1630571977   \n",
       "50    Sun, 29 Aug 2021 07:42:13 +0000  ...        live        1630571977   \n",
       "166   Sun, 29 Aug 2021 07:42:13 +0000  ...        live        1630571977   \n",
       "1102  Mon, 31 May 2021 20:42:36 +0000  ...  successful        1628103600   \n",
       "888   Mon, 31 May 2021 20:42:36 +0000  ...  successful        1628103600   \n",
       "\n",
       "     static_usd_rate                                              title  \\\n",
       "1976        1.111204                              Plastic Bottle Cutter   \n",
       "1976        1.111204                              Plastic Bottle Cutter   \n",
       "213         1.376580  8BitCADE Level UP - Fun Hackable Game Console ...   \n",
       "208         1.376580  8BitCADE Level UP - Fun Hackable Game Console ...   \n",
       "1818        1.000000                                    The Fools Tarot   \n",
       "...              ...                                                ...   \n",
       "20          1.373808                                      Monster Layer   \n",
       "50          1.373808                                      Monster Layer   \n",
       "166         1.373808                                      Monster Layer   \n",
       "1102        1.000000                    Mugshot&Pollen (Animated Pilot)   \n",
       "888         1.000000                    Mugshot&Pollen (Animated Pilot)   \n",
       "\n",
       "                                                    url usd_exchange_rate  \\\n",
       "1976  https://www.kickstarter.com/projects/910418035...           1.12246   \n",
       "1976  https://www.kickstarter.com/projects/910418035...           1.12246   \n",
       "213   https://www.kickstarter.com/projects/jackdaly/...           1.37947   \n",
       "208   https://www.kickstarter.com/projects/jackdaly/...           1.37947   \n",
       "1818  https://www.kickstarter.com/projects/nyahouse/...           1.00000   \n",
       "...                                                 ...               ...   \n",
       "20    https://www.kickstarter.com/projects/marcodrag...           1.36850   \n",
       "50    https://www.kickstarter.com/projects/marcodrag...           1.37947   \n",
       "166   https://www.kickstarter.com/projects/marcodrag...           1.36850   \n",
       "1102  https://www.kickstarter.com/projects/mnpcartoo...           1.00000   \n",
       "888   https://www.kickstarter.com/projects/mnpcartoo...           1.00000   \n",
       "\n",
       "        usd_pledged       usd_type  is_backing is_starred  \n",
       "1976  396262.032441  international         NaN        NaN  \n",
       "1976  396262.032441       domestic         NaN        NaN  \n",
       "213     8038.070698       domestic         NaN        NaN  \n",
       "208     8038.070698       domestic         NaN        NaN  \n",
       "1818   13082.000000  international         NaN        NaN  \n",
       "...             ...            ...         ...        ...  \n",
       "20      2349.210893       domestic         NaN        NaN  \n",
       "50      2019.497084  international         NaN        NaN  \n",
       "166     2301.127630       domestic         NaN        NaN  \n",
       "1102    1537.000000       domestic         NaN        NaN  \n",
       "888     1537.000000       domestic         NaN        NaN  \n",
       "\n",
       "[13733 rows x 47 columns]"
      ]
     },
     "execution_count": 185,
     "metadata": {},
     "output_type": "execute_result"
    }
   ],
   "source": [
    "df[df.duplicated(subset=['id'],keep=False)].sort_values(by=['id'])"
   ]
  },
  {
   "cell_type": "markdown",
   "metadata": {},
   "source": [
    "#### drop double listing of projects"
   ]
  },
  {
   "cell_type": "code",
   "execution_count": 186,
   "metadata": {},
   "outputs": [],
   "source": [
    "df = (df.sort_values(by=['id', 'converted_pledged_amount'], ascending=False).drop_duplicates(subset='id', keep= 'first').reset_index(drop=True))"
   ]
  },
  {
   "cell_type": "markdown",
   "metadata": {},
   "source": [
    "#### set id as index and review shape after drop"
   ]
  },
  {
   "cell_type": "code",
   "execution_count": 187,
   "metadata": {},
   "outputs": [],
   "source": [
    "df = df.set_index('id')"
   ]
  },
  {
   "cell_type": "code",
   "execution_count": 188,
   "metadata": {},
   "outputs": [
    {
     "data": {
      "text/plain": [
       "(17812, 46)"
      ]
     },
     "execution_count": 188,
     "metadata": {},
     "output_type": "execute_result"
    }
   ],
   "source": [
    "df.shape"
   ]
  },
  {
   "cell_type": "markdown",
   "metadata": {},
   "source": [
    "### drop columns"
   ]
  },
  {
   "cell_type": "code",
   "execution_count": 189,
   "metadata": {},
   "outputs": [],
   "source": [
    "to_drop = ['blurb', \n",
    "           'categoryId', \n",
    "           'country_displayable_name', \n",
    "           'creatorAvatar', \n",
    "           'creatorId', \n",
    "           'creatorName', \n",
    "           'creatorUrl', \n",
    "           'currency_symbol', \n",
    "           'link', \n",
    "           'locationId', \n",
    "           'slug', \n",
    "           'title', \n",
    "           'url']"
   ]
  },
  {
   "cell_type": "code",
   "execution_count": 190,
   "metadata": {},
   "outputs": [],
   "source": [
    "df = df.drop(to_drop, axis=1)"
   ]
  },
  {
   "cell_type": "code",
   "execution_count": 191,
   "metadata": {},
   "outputs": [
    {
     "data": {
      "text/plain": [
       "(17812, 33)"
      ]
     },
     "execution_count": 191,
     "metadata": {},
     "output_type": "execute_result"
    }
   ],
   "source": [
    "df.shape"
   ]
  },
  {
   "cell_type": "code",
   "execution_count": 192,
   "metadata": {},
   "outputs": [
    {
     "data": {
      "text/plain": [
       "Index(['backers_count', 'categoryName', 'categorySlug',\n",
       "       'converted_pledged_amount', 'country', 'created_at',\n",
       "       'created_at_formatted', 'currency', 'currency_trailing_code',\n",
       "       'current_currency', 'deadline', 'description', 'disable_communication',\n",
       "       'fx_rate', 'goal', 'is_starrable', 'launched_at',\n",
       "       'launched_at_formatted', 'locationName', 'name', 'photo', 'pledged',\n",
       "       'pubDate', 'spotlight', 'staff_pick', 'state', 'state_changed_at',\n",
       "       'static_usd_rate', 'usd_exchange_rate', 'usd_pledged', 'usd_type',\n",
       "       'is_backing', 'is_starred'],\n",
       "      dtype='object')"
      ]
     },
     "execution_count": 192,
     "metadata": {},
     "output_type": "execute_result"
    }
   ],
   "source": [
    "df.columns"
   ]
  },
  {
   "cell_type": "markdown",
   "metadata": {},
   "source": [
    "### review dtypes"
   ]
  },
  {
   "cell_type": "code",
   "execution_count": 224,
   "metadata": {},
   "outputs": [
    {
     "data": {
      "text/plain": [
       "backers_count                 int64\n",
       "categoryName                 object\n",
       "categorySlug                 object\n",
       "converted_pledged_amount      int64\n",
       "country                      object\n",
       "created_at                    int64\n",
       "created_at_formatted         object\n",
       "currency                     object\n",
       "currency_trailing_code         bool\n",
       "current_currency             object\n",
       "deadline                      int64\n",
       "description                  object\n",
       "disable_communication          bool\n",
       "fx_rate                     float64\n",
       "goal                        float64\n",
       "is_starrable                   bool\n",
       "launched_at                   int64\n",
       "launched_at_formatted        object\n",
       "locationName                 object\n",
       "name                         object\n",
       "photo                       float64\n",
       "pledged                     float64\n",
       "pubDate                      object\n",
       "spotlight                      bool\n",
       "staff_pick                     bool\n",
       "state                        object\n",
       "state_changed_at              int64\n",
       "static_usd_rate             float64\n",
       "usd_exchange_rate           float64\n",
       "usd_pledged                 float64\n",
       "usd_type                     object\n",
       "is_backing                   object\n",
       "is_starred                   object\n",
       "created_date                 object\n",
       "created_time                 object\n",
       "created_weekday              object\n",
       "launched_date                object\n",
       "launched_time                object\n",
       "launched_weekday             object\n",
       "deadline_date                object\n",
       "deadline_time                object\n",
       "deadline_weekday             object\n",
       "project_duration            float64\n",
       "goal_reached                 object\n",
       "language                     object\n",
       "polarity                      int64\n",
       "subjectivity                  int64\n",
       "dtype: object"
      ]
     },
     "execution_count": 224,
     "metadata": {},
     "output_type": "execute_result"
    }
   ],
   "source": [
    "### Review DTypes\n",
    "\n",
    "df.dtypes\n",
    "\n",
    "# boolean columns death_event, smoking, sex, high_blood_pressure, diabetes, anaemia\n",
    "# df = df.astype({'death_event':'boolean', 'sex':'boolean', 'smoking':'boolean', 'high_blood_pressure':'boolean','diabetes':'boolean','anaemia':'boolean','age':'int64'})\n",
    "\n",
    "\n",
    "df = df.astype({'polarity':'int64', 'subjectivity':'int64'})\n",
    "\n",
    "df.dtypes"
   ]
  },
  {
   "cell_type": "markdown",
   "metadata": {},
   "source": [
    "to review"
   ]
  },
  {
   "cell_type": "markdown",
   "metadata": {},
   "source": [
    "### Null Values"
   ]
  },
  {
   "cell_type": "code",
   "execution_count": 194,
   "metadata": {},
   "outputs": [
    {
     "data": {
      "text/plain": [
       "backers_count               False\n",
       "categoryName                False\n",
       "categorySlug                False\n",
       "converted_pledged_amount    False\n",
       "country                     False\n",
       "created_at                  False\n",
       "created_at_formatted        False\n",
       "currency                    False\n",
       "currency_trailing_code      False\n",
       "current_currency            False\n",
       "deadline                    False\n",
       "description                  True\n",
       "disable_communication       False\n",
       "fx_rate                     False\n",
       "goal                        False\n",
       "is_starrable                False\n",
       "launched_at                 False\n",
       "launched_at_formatted       False\n",
       "locationName                False\n",
       "name                        False\n",
       "photo                        True\n",
       "pledged                     False\n",
       "pubDate                     False\n",
       "spotlight                   False\n",
       "staff_pick                  False\n",
       "state                       False\n",
       "state_changed_at            False\n",
       "static_usd_rate             False\n",
       "usd_exchange_rate           False\n",
       "usd_pledged                 False\n",
       "usd_type                     True\n",
       "is_backing                   True\n",
       "is_starred                   True\n",
       "dtype: bool"
      ]
     },
     "execution_count": 194,
     "metadata": {},
     "output_type": "execute_result"
    }
   ],
   "source": [
    "df.isna().any()"
   ]
  },
  {
   "cell_type": "markdown",
   "metadata": {},
   "source": [
    "No null values present in this dataset"
   ]
  },
  {
   "cell_type": "markdown",
   "metadata": {},
   "source": [
    "### Data Values"
   ]
  },
  {
   "cell_type": "code",
   "execution_count": 195,
   "metadata": {},
   "outputs": [
    {
     "name": "stdout",
     "output_type": "stream",
     "text": [
      "3199     1\n",
      "7713     1\n",
      "44949    1\n",
      "81567    1\n",
      "83193    1\n",
      "78471    1\n",
      "88887    1\n",
      "27168    1\n",
      "68929    1\n",
      "62642    1\n",
      "66673    1\n",
      "19264    1\n",
      "Name: backers_count, dtype: int64 \n",
      "\n",
      "A cooperative nightmare horror game experience. Hunt intelligent monsters and develop your settlement through a self-running campaign.     1\n",
      "An officially licensed tabletop roleplaying game set in the world of Avatar: The Last Airbender and The Legend of Korra                    1\n",
      "A full-featured tripod in a truly portable form.                                                                                           1\n",
      "Euro-inspired dungeon crawling sequel to the 2017 smash-hit Gloomhaven                                                                     1\n",
      "Color e-paper smartwatch with up to 7 days of battery and a new timeline interface that highlights what's important in your day.           1\n",
      "Expandable capacity (3.6-25kWh) | Power almost anything (3.6-7.2kW) | Home battery ecosystem                                               1\n",
      "Pebble is a customizable watch. Download new watchfaces, use sports and fitness apps, get notifications from your phone.                   1\n",
      "A revolutionary table that evolves over a lifetime. Innovative, yet affordable, with magnetic accessories. Crafted without compromise.     1\n",
      "Two affordable, heart rate-enabled smartwatches and a hackable, 3G wearable for phone-free running with GPS, music, and Amazon Alexa.      1\n",
      "Critical Role's The Legend of Vox Machina reunites your favorite heroes for a professional-quality animated special!                       1\n",
      "TRAVEL JACKET with built-in Neck Pillow, Eye Mask, Gloves, Earphone Holders, Drink Pocket, Tech Pockets of all sizes! Comes in 4 Styles    1\n",
      "The COOLEST is a portable party disguised as a cooler, bringing blended drinks, music and fun to any outdoor occasion.                     1\n",
      "Name: blurb, dtype: int64 \n",
      "\n",
      "28    6\n",
      "34    4\n",
      "29    1\n",
      "52    1\n",
      "Name: categoryId, dtype: int64 \n",
      "\n",
      "Product Design    6\n",
      "Tabletop Games    4\n",
      "Hardware          1\n",
      "Animation         1\n",
      "Name: categoryName, dtype: int64 \n",
      "\n",
      "design/product design     6\n",
      "games/tabletop games      4\n",
      "technology/hardware       1\n",
      "film & video/animation    1\n",
      "Name: categorySlug, dtype: int64 \n",
      "\n",
      "9192055     1\n",
      "10266845    1\n",
      "12143435    1\n",
      "20338986    1\n",
      "11385449    1\n",
      "12969608    1\n",
      "13285226    1\n",
      "9535317     1\n",
      "12179651    1\n",
      "12779843    1\n",
      "12393139    1\n",
      "8808136     1\n",
      "Name: converted_pledged_amount, dtype: int64 \n",
      "\n",
      "US    12\n",
      "Name: country, dtype: int64 \n",
      "\n",
      "the United States    12\n",
      "Name: country_displayable_name, dtype: int64 \n",
      "\n",
      "1592862564    1\n",
      "1556224168    1\n",
      "1478708204    1\n",
      "1549660952    1\n",
      "1625053977    1\n",
      "1423542328    1\n",
      "1332451302    1\n",
      "1581299604    1\n",
      "1433223299    1\n",
      "1382478674    1\n",
      "1623164955    1\n",
      "1463341264    1\n",
      "Name: created_at, dtype: int64 \n",
      "\n",
      "Fri, 08 Feb 2019 21:22:32 +0000    1\n",
      "Tue, 02 Jun 2015 05:34:59 +0000    1\n",
      "Wed, 09 Nov 2016 16:16:44 +0000    1\n",
      "Thu, 22 Mar 2012 21:21:42 +0000    1\n",
      "Tue, 08 Jun 2021 15:09:15 +0000    1\n",
      "Tue, 22 Oct 2013 21:51:14 +0000    1\n",
      "Wed, 30 Jun 2021 11:52:57 +0000    1\n",
      "Thu, 25 Apr 2019 20:29:28 +0000    1\n",
      "Mon, 22 Jun 2020 21:49:24 +0000    1\n",
      "Mon, 10 Feb 2020 01:53:24 +0000    1\n",
      "Tue, 10 Feb 2015 04:25:28 +0000    1\n",
      "Sun, 15 May 2016 19:41:04 +0000    1\n",
      "Name: created_at_formatted, dtype: int64 \n",
      "\n",
      "https://ksr-ugc.imgix.net/assets/005/919/900/6e98b1494ccadb7832308a0969af02d7_original.jpg?ixlib=rb-4.0.2&w=160&h=160&fit=crop&v=1481834108&auto=format&frame=1&q=92&s=452deda57cd27f7ca217c9e4948cab74     3\n",
      "https://ksr-ugc.imgix.net/assets/008/722/457/f2d4fbb7e4f7c0db57ef26c873fd7343_original.png?ixlib=rb-4.0.2&w=160&h=160&fit=crop&v=1552988200&auto=format&frame=1&q=92&s=0517aa11823bde408b092ef4ba94ac89     1\n",
      "https://ksr-ugc.imgix.net/assets/005/762/612/31b9a87d048b59cb4e490484059f35c7_original.jpeg?ixlib=rb-4.0.2&w=160&h=160&fit=crop&v=1461084012&auto=format&frame=1&q=92&s=cf045b1b610bed6ce8efd82ae070a4ff    1\n",
      "https://ksr-ugc.imgix.net/assets/026/195/277/0a886e3c4c6ffb9534cb815536ae5782_original.jpg?ixlib=rb-4.0.2&w=160&h=160&fit=crop&v=1566282141&auto=format&frame=1&q=92&s=508b72457e1bd2e8ac7a217a353e2843     1\n",
      "https://ksr-ugc.imgix.net/assets/015/493/690/378a13ff108142a2bd7d03346d1bcebe_original.png?ixlib=rb-4.0.2&w=160&h=160&fit=crop&v=1565892976&auto=format&frame=1&q=92&s=b056352880ca19fd65aaa3bf5f1afa76     1\n",
      "https://ksr-ugc.imgix.net/assets/006/023/679/e2d8ec5dea004fd1f2bf17c7bb62d525_original.png?ixlib=rb-4.0.2&w=160&h=160&fit=crop&v=1510175320&auto=format&frame=1&q=92&s=dfa6dcabfac3c71bbca8199a18f3f3de     1\n",
      "https://ksr-ugc.imgix.net/assets/006/167/734/d6fc9742e29e595f324605ddacb64146_original.jpg?ixlib=rb-4.0.2&w=160&h=160&fit=crop&v=1461370957&auto=format&frame=1&q=92&s=cd6fd961137933fcd54429b3cfb62b85     1\n",
      "https://ksr-ugc.imgix.net/assets/024/180/816/469a660f9552681e9c75621113877dcf_original.png?ixlib=rb-4.0.2&w=160&h=160&fit=crop&v=1550869205&auto=format&frame=1&q=92&s=649fe5a010f1f10a4d19551b763fb52a     1\n",
      "https://ksr-ugc.imgix.net/assets/007/983/994/1cb13b3a59f8d2eee3600900a6b2273b_original.png?ixlib=rb-4.0.2&w=160&h=160&fit=crop&v=1461495322&auto=format&frame=1&q=92&s=3fed06965369aa8a5f0500227f075a5e     1\n",
      "https://ksr-ugc.imgix.net/assets/007/137/808/5ba3e2b29cdb897cdd709662875042fe_original.jpg?ixlib=rb-4.0.2&w=160&h=160&fit=crop&v=1585499202&auto=format&frame=1&q=92&s=246e58be8592a7b8f10bdc88f444b2ba     1\n",
      "Name: creatorAvatar, dtype: int64 \n",
      "\n",
      "597507018     3\n",
      "597538543     1\n",
      "1007835190    1\n",
      "1998547133    1\n",
      "1436444454    1\n",
      "97103764      1\n",
      "203090294     1\n",
      "2121023188    1\n",
      "1350948450    1\n",
      "754081504     1\n",
      "Name: creatorId, dtype: int64 \n",
      "\n",
      "Pebble Technology    3\n",
      "Kingdom Death        1\n",
      "BAUBAX LLC           1\n",
      "Isaac Childres       1\n",
      "Critical Role        1\n",
      "Peak Design          1\n",
      "Wyrmwood Gaming      1\n",
      "Ryan Grepper         1\n",
      "Magpie Games         1\n",
      "EcoFlow              1\n",
      "Name: creatorName, dtype: int64 \n",
      "\n",
      "https://www.kickstarter.com/profile/getpebble       3\n",
      "https://www.kickstarter.com/profile/peak-design     1\n",
      "https://www.kickstarter.com/profile/baubax          1\n",
      "https://www.kickstarter.com/profile/frosthaven      1\n",
      "https://www.kickstarter.com/profile/ryangrepper     1\n",
      "https://www.kickstarter.com/profile/magpiegames     1\n",
      "https://www.kickstarter.com/profile/poots           1\n",
      "https://www.kickstarter.com/profile/criticalrole    1\n",
      "https://www.kickstarter.com/profile/ecoflow         1\n",
      "https://www.kickstarter.com/profile/wyrmwood        1\n",
      "Name: creatorUrl, dtype: int64 \n",
      "\n",
      "USD    12\n",
      "Name: currency, dtype: int64 \n",
      "\n",
      "$    12\n",
      "Name: currency_symbol, dtype: int64 \n",
      "\n",
      "True    12\n",
      "Name: currency_trailing_code, dtype: int64 \n",
      "\n",
      "USD    12\n",
      "Name: current_currency, dtype: int64 \n",
      "\n",
      "1483830000    1\n",
      "1337396400    1\n",
      "1588366800    1\n",
      "1441299600    1\n",
      "1630625400    1\n",
      "1631540391    1\n",
      "1467262800    1\n",
      "1602302340    1\n",
      "1555657140    1\n",
      "1409360400    1\n",
      "1563494400    1\n",
      "1427508000    1\n",
      "Name: deadline, dtype: int64 \n",
      "\n",
      "A cooperative nightmare horror game experience. Hunt intelligent monsters and develop your settlement through a self-running campaign.     1\n",
      "An officially licensed tabletop roleplaying game set in the world of Avatar: The Last Airbender and The Legend of Korra                    1\n",
      "A full-featured tripod in a truly portable form.                                                                                           1\n",
      "Euro-inspired dungeon crawling sequel to the 2017 smash-hit Gloomhaven                                                                     1\n",
      "Color e-paper smartwatch with up to 7 days of battery and a new timeline interface that highlights what's important in your day.           1\n",
      "Expandable capacity (3.6-25kWh) | Power almost anything (3.6-7.2kW) | Home battery ecosystem                                               1\n",
      "Pebble is a customizable watch. Download new watchfaces, use sports and fitness apps, get notifications from your phone.                   1\n",
      "A revolutionary table that evolves over a lifetime. Innovative, yet affordable, with magnetic accessories. Crafted without compromise.     1\n",
      "Two affordable, heart rate-enabled smartwatches and a hackable, 3G wearable for phone-free running with GPS, music, and Amazon Alexa.      1\n",
      "Critical Role's The Legend of Vox Machina reunites your favorite heroes for a professional-quality animated special!                       1\n",
      "TRAVEL JACKET with built-in Neck Pillow, Eye Mask, Gloves, Earphone Holders, Drink Pocket, Tech Pockets of all sizes! Comes in 4 Styles    1\n",
      "The COOLEST is a portable party disguised as a cooler, bringing blended drinks, music and fun to any outdoor occasion.                     1\n",
      "Name: description, dtype: int64 \n",
      "\n",
      "False    12\n",
      "Name: disable_communication, dtype: int64 \n",
      "\n",
      "1    12\n",
      "Name: fx_rate, dtype: int64 \n",
      "\n",
      "100000     3\n",
      "500000     3\n",
      "50000      2\n",
      "1000000    2\n",
      "20000      1\n",
      "750000     1\n",
      "Name: goal, dtype: int64 \n",
      "\n",
      "1289129165    1\n",
      "597041739     1\n",
      "2103598555    1\n",
      "374744378     1\n",
      "506924864     1\n",
      "545070200     1\n",
      "1198848775    1\n",
      "1799979574    1\n",
      "565687737     1\n",
      "645343012     1\n",
      "1010797520    1\n",
      "342886736     1\n",
      "Name: id, dtype: int64 \n",
      "\n",
      "False    12\n",
      "Name: is_starrable, dtype: int64 \n",
      "\n",
      "1585667038    1\n",
      "1404807277    1\n",
      "1334120344    1\n",
      "1424789082    1\n",
      "1597168462    1\n",
      "1551722069    1\n",
      "1626356391    1\n",
      "1480050101    1\n",
      "1436269954    1\n",
      "1627998936    1\n",
      "1558447202    1\n",
      "1464097792    1\n",
      "Name: launched_at, dtype: int64 \n",
      "\n",
      "Tue, 07 Jul 2015 11:52:34 +0000    1\n",
      "Fri, 25 Nov 2016 05:01:41 +0000    1\n",
      "Tue, 24 May 2016 13:49:52 +0000    1\n",
      "Tue, 03 Aug 2021 13:55:36 +0000    1\n",
      "Tue, 21 May 2019 14:00:02 +0000    1\n",
      "Tue, 08 Jul 2014 08:14:37 +0000    1\n",
      "Thu, 15 Jul 2021 13:39:51 +0000    1\n",
      "Mon, 04 Mar 2019 17:54:29 +0000    1\n",
      "Wed, 11 Apr 2012 04:59:04 +0000    1\n",
      "Tue, 24 Feb 2015 14:44:42 +0000    1\n",
      "Tue, 11 Aug 2020 17:54:22 +0000    1\n",
      "Tue, 31 Mar 2020 15:03:58 +0000    1\n",
      "Name: launched_at_formatted, dtype: int64 \n",
      "\n",
      "https://www.kickstarter.com/projects/ryangrepper/coolest-cooler-21st-century-cooler-thats-actually?ref=discovery_most_funded      1\n",
      "https://www.kickstarter.com/projects/getpebble/pebble-time-awesome-smartwatch-no-compromises?ref=discovery_most_funded            1\n",
      "https://www.kickstarter.com/projects/peak-design/travel-tripod-by-peak-design?ref=discovery_most_funded                           1\n",
      "https://www.kickstarter.com/projects/magpiegames/avatar-legends-the-roleplaying-game?ref=discovery_most_funded                    1\n",
      "https://www.kickstarter.com/projects/wyrmwood/modular-gaming-table?ref=discovery_most_funded                                      1\n",
      "https://www.kickstarter.com/projects/getpebble/pebble-e-paper-watch-for-iphone-and-android?ref=discovery_most_funded              1\n",
      "https://www.kickstarter.com/projects/getpebble/pebble-2-time-2-and-core-an-entirely-new-3g-ultra?ref=discovery_most_funded        1\n",
      "https://www.kickstarter.com/projects/frosthaven/frosthaven?ref=discovery_most_funded                                              1\n",
      "https://www.kickstarter.com/projects/poots/kingdom-death-monster-15?ref=discovery_most_funded                                     1\n",
      "https://www.kickstarter.com/projects/criticalrole/critical-role-the-legend-of-vox-machina-animated-s?ref=discovery_most_funded    1\n",
      "https://www.kickstarter.com/projects/baubax/the-worlds-best-travel-jacket-with-15-features-bau?ref=discovery_most_funded          1\n",
      "https://www.kickstarter.com/projects/ecoflow/ecoflow-delta-pro?ref=discovery_most_funded                                          1\n",
      "Name: link, dtype: int64 \n",
      "\n",
      "2442047    2\n",
      "2467861    2\n",
      "2479714    1\n",
      "2504265    1\n",
      "2411081    1\n",
      "2352824    1\n",
      "2475687    1\n",
      "2379574    1\n",
      "2487956    1\n",
      "2434562    1\n",
      "Name: locationId, dtype: int64 \n",
      "\n",
      "Palo Alto, CA           2\n",
      "Los Angeles, CA         2\n",
      "Lafayette, IN           1\n",
      "Taunton, MA             1\n",
      "Glendale, Queens, NY    1\n",
      "Redwood City, CA        1\n",
      "San Francisco, CA       1\n",
      "Chicago, IL             1\n",
      "Portland, OR            1\n",
      "Albuquerque, NM         1\n",
      "Name: locationName, dtype: int64 \n",
      "\n",
      "EcoFlow DELTA Pro: The Portable Home Battery                  1\n",
      "Avatar Legends: The Roleplaying Game                          1\n",
      "Pebble: E-Paper Watch for iPhone and Android                  1\n",
      "Critical Role: The Legend of Vox Machina Animated Special     1\n",
      "Pebble 2, Time 2 + All-New Pebble Core                        1\n",
      "Pebble Time - Awesome Smartwatch, No Compromises              1\n",
      "The Wyrmwood Modular Gaming Table: Coffee & Dining Models     1\n",
      "Frosthaven                                                    1\n",
      "Travel Tripod by Peak Design                                  1\n",
      "The World's Best TRAVEL JACKET with 15 Features || BAUBAX     1\n",
      "Kingdom Death: Monster 1.5                                    1\n",
      "COOLEST COOLER: 21st Century Cooler that's Actually Cooler    1\n",
      "Name: name, dtype: int64 \n",
      "\n",
      "Series([], Name: photo, dtype: int64) \n",
      "\n",
      "12779843.49    1\n",
      "13285226.36    1\n",
      "9192055.66     1\n",
      "20338986.27    1\n",
      "12393139.69    1\n",
      "8808136.00     1\n",
      "12969608.00    1\n",
      "9535317.31     1\n",
      "12179651.05    1\n",
      "10266845.74    1\n",
      "12143435.67    1\n",
      "11385449.05    1\n",
      "Name: pledged, dtype: int64 \n",
      "\n",
      "Tue, 07 Jul 2015 11:52:34 +0000    1\n",
      "Fri, 25 Nov 2016 05:01:41 +0000    1\n",
      "Tue, 24 May 2016 13:49:52 +0000    1\n",
      "Tue, 03 Aug 2021 13:55:36 +0000    1\n",
      "Tue, 21 May 2019 14:00:02 +0000    1\n",
      "Tue, 08 Jul 2014 08:14:37 +0000    1\n",
      "Thu, 15 Jul 2021 13:39:51 +0000    1\n",
      "Mon, 04 Mar 2019 17:54:29 +0000    1\n",
      "Wed, 11 Apr 2012 04:59:04 +0000    1\n",
      "Tue, 24 Feb 2015 14:44:42 +0000    1\n",
      "Tue, 11 Aug 2020 17:54:22 +0000    1\n",
      "Tue, 31 Mar 2020 15:03:58 +0000    1\n",
      "Name: pubDate, dtype: int64 \n",
      "\n",
      "pebble-e-paper-watch-for-iphone-and-android           1\n",
      "travel-tripod-by-peak-design                          1\n",
      "kingdom-death-monster-15                              1\n",
      "ecoflow-delta-pro                                     1\n",
      "avatar-legends-the-roleplaying-game                   1\n",
      "the-worlds-best-travel-jacket-with-15-features-bau    1\n",
      "pebble-time-awesome-smartwatch-no-compromises         1\n",
      "frosthaven                                            1\n",
      "critical-role-the-legend-of-vox-machina-animated-s    1\n",
      "coolest-cooler-21st-century-cooler-thats-actually     1\n",
      "pebble-2-time-2-and-core-an-entirely-new-3g-ultra     1\n",
      "modular-gaming-table                                  1\n",
      "Name: slug, dtype: int64 \n",
      "\n",
      "True    12\n",
      "Name: spotlight, dtype: int64 \n",
      "\n",
      "True     11\n",
      "False     1\n",
      "Name: staff_pick, dtype: int64 \n",
      "\n",
      "successful    12\n",
      "Name: state, dtype: int64 \n",
      "\n",
      "1427508015    1\n",
      "1467262800    1\n",
      "1409360410    1\n",
      "1602302340    1\n",
      "1630625400    1\n",
      "1631540391    1\n",
      "1441299615    1\n",
      "1337396419    1\n",
      "1555657140    1\n",
      "1483830003    1\n",
      "1563494400    1\n",
      "1588366800    1\n",
      "Name: state_changed_at, dtype: int64 \n",
      "\n",
      "1    12\n",
      "Name: static_usd_rate, dtype: int64 \n",
      "\n",
      "EcoFlow DELTA Pro: The Portable Home Battery                  1\n",
      "Avatar Legends: The Roleplaying Game                          1\n",
      "Pebble: E-Paper Watch for iPhone and Android                  1\n",
      "Critical Role: The Legend of Vox Machina Animated Special     1\n",
      "Pebble 2, Time 2 + All-New Pebble Core                        1\n",
      "Pebble Time - Awesome Smartwatch, No Compromises              1\n",
      "The Wyrmwood Modular Gaming Table: Coffee & Dining Models     1\n",
      "Frosthaven                                                    1\n",
      "Travel Tripod by Peak Design                                  1\n",
      "The World's Best TRAVEL JACKET with 15 Features || BAUBAX     1\n",
      "Kingdom Death: Monster 1.5                                    1\n",
      "COOLEST COOLER: 21st Century Cooler that's Actually Cooler    1\n",
      "Name: title, dtype: int64 \n",
      "\n",
      "https://www.kickstarter.com/projects/ryangrepper/coolest-cooler-21st-century-cooler-thats-actually?ref=discovery_most_funded      1\n",
      "https://www.kickstarter.com/projects/getpebble/pebble-time-awesome-smartwatch-no-compromises?ref=discovery_most_funded            1\n",
      "https://www.kickstarter.com/projects/peak-design/travel-tripod-by-peak-design?ref=discovery_most_funded                           1\n",
      "https://www.kickstarter.com/projects/magpiegames/avatar-legends-the-roleplaying-game?ref=discovery_most_funded                    1\n",
      "https://www.kickstarter.com/projects/wyrmwood/modular-gaming-table?ref=discovery_most_funded                                      1\n",
      "https://www.kickstarter.com/projects/getpebble/pebble-e-paper-watch-for-iphone-and-android?ref=discovery_most_funded              1\n",
      "https://www.kickstarter.com/projects/getpebble/pebble-2-time-2-and-core-an-entirely-new-3g-ultra?ref=discovery_most_funded        1\n",
      "https://www.kickstarter.com/projects/frosthaven/frosthaven?ref=discovery_most_funded                                              1\n",
      "https://www.kickstarter.com/projects/poots/kingdom-death-monster-15?ref=discovery_most_funded                                     1\n",
      "https://www.kickstarter.com/projects/criticalrole/critical-role-the-legend-of-vox-machina-animated-s?ref=discovery_most_funded    1\n",
      "https://www.kickstarter.com/projects/baubax/the-worlds-best-travel-jacket-with-15-features-bau?ref=discovery_most_funded          1\n",
      "https://www.kickstarter.com/projects/ecoflow/ecoflow-delta-pro?ref=discovery_most_funded                                          1\n",
      "Name: url, dtype: int64 \n",
      "\n",
      "1    12\n",
      "Name: usd_exchange_rate, dtype: int64 \n",
      "\n",
      "12779843.49    1\n",
      "13285226.36    1\n",
      "9192055.66     1\n",
      "20338986.27    1\n",
      "12393139.69    1\n",
      "8808136.00     1\n",
      "12969608.00    1\n",
      "9535317.31     1\n",
      "12179651.05    1\n",
      "10266845.74    1\n",
      "12143435.67    1\n",
      "11385449.05    1\n",
      "Name: usd_pledged, dtype: int64 \n",
      "\n",
      "domestic    12\n",
      "Name: usd_type, dtype: int64 \n",
      "\n"
     ]
    }
   ],
   "source": [
    "for col in data:\n",
    "    print(data[col].value_counts(), '\\n')"
   ]
  },
  {
   "cell_type": "markdown",
   "metadata": {},
   "source": [
    "### convert timestamps"
   ]
  },
  {
   "cell_type": "markdown",
   "metadata": {},
   "source": [
    "#### created_at"
   ]
  },
  {
   "cell_type": "code",
   "execution_count": 196,
   "metadata": {},
   "outputs": [],
   "source": [
    "date = []\n",
    "time = []\n",
    "weekday = []\n",
    "\n",
    "for i in df['created_at']:\n",
    "    date.append(datetime.datetime.fromtimestamp(int(i)).strftime('%Y-%m-%d'))\n",
    "    time.append(datetime.datetime.fromtimestamp(int(i)).strftime('%H:%M:%S'))\n",
    "    weekday.append(datetime.datetime.fromtimestamp(int(i)).strftime('%A'))\n",
    "\n",
    "df['created_date'] = date\n",
    "df['created_time'] = time\n",
    "df['created_weekday'] = weekday"
   ]
  },
  {
   "cell_type": "markdown",
   "metadata": {},
   "source": [
    "#### launched_at"
   ]
  },
  {
   "cell_type": "code",
   "execution_count": 197,
   "metadata": {},
   "outputs": [],
   "source": [
    "date = []\n",
    "time = []\n",
    "weekday = []\n",
    "\n",
    "for i in df['launched_at']:\n",
    "    date.append(datetime.datetime.fromtimestamp(int(i)).strftime('%Y-%m-%d'))\n",
    "    time.append(datetime.datetime.fromtimestamp(int(i)).strftime('%H:%M:%S'))\n",
    "    weekday.append(datetime.datetime.fromtimestamp(int(i)).strftime('%A'))\n",
    "\n",
    "df['launched_date'] = date\n",
    "df['launched_time'] = time\n",
    "df['launched_weekday'] = weekday"
   ]
  },
  {
   "cell_type": "markdown",
   "metadata": {},
   "source": [
    "#### deadline"
   ]
  },
  {
   "cell_type": "code",
   "execution_count": 198,
   "metadata": {},
   "outputs": [],
   "source": [
    "date = []\n",
    "time = []\n",
    "weekday = []\n",
    "\n",
    "for i in df['deadline']:\n",
    "    date.append(datetime.datetime.fromtimestamp(int(i)).strftime('%Y-%m-%d'))\n",
    "    time.append(datetime.datetime.fromtimestamp(int(i)).strftime('%H:%M:%S'))\n",
    "    weekday.append(datetime.datetime.fromtimestamp(int(i)).strftime('%A'))\n",
    "\n",
    "df['deadline_date'] = date\n",
    "df['deadline_time'] = time\n",
    "df['deadline_weekday'] = weekday"
   ]
  },
  {
   "cell_type": "markdown",
   "metadata": {},
   "source": [
    "#### add project duration column"
   ]
  },
  {
   "cell_type": "code",
   "execution_count": 199,
   "metadata": {},
   "outputs": [],
   "source": [
    "# time between deadline and launched\n",
    "\n",
    "project_duration = []\n",
    "\n",
    "for i,j in zip(df.deadline, df.launched_at):\n",
    "    a = ((i - j) / 60 / 60 / 24)\n",
    "    project_duration.append(a)\n",
    "    \n",
    "df['project_duration'] = project_duration"
   ]
  },
  {
   "cell_type": "markdown",
   "metadata": {},
   "source": [
    "### add target column"
   ]
  },
  {
   "cell_type": "code",
   "execution_count": 200,
   "metadata": {},
   "outputs": [],
   "source": [
    "conditions = [\n",
    "    ((df['goal'] - df['converted_pledged_amount']) >= 0),\n",
    "    ((df['goal'] - df['converted_pledged_amount']) < 0)\n",
    "]\n",
    "\n",
    "values = ['yes', 'no']\n",
    "\n",
    "df['goal_reached'] = np.select(conditions, values)"
   ]
  },
  {
   "cell_type": "code",
   "execution_count": 201,
   "metadata": {},
   "outputs": [
    {
     "data": {
      "text/plain": [
       "no     15293\n",
       "yes     2519\n",
       "Name: goal_reached, dtype: int64"
      ]
     },
     "execution_count": 201,
     "metadata": {},
     "output_type": "execute_result"
    }
   ],
   "source": [
    "df['goal_reached'].value_counts()"
   ]
  },
  {
   "cell_type": "code",
   "execution_count": 202,
   "metadata": {},
   "outputs": [
    {
     "data": {
      "text/plain": [
       "successful    15424\n",
       "live           2388\n",
       "Name: state, dtype: int64"
      ]
     },
     "execution_count": 202,
     "metadata": {},
     "output_type": "execute_result"
    }
   ],
   "source": [
    "df['state'].value_counts()"
   ]
  },
  {
   "cell_type": "code",
   "execution_count": 203,
   "metadata": {
    "scrolled": false
   },
   "outputs": [
    {
     "data": {
      "text/html": [
       "<div>\n",
       "<style scoped>\n",
       "    .dataframe tbody tr th:only-of-type {\n",
       "        vertical-align: middle;\n",
       "    }\n",
       "\n",
       "    .dataframe tbody tr th {\n",
       "        vertical-align: top;\n",
       "    }\n",
       "\n",
       "    .dataframe thead th {\n",
       "        text-align: right;\n",
       "    }\n",
       "</style>\n",
       "<table border=\"1\" class=\"dataframe\">\n",
       "  <thead>\n",
       "    <tr style=\"text-align: right;\">\n",
       "      <th>goal_reached</th>\n",
       "      <th>no</th>\n",
       "      <th>yes</th>\n",
       "    </tr>\n",
       "    <tr>\n",
       "      <th>state</th>\n",
       "      <th></th>\n",
       "      <th></th>\n",
       "    </tr>\n",
       "  </thead>\n",
       "  <tbody>\n",
       "    <tr>\n",
       "      <th>live</th>\n",
       "      <td>978</td>\n",
       "      <td>1410</td>\n",
       "    </tr>\n",
       "    <tr>\n",
       "      <th>successful</th>\n",
       "      <td>14315</td>\n",
       "      <td>1109</td>\n",
       "    </tr>\n",
       "  </tbody>\n",
       "</table>\n",
       "</div>"
      ],
      "text/plain": [
       "goal_reached     no   yes\n",
       "state                    \n",
       "live            978  1410\n",
       "successful    14315  1109"
      ]
     },
     "execution_count": 203,
     "metadata": {},
     "output_type": "execute_result"
    }
   ],
   "source": [
    "data_crosstab = pd.crosstab(df['state'], df['goal_reached'], margins = False)\n",
    "data_crosstab"
   ]
  },
  {
   "cell_type": "markdown",
   "metadata": {},
   "source": [
    "## get information from language"
   ]
  },
  {
   "cell_type": "markdown",
   "metadata": {},
   "source": [
    "### add language column"
   ]
  },
  {
   "cell_type": "code",
   "execution_count": 218,
   "metadata": {},
   "outputs": [],
   "source": [
    "language = []\n",
    "\n",
    "for i in df['description']:\n",
    "    if isinstance(i, float):\n",
    "        language.append(0)\n",
    "    else:\n",
    "        a = langid.classify(i)\n",
    "        language.append(a[0])        \n",
    "    \n",
    "df['language'] = language"
   ]
  },
  {
   "cell_type": "code",
   "execution_count": 219,
   "metadata": {},
   "outputs": [
    {
     "data": {
      "text/plain": [
       "(17812, 47)"
      ]
     },
     "execution_count": 219,
     "metadata": {},
     "output_type": "execute_result"
    }
   ],
   "source": [
    "df.shape"
   ]
  },
  {
   "cell_type": "code",
   "execution_count": 220,
   "metadata": {
    "scrolled": true
   },
   "outputs": [
    {
     "data": {
      "text/plain": [
       "en    16975\n",
       "es      209\n",
       "fr      186\n",
       "de       82\n",
       "it       59\n",
       "da       38\n",
       "sv       28\n",
       "nl       26\n",
       "id       22\n",
       "ja       19\n",
       "no       15\n",
       "zh       13\n",
       "fi       12\n",
       "ca       12\n",
       "pl       12\n",
       "la       10\n",
       "ro        9\n",
       "sl        8\n",
       "mt        6\n",
       "et        6\n",
       "eo        4\n",
       "ms        4\n",
       "nn        4\n",
       "lb        3\n",
       "af        3\n",
       "cs        3\n",
       "mg        3\n",
       "ga        3\n",
       "lt        3\n",
       "ku        3\n",
       "hu        3\n",
       "pt        3\n",
       "rw        2\n",
       "tr        2\n",
       "jv        2\n",
       "gl        2\n",
       "br        2\n",
       "he        2\n",
       "cy        2\n",
       "nb        2\n",
       "tl        2\n",
       "sk        1\n",
       "sw        1\n",
       "am        1\n",
       "ht        1\n",
       "lo        1\n",
       "ru        1\n",
       "xh        1\n",
       "0         1\n",
       "Name: language, dtype: int64"
      ]
     },
     "execution_count": 220,
     "metadata": {},
     "output_type": "execute_result"
    }
   ],
   "source": [
    "df['language'].value_counts()"
   ]
  },
  {
   "cell_type": "markdown",
   "metadata": {},
   "source": [
    "### add polarity and subjectivity column"
   ]
  },
  {
   "cell_type": "code",
   "execution_count": 221,
   "metadata": {},
   "outputs": [],
   "source": [
    "polarity = []\n",
    "subjectivity = []\n",
    "\n",
    "for i in df['description']:\n",
    "    if isinstance(i, float):\n",
    "        polarity.append(0)\n",
    "        subjectivity.append(0)\n",
    "    else:\n",
    "        a = TextBlob(i)\n",
    "        polarity.append(round(a.polarity,2))\n",
    "        subjectivity.append(round(a.subjectivity,2))\n",
    "\n",
    "df['polarity'] = polarity\n",
    "df['subjectivity'] = subjectivity"
   ]
  },
  {
   "cell_type": "code",
   "execution_count": 222,
   "metadata": {},
   "outputs": [
    {
     "data": {
      "text/plain": [
       "(17812, 47)"
      ]
     },
     "execution_count": 222,
     "metadata": {},
     "output_type": "execute_result"
    }
   ],
   "source": [
    "df.shape"
   ]
  },
  {
   "cell_type": "code",
   "execution_count": 223,
   "metadata": {},
   "outputs": [
    {
     "data": {
      "text/html": [
       "<div>\n",
       "<style scoped>\n",
       "    .dataframe tbody tr th:only-of-type {\n",
       "        vertical-align: middle;\n",
       "    }\n",
       "\n",
       "    .dataframe tbody tr th {\n",
       "        vertical-align: top;\n",
       "    }\n",
       "\n",
       "    .dataframe thead th {\n",
       "        text-align: right;\n",
       "    }\n",
       "</style>\n",
       "<table border=\"1\" class=\"dataframe\">\n",
       "  <thead>\n",
       "    <tr style=\"text-align: right;\">\n",
       "      <th></th>\n",
       "      <th>backers_count</th>\n",
       "      <th>categoryName</th>\n",
       "      <th>categorySlug</th>\n",
       "      <th>converted_pledged_amount</th>\n",
       "      <th>country</th>\n",
       "      <th>created_at</th>\n",
       "      <th>created_at_formatted</th>\n",
       "      <th>currency</th>\n",
       "      <th>currency_trailing_code</th>\n",
       "      <th>current_currency</th>\n",
       "      <th>...</th>\n",
       "      <th>launched_time</th>\n",
       "      <th>launched_weekday</th>\n",
       "      <th>deadline_date</th>\n",
       "      <th>deadline_time</th>\n",
       "      <th>deadline_weekday</th>\n",
       "      <th>project_duration</th>\n",
       "      <th>goal_reached</th>\n",
       "      <th>language</th>\n",
       "      <th>polarity</th>\n",
       "      <th>subjectivity</th>\n",
       "    </tr>\n",
       "    <tr>\n",
       "      <th>id</th>\n",
       "      <th></th>\n",
       "      <th></th>\n",
       "      <th></th>\n",
       "      <th></th>\n",
       "      <th></th>\n",
       "      <th></th>\n",
       "      <th></th>\n",
       "      <th></th>\n",
       "      <th></th>\n",
       "      <th></th>\n",
       "      <th></th>\n",
       "      <th></th>\n",
       "      <th></th>\n",
       "      <th></th>\n",
       "      <th></th>\n",
       "      <th></th>\n",
       "      <th></th>\n",
       "      <th></th>\n",
       "      <th></th>\n",
       "      <th></th>\n",
       "      <th></th>\n",
       "    </tr>\n",
       "  </thead>\n",
       "  <tbody>\n",
       "    <tr>\n",
       "      <th>2147420152</th>\n",
       "      <td>30</td>\n",
       "      <td>Ready-to-wear</td>\n",
       "      <td>fashion/ready-to-wear</td>\n",
       "      <td>10457</td>\n",
       "      <td>US</td>\n",
       "      <td>1628823745</td>\n",
       "      <td>Fri, 13 Aug 2021 03:02:25 +0000</td>\n",
       "      <td>USD</td>\n",
       "      <td>True</td>\n",
       "      <td>USD</td>\n",
       "      <td>...</td>\n",
       "      <td>22:02:16</td>\n",
       "      <td>Wednesday</td>\n",
       "      <td>2021-09-17</td>\n",
       "      <td>22:02:16</td>\n",
       "      <td>Friday</td>\n",
       "      <td>30.000000</td>\n",
       "      <td>no</td>\n",
       "      <td>en</td>\n",
       "      <td>0.62</td>\n",
       "      <td>0.90</td>\n",
       "    </tr>\n",
       "    <tr>\n",
       "      <th>2147364781</th>\n",
       "      <td>113</td>\n",
       "      <td>Dance</td>\n",
       "      <td>dance</td>\n",
       "      <td>14360</td>\n",
       "      <td>US</td>\n",
       "      <td>1404495054</td>\n",
       "      <td>Fri, 04 Jul 2014 17:30:54 +0000</td>\n",
       "      <td>USD</td>\n",
       "      <td>True</td>\n",
       "      <td>USD</td>\n",
       "      <td>...</td>\n",
       "      <td>23:41:00</td>\n",
       "      <td>Monday</td>\n",
       "      <td>2014-08-08</td>\n",
       "      <td>07:01:00</td>\n",
       "      <td>Friday</td>\n",
       "      <td>31.305556</td>\n",
       "      <td>no</td>\n",
       "      <td>en</td>\n",
       "      <td>0.00</td>\n",
       "      <td>0.00</td>\n",
       "    </tr>\n",
       "    <tr>\n",
       "      <th>2147339483</th>\n",
       "      <td>56</td>\n",
       "      <td>Spaces</td>\n",
       "      <td>dance/spaces</td>\n",
       "      <td>4793</td>\n",
       "      <td>GB</td>\n",
       "      <td>1459856095</td>\n",
       "      <td>Tue, 05 Apr 2016 11:34:55 +0000</td>\n",
       "      <td>GBP</td>\n",
       "      <td>False</td>\n",
       "      <td>USD</td>\n",
       "      <td>...</td>\n",
       "      <td>14:23:32</td>\n",
       "      <td>Tuesday</td>\n",
       "      <td>2016-05-12</td>\n",
       "      <td>14:23:32</td>\n",
       "      <td>Thursday</td>\n",
       "      <td>30.000000</td>\n",
       "      <td>no</td>\n",
       "      <td>en</td>\n",
       "      <td>0.00</td>\n",
       "      <td>0.00</td>\n",
       "    </tr>\n",
       "    <tr>\n",
       "      <th>2147336747</th>\n",
       "      <td>13</td>\n",
       "      <td>Dance</td>\n",
       "      <td>dance</td>\n",
       "      <td>601</td>\n",
       "      <td>US</td>\n",
       "      <td>1328195174</td>\n",
       "      <td>Thu, 02 Feb 2012 15:06:14 +0000</td>\n",
       "      <td>USD</td>\n",
       "      <td>True</td>\n",
       "      <td>USD</td>\n",
       "      <td>...</td>\n",
       "      <td>18:56:31</td>\n",
       "      <td>Tuesday</td>\n",
       "      <td>2012-03-30</td>\n",
       "      <td>15:57:00</td>\n",
       "      <td>Friday</td>\n",
       "      <td>37.833669</td>\n",
       "      <td>no</td>\n",
       "      <td>en</td>\n",
       "      <td>0.24</td>\n",
       "      <td>0.63</td>\n",
       "    </tr>\n",
       "    <tr>\n",
       "      <th>2147319993</th>\n",
       "      <td>38</td>\n",
       "      <td>Video Art</td>\n",
       "      <td>art/video art</td>\n",
       "      <td>1537</td>\n",
       "      <td>US</td>\n",
       "      <td>1622493756</td>\n",
       "      <td>Mon, 31 May 2021 20:42:36 +0000</td>\n",
       "      <td>USD</td>\n",
       "      <td>True</td>\n",
       "      <td>USD</td>\n",
       "      <td>...</td>\n",
       "      <td>01:37:40</td>\n",
       "      <td>Sunday</td>\n",
       "      <td>2021-08-04</td>\n",
       "      <td>21:00:00</td>\n",
       "      <td>Wednesday</td>\n",
       "      <td>59.807176</td>\n",
       "      <td>no</td>\n",
       "      <td>en</td>\n",
       "      <td>0.23</td>\n",
       "      <td>0.52</td>\n",
       "    </tr>\n",
       "    <tr>\n",
       "      <th>...</th>\n",
       "      <td>...</td>\n",
       "      <td>...</td>\n",
       "      <td>...</td>\n",
       "      <td>...</td>\n",
       "      <td>...</td>\n",
       "      <td>...</td>\n",
       "      <td>...</td>\n",
       "      <td>...</td>\n",
       "      <td>...</td>\n",
       "      <td>...</td>\n",
       "      <td>...</td>\n",
       "      <td>...</td>\n",
       "      <td>...</td>\n",
       "      <td>...</td>\n",
       "      <td>...</td>\n",
       "      <td>...</td>\n",
       "      <td>...</td>\n",
       "      <td>...</td>\n",
       "      <td>...</td>\n",
       "      <td>...</td>\n",
       "      <td>...</td>\n",
       "    </tr>\n",
       "    <tr>\n",
       "      <th>771637</th>\n",
       "      <td>2391</td>\n",
       "      <td>Product Design</td>\n",
       "      <td>design/product design</td>\n",
       "      <td>358286</td>\n",
       "      <td>US</td>\n",
       "      <td>1487503901</td>\n",
       "      <td>Sun, 19 Feb 2017 11:31:41 +0000</td>\n",
       "      <td>USD</td>\n",
       "      <td>True</td>\n",
       "      <td>USD</td>\n",
       "      <td>...</td>\n",
       "      <td>14:02:41</td>\n",
       "      <td>Monday</td>\n",
       "      <td>2017-05-27</td>\n",
       "      <td>04:59:00</td>\n",
       "      <td>Saturday</td>\n",
       "      <td>32.622442</td>\n",
       "      <td>no</td>\n",
       "      <td>en</td>\n",
       "      <td>0.37</td>\n",
       "      <td>0.52</td>\n",
       "    </tr>\n",
       "    <tr>\n",
       "      <th>442565</th>\n",
       "      <td>26</td>\n",
       "      <td>Printing</td>\n",
       "      <td>crafts/printing</td>\n",
       "      <td>1125</td>\n",
       "      <td>US</td>\n",
       "      <td>1491541674</td>\n",
       "      <td>Fri, 07 Apr 2017 05:07:54 +0000</td>\n",
       "      <td>USD</td>\n",
       "      <td>True</td>\n",
       "      <td>USD</td>\n",
       "      <td>...</td>\n",
       "      <td>00:48:21</td>\n",
       "      <td>Thursday</td>\n",
       "      <td>2017-05-03</td>\n",
       "      <td>00:48:21</td>\n",
       "      <td>Wednesday</td>\n",
       "      <td>20.000000</td>\n",
       "      <td>no</td>\n",
       "      <td>en</td>\n",
       "      <td>0.05</td>\n",
       "      <td>0.63</td>\n",
       "    </tr>\n",
       "    <tr>\n",
       "      <th>368761</th>\n",
       "      <td>11</td>\n",
       "      <td>Product Design</td>\n",
       "      <td>design/product design</td>\n",
       "      <td>1789</td>\n",
       "      <td>GB</td>\n",
       "      <td>1615582150</td>\n",
       "      <td>Fri, 12 Mar 2021 20:49:10 +0000</td>\n",
       "      <td>GBP</td>\n",
       "      <td>False</td>\n",
       "      <td>USD</td>\n",
       "      <td>...</td>\n",
       "      <td>23:29:53</td>\n",
       "      <td>Wednesday</td>\n",
       "      <td>2021-04-24</td>\n",
       "      <td>00:29:53</td>\n",
       "      <td>Saturday</td>\n",
       "      <td>30.000000</td>\n",
       "      <td>no</td>\n",
       "      <td>en</td>\n",
       "      <td>0.20</td>\n",
       "      <td>0.30</td>\n",
       "    </tr>\n",
       "    <tr>\n",
       "      <th>127800</th>\n",
       "      <td>245</td>\n",
       "      <td>Graphic Novels</td>\n",
       "      <td>comics/graphic novels</td>\n",
       "      <td>5101</td>\n",
       "      <td>US</td>\n",
       "      <td>1610854301</td>\n",
       "      <td>Sun, 17 Jan 2021 03:31:41 +0000</td>\n",
       "      <td>USD</td>\n",
       "      <td>True</td>\n",
       "      <td>USD</td>\n",
       "      <td>...</td>\n",
       "      <td>07:30:16</td>\n",
       "      <td>Monday</td>\n",
       "      <td>2021-04-01</td>\n",
       "      <td>07:30:16</td>\n",
       "      <td>Thursday</td>\n",
       "      <td>30.958333</td>\n",
       "      <td>no</td>\n",
       "      <td>en</td>\n",
       "      <td>0.05</td>\n",
       "      <td>0.65</td>\n",
       "    </tr>\n",
       "    <tr>\n",
       "      <th>59422</th>\n",
       "      <td>51</td>\n",
       "      <td>Accessories</td>\n",
       "      <td>fashion/accessories</td>\n",
       "      <td>698</td>\n",
       "      <td>GB</td>\n",
       "      <td>1364904311</td>\n",
       "      <td>Tue, 02 Apr 2013 12:05:11 +0000</td>\n",
       "      <td>GBP</td>\n",
       "      <td>False</td>\n",
       "      <td>USD</td>\n",
       "      <td>...</td>\n",
       "      <td>23:55:41</td>\n",
       "      <td>Thursday</td>\n",
       "      <td>2020-10-19</td>\n",
       "      <td>00:00:00</td>\n",
       "      <td>Monday</td>\n",
       "      <td>17.002998</td>\n",
       "      <td>no</td>\n",
       "      <td>en</td>\n",
       "      <td>-0.15</td>\n",
       "      <td>0.40</td>\n",
       "    </tr>\n",
       "  </tbody>\n",
       "</table>\n",
       "<p>17812 rows × 47 columns</p>\n",
       "</div>"
      ],
      "text/plain": [
       "            backers_count    categoryName           categorySlug  \\\n",
       "id                                                                 \n",
       "2147420152             30   Ready-to-wear  fashion/ready-to-wear   \n",
       "2147364781            113           Dance                  dance   \n",
       "2147339483             56          Spaces           dance/spaces   \n",
       "2147336747             13           Dance                  dance   \n",
       "2147319993             38       Video Art          art/video art   \n",
       "...                   ...             ...                    ...   \n",
       "771637               2391  Product Design  design/product design   \n",
       "442565                 26        Printing        crafts/printing   \n",
       "368761                 11  Product Design  design/product design   \n",
       "127800                245  Graphic Novels  comics/graphic novels   \n",
       "59422                  51     Accessories    fashion/accessories   \n",
       "\n",
       "            converted_pledged_amount country  created_at  \\\n",
       "id                                                         \n",
       "2147420152                     10457      US  1628823745   \n",
       "2147364781                     14360      US  1404495054   \n",
       "2147339483                      4793      GB  1459856095   \n",
       "2147336747                       601      US  1328195174   \n",
       "2147319993                      1537      US  1622493756   \n",
       "...                              ...     ...         ...   \n",
       "771637                        358286      US  1487503901   \n",
       "442565                          1125      US  1491541674   \n",
       "368761                          1789      GB  1615582150   \n",
       "127800                          5101      US  1610854301   \n",
       "59422                            698      GB  1364904311   \n",
       "\n",
       "                       created_at_formatted currency  currency_trailing_code  \\\n",
       "id                                                                             \n",
       "2147420152  Fri, 13 Aug 2021 03:02:25 +0000      USD                    True   \n",
       "2147364781  Fri, 04 Jul 2014 17:30:54 +0000      USD                    True   \n",
       "2147339483  Tue, 05 Apr 2016 11:34:55 +0000      GBP                   False   \n",
       "2147336747  Thu, 02 Feb 2012 15:06:14 +0000      USD                    True   \n",
       "2147319993  Mon, 31 May 2021 20:42:36 +0000      USD                    True   \n",
       "...                                     ...      ...                     ...   \n",
       "771637      Sun, 19 Feb 2017 11:31:41 +0000      USD                    True   \n",
       "442565      Fri, 07 Apr 2017 05:07:54 +0000      USD                    True   \n",
       "368761      Fri, 12 Mar 2021 20:49:10 +0000      GBP                   False   \n",
       "127800      Sun, 17 Jan 2021 03:31:41 +0000      USD                    True   \n",
       "59422       Tue, 02 Apr 2013 12:05:11 +0000      GBP                   False   \n",
       "\n",
       "           current_currency  ...  launched_time launched_weekday  \\\n",
       "id                           ...                                   \n",
       "2147420152              USD  ...       22:02:16        Wednesday   \n",
       "2147364781              USD  ...       23:41:00           Monday   \n",
       "2147339483              USD  ...       14:23:32          Tuesday   \n",
       "2147336747              USD  ...       18:56:31          Tuesday   \n",
       "2147319993              USD  ...       01:37:40           Sunday   \n",
       "...                     ...  ...            ...              ...   \n",
       "771637                  USD  ...       14:02:41           Monday   \n",
       "442565                  USD  ...       00:48:21         Thursday   \n",
       "368761                  USD  ...       23:29:53        Wednesday   \n",
       "127800                  USD  ...       07:30:16           Monday   \n",
       "59422                   USD  ...       23:55:41         Thursday   \n",
       "\n",
       "            deadline_date  deadline_time  deadline_weekday  project_duration  \\\n",
       "id                                                                             \n",
       "2147420152     2021-09-17       22:02:16            Friday         30.000000   \n",
       "2147364781     2014-08-08       07:01:00            Friday         31.305556   \n",
       "2147339483     2016-05-12       14:23:32          Thursday         30.000000   \n",
       "2147336747     2012-03-30       15:57:00            Friday         37.833669   \n",
       "2147319993     2021-08-04       21:00:00         Wednesday         59.807176   \n",
       "...                   ...            ...               ...               ...   \n",
       "771637         2017-05-27       04:59:00          Saturday         32.622442   \n",
       "442565         2017-05-03       00:48:21         Wednesday         20.000000   \n",
       "368761         2021-04-24       00:29:53          Saturday         30.000000   \n",
       "127800         2021-04-01       07:30:16          Thursday         30.958333   \n",
       "59422          2020-10-19       00:00:00            Monday         17.002998   \n",
       "\n",
       "            goal_reached language polarity subjectivity  \n",
       "id                                                       \n",
       "2147420152            no       en     0.62         0.90  \n",
       "2147364781            no       en     0.00         0.00  \n",
       "2147339483            no       en     0.00         0.00  \n",
       "2147336747            no       en     0.24         0.63  \n",
       "2147319993            no       en     0.23         0.52  \n",
       "...                  ...      ...      ...          ...  \n",
       "771637                no       en     0.37         0.52  \n",
       "442565                no       en     0.05         0.63  \n",
       "368761                no       en     0.20         0.30  \n",
       "127800                no       en     0.05         0.65  \n",
       "59422                 no       en    -0.15         0.40  \n",
       "\n",
       "[17812 rows x 47 columns]"
      ]
     },
     "execution_count": 223,
     "metadata": {},
     "output_type": "execute_result"
    }
   ],
   "source": [
    "df"
   ]
  },
  {
   "cell_type": "markdown",
   "metadata": {},
   "source": [
    "### add length for columns name and description"
   ]
  },
  {
   "cell_type": "code",
   "execution_count": 210,
   "metadata": {},
   "outputs": [
    {
     "ename": "TypeError",
     "evalue": "object of type 'float' has no len()",
     "output_type": "error",
     "traceback": [
      "\u001b[1;31m---------------------------------------------------------------------------\u001b[0m",
      "\u001b[1;31mTypeError\u001b[0m                                 Traceback (most recent call last)",
      "\u001b[1;32m<ipython-input-210-d6284d40098d>\u001b[0m in \u001b[0;36m<module>\u001b[1;34m\u001b[0m\n\u001b[0;32m      4\u001b[0m \u001b[1;32mfor\u001b[0m \u001b[0mi\u001b[0m\u001b[1;33m,\u001b[0m\u001b[0mj\u001b[0m \u001b[1;32min\u001b[0m \u001b[0mzip\u001b[0m\u001b[1;33m(\u001b[0m\u001b[0mdf\u001b[0m\u001b[1;33m.\u001b[0m\u001b[0mname\u001b[0m\u001b[1;33m,\u001b[0m \u001b[0mdf\u001b[0m\u001b[1;33m.\u001b[0m\u001b[0mdescription\u001b[0m\u001b[1;33m)\u001b[0m\u001b[1;33m:\u001b[0m\u001b[1;33m\u001b[0m\u001b[1;33m\u001b[0m\u001b[0m\n\u001b[0;32m      5\u001b[0m     \u001b[0mlength_name\u001b[0m\u001b[1;33m.\u001b[0m\u001b[0mappend\u001b[0m\u001b[1;33m(\u001b[0m\u001b[0mlen\u001b[0m\u001b[1;33m(\u001b[0m\u001b[0mi\u001b[0m\u001b[1;33m)\u001b[0m\u001b[1;33m)\u001b[0m\u001b[1;33m\u001b[0m\u001b[1;33m\u001b[0m\u001b[0m\n\u001b[1;32m----> 6\u001b[1;33m     \u001b[0mlength_description\u001b[0m\u001b[1;33m.\u001b[0m\u001b[0mappend\u001b[0m\u001b[1;33m(\u001b[0m\u001b[0mlen\u001b[0m\u001b[1;33m(\u001b[0m\u001b[0mj\u001b[0m\u001b[1;33m)\u001b[0m\u001b[1;33m)\u001b[0m\u001b[1;33m\u001b[0m\u001b[1;33m\u001b[0m\u001b[0m\n\u001b[0m\u001b[0;32m      7\u001b[0m \u001b[1;33m\u001b[0m\u001b[0m\n\u001b[0;32m      8\u001b[0m \u001b[0mdf\u001b[0m\u001b[1;33m[\u001b[0m\u001b[1;34m'length_name'\u001b[0m\u001b[1;33m]\u001b[0m \u001b[1;33m=\u001b[0m \u001b[0mlength_name\u001b[0m\u001b[1;33m\u001b[0m\u001b[1;33m\u001b[0m\u001b[0m\n",
      "\u001b[1;31mTypeError\u001b[0m: object of type 'float' has no len()"
     ]
    }
   ],
   "source": [
    "length_name = []\n",
    "length_description = []\n",
    "\n",
    "for i,j in zip(df.name, df.description):\n",
    "    length_name.append(len(i))\n",
    "    length_description.append(len(j))\n",
    "    \n",
    "df['length_name'] = length_name\n",
    "df['length_description'] = length_description"
   ]
  },
  {
   "cell_type": "code",
   "execution_count": 211,
   "metadata": {},
   "outputs": [
    {
     "data": {
      "text/plain": [
       "(17812, 47)"
      ]
     },
     "execution_count": 211,
     "metadata": {},
     "output_type": "execute_result"
    }
   ],
   "source": [
    "df.shape"
   ]
  },
  {
   "cell_type": "markdown",
   "metadata": {},
   "source": [
    "### keyword extractions with yake"
   ]
  },
  {
   "cell_type": "code",
   "execution_count": null,
   "metadata": {},
   "outputs": [],
   "source": [
    "for i in "
   ]
  },
  {
   "cell_type": "code",
   "execution_count": 82,
   "metadata": {},
   "outputs": [],
   "source": [
    "kw_extractor = yake.KeywordExtractor()"
   ]
  },
  {
   "cell_type": "code",
   "execution_count": 83,
   "metadata": {},
   "outputs": [],
   "source": [
    "text = 'How to check if a number is an int or float in Python'"
   ]
  },
  {
   "cell_type": "code",
   "execution_count": 84,
   "metadata": {},
   "outputs": [],
   "source": [
    "language = 'en'"
   ]
  },
  {
   "cell_type": "code",
   "execution_count": 85,
   "metadata": {},
   "outputs": [],
   "source": [
    "max_ngram_size = 1"
   ]
  },
  {
   "cell_type": "code",
   "execution_count": 86,
   "metadata": {},
   "outputs": [],
   "source": [
    "deduplication_threshold = 0.9"
   ]
  },
  {
   "cell_type": "code",
   "execution_count": 95,
   "metadata": {},
   "outputs": [],
   "source": [
    "numOfKeywords = 3"
   ]
  },
  {
   "cell_type": "code",
   "execution_count": 96,
   "metadata": {},
   "outputs": [],
   "source": [
    "custom_kw_extractor = yake.KeywordExtractor(lan=language, n=max_ngram_size, dedupLim=deduplication_threshold, top=numOfKeywords, features=None)"
   ]
  },
  {
   "cell_type": "code",
   "execution_count": 97,
   "metadata": {},
   "outputs": [],
   "source": [
    "keywords = custom_kw_extractor.extract_keywords(text)"
   ]
  },
  {
   "cell_type": "code",
   "execution_count": 98,
   "metadata": {
    "scrolled": true
   },
   "outputs": [
    {
     "name": "stdout",
     "output_type": "stream",
     "text": [
      "('Python', 0.08596317751626563)\n",
      "('check', 0.29736558256021506)\n",
      "('number', 0.29736558256021506)\n"
     ]
    }
   ],
   "source": [
    "for kw in keywords:\n",
    "    print(kw)"
   ]
  },
  {
   "cell_type": "markdown",
   "metadata": {},
   "source": [
    "## Explore Cleaned Data"
   ]
  },
  {
   "cell_type": "markdown",
   "metadata": {},
   "source": [
    "### projects per weekday"
   ]
  },
  {
   "cell_type": "code",
   "execution_count": 231,
   "metadata": {
    "scrolled": false
   },
   "outputs": [
    {
     "data": {
      "text/plain": [
       "goal_reached\n",
       "yes    154115.685987\n",
       "no      18967.603290\n",
       "Name: goal, dtype: float64"
      ]
     },
     "execution_count": 231,
     "metadata": {},
     "output_type": "execute_result"
    }
   ],
   "source": [
    "df.groupby([\"goal_reached\"])[\"goal\"].mean().sort_values(ascending=False)"
   ]
  },
  {
   "cell_type": "code",
   "execution_count": 213,
   "metadata": {},
   "outputs": [
    {
     "data": {
      "text/plain": [
       "Index(['backers_count', 'categoryName', 'categorySlug',\n",
       "       'converted_pledged_amount', 'country', 'created_at',\n",
       "       'created_at_formatted', 'currency', 'currency_trailing_code',\n",
       "       'current_currency', 'deadline', 'description', 'disable_communication',\n",
       "       'fx_rate', 'goal', 'is_starrable', 'launched_at',\n",
       "       'launched_at_formatted', 'locationName', 'name', 'photo', 'pledged',\n",
       "       'pubDate', 'spotlight', 'staff_pick', 'state', 'state_changed_at',\n",
       "       'static_usd_rate', 'usd_exchange_rate', 'usd_pledged', 'usd_type',\n",
       "       'is_backing', 'is_starred', 'created_date', 'created_time',\n",
       "       'created_weekday', 'launched_date', 'launched_time', 'launched_weekday',\n",
       "       'deadline_date', 'deadline_time', 'deadline_weekday',\n",
       "       'project_duration', 'goal_reached', 'language', 'polarity',\n",
       "       'subjectivity'],\n",
       "      dtype='object')"
      ]
     },
     "execution_count": 213,
     "metadata": {},
     "output_type": "execute_result"
    }
   ],
   "source": [
    "df.columns"
   ]
  },
  {
   "cell_type": "markdown",
   "metadata": {},
   "source": [
    "### projects per category"
   ]
  },
  {
   "cell_type": "code",
   "execution_count": null,
   "metadata": {},
   "outputs": [],
   "source": []
  },
  {
   "cell_type": "code",
   "execution_count": null,
   "metadata": {},
   "outputs": [],
   "source": []
  },
  {
   "cell_type": "code",
   "execution_count": null,
   "metadata": {},
   "outputs": [],
   "source": []
  },
  {
   "cell_type": "code",
   "execution_count": null,
   "metadata": {},
   "outputs": [],
   "source": []
  },
  {
   "cell_type": "code",
   "execution_count": null,
   "metadata": {},
   "outputs": [],
   "source": []
  },
  {
   "cell_type": "markdown",
   "metadata": {},
   "source": [
    "### Check for Correlation"
   ]
  },
  {
   "cell_type": "code",
   "execution_count": 99,
   "metadata": {
    "scrolled": false
   },
   "outputs": [
    {
     "data": {
      "image/png": "[encoded data removed]",
      "text/plain": [
       "<Figure size 720x576 with 2 Axes>"
      ]
     },
     "metadata": {
      "needs_background": "light"
     },
     "output_type": "display_data"
    }
   ],
   "source": [
    "#round(df.corr()['death_event'].sort_values(ascending=False),2)\n",
    "\n",
    "# create correlation heatmap \n",
    "\n",
    "mask = np.zeros_like(df.corr())\n",
    "\n",
    "mask[np.triu_indices_from(mask)] = True\n",
    "\n",
    "fig, ax = plt.subplots(figsize=(10, 8))\n",
    "ax = sns.heatmap(df.corr(), mask=mask, vmin=-1, vmax=1, annot=True, cmap='coolwarm')\n",
    "\n",
    "plt.show()"
   ]
  },
  {
   "cell_type": "markdown",
   "metadata": {},
   "source": [
    "## data imbalances"
   ]
  },
  {
   "cell_type": "markdown",
   "metadata": {},
   "source": [
    "### check whether data is imbalanced"
   ]
  },
  {
   "cell_type": "code",
   "execution_count": 34,
   "metadata": {},
   "outputs": [
    {
     "data": {
      "text/plain": [
       "no     15250\n",
       "yes     2370\n",
       "Name: goal_reached, dtype: int64"
      ]
     },
     "execution_count": 34,
     "metadata": {},
     "output_type": "execute_result"
    },
    {
     "data": {
      "image/png": "[encoded data removed]",
      "text/plain": [
       "<Figure size 432x288 with 1 Axes>"
      ]
     },
     "metadata": {
      "needs_background": "light"
     },
     "output_type": "display_data"
    }
   ],
   "source": [
    "pd.value_counts(df['goal_reached']).plot.bar()\n",
    "plt.title('goal reached?')\n",
    "plt.xlabel('goal_reached')\n",
    "plt.ylabel('Frequency')\n",
    "df['goal_reached'].value_counts()"
   ]
  },
  {
   "cell_type": "markdown",
   "metadata": {},
   "source": [
    "**YES** our data is imbalanced, as we have 13.324 'no' values and 2.313 'yes' values"
   ]
  },
  {
   "cell_type": "markdown",
   "metadata": {},
   "source": [
    "### deal with imbalances"
   ]
  },
  {
   "cell_type": "code",
   "execution_count": null,
   "metadata": {},
   "outputs": [],
   "source": []
  },
  {
   "cell_type": "code",
   "execution_count": null,
   "metadata": {},
   "outputs": [],
   "source": []
  },
  {
   "cell_type": "code",
   "execution_count": null,
   "metadata": {},
   "outputs": [],
   "source": []
  }
 ],
 "metadata": {
  "kernelspec": {
   "display_name": "Python 3",
   "language": "python",
   "name": "python3"
  },
  "language_info": {
   "codemirror_mode": {
    "name": "ipython",
    "version": 3
   },
   "file_extension": ".py",
   "mimetype": "text/x-python",
   "name": "python",
   "nbconvert_exporter": "python",
   "pygments_lexer": "ipython3",
   "version": "3.8.5"
  },
  "toc": {
   "base_numbering": 1,
   "nav_menu": {},
   "number_sections": true,
   "sideBar": true,
   "skip_h1_title": false,
   "title_cell": "Table of Contents",
   "title_sidebar": "Contents",
   "toc_cell": false,
   "toc_position": {
    "height": "calc(100% - 180px)",
    "left": "10px",
    "top": "150px",
    "width": "426.667px"
   },
   "toc_section_display": true,
   "toc_window_display": true
  }
 },
 "nbformat": 4,
 "nbformat_minor": 4
}
