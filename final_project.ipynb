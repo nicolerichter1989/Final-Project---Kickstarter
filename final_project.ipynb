{
 "cells": [
  {
   "cell_type": "markdown",
   "metadata": {},
   "source": [
    "# final project - KICKSTARTER"
   ]
  },
  {
   "cell_type": "markdown",
   "metadata": {},
   "source": [
    "**What is Kickstarter?**\n",
    "\n",
    "Kickstarter is a funding platform for creative projects. Everything from film, games, and music to art, design, and technology. Kickstarter is full of ambitious, innovative, and imaginative projects that are brought to life through the direct support of others.\n",
    "\n",
    "Every project creator sets their project's funding goal and deadline. If people like the project, they can pledge money to make it happen. If the project succeeds in reaching its funding goal, all backers' credit cards are charged when time expires. Funding on Kickstarter is all-or-nothing. If the project falls short of its funding goal, no one is charged."
   ]
  },
  {
   "cell_type": "markdown",
   "metadata": {},
   "source": [
    "**Objective**\n",
    "\n",
    "Goal of this analysis it to be able to predict whether or not a project will receive it's goal funds."
   ]
  },
  {
   "cell_type": "markdown",
   "metadata": {},
   "source": [
    "## import libraries"
   ]
  },
  {
   "cell_type": "code",
   "execution_count": 68,
   "metadata": {},
   "outputs": [],
   "source": [
    "import pandas as pd\n",
    "import numpy as np\n",
    "import seaborn as sns\n",
    "import matplotlib.pyplot as plt\n",
    "import os\n",
    "import glob\n",
    "from datetime import date\n",
    "import math\n",
    "\n",
    "# scipy libraries\n",
    "from scipy import stats\n",
    "from scipy.stats.mstats import winsorize\n",
    "\n",
    "# statsmodels libraries\n",
    "import statsmodels.api as sm\n",
    "from statsmodels.formula.api import ols\n",
    "\n",
    "# sklearn libraries\n",
    "from sklearn.preprocessing import OneHotEncoder, Normalizer, LabelEncoder, StandardScaler, MinMaxScaler\n",
    "from sklearn.model_selection import train_test_split\n",
    "from sklearn.linear_model import LinearRegression, LogisticRegression\n",
    "from sklearn.metrics import mean_squared_error, r2_score, confusion_matrix\n",
    "from sklearn.neighbors import KNeighborsRegressor\n",
    "\n",
    "# balancing libraries\n",
    "from imblearn.over_sampling import SMOTE\n",
    "from imblearn.under_sampling import TomekLinks\n",
    "\n",
    "# language libraries\n",
    "from textblob import TextBlob\n",
    "import langid\n",
    "import yake\n",
    "\n",
    "# ignore warnings\n",
    "import warnings\n",
    "warnings.filterwarnings('ignore')"
   ]
  },
  {
   "cell_type": "markdown",
   "metadata": {},
   "source": [
    "## import data"
   ]
  },
  {
   "cell_type": "code",
   "execution_count": 69,
   "metadata": {},
   "outputs": [
    {
     "data": {
      "text/plain": [
       "['dataset_my-task-1_2021-10-31_18-52-00-573.xlsx',\n",
       " 'dataset_my-task-1_2021-10-31_22-32-25-255.xlsx',\n",
       " 'dataset_my-task-2_2021-10-31_18-52-00-523.xlsx',\n",
       " 'dataset_my-task-2_2021-10-31_22-37-00-186.xlsx',\n",
       " 'dataset_my-task-3_2021-10-31_18-52-00-929.xlsx',\n",
       " 'dataset_my-task-3_2021-10-31_22-32-19-791.xlsx',\n",
       " 'dataset_my-task-4_2021-10-31_18-51-58-474.xlsx',\n",
       " 'dataset_my-task-4_2021-10-31_22-32-30-946.xlsx',\n",
       " 'dataset_my-task_2021-10-31_18-51-58-693.xlsx',\n",
       " 'dataset_my-task_2021-10-31_22-32-41-350.xlsx',\n",
       " 'kickstarter_all_enddate_30102021.xlsx',\n",
       " 'kickstarter_all_mostbacked.xlsx',\n",
       " 'kickstarter_all_newest_30102021.xlsx',\n",
       " 'kickstarter_all_popularity_30102021.xlsx',\n",
       " 'kickstarter_art_enddate.xlsx',\n",
       " 'kickstarter_art_newest.xlsx',\n",
       " 'kickstarter_comics_enddate.xlsx',\n",
       " 'kickstarter_comics_newest.xlsx',\n",
       " 'kickstarter_crafts_enddate.xlsx',\n",
       " 'kickstarter_crafts_newest.xlsx',\n",
       " 'kickstarter_dance_enddate.xlsx',\n",
       " 'kickstarter_dance_enddate2.xlsx',\n",
       " 'kickstarter_dance_newest.xlsx',\n",
       " 'kickstarter_design_enddate.xlsx',\n",
       " 'kickstarter_design_newest.xlsx',\n",
       " 'kickstarter_fashion_enddate.xlsx',\n",
       " 'kickstarter_fashion_newest.xlsx',\n",
       " 'kickstarter_film_enddate.xlsx',\n",
       " 'kickstarter_food_enddate.xlsx',\n",
       " 'ks_ed_art_31102021.xlsx',\n",
       " 'ks_ed_comics_31102021.xlsx',\n",
       " 'ks_ed_crafts_31102021.xlsx',\n",
       " 'ks_photography_31102021.xlsx',\n",
       " 'ks_technology_31102021.xlsx',\n",
       " 'ks_theater_31102021.xlsx']"
      ]
     },
     "execution_count": 69,
     "metadata": {},
     "output_type": "execute_result"
    }
   ],
   "source": [
    "files = os.listdir('Data')\n",
    "files"
   ]
  },
  {
   "cell_type": "code",
   "execution_count": 70,
   "metadata": {},
   "outputs": [],
   "source": [
    "files = os.listdir('Data')\n",
    "\n",
    "df = pd.DataFrame()\n",
    "\n",
    "path = os.getcwd() + \"\\\\Data\" + \"\\\\\"\n",
    "\n",
    "for i in files:\n",
    "    data = pd.read_excel(path + i)\n",
    "    df = df.append(data)"
   ]
  },
  {
   "cell_type": "markdown",
   "metadata": {},
   "source": [
    "## first review and clean data"
   ]
  },
  {
   "cell_type": "markdown",
   "metadata": {},
   "source": [
    "### review"
   ]
  },
  {
   "cell_type": "code",
   "execution_count": 71,
   "metadata": {},
   "outputs": [
    {
     "name": "stdout",
     "output_type": "stream",
     "text": [
      "This dataset contains 27168 rows and 47 columns\n"
     ]
    }
   ],
   "source": [
    "print(\"This dataset contains {} rows and {} columns\".format(*df.shape))"
   ]
  },
  {
   "cell_type": "code",
   "execution_count": 72,
   "metadata": {},
   "outputs": [
    {
     "data": {
      "text/html": [
       "<div>\n",
       "<style scoped>\n",
       "    .dataframe tbody tr th:only-of-type {\n",
       "        vertical-align: middle;\n",
       "    }\n",
       "\n",
       "    .dataframe tbody tr th {\n",
       "        vertical-align: top;\n",
       "    }\n",
       "\n",
       "    .dataframe thead th {\n",
       "        text-align: right;\n",
       "    }\n",
       "</style>\n",
       "<table border=\"1\" class=\"dataframe\">\n",
       "  <thead>\n",
       "    <tr style=\"text-align: right;\">\n",
       "      <th></th>\n",
       "      <th>backers_count</th>\n",
       "      <th>blurb</th>\n",
       "      <th>categoryId</th>\n",
       "      <th>categoryName</th>\n",
       "      <th>categorySlug</th>\n",
       "      <th>converted_pledged_amount</th>\n",
       "      <th>country</th>\n",
       "      <th>country_displayable_name</th>\n",
       "      <th>created_at</th>\n",
       "      <th>created_at_formatted</th>\n",
       "      <th>...</th>\n",
       "      <th>state</th>\n",
       "      <th>state_changed_at</th>\n",
       "      <th>static_usd_rate</th>\n",
       "      <th>title</th>\n",
       "      <th>url</th>\n",
       "      <th>usd_exchange_rate</th>\n",
       "      <th>usd_pledged</th>\n",
       "      <th>usd_type</th>\n",
       "      <th>is_backing</th>\n",
       "      <th>is_starred</th>\n",
       "    </tr>\n",
       "  </thead>\n",
       "  <tbody>\n",
       "    <tr>\n",
       "      <th>1252</th>\n",
       "      <td>129</td>\n",
       "      <td>Prepare for...AlternoVision, a new collection ...</td>\n",
       "      <td>1</td>\n",
       "      <td>Art</td>\n",
       "      <td>art</td>\n",
       "      <td>7540</td>\n",
       "      <td>US</td>\n",
       "      <td>the United States</td>\n",
       "      <td>1622058885</td>\n",
       "      <td>Wed, 26 May 2021 19:54:45 +0000</td>\n",
       "      <td>...</td>\n",
       "      <td>successful</td>\n",
       "      <td>1623643140</td>\n",
       "      <td>1.000000</td>\n",
       "      <td>AlternoVision: a 1980s Collection</td>\n",
       "      <td>https://www.kickstarter.com/projects/matthewbu...</td>\n",
       "      <td>1.000000</td>\n",
       "      <td>7540.000000</td>\n",
       "      <td>international</td>\n",
       "      <td>NaN</td>\n",
       "      <td>NaN</td>\n",
       "    </tr>\n",
       "    <tr>\n",
       "      <th>791</th>\n",
       "      <td>13538</td>\n",
       "      <td>If a Kleenex pack and a Handkerchief had a Baby</td>\n",
       "      <td>28</td>\n",
       "      <td>Product Design</td>\n",
       "      <td>design/product design</td>\n",
       "      <td>792553</td>\n",
       "      <td>US</td>\n",
       "      <td>the United States</td>\n",
       "      <td>1567678179</td>\n",
       "      <td>Thu, 05 Sep 2019 10:09:39 +0000</td>\n",
       "      <td>...</td>\n",
       "      <td>successful</td>\n",
       "      <td>1584018732</td>\n",
       "      <td>1.000000</td>\n",
       "      <td>LastTissue™ - The Reusable Tissue Pack</td>\n",
       "      <td>https://www.kickstarter.com/projects/193289139...</td>\n",
       "      <td>1.000000</td>\n",
       "      <td>792553.000000</td>\n",
       "      <td>international</td>\n",
       "      <td>NaN</td>\n",
       "      <td>NaN</td>\n",
       "    </tr>\n",
       "    <tr>\n",
       "      <th>2228</th>\n",
       "      <td>3</td>\n",
       "      <td>Hearts made from rocks and minerals ground and...</td>\n",
       "      <td>267</td>\n",
       "      <td>Jewelry</td>\n",
       "      <td>fashion/jewelry</td>\n",
       "      <td>631</td>\n",
       "      <td>US</td>\n",
       "      <td>the United States</td>\n",
       "      <td>1570914150</td>\n",
       "      <td>Sat, 12 Oct 2019 21:02:30 +0000</td>\n",
       "      <td>...</td>\n",
       "      <td>successful</td>\n",
       "      <td>1577901600</td>\n",
       "      <td>1.000000</td>\n",
       "      <td>Hearts of Stone... and other minerals, a lapid...</td>\n",
       "      <td>https://www.kickstarter.com/projects/126293049...</td>\n",
       "      <td>1.000000</td>\n",
       "      <td>631.000000</td>\n",
       "      <td>international</td>\n",
       "      <td>NaN</td>\n",
       "      <td>NaN</td>\n",
       "    </tr>\n",
       "    <tr>\n",
       "      <th>20</th>\n",
       "      <td>773</td>\n",
       "      <td>The Redhead is back for another thrilling tale...</td>\n",
       "      <td>250</td>\n",
       "      <td>Comic Books</td>\n",
       "      <td>comics/comic books</td>\n",
       "      <td>26101</td>\n",
       "      <td>US</td>\n",
       "      <td>the United States</td>\n",
       "      <td>1634094667</td>\n",
       "      <td>Wed, 13 Oct 2021 03:11:07 +0000</td>\n",
       "      <td>...</td>\n",
       "      <td>live</td>\n",
       "      <td>1635256815</td>\n",
       "      <td>1.000000</td>\n",
       "      <td>THE FEW AND CURSED #7 - a New Season begins!</td>\n",
       "      <td>https://www.kickstarter.com/projects/felipecag...</td>\n",
       "      <td>1.000000</td>\n",
       "      <td>26101.000000</td>\n",
       "      <td>domestic</td>\n",
       "      <td>False</td>\n",
       "      <td>False</td>\n",
       "    </tr>\n",
       "    <tr>\n",
       "      <th>1858</th>\n",
       "      <td>958</td>\n",
       "      <td>USB-C Connection Charge Anywhere, High Power D...</td>\n",
       "      <td>28</td>\n",
       "      <td>Product Design</td>\n",
       "      <td>design/product design</td>\n",
       "      <td>78098</td>\n",
       "      <td>HK</td>\n",
       "      <td>Hong Kong</td>\n",
       "      <td>1610755627</td>\n",
       "      <td>Sat, 16 Jan 2021 00:07:07 +0000</td>\n",
       "      <td>...</td>\n",
       "      <td>successful</td>\n",
       "      <td>1615442400</td>\n",
       "      <td>0.128996</td>\n",
       "      <td>Solarcell: Next Gen Solar-Powered Li-Po Rechar...</td>\n",
       "      <td>https://www.kickstarter.com/projects/solarcell...</td>\n",
       "      <td>0.128849</td>\n",
       "      <td>78188.243372</td>\n",
       "      <td>international</td>\n",
       "      <td>NaN</td>\n",
       "      <td>NaN</td>\n",
       "    </tr>\n",
       "  </tbody>\n",
       "</table>\n",
       "<p>5 rows × 47 columns</p>\n",
       "</div>"
      ],
      "text/plain": [
       "      backers_count                                              blurb  \\\n",
       "1252            129  Prepare for...AlternoVision, a new collection ...   \n",
       "791           13538    If a Kleenex pack and a Handkerchief had a Baby   \n",
       "2228              3  Hearts made from rocks and minerals ground and...   \n",
       "20              773  The Redhead is back for another thrilling tale...   \n",
       "1858            958  USB-C Connection Charge Anywhere, High Power D...   \n",
       "\n",
       "      categoryId    categoryName           categorySlug  \\\n",
       "1252           1             Art                    art   \n",
       "791           28  Product Design  design/product design   \n",
       "2228         267         Jewelry        fashion/jewelry   \n",
       "20           250     Comic Books     comics/comic books   \n",
       "1858          28  Product Design  design/product design   \n",
       "\n",
       "      converted_pledged_amount country country_displayable_name  created_at  \\\n",
       "1252                      7540      US        the United States  1622058885   \n",
       "791                     792553      US        the United States  1567678179   \n",
       "2228                       631      US        the United States  1570914150   \n",
       "20                       26101      US        the United States  1634094667   \n",
       "1858                     78098      HK                Hong Kong  1610755627   \n",
       "\n",
       "                 created_at_formatted  ...       state  state_changed_at  \\\n",
       "1252  Wed, 26 May 2021 19:54:45 +0000  ...  successful        1623643140   \n",
       "791   Thu, 05 Sep 2019 10:09:39 +0000  ...  successful        1584018732   \n",
       "2228  Sat, 12 Oct 2019 21:02:30 +0000  ...  successful        1577901600   \n",
       "20    Wed, 13 Oct 2021 03:11:07 +0000  ...        live        1635256815   \n",
       "1858  Sat, 16 Jan 2021 00:07:07 +0000  ...  successful        1615442400   \n",
       "\n",
       "     static_usd_rate                                              title  \\\n",
       "1252        1.000000                  AlternoVision: a 1980s Collection   \n",
       "791         1.000000             LastTissue™ - The Reusable Tissue Pack   \n",
       "2228        1.000000  Hearts of Stone... and other minerals, a lapid...   \n",
       "20          1.000000       THE FEW AND CURSED #7 - a New Season begins!   \n",
       "1858        0.128996  Solarcell: Next Gen Solar-Powered Li-Po Rechar...   \n",
       "\n",
       "                                                    url usd_exchange_rate  \\\n",
       "1252  https://www.kickstarter.com/projects/matthewbu...          1.000000   \n",
       "791   https://www.kickstarter.com/projects/193289139...          1.000000   \n",
       "2228  https://www.kickstarter.com/projects/126293049...          1.000000   \n",
       "20    https://www.kickstarter.com/projects/felipecag...          1.000000   \n",
       "1858  https://www.kickstarter.com/projects/solarcell...          0.128849   \n",
       "\n",
       "        usd_pledged       usd_type  is_backing is_starred  \n",
       "1252    7540.000000  international         NaN        NaN  \n",
       "791   792553.000000  international         NaN        NaN  \n",
       "2228     631.000000  international         NaN        NaN  \n",
       "20     26101.000000       domestic       False      False  \n",
       "1858   78188.243372  international         NaN        NaN  \n",
       "\n",
       "[5 rows x 47 columns]"
      ]
     },
     "execution_count": 72,
     "metadata": {},
     "output_type": "execute_result"
    }
   ],
   "source": [
    "df.sample(5)"
   ]
  },
  {
   "cell_type": "markdown",
   "metadata": {},
   "source": [
    "### review column names"
   ]
  },
  {
   "cell_type": "code",
   "execution_count": 73,
   "metadata": {},
   "outputs": [
    {
     "data": {
      "text/plain": [
       "Index(['backers_count', 'blurb', 'categoryId', 'categoryName', 'categorySlug',\n",
       "       'converted_pledged_amount', 'country', 'country_displayable_name',\n",
       "       'created_at', 'created_at_formatted', 'creatorAvatar', 'creatorId',\n",
       "       'creatorName', 'creatorUrl', 'currency', 'currency_symbol',\n",
       "       'currency_trailing_code', 'current_currency', 'deadline', 'description',\n",
       "       'disable_communication', 'fx_rate', 'goal', 'id', 'is_starrable',\n",
       "       'launched_at', 'launched_at_formatted', 'link', 'locationId',\n",
       "       'locationName', 'name', 'photo', 'pledged', 'pubDate', 'slug',\n",
       "       'spotlight', 'staff_pick', 'state', 'state_changed_at',\n",
       "       'static_usd_rate', 'title', 'url', 'usd_exchange_rate', 'usd_pledged',\n",
       "       'usd_type', 'is_backing', 'is_starred'],\n",
       "      dtype='object')"
      ]
     },
     "execution_count": 73,
     "metadata": {},
     "output_type": "execute_result"
    }
   ],
   "source": [
    "df.columns"
   ]
  },
  {
   "cell_type": "markdown",
   "metadata": {},
   "source": [
    "no cleaning of column names required"
   ]
  },
  {
   "cell_type": "markdown",
   "metadata": {},
   "source": [
    "### Drop Duplicates"
   ]
  },
  {
   "cell_type": "code",
   "execution_count": 74,
   "metadata": {},
   "outputs": [
    {
     "data": {
      "text/plain": [
       "(27168, 47)"
      ]
     },
     "execution_count": 74,
     "metadata": {},
     "output_type": "execute_result"
    }
   ],
   "source": [
    "df.shape"
   ]
  },
  {
   "cell_type": "code",
   "execution_count": 75,
   "metadata": {},
   "outputs": [],
   "source": [
    "df = df.drop_duplicates()"
   ]
  },
  {
   "cell_type": "code",
   "execution_count": 76,
   "metadata": {},
   "outputs": [
    {
     "data": {
      "text/plain": [
       "(25120, 47)"
      ]
     },
     "execution_count": 76,
     "metadata": {},
     "output_type": "execute_result"
    }
   ],
   "source": [
    "df.shape"
   ]
  },
  {
   "cell_type": "markdown",
   "metadata": {},
   "source": [
    "2.048 duplicates have been dropped"
   ]
  },
  {
   "cell_type": "markdown",
   "metadata": {},
   "source": [
    "### drop duplicate projects with different values"
   ]
  },
  {
   "cell_type": "markdown",
   "metadata": {},
   "source": [
    "#### check for duplicate projects"
   ]
  },
  {
   "cell_type": "code",
   "execution_count": 77,
   "metadata": {},
   "outputs": [
    {
     "data": {
      "text/plain": [
       "7500"
      ]
     },
     "execution_count": 77,
     "metadata": {},
     "output_type": "execute_result"
    }
   ],
   "source": [
    "df.duplicated(subset='id', keep='first').sum()"
   ]
  },
  {
   "cell_type": "markdown",
   "metadata": {},
   "source": [
    "There are 7.500 duplicated projects present."
   ]
  },
  {
   "cell_type": "markdown",
   "metadata": {},
   "source": [
    "#### review duplicates"
   ]
  },
  {
   "cell_type": "code",
   "execution_count": 78,
   "metadata": {},
   "outputs": [
    {
     "data": {
      "text/html": [
       "<div>\n",
       "<style scoped>\n",
       "    .dataframe tbody tr th:only-of-type {\n",
       "        vertical-align: middle;\n",
       "    }\n",
       "\n",
       "    .dataframe tbody tr th {\n",
       "        vertical-align: top;\n",
       "    }\n",
       "\n",
       "    .dataframe thead th {\n",
       "        text-align: right;\n",
       "    }\n",
       "</style>\n",
       "<table border=\"1\" class=\"dataframe\">\n",
       "  <thead>\n",
       "    <tr style=\"text-align: right;\">\n",
       "      <th></th>\n",
       "      <th>backers_count</th>\n",
       "      <th>blurb</th>\n",
       "      <th>categoryId</th>\n",
       "      <th>categoryName</th>\n",
       "      <th>categorySlug</th>\n",
       "      <th>converted_pledged_amount</th>\n",
       "      <th>country</th>\n",
       "      <th>country_displayable_name</th>\n",
       "      <th>created_at</th>\n",
       "      <th>created_at_formatted</th>\n",
       "      <th>...</th>\n",
       "      <th>state</th>\n",
       "      <th>state_changed_at</th>\n",
       "      <th>static_usd_rate</th>\n",
       "      <th>title</th>\n",
       "      <th>url</th>\n",
       "      <th>usd_exchange_rate</th>\n",
       "      <th>usd_pledged</th>\n",
       "      <th>usd_type</th>\n",
       "      <th>is_backing</th>\n",
       "      <th>is_starred</th>\n",
       "    </tr>\n",
       "  </thead>\n",
       "  <tbody>\n",
       "    <tr>\n",
       "      <th>1976</th>\n",
       "      <td>7798</td>\n",
       "      <td>Reuse and recycle plastic bottles of all kinds...</td>\n",
       "      <td>28</td>\n",
       "      <td>Product Design</td>\n",
       "      <td>design/product design</td>\n",
       "      <td>400276</td>\n",
       "      <td>FR</td>\n",
       "      <td>France</td>\n",
       "      <td>1454599119</td>\n",
       "      <td>Thu, 04 Feb 2016 15:18:39 +0000</td>\n",
       "      <td>...</td>\n",
       "      <td>successful</td>\n",
       "      <td>1461409167</td>\n",
       "      <td>1.111204</td>\n",
       "      <td>Plastic Bottle Cutter</td>\n",
       "      <td>https://www.kickstarter.com/projects/910418035...</td>\n",
       "      <td>1.12246</td>\n",
       "      <td>396262.032441</td>\n",
       "      <td>domestic</td>\n",
       "      <td>NaN</td>\n",
       "      <td>NaN</td>\n",
       "    </tr>\n",
       "    <tr>\n",
       "      <th>1976</th>\n",
       "      <td>7798</td>\n",
       "      <td>Reuse and recycle plastic bottles of all kinds...</td>\n",
       "      <td>28</td>\n",
       "      <td>Product Design</td>\n",
       "      <td>design/product design</td>\n",
       "      <td>400276</td>\n",
       "      <td>FR</td>\n",
       "      <td>France</td>\n",
       "      <td>1454599119</td>\n",
       "      <td>Thu, 04 Feb 2016 15:18:39 +0000</td>\n",
       "      <td>...</td>\n",
       "      <td>successful</td>\n",
       "      <td>1461409167</td>\n",
       "      <td>1.111204</td>\n",
       "      <td>Plastic Bottle Cutter</td>\n",
       "      <td>https://www.kickstarter.com/projects/910418035...</td>\n",
       "      <td>1.12246</td>\n",
       "      <td>396262.032441</td>\n",
       "      <td>international</td>\n",
       "      <td>NaN</td>\n",
       "      <td>NaN</td>\n",
       "    </tr>\n",
       "    <tr>\n",
       "      <th>213</th>\n",
       "      <td>78</td>\n",
       "      <td>A fun hackable handheld gaming console &amp; learn...</td>\n",
       "      <td>52</td>\n",
       "      <td>Hardware</td>\n",
       "      <td>technology/hardware</td>\n",
       "      <td>8054</td>\n",
       "      <td>GB</td>\n",
       "      <td>the United Kingdom</td>\n",
       "      <td>1634240494</td>\n",
       "      <td>Thu, 14 Oct 2021 19:41:34 +0000</td>\n",
       "      <td>...</td>\n",
       "      <td>live</td>\n",
       "      <td>1635346827</td>\n",
       "      <td>1.376580</td>\n",
       "      <td>8BitCADE Level UP - Fun Hackable Game Console ...</td>\n",
       "      <td>https://www.kickstarter.com/projects/jackdaly/...</td>\n",
       "      <td>1.37947</td>\n",
       "      <td>8038.070698</td>\n",
       "      <td>domestic</td>\n",
       "      <td>NaN</td>\n",
       "      <td>NaN</td>\n",
       "    </tr>\n",
       "    <tr>\n",
       "      <th>208</th>\n",
       "      <td>78</td>\n",
       "      <td>A fun hackable handheld gaming console &amp; learn...</td>\n",
       "      <td>52</td>\n",
       "      <td>Hardware</td>\n",
       "      <td>technology/hardware</td>\n",
       "      <td>8054</td>\n",
       "      <td>GB</td>\n",
       "      <td>the United Kingdom</td>\n",
       "      <td>1634240494</td>\n",
       "      <td>Thu, 14 Oct 2021 19:41:34 +0000</td>\n",
       "      <td>...</td>\n",
       "      <td>live</td>\n",
       "      <td>1635346827</td>\n",
       "      <td>1.376580</td>\n",
       "      <td>8BitCADE Level UP - Fun Hackable Game Console ...</td>\n",
       "      <td>https://www.kickstarter.com/projects/jackdaly/...</td>\n",
       "      <td>1.37947</td>\n",
       "      <td>8038.070698</td>\n",
       "      <td>domestic</td>\n",
       "      <td>NaN</td>\n",
       "      <td>NaN</td>\n",
       "    </tr>\n",
       "    <tr>\n",
       "      <th>1818</th>\n",
       "      <td>109</td>\n",
       "      <td>A 78 card tarot deck with a little bit of ever...</td>\n",
       "      <td>22</td>\n",
       "      <td>Illustration</td>\n",
       "      <td>art/illustration</td>\n",
       "      <td>13082</td>\n",
       "      <td>US</td>\n",
       "      <td>the United States</td>\n",
       "      <td>1612369415</td>\n",
       "      <td>Wed, 03 Feb 2021 16:23:35 +0000</td>\n",
       "      <td>...</td>\n",
       "      <td>successful</td>\n",
       "      <td>1618113600</td>\n",
       "      <td>1.000000</td>\n",
       "      <td>The Fools Tarot</td>\n",
       "      <td>https://www.kickstarter.com/projects/nyahouse/...</td>\n",
       "      <td>1.00000</td>\n",
       "      <td>13082.000000</td>\n",
       "      <td>international</td>\n",
       "      <td>NaN</td>\n",
       "      <td>NaN</td>\n",
       "    </tr>\n",
       "    <tr>\n",
       "      <th>...</th>\n",
       "      <td>...</td>\n",
       "      <td>...</td>\n",
       "      <td>...</td>\n",
       "      <td>...</td>\n",
       "      <td>...</td>\n",
       "      <td>...</td>\n",
       "      <td>...</td>\n",
       "      <td>...</td>\n",
       "      <td>...</td>\n",
       "      <td>...</td>\n",
       "      <td>...</td>\n",
       "      <td>...</td>\n",
       "      <td>...</td>\n",
       "      <td>...</td>\n",
       "      <td>...</td>\n",
       "      <td>...</td>\n",
       "      <td>...</td>\n",
       "      <td>...</td>\n",
       "      <td>...</td>\n",
       "      <td>...</td>\n",
       "      <td>...</td>\n",
       "    </tr>\n",
       "    <tr>\n",
       "      <th>135</th>\n",
       "      <td>114</td>\n",
       "      <td>A collection of Lewd Art and Comics about Mons...</td>\n",
       "      <td>22</td>\n",
       "      <td>Illustration</td>\n",
       "      <td>art/illustration</td>\n",
       "      <td>2334</td>\n",
       "      <td>GB</td>\n",
       "      <td>the United Kingdom</td>\n",
       "      <td>1630222933</td>\n",
       "      <td>Sun, 29 Aug 2021 07:42:13 +0000</td>\n",
       "      <td>...</td>\n",
       "      <td>live</td>\n",
       "      <td>1630571977</td>\n",
       "      <td>1.373808</td>\n",
       "      <td>Monster Layer</td>\n",
       "      <td>https://www.kickstarter.com/projects/marcodrag...</td>\n",
       "      <td>1.36850</td>\n",
       "      <td>2343.715663</td>\n",
       "      <td>domestic</td>\n",
       "      <td>NaN</td>\n",
       "      <td>NaN</td>\n",
       "    </tr>\n",
       "    <tr>\n",
       "      <th>50</th>\n",
       "      <td>98</td>\n",
       "      <td>A collection of Lewd Art and Comics about Mons...</td>\n",
       "      <td>22</td>\n",
       "      <td>Illustration</td>\n",
       "      <td>art/illustration</td>\n",
       "      <td>2027</td>\n",
       "      <td>GB</td>\n",
       "      <td>the United Kingdom</td>\n",
       "      <td>1630222933</td>\n",
       "      <td>Sun, 29 Aug 2021 07:42:13 +0000</td>\n",
       "      <td>...</td>\n",
       "      <td>live</td>\n",
       "      <td>1630571977</td>\n",
       "      <td>1.373808</td>\n",
       "      <td>Monster Layer</td>\n",
       "      <td>https://www.kickstarter.com/projects/marcodrag...</td>\n",
       "      <td>1.37947</td>\n",
       "      <td>2019.497084</td>\n",
       "      <td>international</td>\n",
       "      <td>NaN</td>\n",
       "      <td>NaN</td>\n",
       "    </tr>\n",
       "    <tr>\n",
       "      <th>166</th>\n",
       "      <td>113</td>\n",
       "      <td>A collection of Lewd Art and Comics about Mons...</td>\n",
       "      <td>22</td>\n",
       "      <td>Illustration</td>\n",
       "      <td>art/illustration</td>\n",
       "      <td>2292</td>\n",
       "      <td>GB</td>\n",
       "      <td>the United Kingdom</td>\n",
       "      <td>1630222933</td>\n",
       "      <td>Sun, 29 Aug 2021 07:42:13 +0000</td>\n",
       "      <td>...</td>\n",
       "      <td>live</td>\n",
       "      <td>1630571977</td>\n",
       "      <td>1.373808</td>\n",
       "      <td>Monster Layer</td>\n",
       "      <td>https://www.kickstarter.com/projects/marcodrag...</td>\n",
       "      <td>1.36850</td>\n",
       "      <td>2301.127630</td>\n",
       "      <td>domestic</td>\n",
       "      <td>NaN</td>\n",
       "      <td>NaN</td>\n",
       "    </tr>\n",
       "    <tr>\n",
       "      <th>1102</th>\n",
       "      <td>38</td>\n",
       "      <td>An indie pilot about two best friends,Mugshot ...</td>\n",
       "      <td>290</td>\n",
       "      <td>Video Art</td>\n",
       "      <td>art/video art</td>\n",
       "      <td>1537</td>\n",
       "      <td>US</td>\n",
       "      <td>the United States</td>\n",
       "      <td>1622493756</td>\n",
       "      <td>Mon, 31 May 2021 20:42:36 +0000</td>\n",
       "      <td>...</td>\n",
       "      <td>successful</td>\n",
       "      <td>1628103600</td>\n",
       "      <td>1.000000</td>\n",
       "      <td>Mugshot&amp;Pollen (Animated Pilot)</td>\n",
       "      <td>https://www.kickstarter.com/projects/mnpcartoo...</td>\n",
       "      <td>1.00000</td>\n",
       "      <td>1537.000000</td>\n",
       "      <td>domestic</td>\n",
       "      <td>NaN</td>\n",
       "      <td>NaN</td>\n",
       "    </tr>\n",
       "    <tr>\n",
       "      <th>888</th>\n",
       "      <td>38</td>\n",
       "      <td>An indie pilot about two best friends,Mugshot ...</td>\n",
       "      <td>290</td>\n",
       "      <td>Video Art</td>\n",
       "      <td>art/video art</td>\n",
       "      <td>1537</td>\n",
       "      <td>US</td>\n",
       "      <td>the United States</td>\n",
       "      <td>1622493756</td>\n",
       "      <td>Mon, 31 May 2021 20:42:36 +0000</td>\n",
       "      <td>...</td>\n",
       "      <td>successful</td>\n",
       "      <td>1628103600</td>\n",
       "      <td>1.000000</td>\n",
       "      <td>Mugshot&amp;Pollen (Animated Pilot)</td>\n",
       "      <td>https://www.kickstarter.com/projects/mnpcartoo...</td>\n",
       "      <td>1.00000</td>\n",
       "      <td>1537.000000</td>\n",
       "      <td>domestic</td>\n",
       "      <td>NaN</td>\n",
       "      <td>NaN</td>\n",
       "    </tr>\n",
       "  </tbody>\n",
       "</table>\n",
       "<p>12805 rows × 47 columns</p>\n",
       "</div>"
      ],
      "text/plain": [
       "      backers_count                                              blurb  \\\n",
       "1976           7798  Reuse and recycle plastic bottles of all kinds...   \n",
       "1976           7798  Reuse and recycle plastic bottles of all kinds...   \n",
       "213              78  A fun hackable handheld gaming console & learn...   \n",
       "208              78  A fun hackable handheld gaming console & learn...   \n",
       "1818            109  A 78 card tarot deck with a little bit of ever...   \n",
       "...             ...                                                ...   \n",
       "135             114  A collection of Lewd Art and Comics about Mons...   \n",
       "50               98  A collection of Lewd Art and Comics about Mons...   \n",
       "166             113  A collection of Lewd Art and Comics about Mons...   \n",
       "1102             38  An indie pilot about two best friends,Mugshot ...   \n",
       "888              38  An indie pilot about two best friends,Mugshot ...   \n",
       "\n",
       "      categoryId    categoryName           categorySlug  \\\n",
       "1976          28  Product Design  design/product design   \n",
       "1976          28  Product Design  design/product design   \n",
       "213           52        Hardware    technology/hardware   \n",
       "208           52        Hardware    technology/hardware   \n",
       "1818          22    Illustration       art/illustration   \n",
       "...          ...             ...                    ...   \n",
       "135           22    Illustration       art/illustration   \n",
       "50            22    Illustration       art/illustration   \n",
       "166           22    Illustration       art/illustration   \n",
       "1102         290       Video Art          art/video art   \n",
       "888          290       Video Art          art/video art   \n",
       "\n",
       "      converted_pledged_amount country country_displayable_name  created_at  \\\n",
       "1976                    400276      FR                   France  1454599119   \n",
       "1976                    400276      FR                   France  1454599119   \n",
       "213                       8054      GB       the United Kingdom  1634240494   \n",
       "208                       8054      GB       the United Kingdom  1634240494   \n",
       "1818                     13082      US        the United States  1612369415   \n",
       "...                        ...     ...                      ...         ...   \n",
       "135                       2334      GB       the United Kingdom  1630222933   \n",
       "50                        2027      GB       the United Kingdom  1630222933   \n",
       "166                       2292      GB       the United Kingdom  1630222933   \n",
       "1102                      1537      US        the United States  1622493756   \n",
       "888                       1537      US        the United States  1622493756   \n",
       "\n",
       "                 created_at_formatted  ...       state  state_changed_at  \\\n",
       "1976  Thu, 04 Feb 2016 15:18:39 +0000  ...  successful        1461409167   \n",
       "1976  Thu, 04 Feb 2016 15:18:39 +0000  ...  successful        1461409167   \n",
       "213   Thu, 14 Oct 2021 19:41:34 +0000  ...        live        1635346827   \n",
       "208   Thu, 14 Oct 2021 19:41:34 +0000  ...        live        1635346827   \n",
       "1818  Wed, 03 Feb 2021 16:23:35 +0000  ...  successful        1618113600   \n",
       "...                               ...  ...         ...               ...   \n",
       "135   Sun, 29 Aug 2021 07:42:13 +0000  ...        live        1630571977   \n",
       "50    Sun, 29 Aug 2021 07:42:13 +0000  ...        live        1630571977   \n",
       "166   Sun, 29 Aug 2021 07:42:13 +0000  ...        live        1630571977   \n",
       "1102  Mon, 31 May 2021 20:42:36 +0000  ...  successful        1628103600   \n",
       "888   Mon, 31 May 2021 20:42:36 +0000  ...  successful        1628103600   \n",
       "\n",
       "     static_usd_rate                                              title  \\\n",
       "1976        1.111204                              Plastic Bottle Cutter   \n",
       "1976        1.111204                              Plastic Bottle Cutter   \n",
       "213         1.376580  8BitCADE Level UP - Fun Hackable Game Console ...   \n",
       "208         1.376580  8BitCADE Level UP - Fun Hackable Game Console ...   \n",
       "1818        1.000000                                    The Fools Tarot   \n",
       "...              ...                                                ...   \n",
       "135         1.373808                                      Monster Layer   \n",
       "50          1.373808                                      Monster Layer   \n",
       "166         1.373808                                      Monster Layer   \n",
       "1102        1.000000                    Mugshot&Pollen (Animated Pilot)   \n",
       "888         1.000000                    Mugshot&Pollen (Animated Pilot)   \n",
       "\n",
       "                                                    url usd_exchange_rate  \\\n",
       "1976  https://www.kickstarter.com/projects/910418035...           1.12246   \n",
       "1976  https://www.kickstarter.com/projects/910418035...           1.12246   \n",
       "213   https://www.kickstarter.com/projects/jackdaly/...           1.37947   \n",
       "208   https://www.kickstarter.com/projects/jackdaly/...           1.37947   \n",
       "1818  https://www.kickstarter.com/projects/nyahouse/...           1.00000   \n",
       "...                                                 ...               ...   \n",
       "135   https://www.kickstarter.com/projects/marcodrag...           1.36850   \n",
       "50    https://www.kickstarter.com/projects/marcodrag...           1.37947   \n",
       "166   https://www.kickstarter.com/projects/marcodrag...           1.36850   \n",
       "1102  https://www.kickstarter.com/projects/mnpcartoo...           1.00000   \n",
       "888   https://www.kickstarter.com/projects/mnpcartoo...           1.00000   \n",
       "\n",
       "        usd_pledged       usd_type  is_backing is_starred  \n",
       "1976  396262.032441       domestic         NaN        NaN  \n",
       "1976  396262.032441  international         NaN        NaN  \n",
       "213     8038.070698       domestic         NaN        NaN  \n",
       "208     8038.070698       domestic         NaN        NaN  \n",
       "1818   13082.000000  international         NaN        NaN  \n",
       "...             ...            ...         ...        ...  \n",
       "135     2343.715663       domestic         NaN        NaN  \n",
       "50      2019.497084  international         NaN        NaN  \n",
       "166     2301.127630       domestic         NaN        NaN  \n",
       "1102    1537.000000       domestic         NaN        NaN  \n",
       "888     1537.000000       domestic         NaN        NaN  \n",
       "\n",
       "[12805 rows x 47 columns]"
      ]
     },
     "execution_count": 78,
     "metadata": {},
     "output_type": "execute_result"
    }
   ],
   "source": [
    "df[df.duplicated(subset=['id'],keep=False)].sort_values(by=['id'])"
   ]
  },
  {
   "cell_type": "markdown",
   "metadata": {},
   "source": [
    "#### drop double listing of projects"
   ]
  },
  {
   "cell_type": "code",
   "execution_count": 79,
   "metadata": {},
   "outputs": [],
   "source": [
    "df = (df.sort_values(by=['id', 'pubDate'], ascending=False).drop_duplicates(subset='id', keep= 'first').reset_index(drop=True))"
   ]
  },
  {
   "cell_type": "markdown",
   "metadata": {},
   "source": [
    "#### set id as index and review shape after drop"
   ]
  },
  {
   "cell_type": "code",
   "execution_count": 80,
   "metadata": {},
   "outputs": [],
   "source": [
    "df = df.set_index('id')"
   ]
  },
  {
   "cell_type": "code",
   "execution_count": 81,
   "metadata": {},
   "outputs": [
    {
     "data": {
      "text/plain": [
       "(17620, 46)"
      ]
     },
     "execution_count": 81,
     "metadata": {},
     "output_type": "execute_result"
    }
   ],
   "source": [
    "df.shape"
   ]
  },
  {
   "cell_type": "markdown",
   "metadata": {},
   "source": [
    "### drop columns"
   ]
  },
  {
   "cell_type": "code",
   "execution_count": 82,
   "metadata": {},
   "outputs": [],
   "source": [
    "to_drop = ['blurb', \n",
    "           'categoryId', \n",
    "           'country_displayable_name', \n",
    "           'creatorAvatar', \n",
    "           'creatorId', \n",
    "           'creatorName', \n",
    "           'creatorUrl', \n",
    "           'currency_symbol', \n",
    "           'link', \n",
    "           'locationId', \n",
    "           'slug', \n",
    "           'title', \n",
    "           'url']"
   ]
  },
  {
   "cell_type": "code",
   "execution_count": 83,
   "metadata": {},
   "outputs": [],
   "source": [
    "df = df.drop(to_drop, axis=1)"
   ]
  },
  {
   "cell_type": "code",
   "execution_count": 84,
   "metadata": {},
   "outputs": [
    {
     "data": {
      "text/plain": [
       "(17620, 33)"
      ]
     },
     "execution_count": 84,
     "metadata": {},
     "output_type": "execute_result"
    }
   ],
   "source": [
    "df.shape"
   ]
  },
  {
   "cell_type": "code",
   "execution_count": 85,
   "metadata": {},
   "outputs": [
    {
     "data": {
      "text/plain": [
       "Index(['backers_count', 'categoryName', 'categorySlug',\n",
       "       'converted_pledged_amount', 'country', 'created_at',\n",
       "       'created_at_formatted', 'currency', 'currency_trailing_code',\n",
       "       'current_currency', 'deadline', 'description', 'disable_communication',\n",
       "       'fx_rate', 'goal', 'is_starrable', 'launched_at',\n",
       "       'launched_at_formatted', 'locationName', 'name', 'photo', 'pledged',\n",
       "       'pubDate', 'spotlight', 'staff_pick', 'state', 'state_changed_at',\n",
       "       'static_usd_rate', 'usd_exchange_rate', 'usd_pledged', 'usd_type',\n",
       "       'is_backing', 'is_starred'],\n",
       "      dtype='object')"
      ]
     },
     "execution_count": 85,
     "metadata": {},
     "output_type": "execute_result"
    }
   ],
   "source": [
    "df.columns"
   ]
  },
  {
   "cell_type": "markdown",
   "metadata": {},
   "source": [
    "### review dtypes"
   ]
  },
  {
   "cell_type": "code",
   "execution_count": 87,
   "metadata": {},
   "outputs": [
    {
     "data": {
      "text/plain": [
       "backers_count                 int64\n",
       "categoryName                 object\n",
       "categorySlug                 object\n",
       "converted_pledged_amount      int64\n",
       "country                      object\n",
       "created_at                    int64\n",
       "created_at_formatted         object\n",
       "currency                     object\n",
       "currency_trailing_code         bool\n",
       "current_currency             object\n",
       "deadline                      int64\n",
       "description                  object\n",
       "disable_communication          bool\n",
       "fx_rate                     float64\n",
       "goal                        float64\n",
       "is_starrable                   bool\n",
       "launched_at                   int64\n",
       "launched_at_formatted        object\n",
       "locationName                 object\n",
       "name                         object\n",
       "photo                       float64\n",
       "pledged                     float64\n",
       "pubDate                      object\n",
       "spotlight                      bool\n",
       "staff_pick                     bool\n",
       "state                        object\n",
       "state_changed_at              int64\n",
       "static_usd_rate             float64\n",
       "usd_exchange_rate           float64\n",
       "usd_pledged                 float64\n",
       "usd_type                     object\n",
       "is_backing                   object\n",
       "is_starred                   object\n",
       "dtype: object"
      ]
     },
     "execution_count": 87,
     "metadata": {},
     "output_type": "execute_result"
    }
   ],
   "source": [
    "### Review DTypes\n",
    "\n",
    "df.dtypes\n",
    "\n",
    "# boolean columns death_event, smoking, sex, high_blood_pressure, diabetes, anaemia\n",
    "\n",
    "#data = data.astype({'death_event':'boolean', 'sex':'boolean', 'smoking':'boolean', 'high_blood_pressure':'boolean','diabetes':'boolean','anaemia':'boolean','age':'int64'})\n",
    "\n",
    "df.dtypes"
   ]
  },
  {
   "cell_type": "markdown",
   "metadata": {},
   "source": [
    "to review"
   ]
  },
  {
   "cell_type": "markdown",
   "metadata": {},
   "source": [
    "### Null Values"
   ]
  },
  {
   "cell_type": "code",
   "execution_count": 89,
   "metadata": {},
   "outputs": [
    {
     "data": {
      "text/plain": [
       "backers_count               False\n",
       "categoryName                False\n",
       "categorySlug                False\n",
       "converted_pledged_amount    False\n",
       "country                     False\n",
       "created_at                  False\n",
       "created_at_formatted        False\n",
       "currency                    False\n",
       "currency_trailing_code      False\n",
       "current_currency            False\n",
       "deadline                    False\n",
       "description                  True\n",
       "disable_communication       False\n",
       "fx_rate                     False\n",
       "goal                        False\n",
       "is_starrable                False\n",
       "launched_at                 False\n",
       "launched_at_formatted       False\n",
       "locationName                False\n",
       "name                        False\n",
       "photo                        True\n",
       "pledged                     False\n",
       "pubDate                     False\n",
       "spotlight                   False\n",
       "staff_pick                  False\n",
       "state                       False\n",
       "state_changed_at            False\n",
       "static_usd_rate             False\n",
       "usd_exchange_rate           False\n",
       "usd_pledged                 False\n",
       "usd_type                     True\n",
       "is_backing                   True\n",
       "is_starred                   True\n",
       "dtype: bool"
      ]
     },
     "execution_count": 89,
     "metadata": {},
     "output_type": "execute_result"
    }
   ],
   "source": [
    "df.isna().any()"
   ]
  },
  {
   "cell_type": "markdown",
   "metadata": {},
   "source": [
    "No null values present in this dataset"
   ]
  },
  {
   "cell_type": "markdown",
   "metadata": {},
   "source": [
    "### Data Values"
   ]
  },
  {
   "cell_type": "code",
   "execution_count": 90,
   "metadata": {},
   "outputs": [
    {
     "name": "stdout",
     "output_type": "stream",
     "text": [
      "3199     1\n",
      "7713     1\n",
      "44949    1\n",
      "81567    1\n",
      "83193    1\n",
      "78471    1\n",
      "88887    1\n",
      "27168    1\n",
      "68929    1\n",
      "62642    1\n",
      "66673    1\n",
      "19264    1\n",
      "Name: backers_count, dtype: int64 \n",
      "\n",
      "Expandable capacity (3.6-25kWh) | Power almost anything (3.6-7.2kW) | Home battery ecosystem                                               1\n",
      "A revolutionary table that evolves over a lifetime. Innovative, yet affordable, with magnetic accessories. Crafted without compromise.     1\n",
      "A full-featured tripod in a truly portable form.                                                                                           1\n",
      "Two affordable, heart rate-enabled smartwatches and a hackable, 3G wearable for phone-free running with GPS, music, and Amazon Alexa.      1\n",
      "Pebble is a customizable watch. Download new watchfaces, use sports and fitness apps, get notifications from your phone.                   1\n",
      "The COOLEST is a portable party disguised as a cooler, bringing blended drinks, music and fun to any outdoor occasion.                     1\n",
      "An officially licensed tabletop roleplaying game set in the world of Avatar: The Last Airbender and The Legend of Korra                    1\n",
      "A cooperative nightmare horror game experience. Hunt intelligent monsters and develop your settlement through a self-running campaign.     1\n",
      "Critical Role's The Legend of Vox Machina reunites your favorite heroes for a professional-quality animated special!                       1\n",
      "Euro-inspired dungeon crawling sequel to the 2017 smash-hit Gloomhaven                                                                     1\n",
      "Color e-paper smartwatch with up to 7 days of battery and a new timeline interface that highlights what's important in your day.           1\n",
      "TRAVEL JACKET with built-in Neck Pillow, Eye Mask, Gloves, Earphone Holders, Drink Pocket, Tech Pockets of all sizes! Comes in 4 Styles    1\n",
      "Name: blurb, dtype: int64 \n",
      "\n",
      "28    6\n",
      "34    4\n",
      "29    1\n",
      "52    1\n",
      "Name: categoryId, dtype: int64 \n",
      "\n",
      "Product Design    6\n",
      "Tabletop Games    4\n",
      "Hardware          1\n",
      "Animation         1\n",
      "Name: categoryName, dtype: int64 \n",
      "\n",
      "design/product design     6\n",
      "games/tabletop games      4\n",
      "technology/hardware       1\n",
      "film & video/animation    1\n",
      "Name: categorySlug, dtype: int64 \n",
      "\n",
      "9192055     1\n",
      "10266845    1\n",
      "12143435    1\n",
      "20338986    1\n",
      "11385449    1\n",
      "12969608    1\n",
      "13285226    1\n",
      "9535317     1\n",
      "12179651    1\n",
      "12779843    1\n",
      "12393139    1\n",
      "8808136     1\n",
      "Name: converted_pledged_amount, dtype: int64 \n",
      "\n",
      "US    12\n",
      "Name: country, dtype: int64 \n",
      "\n",
      "the United States    12\n",
      "Name: country_displayable_name, dtype: int64 \n",
      "\n",
      "1592862564    1\n",
      "1556224168    1\n",
      "1478708204    1\n",
      "1549660952    1\n",
      "1625053977    1\n",
      "1423542328    1\n",
      "1332451302    1\n",
      "1581299604    1\n",
      "1433223299    1\n",
      "1382478674    1\n",
      "1623164955    1\n",
      "1463341264    1\n",
      "Name: created_at, dtype: int64 \n",
      "\n",
      "Mon, 22 Jun 2020 21:49:24 +0000    1\n",
      "Thu, 25 Apr 2019 20:29:28 +0000    1\n",
      "Wed, 30 Jun 2021 11:52:57 +0000    1\n",
      "Tue, 10 Feb 2015 04:25:28 +0000    1\n",
      "Thu, 22 Mar 2012 21:21:42 +0000    1\n",
      "Tue, 08 Jun 2021 15:09:15 +0000    1\n",
      "Sun, 15 May 2016 19:41:04 +0000    1\n",
      "Tue, 02 Jun 2015 05:34:59 +0000    1\n",
      "Tue, 22 Oct 2013 21:51:14 +0000    1\n",
      "Mon, 10 Feb 2020 01:53:24 +0000    1\n",
      "Wed, 09 Nov 2016 16:16:44 +0000    1\n",
      "Fri, 08 Feb 2019 21:22:32 +0000    1\n",
      "Name: created_at_formatted, dtype: int64 \n",
      "\n",
      "https://ksr-ugc.imgix.net/assets/005/919/900/6e98b1494ccadb7832308a0969af02d7_original.jpg?ixlib=rb-4.0.2&w=160&h=160&fit=crop&v=1481834108&auto=format&frame=1&q=92&s=452deda57cd27f7ca217c9e4948cab74     3\n",
      "https://ksr-ugc.imgix.net/assets/024/180/816/469a660f9552681e9c75621113877dcf_original.png?ixlib=rb-4.0.2&w=160&h=160&fit=crop&v=1550869205&auto=format&frame=1&q=92&s=649fe5a010f1f10a4d19551b763fb52a     1\n",
      "https://ksr-ugc.imgix.net/assets/005/762/612/31b9a87d048b59cb4e490484059f35c7_original.jpeg?ixlib=rb-4.0.2&w=160&h=160&fit=crop&v=1461084012&auto=format&frame=1&q=92&s=cf045b1b610bed6ce8efd82ae070a4ff    1\n",
      "https://ksr-ugc.imgix.net/assets/015/493/690/378a13ff108142a2bd7d03346d1bcebe_original.png?ixlib=rb-4.0.2&w=160&h=160&fit=crop&v=1565892976&auto=format&frame=1&q=92&s=b056352880ca19fd65aaa3bf5f1afa76     1\n",
      "https://ksr-ugc.imgix.net/assets/006/023/679/e2d8ec5dea004fd1f2bf17c7bb62d525_original.png?ixlib=rb-4.0.2&w=160&h=160&fit=crop&v=1510175320&auto=format&frame=1&q=92&s=dfa6dcabfac3c71bbca8199a18f3f3de     1\n",
      "https://ksr-ugc.imgix.net/assets/007/983/994/1cb13b3a59f8d2eee3600900a6b2273b_original.png?ixlib=rb-4.0.2&w=160&h=160&fit=crop&v=1461495322&auto=format&frame=1&q=92&s=3fed06965369aa8a5f0500227f075a5e     1\n",
      "https://ksr-ugc.imgix.net/assets/006/167/734/d6fc9742e29e595f324605ddacb64146_original.jpg?ixlib=rb-4.0.2&w=160&h=160&fit=crop&v=1461370957&auto=format&frame=1&q=92&s=cd6fd961137933fcd54429b3cfb62b85     1\n",
      "https://ksr-ugc.imgix.net/assets/008/722/457/f2d4fbb7e4f7c0db57ef26c873fd7343_original.png?ixlib=rb-4.0.2&w=160&h=160&fit=crop&v=1552988200&auto=format&frame=1&q=92&s=0517aa11823bde408b092ef4ba94ac89     1\n",
      "https://ksr-ugc.imgix.net/assets/007/137/808/5ba3e2b29cdb897cdd709662875042fe_original.jpg?ixlib=rb-4.0.2&w=160&h=160&fit=crop&v=1585499202&auto=format&frame=1&q=92&s=246e58be8592a7b8f10bdc88f444b2ba     1\n",
      "https://ksr-ugc.imgix.net/assets/026/195/277/0a886e3c4c6ffb9534cb815536ae5782_original.jpg?ixlib=rb-4.0.2&w=160&h=160&fit=crop&v=1566282141&auto=format&frame=1&q=92&s=508b72457e1bd2e8ac7a217a353e2843     1\n",
      "Name: creatorAvatar, dtype: int64 \n",
      "\n",
      "597507018     3\n",
      "597538543     1\n",
      "1007835190    1\n",
      "1998547133    1\n",
      "1436444454    1\n",
      "97103764      1\n",
      "203090294     1\n",
      "2121023188    1\n",
      "1350948450    1\n",
      "754081504     1\n",
      "Name: creatorId, dtype: int64 \n",
      "\n",
      "Pebble Technology    3\n",
      "Wyrmwood Gaming      1\n",
      "Critical Role        1\n",
      "Peak Design          1\n",
      "EcoFlow              1\n",
      "Magpie Games         1\n",
      "Isaac Childres       1\n",
      "Ryan Grepper         1\n",
      "BAUBAX LLC           1\n",
      "Kingdom Death        1\n",
      "Name: creatorName, dtype: int64 \n",
      "\n",
      "https://www.kickstarter.com/profile/getpebble       3\n",
      "https://www.kickstarter.com/profile/poots           1\n",
      "https://www.kickstarter.com/profile/ryangrepper     1\n",
      "https://www.kickstarter.com/profile/criticalrole    1\n",
      "https://www.kickstarter.com/profile/wyrmwood        1\n",
      "https://www.kickstarter.com/profile/frosthaven      1\n",
      "https://www.kickstarter.com/profile/magpiegames     1\n",
      "https://www.kickstarter.com/profile/peak-design     1\n",
      "https://www.kickstarter.com/profile/ecoflow         1\n",
      "https://www.kickstarter.com/profile/baubax          1\n",
      "Name: creatorUrl, dtype: int64 \n",
      "\n",
      "USD    12\n",
      "Name: currency, dtype: int64 \n",
      "\n",
      "$    12\n",
      "Name: currency_symbol, dtype: int64 \n",
      "\n",
      "True    12\n",
      "Name: currency_trailing_code, dtype: int64 \n",
      "\n",
      "USD    12\n",
      "Name: current_currency, dtype: int64 \n",
      "\n",
      "1483830000    1\n",
      "1337396400    1\n",
      "1588366800    1\n",
      "1441299600    1\n",
      "1630625400    1\n",
      "1631540391    1\n",
      "1467262800    1\n",
      "1602302340    1\n",
      "1555657140    1\n",
      "1409360400    1\n",
      "1563494400    1\n",
      "1427508000    1\n",
      "Name: deadline, dtype: int64 \n",
      "\n",
      "Expandable capacity (3.6-25kWh) | Power almost anything (3.6-7.2kW) | Home battery ecosystem                                               1\n",
      "A revolutionary table that evolves over a lifetime. Innovative, yet affordable, with magnetic accessories. Crafted without compromise.     1\n",
      "A full-featured tripod in a truly portable form.                                                                                           1\n",
      "Two affordable, heart rate-enabled smartwatches and a hackable, 3G wearable for phone-free running with GPS, music, and Amazon Alexa.      1\n",
      "Pebble is a customizable watch. Download new watchfaces, use sports and fitness apps, get notifications from your phone.                   1\n",
      "The COOLEST is a portable party disguised as a cooler, bringing blended drinks, music and fun to any outdoor occasion.                     1\n",
      "An officially licensed tabletop roleplaying game set in the world of Avatar: The Last Airbender and The Legend of Korra                    1\n",
      "A cooperative nightmare horror game experience. Hunt intelligent monsters and develop your settlement through a self-running campaign.     1\n",
      "Critical Role's The Legend of Vox Machina reunites your favorite heroes for a professional-quality animated special!                       1\n",
      "Euro-inspired dungeon crawling sequel to the 2017 smash-hit Gloomhaven                                                                     1\n",
      "Color e-paper smartwatch with up to 7 days of battery and a new timeline interface that highlights what's important in your day.           1\n",
      "TRAVEL JACKET with built-in Neck Pillow, Eye Mask, Gloves, Earphone Holders, Drink Pocket, Tech Pockets of all sizes! Comes in 4 Styles    1\n",
      "Name: description, dtype: int64 \n",
      "\n",
      "False    12\n",
      "Name: disable_communication, dtype: int64 \n",
      "\n",
      "1    12\n",
      "Name: fx_rate, dtype: int64 \n",
      "\n",
      "100000     3\n",
      "500000     3\n",
      "50000      2\n",
      "1000000    2\n",
      "20000      1\n",
      "750000     1\n",
      "Name: goal, dtype: int64 \n",
      "\n",
      "1289129165    1\n",
      "597041739     1\n",
      "2103598555    1\n",
      "374744378     1\n",
      "506924864     1\n",
      "545070200     1\n",
      "1198848775    1\n",
      "1799979574    1\n",
      "565687737     1\n",
      "645343012     1\n",
      "1010797520    1\n",
      "342886736     1\n",
      "Name: id, dtype: int64 \n",
      "\n",
      "False    12\n",
      "Name: is_starrable, dtype: int64 \n",
      "\n",
      "1585667038    1\n",
      "1404807277    1\n",
      "1334120344    1\n",
      "1424789082    1\n",
      "1597168462    1\n",
      "1551722069    1\n",
      "1626356391    1\n",
      "1480050101    1\n",
      "1436269954    1\n",
      "1627998936    1\n",
      "1558447202    1\n",
      "1464097792    1\n",
      "Name: launched_at, dtype: int64 \n",
      "\n",
      "Wed, 11 Apr 2012 04:59:04 +0000    1\n",
      "Tue, 24 Feb 2015 14:44:42 +0000    1\n",
      "Tue, 03 Aug 2021 13:55:36 +0000    1\n",
      "Tue, 07 Jul 2015 11:52:34 +0000    1\n",
      "Tue, 08 Jul 2014 08:14:37 +0000    1\n",
      "Tue, 11 Aug 2020 17:54:22 +0000    1\n",
      "Fri, 25 Nov 2016 05:01:41 +0000    1\n",
      "Tue, 24 May 2016 13:49:52 +0000    1\n",
      "Mon, 04 Mar 2019 17:54:29 +0000    1\n",
      "Tue, 31 Mar 2020 15:03:58 +0000    1\n",
      "Thu, 15 Jul 2021 13:39:51 +0000    1\n",
      "Tue, 21 May 2019 14:00:02 +0000    1\n",
      "Name: launched_at_formatted, dtype: int64 \n",
      "\n",
      "https://www.kickstarter.com/projects/peak-design/travel-tripod-by-peak-design?ref=discovery_most_funded                           1\n",
      "https://www.kickstarter.com/projects/wyrmwood/modular-gaming-table?ref=discovery_most_funded                                      1\n",
      "https://www.kickstarter.com/projects/getpebble/pebble-time-awesome-smartwatch-no-compromises?ref=discovery_most_funded            1\n",
      "https://www.kickstarter.com/projects/getpebble/pebble-2-time-2-and-core-an-entirely-new-3g-ultra?ref=discovery_most_funded        1\n",
      "https://www.kickstarter.com/projects/criticalrole/critical-role-the-legend-of-vox-machina-animated-s?ref=discovery_most_funded    1\n",
      "https://www.kickstarter.com/projects/ecoflow/ecoflow-delta-pro?ref=discovery_most_funded                                          1\n",
      "https://www.kickstarter.com/projects/baubax/the-worlds-best-travel-jacket-with-15-features-bau?ref=discovery_most_funded          1\n",
      "https://www.kickstarter.com/projects/ryangrepper/coolest-cooler-21st-century-cooler-thats-actually?ref=discovery_most_funded      1\n",
      "https://www.kickstarter.com/projects/poots/kingdom-death-monster-15?ref=discovery_most_funded                                     1\n",
      "https://www.kickstarter.com/projects/magpiegames/avatar-legends-the-roleplaying-game?ref=discovery_most_funded                    1\n",
      "https://www.kickstarter.com/projects/frosthaven/frosthaven?ref=discovery_most_funded                                              1\n",
      "https://www.kickstarter.com/projects/getpebble/pebble-e-paper-watch-for-iphone-and-android?ref=discovery_most_funded              1\n",
      "Name: link, dtype: int64 \n",
      "\n",
      "2442047    2\n",
      "2467861    2\n",
      "2479714    1\n",
      "2504265    1\n",
      "2411081    1\n",
      "2352824    1\n",
      "2475687    1\n",
      "2379574    1\n",
      "2487956    1\n",
      "2434562    1\n",
      "Name: locationId, dtype: int64 \n",
      "\n",
      "Palo Alto, CA           2\n",
      "Los Angeles, CA         2\n",
      "Albuquerque, NM         1\n",
      "Glendale, Queens, NY    1\n",
      "Chicago, IL             1\n",
      "Taunton, MA             1\n",
      "Redwood City, CA        1\n",
      "Portland, OR            1\n",
      "San Francisco, CA       1\n",
      "Lafayette, IN           1\n",
      "Name: locationName, dtype: int64 \n",
      "\n",
      "Travel Tripod by Peak Design                                  1\n",
      "Frosthaven                                                    1\n",
      "The World's Best TRAVEL JACKET with 15 Features || BAUBAX     1\n",
      "EcoFlow DELTA Pro: The Portable Home Battery                  1\n",
      "COOLEST COOLER: 21st Century Cooler that's Actually Cooler    1\n",
      "Pebble Time - Awesome Smartwatch, No Compromises              1\n",
      "Critical Role: The Legend of Vox Machina Animated Special     1\n",
      "Kingdom Death: Monster 1.5                                    1\n",
      "Pebble 2, Time 2 + All-New Pebble Core                        1\n",
      "The Wyrmwood Modular Gaming Table: Coffee & Dining Models     1\n",
      "Pebble: E-Paper Watch for iPhone and Android                  1\n",
      "Avatar Legends: The Roleplaying Game                          1\n",
      "Name: name, dtype: int64 \n",
      "\n",
      "Series([], Name: photo, dtype: int64) \n",
      "\n",
      "12779843.49    1\n",
      "13285226.36    1\n",
      "9192055.66     1\n",
      "20338986.27    1\n",
      "12393139.69    1\n",
      "8808136.00     1\n",
      "12969608.00    1\n",
      "9535317.31     1\n",
      "12179651.05    1\n",
      "10266845.74    1\n",
      "12143435.67    1\n",
      "11385449.05    1\n",
      "Name: pledged, dtype: int64 \n",
      "\n",
      "Wed, 11 Apr 2012 04:59:04 +0000    1\n",
      "Tue, 24 Feb 2015 14:44:42 +0000    1\n",
      "Tue, 03 Aug 2021 13:55:36 +0000    1\n",
      "Tue, 07 Jul 2015 11:52:34 +0000    1\n",
      "Tue, 08 Jul 2014 08:14:37 +0000    1\n",
      "Tue, 11 Aug 2020 17:54:22 +0000    1\n",
      "Fri, 25 Nov 2016 05:01:41 +0000    1\n",
      "Tue, 24 May 2016 13:49:52 +0000    1\n",
      "Mon, 04 Mar 2019 17:54:29 +0000    1\n",
      "Tue, 31 Mar 2020 15:03:58 +0000    1\n",
      "Thu, 15 Jul 2021 13:39:51 +0000    1\n",
      "Tue, 21 May 2019 14:00:02 +0000    1\n",
      "Name: pubDate, dtype: int64 \n",
      "\n",
      "ecoflow-delta-pro                                     1\n",
      "kingdom-death-monster-15                              1\n",
      "pebble-2-time-2-and-core-an-entirely-new-3g-ultra     1\n",
      "frosthaven                                            1\n",
      "pebble-e-paper-watch-for-iphone-and-android           1\n",
      "critical-role-the-legend-of-vox-machina-animated-s    1\n",
      "modular-gaming-table                                  1\n",
      "the-worlds-best-travel-jacket-with-15-features-bau    1\n",
      "travel-tripod-by-peak-design                          1\n",
      "avatar-legends-the-roleplaying-game                   1\n",
      "pebble-time-awesome-smartwatch-no-compromises         1\n",
      "coolest-cooler-21st-century-cooler-thats-actually     1\n",
      "Name: slug, dtype: int64 \n",
      "\n",
      "True    12\n",
      "Name: spotlight, dtype: int64 \n",
      "\n",
      "True     11\n",
      "False     1\n",
      "Name: staff_pick, dtype: int64 \n",
      "\n",
      "successful    12\n",
      "Name: state, dtype: int64 \n",
      "\n",
      "1427508015    1\n",
      "1467262800    1\n",
      "1409360410    1\n",
      "1602302340    1\n",
      "1630625400    1\n",
      "1631540391    1\n",
      "1441299615    1\n",
      "1337396419    1\n",
      "1555657140    1\n",
      "1483830003    1\n",
      "1563494400    1\n",
      "1588366800    1\n",
      "Name: state_changed_at, dtype: int64 \n",
      "\n",
      "1    12\n",
      "Name: static_usd_rate, dtype: int64 \n",
      "\n",
      "Travel Tripod by Peak Design                                  1\n",
      "Frosthaven                                                    1\n",
      "The World's Best TRAVEL JACKET with 15 Features || BAUBAX     1\n",
      "EcoFlow DELTA Pro: The Portable Home Battery                  1\n",
      "COOLEST COOLER: 21st Century Cooler that's Actually Cooler    1\n",
      "Pebble Time - Awesome Smartwatch, No Compromises              1\n",
      "Critical Role: The Legend of Vox Machina Animated Special     1\n",
      "Kingdom Death: Monster 1.5                                    1\n",
      "Pebble 2, Time 2 + All-New Pebble Core                        1\n",
      "The Wyrmwood Modular Gaming Table: Coffee & Dining Models     1\n",
      "Pebble: E-Paper Watch for iPhone and Android                  1\n",
      "Avatar Legends: The Roleplaying Game                          1\n",
      "Name: title, dtype: int64 \n",
      "\n",
      "https://www.kickstarter.com/projects/peak-design/travel-tripod-by-peak-design?ref=discovery_most_funded                           1\n",
      "https://www.kickstarter.com/projects/wyrmwood/modular-gaming-table?ref=discovery_most_funded                                      1\n",
      "https://www.kickstarter.com/projects/getpebble/pebble-time-awesome-smartwatch-no-compromises?ref=discovery_most_funded            1\n",
      "https://www.kickstarter.com/projects/getpebble/pebble-2-time-2-and-core-an-entirely-new-3g-ultra?ref=discovery_most_funded        1\n",
      "https://www.kickstarter.com/projects/criticalrole/critical-role-the-legend-of-vox-machina-animated-s?ref=discovery_most_funded    1\n",
      "https://www.kickstarter.com/projects/ecoflow/ecoflow-delta-pro?ref=discovery_most_funded                                          1\n",
      "https://www.kickstarter.com/projects/baubax/the-worlds-best-travel-jacket-with-15-features-bau?ref=discovery_most_funded          1\n",
      "https://www.kickstarter.com/projects/ryangrepper/coolest-cooler-21st-century-cooler-thats-actually?ref=discovery_most_funded      1\n",
      "https://www.kickstarter.com/projects/poots/kingdom-death-monster-15?ref=discovery_most_funded                                     1\n",
      "https://www.kickstarter.com/projects/magpiegames/avatar-legends-the-roleplaying-game?ref=discovery_most_funded                    1\n",
      "https://www.kickstarter.com/projects/frosthaven/frosthaven?ref=discovery_most_funded                                              1\n",
      "https://www.kickstarter.com/projects/getpebble/pebble-e-paper-watch-for-iphone-and-android?ref=discovery_most_funded              1\n",
      "Name: url, dtype: int64 \n",
      "\n",
      "1    12\n",
      "Name: usd_exchange_rate, dtype: int64 \n",
      "\n",
      "12779843.49    1\n",
      "13285226.36    1\n",
      "9192055.66     1\n",
      "20338986.27    1\n",
      "12393139.69    1\n",
      "8808136.00     1\n",
      "12969608.00    1\n",
      "9535317.31     1\n",
      "12179651.05    1\n",
      "10266845.74    1\n",
      "12143435.67    1\n",
      "11385449.05    1\n",
      "Name: usd_pledged, dtype: int64 \n",
      "\n",
      "domestic    12\n",
      "Name: usd_type, dtype: int64 \n",
      "\n"
     ]
    }
   ],
   "source": [
    "for col in data:\n",
    "    print(data[col].value_counts(), '\\n')"
   ]
  },
  {
   "cell_type": "markdown",
   "metadata": {},
   "source": [
    "### convert timestamps"
   ]
  },
  {
   "cell_type": "code",
   "execution_count": 91,
   "metadata": {},
   "outputs": [
    {
     "ename": "NameError",
     "evalue": "name 'datetime' is not defined",
     "output_type": "error",
     "traceback": [
      "\u001b[1;31m---------------------------------------------------------------------------\u001b[0m",
      "\u001b[1;31mNameError\u001b[0m                                 Traceback (most recent call last)",
      "\u001b[1;32m<ipython-input-91-0c87d5e3c908>\u001b[0m in \u001b[0;36m<module>\u001b[1;34m\u001b[0m\n\u001b[0;32m      2\u001b[0m \u001b[1;33m\u001b[0m\u001b[0m\n\u001b[0;32m      3\u001b[0m print(\n\u001b[1;32m----> 4\u001b[1;33m     datetime.datetime.fromtimestamp(\n\u001b[0m\u001b[0;32m      5\u001b[0m         \u001b[0mint\u001b[0m\u001b[1;33m(\u001b[0m\u001b[0mtest\u001b[0m\u001b[1;33m)\u001b[0m\u001b[1;33m\u001b[0m\u001b[1;33m\u001b[0m\u001b[0m\n\u001b[0;32m      6\u001b[0m     ).strftime('%Y-%m-%d')\n",
      "\u001b[1;31mNameError\u001b[0m: name 'datetime' is not defined"
     ]
    }
   ],
   "source": [
    "test = 1633202074\n",
    "\n",
    "print(\n",
    "    datetime.datetime.fromtimestamp(\n",
    "        int(test)\n",
    "    ).strftime('%Y-%m-%d')\n",
    ")\n",
    "\n",
    "print(\n",
    "    datetime.datetime.fromtimestamp(\n",
    "        int(test)\n",
    "    ).strftime('%H:%M:%S')\n",
    ")\n",
    "\n",
    "print(\n",
    "    datetime.datetime.fromtimestamp(\n",
    "        int(test)\n",
    "    ).strftime('%A')\n",
    ")"
   ]
  },
  {
   "cell_type": "code",
   "execution_count": 92,
   "metadata": {},
   "outputs": [],
   "source": [
    "def time_converter(col):\n",
    "    \n",
    "    for i in col:\n",
    "        \n",
    "        date_col_name = (col + '_date')\n",
    "        df[date_col_name] = datetime.datetime.fromtimestamp(int(i)).strftime('%Y-%m-%d')\n",
    "        \n",
    "        time_col_name = (col + '_time')\n",
    "        df.eval[col + '_time'] = datetime.datetime.fromtimestamp(int(i)).strftime('%H:%M:%S')\n",
    "        \n",
    "        weekday_col_name = (col + '_weekday')\n",
    "        df[weekday_col_name] = datetime.datetime.fromtimestamp(int(i)).strftime('%A')"
   ]
  },
  {
   "cell_type": "code",
   "execution_count": 93,
   "metadata": {},
   "outputs": [
    {
     "ename": "ValueError",
     "evalue": "unknown type str160",
     "output_type": "error",
     "traceback": [
      "\u001b[1;31m---------------------------------------------------------------------------\u001b[0m",
      "\u001b[1;31mValueError\u001b[0m                                Traceback (most recent call last)",
      "\u001b[1;32m<ipython-input-93-47d482d99f25>\u001b[0m in \u001b[0;36m<module>\u001b[1;34m\u001b[0m\n\u001b[1;32m----> 1\u001b[1;33m \u001b[0mtime_converter\u001b[0m\u001b[1;33m(\u001b[0m\u001b[0mdf\u001b[0m\u001b[1;33m[\u001b[0m\u001b[1;34m'created_at'\u001b[0m\u001b[1;33m]\u001b[0m\u001b[1;33m)\u001b[0m\u001b[1;33m\u001b[0m\u001b[1;33m\u001b[0m\u001b[0m\n\u001b[0m",
      "\u001b[1;32m<ipython-input-92-1fa47fd17056>\u001b[0m in \u001b[0;36mtime_converter\u001b[1;34m(col)\u001b[0m\n\u001b[0;32m      3\u001b[0m     \u001b[1;32mfor\u001b[0m \u001b[0mi\u001b[0m \u001b[1;32min\u001b[0m \u001b[0mcol\u001b[0m\u001b[1;33m:\u001b[0m\u001b[1;33m\u001b[0m\u001b[1;33m\u001b[0m\u001b[0m\n\u001b[0;32m      4\u001b[0m \u001b[1;33m\u001b[0m\u001b[0m\n\u001b[1;32m----> 5\u001b[1;33m         \u001b[0mdate_col_name\u001b[0m \u001b[1;33m=\u001b[0m \u001b[1;33m(\u001b[0m\u001b[0mcol\u001b[0m \u001b[1;33m+\u001b[0m \u001b[1;34m'_date'\u001b[0m\u001b[1;33m)\u001b[0m\u001b[1;33m\u001b[0m\u001b[1;33m\u001b[0m\u001b[0m\n\u001b[0m\u001b[0;32m      6\u001b[0m         \u001b[0mdf\u001b[0m\u001b[1;33m[\u001b[0m\u001b[0mdate_col_name\u001b[0m\u001b[1;33m]\u001b[0m \u001b[1;33m=\u001b[0m \u001b[0mdatetime\u001b[0m\u001b[1;33m.\u001b[0m\u001b[0mdatetime\u001b[0m\u001b[1;33m.\u001b[0m\u001b[0mfromtimestamp\u001b[0m\u001b[1;33m(\u001b[0m\u001b[0mint\u001b[0m\u001b[1;33m(\u001b[0m\u001b[0mi\u001b[0m\u001b[1;33m)\u001b[0m\u001b[1;33m)\u001b[0m\u001b[1;33m.\u001b[0m\u001b[0mstrftime\u001b[0m\u001b[1;33m(\u001b[0m\u001b[1;34m'%Y-%m-%d'\u001b[0m\u001b[1;33m)\u001b[0m\u001b[1;33m\u001b[0m\u001b[1;33m\u001b[0m\u001b[0m\n\u001b[0;32m      7\u001b[0m \u001b[1;33m\u001b[0m\u001b[0m\n",
      "\u001b[1;32m~\\anaconda3\\lib\\site-packages\\pandas\\core\\ops\\common.py\u001b[0m in \u001b[0;36mnew_method\u001b[1;34m(self, other)\u001b[0m\n\u001b[0;32m     63\u001b[0m         \u001b[0mother\u001b[0m \u001b[1;33m=\u001b[0m \u001b[0mitem_from_zerodim\u001b[0m\u001b[1;33m(\u001b[0m\u001b[0mother\u001b[0m\u001b[1;33m)\u001b[0m\u001b[1;33m\u001b[0m\u001b[1;33m\u001b[0m\u001b[0m\n\u001b[0;32m     64\u001b[0m \u001b[1;33m\u001b[0m\u001b[0m\n\u001b[1;32m---> 65\u001b[1;33m         \u001b[1;32mreturn\u001b[0m \u001b[0mmethod\u001b[0m\u001b[1;33m(\u001b[0m\u001b[0mself\u001b[0m\u001b[1;33m,\u001b[0m \u001b[0mother\u001b[0m\u001b[1;33m)\u001b[0m\u001b[1;33m\u001b[0m\u001b[1;33m\u001b[0m\u001b[0m\n\u001b[0m\u001b[0;32m     66\u001b[0m \u001b[1;33m\u001b[0m\u001b[0m\n\u001b[0;32m     67\u001b[0m     \u001b[1;32mreturn\u001b[0m \u001b[0mnew_method\u001b[0m\u001b[1;33m\u001b[0m\u001b[1;33m\u001b[0m\u001b[0m\n",
      "\u001b[1;32m~\\anaconda3\\lib\\site-packages\\pandas\\core\\ops\\__init__.py\u001b[0m in \u001b[0;36mwrapper\u001b[1;34m(left, right)\u001b[0m\n\u001b[0;32m    341\u001b[0m         \u001b[0mlvalues\u001b[0m \u001b[1;33m=\u001b[0m \u001b[0mextract_array\u001b[0m\u001b[1;33m(\u001b[0m\u001b[0mleft\u001b[0m\u001b[1;33m,\u001b[0m \u001b[0mextract_numpy\u001b[0m\u001b[1;33m=\u001b[0m\u001b[1;32mTrue\u001b[0m\u001b[1;33m)\u001b[0m\u001b[1;33m\u001b[0m\u001b[1;33m\u001b[0m\u001b[0m\n\u001b[0;32m    342\u001b[0m         \u001b[0mrvalues\u001b[0m \u001b[1;33m=\u001b[0m \u001b[0mextract_array\u001b[0m\u001b[1;33m(\u001b[0m\u001b[0mright\u001b[0m\u001b[1;33m,\u001b[0m \u001b[0mextract_numpy\u001b[0m\u001b[1;33m=\u001b[0m\u001b[1;32mTrue\u001b[0m\u001b[1;33m)\u001b[0m\u001b[1;33m\u001b[0m\u001b[1;33m\u001b[0m\u001b[0m\n\u001b[1;32m--> 343\u001b[1;33m         \u001b[0mresult\u001b[0m \u001b[1;33m=\u001b[0m \u001b[0marithmetic_op\u001b[0m\u001b[1;33m(\u001b[0m\u001b[0mlvalues\u001b[0m\u001b[1;33m,\u001b[0m \u001b[0mrvalues\u001b[0m\u001b[1;33m,\u001b[0m \u001b[0mop\u001b[0m\u001b[1;33m)\u001b[0m\u001b[1;33m\u001b[0m\u001b[1;33m\u001b[0m\u001b[0m\n\u001b[0m\u001b[0;32m    344\u001b[0m \u001b[1;33m\u001b[0m\u001b[0m\n\u001b[0;32m    345\u001b[0m         \u001b[1;32mreturn\u001b[0m \u001b[0mleft\u001b[0m\u001b[1;33m.\u001b[0m\u001b[0m_construct_result\u001b[0m\u001b[1;33m(\u001b[0m\u001b[0mresult\u001b[0m\u001b[1;33m,\u001b[0m \u001b[0mname\u001b[0m\u001b[1;33m=\u001b[0m\u001b[0mres_name\u001b[0m\u001b[1;33m)\u001b[0m\u001b[1;33m\u001b[0m\u001b[1;33m\u001b[0m\u001b[0m\n",
      "\u001b[1;32m~\\anaconda3\\lib\\site-packages\\pandas\\core\\ops\\array_ops.py\u001b[0m in \u001b[0;36marithmetic_op\u001b[1;34m(left, right, op)\u001b[0m\n\u001b[0;32m    188\u001b[0m     \u001b[1;32melse\u001b[0m\u001b[1;33m:\u001b[0m\u001b[1;33m\u001b[0m\u001b[1;33m\u001b[0m\u001b[0m\n\u001b[0;32m    189\u001b[0m         \u001b[1;32mwith\u001b[0m \u001b[0mnp\u001b[0m\u001b[1;33m.\u001b[0m\u001b[0merrstate\u001b[0m\u001b[1;33m(\u001b[0m\u001b[0mall\u001b[0m\u001b[1;33m=\u001b[0m\u001b[1;34m\"ignore\"\u001b[0m\u001b[1;33m)\u001b[0m\u001b[1;33m:\u001b[0m\u001b[1;33m\u001b[0m\u001b[1;33m\u001b[0m\u001b[0m\n\u001b[1;32m--> 190\u001b[1;33m             \u001b[0mres_values\u001b[0m \u001b[1;33m=\u001b[0m \u001b[0mna_arithmetic_op\u001b[0m\u001b[1;33m(\u001b[0m\u001b[0mlvalues\u001b[0m\u001b[1;33m,\u001b[0m \u001b[0mrvalues\u001b[0m\u001b[1;33m,\u001b[0m \u001b[0mop\u001b[0m\u001b[1;33m)\u001b[0m\u001b[1;33m\u001b[0m\u001b[1;33m\u001b[0m\u001b[0m\n\u001b[0m\u001b[0;32m    191\u001b[0m \u001b[1;33m\u001b[0m\u001b[0m\n\u001b[0;32m    192\u001b[0m     \u001b[1;32mreturn\u001b[0m \u001b[0mres_values\u001b[0m\u001b[1;33m\u001b[0m\u001b[1;33m\u001b[0m\u001b[0m\n",
      "\u001b[1;32m~\\anaconda3\\lib\\site-packages\\pandas\\core\\ops\\array_ops.py\u001b[0m in \u001b[0;36mna_arithmetic_op\u001b[1;34m(left, right, op, is_cmp)\u001b[0m\n\u001b[0;32m    141\u001b[0m \u001b[1;33m\u001b[0m\u001b[0m\n\u001b[0;32m    142\u001b[0m     \u001b[1;32mtry\u001b[0m\u001b[1;33m:\u001b[0m\u001b[1;33m\u001b[0m\u001b[1;33m\u001b[0m\u001b[0m\n\u001b[1;32m--> 143\u001b[1;33m         \u001b[0mresult\u001b[0m \u001b[1;33m=\u001b[0m \u001b[0mexpressions\u001b[0m\u001b[1;33m.\u001b[0m\u001b[0mevaluate\u001b[0m\u001b[1;33m(\u001b[0m\u001b[0mop\u001b[0m\u001b[1;33m,\u001b[0m \u001b[0mleft\u001b[0m\u001b[1;33m,\u001b[0m \u001b[0mright\u001b[0m\u001b[1;33m)\u001b[0m\u001b[1;33m\u001b[0m\u001b[1;33m\u001b[0m\u001b[0m\n\u001b[0m\u001b[0;32m    144\u001b[0m     \u001b[1;32mexcept\u001b[0m \u001b[0mTypeError\u001b[0m\u001b[1;33m:\u001b[0m\u001b[1;33m\u001b[0m\u001b[1;33m\u001b[0m\u001b[0m\n\u001b[0;32m    145\u001b[0m         \u001b[1;32mif\u001b[0m \u001b[0mis_cmp\u001b[0m\u001b[1;33m:\u001b[0m\u001b[1;33m\u001b[0m\u001b[1;33m\u001b[0m\u001b[0m\n",
      "\u001b[1;32m~\\anaconda3\\lib\\site-packages\\pandas\\core\\computation\\expressions.py\u001b[0m in \u001b[0;36mevaluate\u001b[1;34m(op, a, b, use_numexpr)\u001b[0m\n\u001b[0;32m    231\u001b[0m         \u001b[0muse_numexpr\u001b[0m \u001b[1;33m=\u001b[0m \u001b[0muse_numexpr\u001b[0m \u001b[1;32mand\u001b[0m \u001b[0m_bool_arith_check\u001b[0m\u001b[1;33m(\u001b[0m\u001b[0mop_str\u001b[0m\u001b[1;33m,\u001b[0m \u001b[0ma\u001b[0m\u001b[1;33m,\u001b[0m \u001b[0mb\u001b[0m\u001b[1;33m)\u001b[0m\u001b[1;33m\u001b[0m\u001b[1;33m\u001b[0m\u001b[0m\n\u001b[0;32m    232\u001b[0m         \u001b[1;32mif\u001b[0m \u001b[0muse_numexpr\u001b[0m\u001b[1;33m:\u001b[0m\u001b[1;33m\u001b[0m\u001b[1;33m\u001b[0m\u001b[0m\n\u001b[1;32m--> 233\u001b[1;33m             \u001b[1;32mreturn\u001b[0m \u001b[0m_evaluate\u001b[0m\u001b[1;33m(\u001b[0m\u001b[0mop\u001b[0m\u001b[1;33m,\u001b[0m \u001b[0mop_str\u001b[0m\u001b[1;33m,\u001b[0m \u001b[0ma\u001b[0m\u001b[1;33m,\u001b[0m \u001b[0mb\u001b[0m\u001b[1;33m)\u001b[0m  \u001b[1;31m# type: ignore\u001b[0m\u001b[1;33m\u001b[0m\u001b[1;33m\u001b[0m\u001b[0m\n\u001b[0m\u001b[0;32m    234\u001b[0m     \u001b[1;32mreturn\u001b[0m \u001b[0m_evaluate_standard\u001b[0m\u001b[1;33m(\u001b[0m\u001b[0mop\u001b[0m\u001b[1;33m,\u001b[0m \u001b[0mop_str\u001b[0m\u001b[1;33m,\u001b[0m \u001b[0ma\u001b[0m\u001b[1;33m,\u001b[0m \u001b[0mb\u001b[0m\u001b[1;33m)\u001b[0m\u001b[1;33m\u001b[0m\u001b[1;33m\u001b[0m\u001b[0m\n\u001b[0;32m    235\u001b[0m \u001b[1;33m\u001b[0m\u001b[0m\n",
      "\u001b[1;32m~\\anaconda3\\lib\\site-packages\\pandas\\core\\computation\\expressions.py\u001b[0m in \u001b[0;36m_evaluate_numexpr\u001b[1;34m(op, op_str, a, b)\u001b[0m\n\u001b[0;32m    107\u001b[0m         \u001b[0mb_value\u001b[0m \u001b[1;33m=\u001b[0m \u001b[0mb\u001b[0m\u001b[1;33m\u001b[0m\u001b[1;33m\u001b[0m\u001b[0m\n\u001b[0;32m    108\u001b[0m \u001b[1;33m\u001b[0m\u001b[0m\n\u001b[1;32m--> 109\u001b[1;33m         result = ne.evaluate(\n\u001b[0m\u001b[0;32m    110\u001b[0m             \u001b[1;34mf\"a_value {op_str} b_value\"\u001b[0m\u001b[1;33m,\u001b[0m\u001b[1;33m\u001b[0m\u001b[1;33m\u001b[0m\u001b[0m\n\u001b[0;32m    111\u001b[0m             \u001b[0mlocal_dict\u001b[0m\u001b[1;33m=\u001b[0m\u001b[1;33m{\u001b[0m\u001b[1;34m\"a_value\"\u001b[0m\u001b[1;33m:\u001b[0m \u001b[0ma_value\u001b[0m\u001b[1;33m,\u001b[0m \u001b[1;34m\"b_value\"\u001b[0m\u001b[1;33m:\u001b[0m \u001b[0mb_value\u001b[0m\u001b[1;33m}\u001b[0m\u001b[1;33m,\u001b[0m\u001b[1;33m\u001b[0m\u001b[1;33m\u001b[0m\u001b[0m\n",
      "\u001b[1;32m~\\anaconda3\\lib\\site-packages\\numexpr\\necompiler.py\u001b[0m in \u001b[0;36mevaluate\u001b[1;34m(ex, local_dict, global_dict, out, order, casting, **kwargs)\u001b[0m\n\u001b[0;32m    819\u001b[0m \u001b[1;33m\u001b[0m\u001b[0m\n\u001b[0;32m    820\u001b[0m     \u001b[1;31m# Create a signature\u001b[0m\u001b[1;33m\u001b[0m\u001b[1;33m\u001b[0m\u001b[1;33m\u001b[0m\u001b[0m\n\u001b[1;32m--> 821\u001b[1;33m     signature = [(name, getType(arg)) for (name, arg) in\n\u001b[0m\u001b[0;32m    822\u001b[0m                  zip(names, arguments)]\n\u001b[0;32m    823\u001b[0m \u001b[1;33m\u001b[0m\u001b[0m\n",
      "\u001b[1;32m~\\anaconda3\\lib\\site-packages\\numexpr\\necompiler.py\u001b[0m in \u001b[0;36m<listcomp>\u001b[1;34m(.0)\u001b[0m\n\u001b[0;32m    819\u001b[0m \u001b[1;33m\u001b[0m\u001b[0m\n\u001b[0;32m    820\u001b[0m     \u001b[1;31m# Create a signature\u001b[0m\u001b[1;33m\u001b[0m\u001b[1;33m\u001b[0m\u001b[1;33m\u001b[0m\u001b[0m\n\u001b[1;32m--> 821\u001b[1;33m     signature = [(name, getType(arg)) for (name, arg) in\n\u001b[0m\u001b[0;32m    822\u001b[0m                  zip(names, arguments)]\n\u001b[0;32m    823\u001b[0m \u001b[1;33m\u001b[0m\u001b[0m\n",
      "\u001b[1;32m~\\anaconda3\\lib\\site-packages\\numexpr\\necompiler.py\u001b[0m in \u001b[0;36mgetType\u001b[1;34m(a)\u001b[0m\n\u001b[0;32m    701\u001b[0m     \u001b[1;32mif\u001b[0m \u001b[0mkind\u001b[0m \u001b[1;33m==\u001b[0m \u001b[1;34m'S'\u001b[0m\u001b[1;33m:\u001b[0m\u001b[1;33m\u001b[0m\u001b[1;33m\u001b[0m\u001b[0m\n\u001b[0;32m    702\u001b[0m         \u001b[1;32mreturn\u001b[0m \u001b[0mbytes\u001b[0m\u001b[1;33m\u001b[0m\u001b[1;33m\u001b[0m\u001b[0m\n\u001b[1;32m--> 703\u001b[1;33m     \u001b[1;32mraise\u001b[0m \u001b[0mValueError\u001b[0m\u001b[1;33m(\u001b[0m\u001b[1;34m\"unknown type %s\"\u001b[0m \u001b[1;33m%\u001b[0m \u001b[0ma\u001b[0m\u001b[1;33m.\u001b[0m\u001b[0mdtype\u001b[0m\u001b[1;33m.\u001b[0m\u001b[0mname\u001b[0m\u001b[1;33m)\u001b[0m\u001b[1;33m\u001b[0m\u001b[1;33m\u001b[0m\u001b[0m\n\u001b[0m\u001b[0;32m    704\u001b[0m \u001b[1;33m\u001b[0m\u001b[0m\n\u001b[0;32m    705\u001b[0m \u001b[1;33m\u001b[0m\u001b[0m\n",
      "\u001b[1;31mValueError\u001b[0m: unknown type str160"
     ]
    }
   ],
   "source": [
    "time_converter(df['created_at'])"
   ]
  },
  {
   "cell_type": "markdown",
   "metadata": {},
   "source": [
    "### add target column"
   ]
  },
  {
   "cell_type": "code",
   "execution_count": 94,
   "metadata": {},
   "outputs": [],
   "source": [
    "conditions = [\n",
    "    ((df['goal'] - df['converted_pledged_amount']) >= 0),\n",
    "    ((df['goal'] - df['converted_pledged_amount']) < 0)\n",
    "]\n",
    "\n",
    "values = ['yes', 'no']\n",
    "\n",
    "df['goal_reached'] = np.select(conditions, values)"
   ]
  },
  {
   "cell_type": "code",
   "execution_count": 95,
   "metadata": {},
   "outputs": [
    {
     "data": {
      "text/plain": [
       "no     15250\n",
       "yes     2370\n",
       "Name: goal_reached, dtype: int64"
      ]
     },
     "execution_count": 95,
     "metadata": {},
     "output_type": "execute_result"
    }
   ],
   "source": [
    "df['goal_reached'].value_counts()"
   ]
  },
  {
   "cell_type": "code",
   "execution_count": 96,
   "metadata": {},
   "outputs": [
    {
     "data": {
      "text/plain": [
       "successful    15409\n",
       "live           2211\n",
       "Name: state, dtype: int64"
      ]
     },
     "execution_count": 96,
     "metadata": {},
     "output_type": "execute_result"
    }
   ],
   "source": [
    "df['state'].value_counts()"
   ]
  },
  {
   "cell_type": "code",
   "execution_count": 97,
   "metadata": {
    "scrolled": true
   },
   "outputs": [
    {
     "data": {
      "text/html": [
       "<div>\n",
       "<style scoped>\n",
       "    .dataframe tbody tr th:only-of-type {\n",
       "        vertical-align: middle;\n",
       "    }\n",
       "\n",
       "    .dataframe tbody tr th {\n",
       "        vertical-align: top;\n",
       "    }\n",
       "\n",
       "    .dataframe thead th {\n",
       "        text-align: right;\n",
       "    }\n",
       "</style>\n",
       "<table border=\"1\" class=\"dataframe\">\n",
       "  <thead>\n",
       "    <tr style=\"text-align: right;\">\n",
       "      <th>goal_reached</th>\n",
       "      <th>no</th>\n",
       "      <th>yes</th>\n",
       "    </tr>\n",
       "    <tr>\n",
       "      <th>state</th>\n",
       "      <th></th>\n",
       "      <th></th>\n",
       "    </tr>\n",
       "  </thead>\n",
       "  <tbody>\n",
       "    <tr>\n",
       "      <th>live</th>\n",
       "      <td>949</td>\n",
       "      <td>1262</td>\n",
       "    </tr>\n",
       "    <tr>\n",
       "      <th>successful</th>\n",
       "      <td>14301</td>\n",
       "      <td>1108</td>\n",
       "    </tr>\n",
       "  </tbody>\n",
       "</table>\n",
       "</div>"
      ],
      "text/plain": [
       "goal_reached     no   yes\n",
       "state                    \n",
       "live            949  1262\n",
       "successful    14301  1108"
      ]
     },
     "execution_count": 97,
     "metadata": {},
     "output_type": "execute_result"
    }
   ],
   "source": [
    "data_crosstab = pd.crosstab(df['state'], df['goal_reached'], margins = False)\n",
    "data_crosstab"
   ]
  },
  {
   "cell_type": "markdown",
   "metadata": {},
   "source": [
    "## get information from language"
   ]
  },
  {
   "cell_type": "markdown",
   "metadata": {},
   "source": [
    "### add language column"
   ]
  },
  {
   "cell_type": "code",
   "execution_count": 65,
   "metadata": {},
   "outputs": [
    {
     "data": {
      "text/plain": [
       "id\n",
       "2147420152    Beautiful, comfortable lingerie and sewing wor...\n",
       "2147364781    The Bang Group returns to the Edinburgh Fringe...\n",
       "2147339483    With your support, Movema can relocate to offi...\n",
       "2147336747    The Dance Project is an exciting new vision - ...\n",
       "2147319993    An indie pilot about two best friends,Mugshot ...\n",
       "                                    ...                        \n",
       "771637        Guitars designed to make it fun and easy to pl...\n",
       "442565        Designing classy, simple, and sometimes vintag...\n",
       "368761        NYX is a collection of modern and practical de...\n",
       "127800        An exploration of gender dysphoria, euphoria, ...\n",
       "59422         A halloween enamel pin of a dachshund that wil...\n",
       "Name: description, Length: 17620, dtype: object"
      ]
     },
     "execution_count": 65,
     "metadata": {},
     "output_type": "execute_result"
    }
   ],
   "source": [
    "df['description']"
   ]
  },
  {
   "cell_type": "code",
   "execution_count": 98,
   "metadata": {},
   "outputs": [
    {
     "ename": "TypeError",
     "evalue": "'float' object is not iterable",
     "output_type": "error",
     "traceback": [
      "\u001b[1;31m---------------------------------------------------------------------------\u001b[0m",
      "\u001b[1;31mTypeError\u001b[0m                                 Traceback (most recent call last)",
      "\u001b[1;32m<ipython-input-98-b9150ed061b1>\u001b[0m in \u001b[0;36m<module>\u001b[1;34m\u001b[0m\n\u001b[0;32m      5\u001b[0m         \u001b[0mlanguage\u001b[0m\u001b[1;33m.\u001b[0m\u001b[0mappend\u001b[0m\u001b[1;33m(\u001b[0m\u001b[1;34m\"\"\u001b[0m\u001b[1;33m)\u001b[0m\u001b[1;33m\u001b[0m\u001b[1;33m\u001b[0m\u001b[0m\n\u001b[0;32m      6\u001b[0m     \u001b[1;32melse\u001b[0m\u001b[1;33m:\u001b[0m\u001b[1;33m\u001b[0m\u001b[1;33m\u001b[0m\u001b[0m\n\u001b[1;32m----> 7\u001b[1;33m         \u001b[0ma\u001b[0m \u001b[1;33m=\u001b[0m \u001b[0mlangid\u001b[0m\u001b[1;33m.\u001b[0m\u001b[0mclassify\u001b[0m\u001b[1;33m(\u001b[0m\u001b[0mi\u001b[0m\u001b[1;33m)\u001b[0m\u001b[1;33m\u001b[0m\u001b[1;33m\u001b[0m\u001b[0m\n\u001b[0m\u001b[0;32m      8\u001b[0m         \u001b[0mlanguage\u001b[0m\u001b[1;33m.\u001b[0m\u001b[0mappend\u001b[0m\u001b[1;33m(\u001b[0m\u001b[0ma\u001b[0m\u001b[1;33m[\u001b[0m\u001b[1;36m0\u001b[0m\u001b[1;33m]\u001b[0m\u001b[1;33m)\u001b[0m\u001b[1;33m\u001b[0m\u001b[1;33m\u001b[0m\u001b[0m\n\u001b[0;32m      9\u001b[0m \u001b[1;33m\u001b[0m\u001b[0m\n",
      "\u001b[1;32m~\\anaconda3\\lib\\site-packages\\langid\\langid.py\u001b[0m in \u001b[0;36mclassify\u001b[1;34m(instance)\u001b[0m\n\u001b[0;32m    105\u001b[0m     \u001b[0mload_model\u001b[0m\u001b[1;33m(\u001b[0m\u001b[1;33m)\u001b[0m\u001b[1;33m\u001b[0m\u001b[1;33m\u001b[0m\u001b[0m\n\u001b[0;32m    106\u001b[0m \u001b[1;33m\u001b[0m\u001b[0m\n\u001b[1;32m--> 107\u001b[1;33m   \u001b[1;32mreturn\u001b[0m \u001b[0midentifier\u001b[0m\u001b[1;33m.\u001b[0m\u001b[0mclassify\u001b[0m\u001b[1;33m(\u001b[0m\u001b[0minstance\u001b[0m\u001b[1;33m)\u001b[0m\u001b[1;33m\u001b[0m\u001b[1;33m\u001b[0m\u001b[0m\n\u001b[0m\u001b[0;32m    108\u001b[0m \u001b[1;33m\u001b[0m\u001b[0m\n\u001b[0;32m    109\u001b[0m \u001b[1;32mdef\u001b[0m \u001b[0mrank\u001b[0m\u001b[1;33m(\u001b[0m\u001b[0minstance\u001b[0m\u001b[1;33m)\u001b[0m\u001b[1;33m:\u001b[0m\u001b[1;33m\u001b[0m\u001b[1;33m\u001b[0m\u001b[0m\n",
      "\u001b[1;32m~\\anaconda3\\lib\\site-packages\\langid\\langid.py\u001b[0m in \u001b[0;36mclassify\u001b[1;34m(self, text)\u001b[0m\n\u001b[0;32m    292\u001b[0m     \u001b[0mClassify\u001b[0m \u001b[0man\u001b[0m \u001b[0minstance\u001b[0m\u001b[1;33m.\u001b[0m\u001b[1;33m\u001b[0m\u001b[1;33m\u001b[0m\u001b[0m\n\u001b[0;32m    293\u001b[0m     \"\"\"\n\u001b[1;32m--> 294\u001b[1;33m     \u001b[0mfv\u001b[0m \u001b[1;33m=\u001b[0m \u001b[0mself\u001b[0m\u001b[1;33m.\u001b[0m\u001b[0minstance2fv\u001b[0m\u001b[1;33m(\u001b[0m\u001b[0mtext\u001b[0m\u001b[1;33m)\u001b[0m\u001b[1;33m\u001b[0m\u001b[1;33m\u001b[0m\u001b[0m\n\u001b[0m\u001b[0;32m    295\u001b[0m     \u001b[0mprobs\u001b[0m \u001b[1;33m=\u001b[0m \u001b[0mself\u001b[0m\u001b[1;33m.\u001b[0m\u001b[0mnorm_probs\u001b[0m\u001b[1;33m(\u001b[0m\u001b[0mself\u001b[0m\u001b[1;33m.\u001b[0m\u001b[0mnb_classprobs\u001b[0m\u001b[1;33m(\u001b[0m\u001b[0mfv\u001b[0m\u001b[1;33m)\u001b[0m\u001b[1;33m)\u001b[0m\u001b[1;33m\u001b[0m\u001b[1;33m\u001b[0m\u001b[0m\n\u001b[0;32m    296\u001b[0m     \u001b[0mcl\u001b[0m \u001b[1;33m=\u001b[0m \u001b[0mnp\u001b[0m\u001b[1;33m.\u001b[0m\u001b[0margmax\u001b[0m\u001b[1;33m(\u001b[0m\u001b[0mprobs\u001b[0m\u001b[1;33m)\u001b[0m\u001b[1;33m\u001b[0m\u001b[1;33m\u001b[0m\u001b[0m\n",
      "\u001b[1;32m~\\anaconda3\\lib\\site-packages\\langid\\langid.py\u001b[0m in \u001b[0;36minstance2fv\u001b[1;34m(self, text)\u001b[0m\n\u001b[0;32m    270\u001b[0m     \u001b[0mstate\u001b[0m \u001b[1;33m=\u001b[0m \u001b[1;36m0\u001b[0m\u001b[1;33m\u001b[0m\u001b[1;33m\u001b[0m\u001b[0m\n\u001b[0;32m    271\u001b[0m     \u001b[0mstatecount\u001b[0m \u001b[1;33m=\u001b[0m \u001b[0mdefaultdict\u001b[0m\u001b[1;33m(\u001b[0m\u001b[0mint\u001b[0m\u001b[1;33m)\u001b[0m\u001b[1;33m\u001b[0m\u001b[1;33m\u001b[0m\u001b[0m\n\u001b[1;32m--> 272\u001b[1;33m     \u001b[1;32mfor\u001b[0m \u001b[0mletter\u001b[0m \u001b[1;32min\u001b[0m \u001b[0mtext\u001b[0m\u001b[1;33m:\u001b[0m\u001b[1;33m\u001b[0m\u001b[1;33m\u001b[0m\u001b[0m\n\u001b[0m\u001b[0;32m    273\u001b[0m       \u001b[0mstate\u001b[0m \u001b[1;33m=\u001b[0m \u001b[0mself\u001b[0m\u001b[1;33m.\u001b[0m\u001b[0mtk_nextmove\u001b[0m\u001b[1;33m[\u001b[0m\u001b[1;33m(\u001b[0m\u001b[0mstate\u001b[0m \u001b[1;33m<<\u001b[0m \u001b[1;36m8\u001b[0m\u001b[1;33m)\u001b[0m \u001b[1;33m+\u001b[0m \u001b[0mletter\u001b[0m\u001b[1;33m]\u001b[0m\u001b[1;33m\u001b[0m\u001b[1;33m\u001b[0m\u001b[0m\n\u001b[0;32m    274\u001b[0m       \u001b[0mstatecount\u001b[0m\u001b[1;33m[\u001b[0m\u001b[0mstate\u001b[0m\u001b[1;33m]\u001b[0m \u001b[1;33m+=\u001b[0m \u001b[1;36m1\u001b[0m\u001b[1;33m\u001b[0m\u001b[1;33m\u001b[0m\u001b[0m\n",
      "\u001b[1;31mTypeError\u001b[0m: 'float' object is not iterable"
     ]
    }
   ],
   "source": [
    "language = []\n",
    "\n",
    "for i in df['description']:\n",
    "    if i is None:\n",
    "        language.append(\"\")\n",
    "    else:\n",
    "        a = langid.classify(i)\n",
    "        language.append(a[0])        \n",
    "    \n",
    "df['language'] = language"
   ]
  },
  {
   "cell_type": "code",
   "execution_count": 50,
   "metadata": {},
   "outputs": [
    {
     "data": {
      "text/plain": [
       "(17620, 35)"
      ]
     },
     "execution_count": 50,
     "metadata": {},
     "output_type": "execute_result"
    }
   ],
   "source": [
    "df.shape"
   ]
  },
  {
   "cell_type": "code",
   "execution_count": 51,
   "metadata": {
    "scrolled": false
   },
   "outputs": [
    {
     "data": {
      "text/plain": [
       "Im creating custom , funny gag gifts that are great for the person who has everything , hard to buy for or just for Laughs !!        9\n",
       "Hard Enamel Pins                                                                                                                     7\n",
       "2 inch tall Sexy Anime Girl Hard Enamel Pins                                                                                         4\n",
       "A meeting of performing and creative artists, educators and producers working across artistic disciplines and cultural divides       4\n",
       "Crappy Custom Postcard Drawings ...and poetry too!                                                                                   4\n",
       "                                                                                                                                    ..\n",
       "The second issue of Twilight Detective Agency by Two Gargoyles Comics!                                                               1\n",
       "A feature film based on Donald Miller's New York Times bestselling memoir, directed by Steve Taylor and starring Marshall Allman.    1\n",
       "A camera strap for photographers in motion.                                                                                          1\n",
       "38 page comic book - fiction - based on the Harlem Hellfighters of WWI.                                                              1\n",
       "Neuroon Open is a wearable that wakes you up feeling energized, improves your sleep and helps you to experience lucid dreams         1\n",
       "Name: language, Length: 17507, dtype: int64"
      ]
     },
     "execution_count": 51,
     "metadata": {},
     "output_type": "execute_result"
    }
   ],
   "source": [
    "df['language'].value_counts()"
   ]
  },
  {
   "cell_type": "markdown",
   "metadata": {},
   "source": [
    "### add polarity and subjectivity column"
   ]
  },
  {
   "cell_type": "code",
   "execution_count": 31,
   "metadata": {},
   "outputs": [
    {
     "ename": "TypeError",
     "evalue": "The `text` argument passed to `__init__(text)` must be a string, not <class 'float'>",
     "output_type": "error",
     "traceback": [
      "\u001b[1;31m---------------------------------------------------------------------------\u001b[0m",
      "\u001b[1;31mTypeError\u001b[0m                                 Traceback (most recent call last)",
      "\u001b[1;32m<ipython-input-31-85ff9c21d66c>\u001b[0m in \u001b[0;36m<module>\u001b[1;34m\u001b[0m\n\u001b[0;32m      3\u001b[0m \u001b[1;33m\u001b[0m\u001b[0m\n\u001b[0;32m      4\u001b[0m \u001b[1;32mfor\u001b[0m \u001b[0mi\u001b[0m \u001b[1;32min\u001b[0m \u001b[0mdf\u001b[0m\u001b[1;33m[\u001b[0m\u001b[1;34m'description'\u001b[0m\u001b[1;33m]\u001b[0m\u001b[1;33m:\u001b[0m\u001b[1;33m\u001b[0m\u001b[1;33m\u001b[0m\u001b[0m\n\u001b[1;32m----> 5\u001b[1;33m     \u001b[0ma\u001b[0m \u001b[1;33m=\u001b[0m \u001b[0mTextBlob\u001b[0m\u001b[1;33m(\u001b[0m\u001b[0mi\u001b[0m\u001b[1;33m)\u001b[0m\u001b[1;33m\u001b[0m\u001b[1;33m\u001b[0m\u001b[0m\n\u001b[0m\u001b[0;32m      6\u001b[0m     \u001b[0mpolarity\u001b[0m\u001b[1;33m.\u001b[0m\u001b[0mappend\u001b[0m\u001b[1;33m(\u001b[0m\u001b[0mround\u001b[0m\u001b[1;33m(\u001b[0m\u001b[0ma\u001b[0m\u001b[1;33m.\u001b[0m\u001b[0mpolarity\u001b[0m\u001b[1;33m,\u001b[0m\u001b[1;36m2\u001b[0m\u001b[1;33m)\u001b[0m\u001b[1;33m)\u001b[0m\u001b[1;33m\u001b[0m\u001b[1;33m\u001b[0m\u001b[0m\n\u001b[0;32m      7\u001b[0m     \u001b[0msubjectivity\u001b[0m\u001b[1;33m.\u001b[0m\u001b[0mappend\u001b[0m\u001b[1;33m(\u001b[0m\u001b[0mround\u001b[0m\u001b[1;33m(\u001b[0m\u001b[0ma\u001b[0m\u001b[1;33m.\u001b[0m\u001b[0msubjectivity\u001b[0m\u001b[1;33m,\u001b[0m\u001b[1;36m2\u001b[0m\u001b[1;33m)\u001b[0m\u001b[1;33m)\u001b[0m\u001b[1;33m\u001b[0m\u001b[1;33m\u001b[0m\u001b[0m\n",
      "\u001b[1;32m~\\anaconda3\\lib\\site-packages\\textblob\\blob.py\u001b[0m in \u001b[0;36m__init__\u001b[1;34m(self, text, tokenizer, pos_tagger, np_extractor, analyzer, parser, classifier, clean_html)\u001b[0m\n\u001b[0;32m    382\u001b[0m                 parser=None, classifier=None, clean_html=False):\n\u001b[0;32m    383\u001b[0m         \u001b[1;32mif\u001b[0m \u001b[1;32mnot\u001b[0m \u001b[0misinstance\u001b[0m\u001b[1;33m(\u001b[0m\u001b[0mtext\u001b[0m\u001b[1;33m,\u001b[0m \u001b[0mbasestring\u001b[0m\u001b[1;33m)\u001b[0m\u001b[1;33m:\u001b[0m\u001b[1;33m\u001b[0m\u001b[1;33m\u001b[0m\u001b[0m\n\u001b[1;32m--> 384\u001b[1;33m             raise TypeError('The `text` argument passed to `__init__(text)` '\n\u001b[0m\u001b[0;32m    385\u001b[0m                             'must be a string, not {0}'.format(type(text)))\n\u001b[0;32m    386\u001b[0m         \u001b[1;32mif\u001b[0m \u001b[0mclean_html\u001b[0m\u001b[1;33m:\u001b[0m\u001b[1;33m\u001b[0m\u001b[1;33m\u001b[0m\u001b[0m\n",
      "\u001b[1;31mTypeError\u001b[0m: The `text` argument passed to `__init__(text)` must be a string, not <class 'float'>"
     ]
    }
   ],
   "source": [
    "polarity = []\n",
    "subjectivity = []\n",
    "\n",
    "for i in df['description']:\n",
    "    a = TextBlob(i)\n",
    "    polarity.append(round(a.polarity,2))\n",
    "    subjectivity.append(round(a.subjectivity,2))\n",
    "\n",
    "df['polarity'] = polarity\n",
    "df['subjectivity'] = subjectivity"
   ]
  },
  {
   "cell_type": "code",
   "execution_count": 32,
   "metadata": {},
   "outputs": [
    {
     "data": {
      "text/plain": [
       "(17620, 34)"
      ]
     },
     "execution_count": 32,
     "metadata": {},
     "output_type": "execute_result"
    }
   ],
   "source": [
    "df.shape"
   ]
  },
  {
   "cell_type": "markdown",
   "metadata": {},
   "source": [
    "### add length for columns name and description"
   ]
  },
  {
   "cell_type": "code",
   "execution_count": 378,
   "metadata": {},
   "outputs": [],
   "source": [
    "length_name = []\n",
    "length_description = []\n",
    "\n",
    "for i,j in zip(df.name, df.description):\n",
    "    length_name.append(len(i))\n",
    "    length_description.append(len(j))\n",
    "    \n",
    "df['length_name'] = length_name\n",
    "df['length_description'] = length_description"
   ]
  },
  {
   "cell_type": "code",
   "execution_count": 379,
   "metadata": {},
   "outputs": [
    {
     "data": {
      "text/plain": [
       "(15637, 52)"
      ]
     },
     "execution_count": 379,
     "metadata": {},
     "output_type": "execute_result"
    }
   ],
   "source": [
    "df.shape"
   ]
  },
  {
   "cell_type": "markdown",
   "metadata": {},
   "source": [
    "### keyword extractions with yake"
   ]
  },
  {
   "cell_type": "code",
   "execution_count": 212,
   "metadata": {},
   "outputs": [],
   "source": [
    "kw_extractor = yake.KeywordExtractor()"
   ]
  },
  {
   "cell_type": "code",
   "execution_count": 213,
   "metadata": {},
   "outputs": [],
   "source": [
    "text # from description column"
   ]
  },
  {
   "cell_type": "code",
   "execution_count": 214,
   "metadata": {},
   "outputs": [],
   "source": [
    "language # from language column"
   ]
  },
  {
   "cell_type": "code",
   "execution_count": 215,
   "metadata": {},
   "outputs": [],
   "source": [
    "max_ngram_size = 1"
   ]
  },
  {
   "cell_type": "code",
   "execution_count": 216,
   "metadata": {},
   "outputs": [],
   "source": [
    "deduplication_threshold = 0.9"
   ]
  },
  {
   "cell_type": "code",
   "execution_count": 217,
   "metadata": {},
   "outputs": [],
   "source": [
    "numOfKeywords = 1"
   ]
  },
  {
   "cell_type": "code",
   "execution_count": 218,
   "metadata": {},
   "outputs": [],
   "source": [
    "custom_kw_extractor = yake.KeywordExtractor(lan=language, n=max_ngram_size, dedupLim=deduplication_threshold, top=numOfKeywords, features=None)"
   ]
  },
  {
   "cell_type": "code",
   "execution_count": 219,
   "metadata": {},
   "outputs": [],
   "source": [
    "keywords = custom_kw_extractor.extract_keywords(text)"
   ]
  },
  {
   "cell_type": "code",
   "execution_count": 220,
   "metadata": {
    "scrolled": true
   },
   "outputs": [
    {
     "name": "stdout",
     "output_type": "stream",
     "text": [
      "('Kickstarter', 0.10900243566337642)\n"
     ]
    }
   ],
   "source": [
    "for kw in keywords:\n",
    "    print(kw)"
   ]
  },
  {
   "cell_type": "markdown",
   "metadata": {},
   "source": [
    "## Explore Cleaned Data"
   ]
  },
  {
   "cell_type": "markdown",
   "metadata": {},
   "source": [
    "### Check for Correlation"
   ]
  },
  {
   "cell_type": "code",
   "execution_count": 33,
   "metadata": {},
   "outputs": [
    {
     "data": {
      "image/png": "[encoded data removed]",
      "text/plain": [
       "<Figure size 720x576 with 2 Axes>"
      ]
     },
     "metadata": {
      "needs_background": "light"
     },
     "output_type": "display_data"
    }
   ],
   "source": [
    "#round(df.corr()['death_event'].sort_values(ascending=False),2)\n",
    "\n",
    "# create correlation heatmap \n",
    "\n",
    "mask = np.zeros_like(df.corr())\n",
    "\n",
    "mask[np.triu_indices_from(mask)] = True\n",
    "\n",
    "fig, ax = plt.subplots(figsize=(10, 8))\n",
    "ax = sns.heatmap(df.corr(), mask=mask, vmin=-1, vmax=1, annot=True, cmap='coolwarm')\n",
    "\n",
    "plt.show()"
   ]
  },
  {
   "cell_type": "markdown",
   "metadata": {},
   "source": [
    "## data imbalances"
   ]
  },
  {
   "cell_type": "markdown",
   "metadata": {},
   "source": [
    "### check whether data is imbalanced"
   ]
  },
  {
   "cell_type": "code",
   "execution_count": 34,
   "metadata": {},
   "outputs": [
    {
     "data": {
      "text/plain": [
       "no     15250\n",
       "yes     2370\n",
       "Name: goal_reached, dtype: int64"
      ]
     },
     "execution_count": 34,
     "metadata": {},
     "output_type": "execute_result"
    },
    {
     "data": {
      "image/png": "[encoded data removed]",
      "text/plain": [
       "<Figure size 432x288 with 1 Axes>"
      ]
     },
     "metadata": {
      "needs_background": "light"
     },
     "output_type": "display_data"
    }
   ],
   "source": [
    "pd.value_counts(df['goal_reached']).plot.bar()\n",
    "plt.title('goal reached?')\n",
    "plt.xlabel('goal_reached')\n",
    "plt.ylabel('Frequency')\n",
    "df['goal_reached'].value_counts()"
   ]
  },
  {
   "cell_type": "markdown",
   "metadata": {},
   "source": [
    "**YES** our data is imbalanced, as we have 13.324 'no' values and 2.313 'yes' values"
   ]
  },
  {
   "cell_type": "markdown",
   "metadata": {},
   "source": [
    "### deal with imbalances"
   ]
  },
  {
   "cell_type": "code",
   "execution_count": null,
   "metadata": {},
   "outputs": [],
   "source": []
  },
  {
   "cell_type": "code",
   "execution_count": null,
   "metadata": {},
   "outputs": [],
   "source": []
  },
  {
   "cell_type": "code",
   "execution_count": null,
   "metadata": {},
   "outputs": [],
   "source": []
  }
 ],
 "metadata": {
  "kernelspec": {
   "display_name": "Python 3",
   "language": "python",
   "name": "python3"
  },
  "language_info": {
   "codemirror_mode": {
    "name": "ipython",
    "version": 3
   },
   "file_extension": ".py",
   "mimetype": "text/x-python",
   "name": "python",
   "nbconvert_exporter": "python",
   "pygments_lexer": "ipython3",
   "version": "3.8.5"
  },
  "toc": {
   "base_numbering": 1,
   "nav_menu": {},
   "number_sections": true,
   "sideBar": true,
   "skip_h1_title": false,
   "title_cell": "Table of Contents",
   "title_sidebar": "Contents",
   "toc_cell": false,
   "toc_position": {},
   "toc_section_display": true,
   "toc_window_display": true
  }
 },
 "nbformat": 4,
 "nbformat_minor": 4
}
