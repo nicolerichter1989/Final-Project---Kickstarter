{
 "cells": [
  {
   "cell_type": "markdown",
   "metadata": {},
   "source": [
    "# final project - KICKSTARTER"
   ]
  },
  {
   "cell_type": "markdown",
   "metadata": {},
   "source": [
    "**Introduction**\n",
    "\n",
    "bla bla bla bla bla "
   ]
  },
  {
   "cell_type": "markdown",
   "metadata": {},
   "source": [
    "## import libraries"
   ]
  },
  {
   "cell_type": "code",
   "execution_count": 48,
   "metadata": {},
   "outputs": [],
   "source": [
    "import pandas as pd\n",
    "import numpy as np\n",
    "import seaborn as sns\n",
    "import matplotlib.pyplot as plt\n",
    "import os\n",
    "import glob\n",
    "\n",
    "from imblearn.over_sampling import SMOTE\n",
    "from imblearn.under_sampling import TomekLinks\n",
    "\n",
    "import statsmodels.api as sm\n",
    "from statsmodels.formula.api import ols\n",
    "from scipy import stats\n",
    "from scipy.stats.mstats import winsorize\n",
    "\n",
    "import math\n",
    "from sklearn.preprocessing import OneHotEncoder, Normalizer, LabelEncoder, StandardScaler, MinMaxScaler\n",
    "from sklearn.model_selection import train_test_split\n",
    "from sklearn.linear_model import LinearRegression, LogisticRegression\n",
    "from sklearn.metrics import mean_squared_error, r2_score, confusion_matrix\n",
    "\n",
    "from sklearn.neighbors import KNeighborsRegressor\n",
    "\n",
    "import warnings\n",
    "warnings.filterwarnings('ignore')"
   ]
  },
  {
   "cell_type": "markdown",
   "metadata": {},
   "source": [
    "## import data"
   ]
  },
  {
   "cell_type": "code",
   "execution_count": 53,
   "metadata": {},
   "outputs": [
    {
     "data": {
      "text/plain": [
       "['kickstarter_all_enddate_30102021.xlsx',\n",
       " 'kickstarter_all_mostbacked.xlsx',\n",
       " 'kickstarter_all_newest_30102021.xlsx',\n",
       " 'kickstarter_all_popularity_30102021.xlsx',\n",
       " 'kickstarter_art_enddate.xlsx',\n",
       " 'kickstarter_art_newest.xlsx',\n",
       " 'kickstarter_comics_enddate.xlsx',\n",
       " 'kickstarter_comics_newest.xlsx',\n",
       " 'kickstarter_crafts_enddate.xlsx',\n",
       " 'kickstarter_crafts_newest.xlsx',\n",
       " 'kickstarter_dance_enddate.xlsx',\n",
       " 'kickstarter_dance_enddate2.xlsx',\n",
       " 'kickstarter_dance_newest.xlsx',\n",
       " 'kickstarter_design_enddate.xlsx',\n",
       " 'kickstarter_design_newest.xlsx',\n",
       " 'kickstarter_fashion_enddate.xlsx',\n",
       " 'kickstarter_fashion_newest.xlsx',\n",
       " 'kickstarter_film_enddate.xlsx',\n",
       " 'kickstarter_food_enddate.xlsx']"
      ]
     },
     "execution_count": 53,
     "metadata": {},
     "output_type": "execute_result"
    }
   ],
   "source": [
    "files = os.listdir('Data')\n",
    "files"
   ]
  },
  {
   "cell_type": "code",
   "execution_count": 54,
   "metadata": {},
   "outputs": [],
   "source": [
    "files = os.listdir('Data')\n",
    "\n",
    "df = pd.DataFrame()\n",
    "\n",
    "path = os.getcwd() + \"\\\\Data\" + \"\\\\\"\n",
    "\n",
    "for i in files:\n",
    "    data = pd.read_excel(path + i)\n",
    "    df = df.append(data)"
   ]
  },
  {
   "cell_type": "code",
   "execution_count": 19,
   "metadata": {},
   "outputs": [],
   "source": [
    "#data = pd.read_excel(r'Data\\kickstarter_art_newest.xlsx')"
   ]
  },
  {
   "cell_type": "markdown",
   "metadata": {},
   "source": [
    "## first review of data"
   ]
  },
  {
   "cell_type": "code",
   "execution_count": 58,
   "metadata": {},
   "outputs": [
    {
     "data": {
      "text/html": [
       "<div>\n",
       "<style scoped>\n",
       "    .dataframe tbody tr th:only-of-type {\n",
       "        vertical-align: middle;\n",
       "    }\n",
       "\n",
       "    .dataframe tbody tr th {\n",
       "        vertical-align: top;\n",
       "    }\n",
       "\n",
       "    .dataframe thead th {\n",
       "        text-align: right;\n",
       "    }\n",
       "</style>\n",
       "<table border=\"1\" class=\"dataframe\">\n",
       "  <thead>\n",
       "    <tr style=\"text-align: right;\">\n",
       "      <th></th>\n",
       "      <th>backers_count</th>\n",
       "      <th>blurb</th>\n",
       "      <th>categoryId</th>\n",
       "      <th>categoryName</th>\n",
       "      <th>categorySlug</th>\n",
       "      <th>converted_pledged_amount</th>\n",
       "      <th>country</th>\n",
       "      <th>country_displayable_name</th>\n",
       "      <th>created_at</th>\n",
       "      <th>created_at_formatted</th>\n",
       "      <th>...</th>\n",
       "      <th>state</th>\n",
       "      <th>state_changed_at</th>\n",
       "      <th>static_usd_rate</th>\n",
       "      <th>title</th>\n",
       "      <th>url</th>\n",
       "      <th>usd_exchange_rate</th>\n",
       "      <th>usd_pledged</th>\n",
       "      <th>usd_type</th>\n",
       "      <th>is_backing</th>\n",
       "      <th>is_starred</th>\n",
       "    </tr>\n",
       "  </thead>\n",
       "  <tbody>\n",
       "    <tr>\n",
       "      <th>1541</th>\n",
       "      <td>23</td>\n",
       "      <td>Cosmically cute enamel pins brought to you by ...</td>\n",
       "      <td>26</td>\n",
       "      <td>Crafts</td>\n",
       "      <td>crafts</td>\n",
       "      <td>428</td>\n",
       "      <td>US</td>\n",
       "      <td>the United States</td>\n",
       "      <td>1488397993</td>\n",
       "      <td>Wed, 01 Mar 2017 19:53:13 +0000</td>\n",
       "      <td>...</td>\n",
       "      <td>successful</td>\n",
       "      <td>1490619335</td>\n",
       "      <td>1.000000</td>\n",
       "      <td>Sugar Lagoon: Space Cat Enamel Pins</td>\n",
       "      <td>https://www.kickstarter.com/projects/sugarlago...</td>\n",
       "      <td>1.00000</td>\n",
       "      <td>428.000000</td>\n",
       "      <td>domestic</td>\n",
       "      <td>NaN</td>\n",
       "      <td>NaN</td>\n",
       "    </tr>\n",
       "    <tr>\n",
       "      <th>307</th>\n",
       "      <td>278</td>\n",
       "      <td>Magnet Phone Stand can hold 5+ cards, cash, co...</td>\n",
       "      <td>28</td>\n",
       "      <td>Product Design</td>\n",
       "      <td>design/product design</td>\n",
       "      <td>9125</td>\n",
       "      <td>US</td>\n",
       "      <td>the United States</td>\n",
       "      <td>1631499876</td>\n",
       "      <td>Mon, 13 Sep 2021 02:24:36 +0000</td>\n",
       "      <td>...</td>\n",
       "      <td>live</td>\n",
       "      <td>1633060044</td>\n",
       "      <td>1.000000</td>\n",
       "      <td>Magnetic Phone Wallet/Stand for MagSafe</td>\n",
       "      <td>https://www.kickstarter.com/projects/elusefor/...</td>\n",
       "      <td>1.00000</td>\n",
       "      <td>9125.000000</td>\n",
       "      <td>international</td>\n",
       "      <td>NaN</td>\n",
       "      <td>NaN</td>\n",
       "    </tr>\n",
       "    <tr>\n",
       "      <th>906</th>\n",
       "      <td>8</td>\n",
       "      <td>We will be creating a line of Soaps inspired b...</td>\n",
       "      <td>345</td>\n",
       "      <td>DIY</td>\n",
       "      <td>crafts/diy</td>\n",
       "      <td>285</td>\n",
       "      <td>US</td>\n",
       "      <td>the United States</td>\n",
       "      <td>1543680581</td>\n",
       "      <td>Sat, 01 Dec 2018 16:09:41 +0000</td>\n",
       "      <td>...</td>\n",
       "      <td>successful</td>\n",
       "      <td>1548262482</td>\n",
       "      <td>1.000000</td>\n",
       "      <td>Fantasy Soaps by FireBunny Games</td>\n",
       "      <td>https://www.kickstarter.com/projects/cymultech...</td>\n",
       "      <td>1.00000</td>\n",
       "      <td>285.000000</td>\n",
       "      <td>international</td>\n",
       "      <td>NaN</td>\n",
       "      <td>NaN</td>\n",
       "    </tr>\n",
       "    <tr>\n",
       "      <th>192</th>\n",
       "      <td>39</td>\n",
       "      <td>Wir werden im Herbst 2019 unsere nächste Kreat...</td>\n",
       "      <td>254</td>\n",
       "      <td>Performances</td>\n",
       "      <td>dance/performances</td>\n",
       "      <td>5743</td>\n",
       "      <td>DE</td>\n",
       "      <td>Germany</td>\n",
       "      <td>1546505894</td>\n",
       "      <td>Thu, 03 Jan 2019 08:58:14 +0000</td>\n",
       "      <td>...</td>\n",
       "      <td>successful</td>\n",
       "      <td>1548586801</td>\n",
       "      <td>1.155864</td>\n",
       "      <td>Romeo ∅ Julia - eine Performance für Jugendliche</td>\n",
       "      <td>https://www.kickstarter.com/projects/amadeuspa...</td>\n",
       "      <td>1.14065</td>\n",
       "      <td>5819.773125</td>\n",
       "      <td>international</td>\n",
       "      <td>NaN</td>\n",
       "      <td>NaN</td>\n",
       "    </tr>\n",
       "    <tr>\n",
       "      <th>38</th>\n",
       "      <td>27</td>\n",
       "      <td>When a Volcano suddenly erupts, a team is sent...</td>\n",
       "      <td>3</td>\n",
       "      <td>Comics</td>\n",
       "      <td>comics</td>\n",
       "      <td>833</td>\n",
       "      <td>US</td>\n",
       "      <td>the United States</td>\n",
       "      <td>1633276132</td>\n",
       "      <td>Sun, 03 Oct 2021 15:48:52 +0000</td>\n",
       "      <td>...</td>\n",
       "      <td>live</td>\n",
       "      <td>1635221675</td>\n",
       "      <td>1.000000</td>\n",
       "      <td>ECLIPSE: THE HAWAIIAN PROTECTOR is a WANTED MAN</td>\n",
       "      <td>https://www.kickstarter.com/projects/continuum...</td>\n",
       "      <td>1.00000</td>\n",
       "      <td>833.000000</td>\n",
       "      <td>international</td>\n",
       "      <td>NaN</td>\n",
       "      <td>NaN</td>\n",
       "    </tr>\n",
       "  </tbody>\n",
       "</table>\n",
       "<p>5 rows × 47 columns</p>\n",
       "</div>"
      ],
      "text/plain": [
       "      backers_count                                              blurb  \\\n",
       "1541             23  Cosmically cute enamel pins brought to you by ...   \n",
       "307             278  Magnet Phone Stand can hold 5+ cards, cash, co...   \n",
       "906               8  We will be creating a line of Soaps inspired b...   \n",
       "192              39  Wir werden im Herbst 2019 unsere nächste Kreat...   \n",
       "38               27  When a Volcano suddenly erupts, a team is sent...   \n",
       "\n",
       "      categoryId    categoryName           categorySlug  \\\n",
       "1541          26          Crafts                 crafts   \n",
       "307           28  Product Design  design/product design   \n",
       "906          345             DIY             crafts/diy   \n",
       "192          254    Performances     dance/performances   \n",
       "38             3          Comics                 comics   \n",
       "\n",
       "      converted_pledged_amount country country_displayable_name  created_at  \\\n",
       "1541                       428      US        the United States  1488397993   \n",
       "307                       9125      US        the United States  1631499876   \n",
       "906                        285      US        the United States  1543680581   \n",
       "192                       5743      DE                  Germany  1546505894   \n",
       "38                         833      US        the United States  1633276132   \n",
       "\n",
       "                 created_at_formatted  ...       state  state_changed_at  \\\n",
       "1541  Wed, 01 Mar 2017 19:53:13 +0000  ...  successful        1490619335   \n",
       "307   Mon, 13 Sep 2021 02:24:36 +0000  ...        live        1633060044   \n",
       "906   Sat, 01 Dec 2018 16:09:41 +0000  ...  successful        1548262482   \n",
       "192   Thu, 03 Jan 2019 08:58:14 +0000  ...  successful        1548586801   \n",
       "38    Sun, 03 Oct 2021 15:48:52 +0000  ...        live        1635221675   \n",
       "\n",
       "     static_usd_rate                                             title  \\\n",
       "1541        1.000000               Sugar Lagoon: Space Cat Enamel Pins   \n",
       "307         1.000000           Magnetic Phone Wallet/Stand for MagSafe   \n",
       "906         1.000000                  Fantasy Soaps by FireBunny Games   \n",
       "192         1.155864  Romeo ∅ Julia - eine Performance für Jugendliche   \n",
       "38          1.000000   ECLIPSE: THE HAWAIIAN PROTECTOR is a WANTED MAN   \n",
       "\n",
       "                                                    url usd_exchange_rate  \\\n",
       "1541  https://www.kickstarter.com/projects/sugarlago...           1.00000   \n",
       "307   https://www.kickstarter.com/projects/elusefor/...           1.00000   \n",
       "906   https://www.kickstarter.com/projects/cymultech...           1.00000   \n",
       "192   https://www.kickstarter.com/projects/amadeuspa...           1.14065   \n",
       "38    https://www.kickstarter.com/projects/continuum...           1.00000   \n",
       "\n",
       "      usd_pledged       usd_type  is_backing is_starred  \n",
       "1541   428.000000       domestic         NaN        NaN  \n",
       "307   9125.000000  international         NaN        NaN  \n",
       "906    285.000000  international         NaN        NaN  \n",
       "192   5819.773125  international         NaN        NaN  \n",
       "38     833.000000  international         NaN        NaN  \n",
       "\n",
       "[5 rows x 47 columns]"
      ]
     },
     "execution_count": 58,
     "metadata": {},
     "output_type": "execute_result"
    }
   ],
   "source": [
    "df.sample(5)"
   ]
  },
  {
   "cell_type": "code",
   "execution_count": 56,
   "metadata": {},
   "outputs": [
    {
     "data": {
      "text/plain": [
       "(17304, 47)"
      ]
     },
     "execution_count": 56,
     "metadata": {},
     "output_type": "execute_result"
    }
   ],
   "source": [
    "df.shape"
   ]
  },
  {
   "cell_type": "markdown",
   "metadata": {},
   "source": [
    "## review and clean data"
   ]
  },
  {
   "cell_type": "code",
   "execution_count": 59,
   "metadata": {},
   "outputs": [
    {
     "data": {
      "text/plain": [
       "Index(['backers_count', 'blurb', 'categoryId', 'categoryName', 'categorySlug',\n",
       "       'converted_pledged_amount', 'country', 'country_displayable_name',\n",
       "       'created_at', 'created_at_formatted', 'creatorAvatar', 'creatorId',\n",
       "       'creatorName', 'creatorUrl', 'currency', 'currency_symbol',\n",
       "       'currency_trailing_code', 'current_currency', 'deadline', 'description',\n",
       "       'disable_communication', 'fx_rate', 'goal', 'id', 'is_starrable',\n",
       "       'launched_at', 'launched_at_formatted', 'link', 'locationId',\n",
       "       'locationName', 'name', 'photo', 'pledged', 'pubDate', 'slug',\n",
       "       'spotlight', 'staff_pick', 'state', 'state_changed_at',\n",
       "       'static_usd_rate', 'title', 'url', 'usd_exchange_rate', 'usd_pledged',\n",
       "       'usd_type'],\n",
       "      dtype='object')"
      ]
     },
     "execution_count": 59,
     "metadata": {},
     "output_type": "execute_result"
    }
   ],
   "source": [
    "data.columns"
   ]
  },
  {
   "cell_type": "code",
   "execution_count": null,
   "metadata": {},
   "outputs": [],
   "source": []
  }
 ],
 "metadata": {
  "kernelspec": {
   "display_name": "Python 3",
   "language": "python",
   "name": "python3"
  },
  "language_info": {
   "codemirror_mode": {
    "name": "ipython",
    "version": 3
   },
   "file_extension": ".py",
   "mimetype": "text/x-python",
   "name": "python",
   "nbconvert_exporter": "python",
   "pygments_lexer": "ipython3",
   "version": "3.8.5"
  },
  "toc": {
   "base_numbering": 1,
   "nav_menu": {},
   "number_sections": true,
   "sideBar": true,
   "skip_h1_title": false,
   "title_cell": "Table of Contents",
   "title_sidebar": "Contents",
   "toc_cell": false,
   "toc_position": {},
   "toc_section_display": true,
   "toc_window_display": false
  }
 },
 "nbformat": 4,
 "nbformat_minor": 4
}
